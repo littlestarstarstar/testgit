{
 "cells": [
  {
   "cell_type": "markdown",
   "metadata": {
    "colab": {},
    "colab_type": "code",
    "id": "ioaprt5q5US7"
   },
   "source": [
    "##### Copyright 2018 The TensorFlow Authors.\n",
    "\n",
    "```python\n",
    "#@title Licensed under the Apache License, Version 2.0 (the \"License\");\n",
    "# you may not use this file except in compliance with the License.\n",
    "# You may obtain a copy of the License at\n",
    "#\n",
    "# https://www.apache.org/licenses/LICENSE-2.0\n",
    "#\n",
    "# Unless required by applicable law or agreed to in writing, software\n",
    "# distributed under the License is distributed on an \"AS IS\" BASIS,\n",
    "# WITHOUT WARRANTIES OR CONDITIONS OF ANY KIND, either express or implied.\n",
    "# See the License for the specific language governing permissions and\n",
    "# limitations under the License.\n",
    "```\n",
    "\n",
    "```python\n",
    "#@title MIT License\n",
    "#\n",
    "# Copyright (c) 2017 François Chollet\n",
    "#\n",
    "# Permission is hereby granted, free of charge, to any person obtaining a\n",
    "# copy of this software and associated documentation files (the \"Software\"),\n",
    "# to deal in the Software without restriction, including without limitation\n",
    "# the rights to use, copy, modify, merge, publish, distribute, sublicense,\n",
    "# and/or sell copies of the Software, and to permit persons to whom the\n",
    "# Software is furnished to do so, subject to the following conditions:\n",
    "#\n",
    "# The above copyright notice and this permission notice shall be included in\n",
    "# all copies or substantial portions of the Software.\n",
    "#\n",
    "# THE SOFTWARE IS PROVIDED \"AS IS\", WITHOUT WARRANTY OF ANY KIND, EXPRESS OR\n",
    "# IMPLIED, INCLUDING BUT NOT LIMITED TO THE WARRANTIES OF MERCHANTABILITY,\n",
    "# FITNESS FOR A PARTICULAR PURPOSE AND NONINFRINGEMENT. IN NO EVENT SHALL\n",
    "# THE AUTHORS OR COPYRIGHT HOLDERS BE LIABLE FOR ANY CLAIM, DAMAGES OR OTHER\n",
    "# LIABILITY, WHETHER IN AN ACTION OF CONTRACT, TORT OR OTHERWISE, ARISING\n",
    "# FROM, OUT OF OR IN CONNECTION WITH THE SOFTWARE OR THE USE OR OTHER\n",
    "# DEALINGS IN THE SOFTWARE.\n",
    "```"
   ]
  },
  {
   "cell_type": "markdown",
   "metadata": {
    "colab_type": "text",
    "id": "ItXfxkxvosLH"
   },
   "source": [
    "# 文本分类：影评情感分类"
   ]
  },
  {
   "cell_type": "markdown",
   "metadata": {
    "colab_type": "text",
    "id": "hKY4XMc9o8iB"
   },
   "source": [
    "<table align=\"left\"><td>\n",
    "<a target=\"_blank\"  href=\"https://github.com/tensorflow/models/blob/master/samples/core/get_started/basic_text_classification.ipynb\"><img width=32px src=\"https://www.tensorflow.org/images/GitHub-Mark-32px.png\" />View source on Github</a></td></table>"
   ]
  },
  {
   "cell_type": "markdown",
   "metadata": {},
   "source": []
  },
  {
   "cell_type": "markdown",
   "metadata": {
    "colab_type": "text",
    "id": "Eg62Pmz3o83v"
   },
   "source": [
    "本例将影评样本分类为*positive*或*negative*两类，演示使用TensorFlow搭建文本二分类模型。\n",
    "\n",
    "本例使用TensorFlow内嵌的[IMDB数据集](https://www.tensorflow.org/api_docs/python/tf/keras/datasets/imdb)，包含50000条来自[在线电影数据集](https://www.imdb.com/)的影评。其中包含25000条训练样本与25000条测试样本，训练集与测试集已经经过平衡，即正负样本数相同。\n",
    "\n",
    "本例使用了TensorFlow中高度封装的[tf.keras](https://www.tensorflow.org/programmers_guide/keras)接口。\n",
    "## 引入依赖"
   ]
  },
  {
   "cell_type": "markdown",
   "metadata": {},
   "source": []
  },
  {
   "cell_type": "code",
   "execution_count": null,
   "metadata": {
    "colab": {},
    "colab_type": "code",
    "execution": {
     "iopub.execute_input": "2021-08-04T13:19:21.027319Z",
     "iopub.status.busy": "2021-08-04T13:19:21.026757Z",
     "iopub.status.idle": "2021-08-04T13:19:23.271044Z",
     "shell.execute_reply": "2021-08-04T13:19:23.269958Z",
     "shell.execute_reply.started": "2021-08-04T13:19:21.027247Z"
    },
    "execution_event_id": "787e0e4d-019e-45ca-abc9-3543371e92f6",
    "id": "2ew7HTbPpCJH",
    "last_executed_text": "import tensorflow as tf\nfrom tensorflow import keras\n\nimport numpy as np\n\nprint(tf.__version__)",
    "persistent_id": "4adda0dc-e3b2-4cb7-961f-a577c420ac6e"
   },
   "outputs": [
    {
     "name": "stdout",
     "output_type": "stream",
     "text": [
      "1.15.0\n"
     ]
    }
   ],
   "source": [
    "import tensorflow as tf\n",
    "from tensorflow import keras\n",
    "\n",
    "import numpy as np\n",
    "\n",
    "print(tf.__version__)"
   ]
  },
  {
   "cell_type": "markdown",
   "metadata": {},
   "source": []
  },
  {
   "cell_type": "code",
   "execution_count": null,
   "metadata": {},
   "outputs": [
    {
     "ename": "",
     "evalue": "",
     "output_type": "error",
     "traceback": [
      "\u001b[1;31m无法启动 Jupyter。试图定位jupyter时出错：在解释器 Python 3.8.2 64-bit 中没有安装数据科学库 jupyter 和 notebook。\n",
      "Run the following command to install 'jupyter 和 notebook' into the Python environment. \n",
      "Command: '/usr/bin/python3 -m pip install jupyter notebook -U'"
     ]
    }
   ],
   "source": [
    "print(\"123\")"
   ]
  },
  {
   "cell_type": "markdown",
   "metadata": {
    "colab_type": "text",
    "id": "iAsKG535pHep"
   },
   "source": [
    "## 下载IMDB数据集\n",
    "\n",
    "IMDB数据集已经经过TensorFlow的预处理与包装，样本中每个词用该词的词典序号表示。\n",
    "\n",
    "以下代码将下载IMDB数据集："
   ]
  },
  {
   "cell_type": "code",
   "execution_count": 2,
   "metadata": {
    "colab": {},
    "colab_type": "code",
    "execution": {
     "iopub.execute_input": "2021-08-04T13:19:40.874651Z",
     "iopub.status.busy": "2021-08-04T13:19:40.874145Z",
     "iopub.status.idle": "2021-08-04T13:19:40.918841Z",
     "shell.execute_reply": "2021-08-04T13:19:40.882462Z",
     "shell.execute_reply.started": "2021-08-04T13:19:40.874599Z"
    },
    "execution_event_id": "8599499c-f2fd-42b4-a3b2-f8468f87c1c9",
    "id": "zXXx5Oc3pOmN",
    "last_executed_text": "imdb = keras.datasets.imdb\nimport numpy as np\n# save np.load\nnp_load_old = np.load\n\n# modify the default parameters of np.load\nnp.load = lambda *a,**k: np_load_old(*a, allow_pickle=True, **k)\n\n# call load_data with allow_pickle implicitly set to true\n(train_data, train_labels), (test_data, test_labels) = imdb.load_data('/root/text_classifier/imdb.npz',num_words=10000)\n\n# restore np.load for future normal usage\nnp.load = np_load_old",
    "persistent_id": "1c56a15e-e333-4611-9d07-228292c34bf0"
   },
   "outputs": [
    {
     "name": "stdout",
     "output_type": "stream",
     "text": [
      "/home/bml/storage/mnt/v-tl8enminw01tlrkr/org/pocdemo/imdb.npz\n"
     ]
    }
   ],
   "source": [
    "imdb = keras.datasets.imdb\n",
    "import numpy as np\n",
    "import os\n",
    "\n",
    "path = '/home/bml/storage/mnt/v-tl8enminw01tlrkr/org/pocdemo/'\n",
    "data_path = os.path.join(path, 'imdb.npz')\n",
    "print(data_path)"
   ]
  },
  {
   "cell_type": "code",
   "execution_count": 3,
   "metadata": {
    "execution": {
     "iopub.execute_input": "2021-08-04T13:19:42.184572Z",
     "iopub.status.busy": "2021-08-04T13:19:42.184220Z",
     "iopub.status.idle": "2021-08-04T13:19:47.710430Z",
     "shell.execute_reply": "2021-08-04T13:19:47.709169Z",
     "shell.execute_reply.started": "2021-08-04T13:19:42.184536Z"
    }
   },
   "outputs": [
    {
     "name": "stderr",
     "output_type": "stream",
     "text": [
      "/opt/conda/lib/python3.6/site-packages/tensorflow_core/python/keras/datasets/imdb.py:129: VisibleDeprecationWarning: Creating an ndarray from ragged nested sequences (which is a list-or-tuple of lists-or-tuples-or ndarrays with different lengths or shapes) is deprecated. If you meant to do this, you must specify 'dtype=object' when creating the ndarray\n",
      "  x_train, y_train = np.array(xs[:idx]), np.array(labels[:idx])\n",
      "/opt/conda/lib/python3.6/site-packages/tensorflow_core/python/keras/datasets/imdb.py:130: VisibleDeprecationWarning: Creating an ndarray from ragged nested sequences (which is a list-or-tuple of lists-or-tuples-or ndarrays with different lengths or shapes) is deprecated. If you meant to do this, you must specify 'dtype=object' when creating the ndarray\n",
      "  x_test, y_test = np.array(xs[idx:]), np.array(labels[idx:])\n"
     ]
    }
   ],
   "source": [
    "\n",
    "(train_data, train_labels), (test_data, test_labels) = imdb.load_data(data_path,num_words=10000)\n",
    "\n",
    "\n",
    "#(train_data, train_labels), (test_data, test_labels) = imdb.load_data(num_words=10000)"
   ]
  },
  {
   "cell_type": "markdown",
   "metadata": {
    "colab_type": "text",
    "id": "odr-KlzO-lkL"
   },
   "source": [
    "参数`num_words=10000`在词典中保留了训练集中词频最高的10000个词，低频词被抛弃以控制数据集大小。"
   ]
  },
  {
   "cell_type": "markdown",
   "metadata": {
    "colab_type": "text",
    "id": "l50X3GfjpU4r"
   },
   "source": [
    "## 数据格式\n",
    "\n",
    "数据集已经经过预处理：每个样本对应一条影评的一个整数序列，样本标签为0或1，0表示消极影评，1表示积极影评。"
   ]
  },
  {
   "cell_type": "code",
   "execution_count": 4,
   "metadata": {
    "colab": {},
    "colab_type": "code",
    "execution": {
     "iopub.execute_input": "2021-08-04T13:19:49.290927Z",
     "iopub.status.busy": "2021-08-04T13:19:49.290451Z",
     "iopub.status.idle": "2021-08-04T13:19:49.298041Z",
     "shell.execute_reply": "2021-08-04T13:19:49.296810Z",
     "shell.execute_reply.started": "2021-08-04T13:19:49.290876Z"
    },
    "execution_event_id": "730545dc-fecf-4603-b064-89253f427eca",
    "id": "y8qCnve_-lkO",
    "last_executed_text": "print(\"Training entries: {}, labels: {}\".format(len(train_data), len(train_labels)))",
    "persistent_id": "99e0ee4e-eb2b-4697-9a92-6fc65e4274e4"
   },
   "outputs": [
    {
     "name": "stdout",
     "output_type": "stream",
     "text": [
      "Training entries: 25000, labels: 25000\n"
     ]
    }
   ],
   "source": [
    "print(\"Training entries: {}, labels: {}\".format(len(train_data), len(train_labels)))"
   ]
  },
  {
   "cell_type": "markdown",
   "metadata": {
    "colab_type": "text",
    "id": "RnKvHWW4-lkW"
   },
   "source": [
    "影评文本中的词被转换为词对应的词典序号，训练集中的第一条样本如下："
   ]
  },
  {
   "cell_type": "code",
   "execution_count": 5,
   "metadata": {
    "colab": {},
    "colab_type": "code",
    "execution": {
     "iopub.execute_input": "2021-08-04T13:19:51.944764Z",
     "iopub.status.busy": "2021-08-04T13:19:51.944306Z",
     "iopub.status.idle": "2021-08-04T13:19:51.952011Z",
     "shell.execute_reply": "2021-08-04T13:19:51.950618Z",
     "shell.execute_reply.started": "2021-08-04T13:19:51.944715Z"
    },
    "execution_event_id": "dd74020e-8611-4841-916c-515cc04dd9cf",
    "id": "QtTS4kpEpjbi",
    "last_executed_text": "print(train_data[0])",
    "persistent_id": "5976aeeb-f06b-40ea-84dc-c7b91e1dd6be"
   },
   "outputs": [
    {
     "name": "stdout",
     "output_type": "stream",
     "text": [
      "[1, 14, 22, 16, 43, 530, 973, 1622, 1385, 65, 458, 4468, 66, 3941, 4, 173, 36, 256, 5, 25, 100, 43, 838, 112, 50, 670, 2, 9, 35, 480, 284, 5, 150, 4, 172, 112, 167, 2, 336, 385, 39, 4, 172, 4536, 1111, 17, 546, 38, 13, 447, 4, 192, 50, 16, 6, 147, 2025, 19, 14, 22, 4, 1920, 4613, 469, 4, 22, 71, 87, 12, 16, 43, 530, 38, 76, 15, 13, 1247, 4, 22, 17, 515, 17, 12, 16, 626, 18, 2, 5, 62, 386, 12, 8, 316, 8, 106, 5, 4, 2223, 5244, 16, 480, 66, 3785, 33, 4, 130, 12, 16, 38, 619, 5, 25, 124, 51, 36, 135, 48, 25, 1415, 33, 6, 22, 12, 215, 28, 77, 52, 5, 14, 407, 16, 82, 2, 8, 4, 107, 117, 5952, 15, 256, 4, 2, 7, 3766, 5, 723, 36, 71, 43, 530, 476, 26, 400, 317, 46, 7, 4, 2, 1029, 13, 104, 88, 4, 381, 15, 297, 98, 32, 2071, 56, 26, 141, 6, 194, 7486, 18, 4, 226, 22, 21, 134, 476, 26, 480, 5, 144, 30, 5535, 18, 51, 36, 28, 224, 92, 25, 104, 4, 226, 65, 16, 38, 1334, 88, 12, 16, 283, 5, 16, 4472, 113, 103, 32, 15, 16, 5345, 19, 178, 32]\n"
     ]
    }
   ],
   "source": [
    "print(train_data[0])"
   ]
  },
  {
   "cell_type": "markdown",
   "metadata": {
    "colab_type": "text",
    "id": "hIE4l_72x7DP"
   },
   "source": [
    "影评文本是变长的："
   ]
  },
  {
   "cell_type": "code",
   "execution_count": 6,
   "metadata": {
    "colab": {},
    "colab_type": "code",
    "execution": {
     "iopub.execute_input": "2021-08-04T13:19:53.182819Z",
     "iopub.status.busy": "2021-08-04T13:19:53.182357Z",
     "iopub.status.idle": "2021-08-04T13:19:53.218764Z",
     "shell.execute_reply": "2021-08-04T13:19:53.190235Z",
     "shell.execute_reply.started": "2021-08-04T13:19:53.182767Z"
    },
    "execution_event_id": "9cf8ea73-59f8-4430-a3c9-3d4e68887afa",
    "id": "X-6Ii9Pfx6Nr",
    "last_executed_text": "len(train_data[0]), len(train_data[1])",
    "persistent_id": "80838f58-2bda-446f-9b3f-9126c06f2ac8"
   },
   "outputs": [
    {
     "data": {
      "text/plain": [
       "(218, 189)"
      ]
     },
     "execution_count": 6,
     "metadata": {},
     "output_type": "execute_result"
    }
   ],
   "source": [
    "len(train_data[0]), len(train_data[1])"
   ]
  },
  {
   "cell_type": "markdown",
   "metadata": {
    "colab_type": "text",
    "id": "4wJg2FiYpuoX"
   },
   "source": [
    "### 将词典序号转换回词的形式\n",
    "\n",
    "以下代码演示将词典序号转换回对应的词："
   ]
  },
  {
   "cell_type": "code",
   "execution_count": 7,
   "metadata": {
    "colab": {},
    "colab_type": "code",
    "execution": {
     "iopub.execute_input": "2021-08-04T13:19:54.144960Z",
     "iopub.status.busy": "2021-08-04T13:19:54.144492Z",
     "iopub.status.idle": "2021-08-04T13:19:54.373990Z",
     "shell.execute_reply": "2021-08-04T13:19:54.372681Z",
     "shell.execute_reply.started": "2021-08-04T13:19:54.144910Z"
    },
    "execution_event_id": "1751ee4e-0c29-4bc9-9dc7-f433b42439bf",
    "id": "tr5s_1alpzop",
    "last_executed_text": "# （词，序号）字典\nword_index = imdb.get_word_index('/root/text_classifier/imdb_word_index.json')\n# 加入几种占位符\nword_index = {k: (v + 3) for k, v in word_index.items()} \nword_index[\"<PAD>\"] = 0    # 填充\nword_index[\"<START>\"] = 1  # 样本起点\nword_index[\"<UNK>\"] = 2    # 未知词\nword_index[\"<UNUSED>\"] = 3 # 停用词\n# 翻转键值\nreverse_word_index = dict([(value, key) for (key, value) in word_index.items()])\n# 定义文本解析函数\ndef decode_review(text):\n    return ' '.join([reverse_word_index.get(i, '?') for i in text])",
    "persistent_id": "2a6b7118-8609-4de1-a039-b1ac824784db"
   },
   "outputs": [
    {
     "name": "stdout",
     "output_type": "stream",
     "text": [
      "/home/bml/storage/mnt/v-tl8enminw01tlrkr/org/pocdemo/imdb_word_index.json\n"
     ]
    }
   ],
   "source": [
    "# （词，序号）字典\n",
    "\n",
    "word_index_path = os.path.join(path, 'imdb_word_index.json')\n",
    "print(word_index_path)\n",
    "word_index = imdb.get_word_index(word_index_path)\n",
    "# 加入几种占位符\n",
    "word_index = {k: (v + 3) for k, v in word_index.items()} \n",
    "word_index[\"<PAD>\"] = 0    # 填充\n",
    "word_index[\"<START>\"] = 1  # 样本起点\n",
    "word_index[\"<UNK>\"] = 2    # 未知词\n",
    "word_index[\"<UNUSED>\"] = 3 # 停用词\n",
    "# 翻转键值\n",
    "reverse_word_index = dict([(value, key) for (key, value) in word_index.items()])\n",
    "# 定义文本解析函数\n",
    "def decode_review(text):\n",
    "    return ' '.join([reverse_word_index.get(i, '?') for i in text])"
   ]
  },
  {
   "cell_type": "markdown",
   "metadata": {
    "colab_type": "text",
    "id": "U3CNRvEZVppl"
   },
   "source": [
    "接下来就可以利用`decode_review`查看训练集中样本的真实内容："
   ]
  },
  {
   "cell_type": "code",
   "execution_count": 8,
   "metadata": {
    "colab": {},
    "colab_type": "code",
    "execution": {
     "iopub.execute_input": "2021-08-04T13:19:55.159227Z",
     "iopub.status.busy": "2021-08-04T13:19:55.158763Z",
     "iopub.status.idle": "2021-08-04T13:19:55.219396Z",
     "shell.execute_reply": "2021-08-04T13:19:55.166633Z",
     "shell.execute_reply.started": "2021-08-04T13:19:55.159177Z"
    },
    "execution_event_id": "42d229a6-75da-454e-88d2-88cff1f07dc9",
    "id": "s_OqxmH6-lkn",
    "last_executed_text": "decode_review(train_data[0])",
    "persistent_id": "bd5575a4-0e69-4908-90c9-d6b862b42195"
   },
   "outputs": [
    {
     "data": {
      "text/plain": [
       "\"<START> this film was just brilliant casting location scenery story direction everyone's really suited the part they played and you could just imagine being there robert <UNK> is an amazing actor and now the same being director <UNK> father came from the same scottish island as myself so i loved the fact there was a real connection with this film the witty remarks throughout the film were great it was just brilliant so much that i bought the film as soon as it was released for <UNK> and would recommend it to everyone to watch and the fly fishing was amazing really cried at the end it was so sad and you know what they say if you cry at a film it must have been good and this definitely was also <UNK> to the two little boy's that played the <UNK> of norman and paul they were just brilliant children are often left out of the <UNK> list i think because the stars that play them all grown up are such a big profile for the whole film but these children are amazing and should be praised for what they have done don't you think the whole story was so lovely because it was true and was someone's life after all that was shared with us all\""
      ]
     },
     "execution_count": 8,
     "metadata": {},
     "output_type": "execute_result"
    }
   ],
   "source": [
    "decode_review(train_data[0])"
   ]
  },
  {
   "cell_type": "markdown",
   "metadata": {
    "colab_type": "text",
    "id": "lFP_XKVRp4_S"
   },
   "source": [
    "## 数据准备\n",
    "\n",
    "整数序列形式的样本数据在灌入神经网络模型前需要转换为Tensor的形式，通常有以下2种词表示形式：\n",
    "\n",
    "* 独热码：独热码可以将一个词表示为词典长度的0/1向量，其中只有当前词的序号对应的向量元素值为1。这种形式空间开销比较大，整个数据集需要`num_words * num_reviews`大小的矩阵来表示。\n",
    "\n",
    "* 词嵌入：用词嵌入技术可以只用`num_examples * max_length`的空间开销来表示数据集，它将每个词映射到一个长度为`max_length`的向量上。TensorFlow提供对词嵌入层的支持。\n",
    "\n",
    "本例使用词嵌入技术表示词。 \n",
    "\n",
    "本例使用[pad_sequences](https://www.tensorflow.org/api_docs/python/tf/keras/preprocessing/sequence/pad_sequences) 函数，将变长的样本填充为统一长度:"
   ]
  },
  {
   "cell_type": "code",
   "execution_count": 9,
   "metadata": {
    "colab": {},
    "colab_type": "code",
    "execution": {
     "iopub.execute_input": "2021-08-04T13:19:56.813905Z",
     "iopub.status.busy": "2021-08-04T13:19:56.813413Z",
     "iopub.status.idle": "2021-08-04T13:19:58.041559Z",
     "shell.execute_reply": "2021-08-04T13:19:58.040417Z",
     "shell.execute_reply.started": "2021-08-04T13:19:56.813854Z"
    },
    "execution_event_id": "cba9604a-dc26-4606-b2a3-1c2159db5fa5",
    "id": "2jQv-omsHurp",
    "last_executed_text": "train_data = keras.preprocessing.sequence.pad_sequences(train_data,\n                                                        value=word_index[\"<PAD>\"],\n                                                        padding='post',\n                                                        maxlen=256)\n\ntest_data = keras.preprocessing.sequence.pad_sequences(test_data,\n                                                       value=word_index[\"<PAD>\"],\n                                                       padding='post',\n                                                       maxlen=256)",
    "persistent_id": "9c7a04fa-6e40-4740-9209-bf1c43d19898"
   },
   "outputs": [],
   "source": [
    "train_data = keras.preprocessing.sequence.pad_sequences(train_data,\n",
    "                                                        value=word_index[\"<PAD>\"],\n",
    "                                                        padding='post',\n",
    "                                                        maxlen=256)\n",
    "\n",
    "test_data = keras.preprocessing.sequence.pad_sequences(test_data,\n",
    "                                                       value=word_index[\"<PAD>\"],\n",
    "                                                       padding='post',\n",
    "                                                       maxlen=256)"
   ]
  },
  {
   "cell_type": "markdown",
   "metadata": {
    "colab_type": "text",
    "id": "VO5MBpyQdipD"
   },
   "source": [
    "现在训练集样本已经经过了归一化："
   ]
  },
  {
   "cell_type": "code",
   "execution_count": 10,
   "metadata": {
    "colab": {},
    "colab_type": "code",
    "execution": {
     "iopub.execute_input": "2021-08-04T13:19:58.203152Z",
     "iopub.status.busy": "2021-08-04T13:19:58.202784Z",
     "iopub.status.idle": "2021-08-04T13:19:58.208231Z",
     "shell.execute_reply": "2021-08-04T13:19:58.207417Z",
     "shell.execute_reply.started": "2021-08-04T13:19:58.203121Z"
    },
    "execution_event_id": "5de3d9ff-a862-4771-9fa5-5c82b173f578",
    "id": "USSSBnkE-lky",
    "last_executed_text": "len(train_data[0]), len(train_data[1])",
    "persistent_id": "1e8d826f-a53b-431d-a3b0-af0b05921b99"
   },
   "outputs": [
    {
     "data": {
      "text/plain": [
       "(256, 256)"
      ]
     },
     "execution_count": 10,
     "metadata": {},
     "output_type": "execute_result"
    }
   ],
   "source": [
    "len(train_data[0]), len(train_data[1])"
   ]
  },
  {
   "cell_type": "markdown",
   "metadata": {
    "colab_type": "text",
    "id": "QJoxZGyfjT5V"
   },
   "source": [
    "看一下填充到256固定长度的样本："
   ]
  },
  {
   "cell_type": "code",
   "execution_count": 11,
   "metadata": {
    "colab": {},
    "colab_type": "code",
    "execution": {
     "iopub.execute_input": "2021-08-04T13:19:58.214634Z",
     "iopub.status.busy": "2021-08-04T13:19:58.214334Z",
     "iopub.status.idle": "2021-08-04T13:19:58.220353Z",
     "shell.execute_reply": "2021-08-04T13:19:58.219329Z",
     "shell.execute_reply.started": "2021-08-04T13:19:58.214599Z"
    },
    "execution_event_id": "1297dcae-8dba-49b2-a0c9-e3a9c6a07df0",
    "id": "TG8X9cqi-lk9",
    "last_executed_text": "print(train_data[0])",
    "persistent_id": "242c4f83-9b40-4489-8e8f-a01cab87933d"
   },
   "outputs": [
    {
     "name": "stdout",
     "output_type": "stream",
     "text": [
      "[   1   14   22   16   43  530  973 1622 1385   65  458 4468   66 3941\n",
      "    4  173   36  256    5   25  100   43  838  112   50  670    2    9\n",
      "   35  480  284    5  150    4  172  112  167    2  336  385   39    4\n",
      "  172 4536 1111   17  546   38   13  447    4  192   50   16    6  147\n",
      " 2025   19   14   22    4 1920 4613  469    4   22   71   87   12   16\n",
      "   43  530   38   76   15   13 1247    4   22   17  515   17   12   16\n",
      "  626   18    2    5   62  386   12    8  316    8  106    5    4 2223\n",
      " 5244   16  480   66 3785   33    4  130   12   16   38  619    5   25\n",
      "  124   51   36  135   48   25 1415   33    6   22   12  215   28   77\n",
      "   52    5   14  407   16   82    2    8    4  107  117 5952   15  256\n",
      "    4    2    7 3766    5  723   36   71   43  530  476   26  400  317\n",
      "   46    7    4    2 1029   13  104   88    4  381   15  297   98   32\n",
      " 2071   56   26  141    6  194 7486   18    4  226   22   21  134  476\n",
      "   26  480    5  144   30 5535   18   51   36   28  224   92   25  104\n",
      "    4  226   65   16   38 1334   88   12   16  283    5   16 4472  113\n",
      "  103   32   15   16 5345   19  178   32    0    0    0    0    0    0\n",
      "    0    0    0    0    0    0    0    0    0    0    0    0    0    0\n",
      "    0    0    0    0    0    0    0    0    0    0    0    0    0    0\n",
      "    0    0    0    0]\n"
     ]
    }
   ],
   "source": [
    "print(train_data[0])"
   ]
  },
  {
   "cell_type": "markdown",
   "metadata": {
    "colab_type": "text",
    "id": "LLC02j2g-llC"
   },
   "source": [
    "## 搭建模型\n",
    "\n",
    "堆叠层次结构搭建神经网络模型时需要考虑两个问题：\n",
    "\n",
    "* 模型需要多少层？\n",
    "* 每层需要多少*隐含单元（神经元）* ？\n",
    "\n",
    "本例中，模型输入层为词序列，输出预测标签为0或1。模型定义如下："
   ]
  },
  {
   "cell_type": "code",
   "execution_count": 12,
   "metadata": {
    "colab": {},
    "colab_type": "code",
    "execution": {
     "iopub.execute_input": "2021-08-04T13:20:01.503369Z",
     "iopub.status.busy": "2021-08-04T13:20:01.502853Z",
     "iopub.status.idle": "2021-08-04T13:20:01.617114Z",
     "shell.execute_reply": "2021-08-04T13:20:01.615855Z",
     "shell.execute_reply.started": "2021-08-04T13:20:01.503317Z"
    },
    "execution_event_id": "de946640-46c1-4ab7-b7c3-afcde5cd223a",
    "id": "xpKOoWgu-llD",
    "last_executed_text": "# 输入尺寸为影评词典尺寸即\nvocab_size = 10000\n\nmodel = keras.models.Sequential()\nmodel.add(keras.layers.Embedding(vocab_size, 16))\nmodel.add(keras.layers.GlobalAveragePooling1D())\nmodel.add(keras.layers.Dense(16, activation=tf.nn.relu))\nmodel.add(keras.layers.Dense(1, activation=tf.nn.sigmoid))\n\nmodel.summary()",
    "persistent_id": "c7fec4f6-1256-4136-a94b-ba92fc8afd13"
   },
   "outputs": [
    {
     "name": "stdout",
     "output_type": "stream",
     "text": [
      "WARNING:tensorflow:From /opt/conda/lib/python3.6/site-packages/tensorflow_core/python/keras/initializers.py:119: calling RandomUniform.__init__ (from tensorflow.python.ops.init_ops) with dtype is deprecated and will be removed in a future version.\n",
      "Instructions for updating:\n",
      "Call initializer instance with the dtype argument instead of passing it to the constructor\n",
      "WARNING:tensorflow:From /opt/conda/lib/python3.6/site-packages/tensorflow_core/python/ops/resource_variable_ops.py:1630: calling BaseResourceVariable.__init__ (from tensorflow.python.ops.resource_variable_ops) with constraint is deprecated and will be removed in a future version.\n",
      "Instructions for updating:\n",
      "If using Keras pass *_constraint arguments to layers.\n",
      "Model: \"sequential\"\n",
      "_________________________________________________________________\n",
      "Layer (type)                 Output Shape              Param #   \n",
      "=================================================================\n",
      "embedding (Embedding)        (None, None, 16)          160000    \n",
      "_________________________________________________________________\n",
      "global_average_pooling1d (Gl (None, 16)                0         \n",
      "_________________________________________________________________\n",
      "dense (Dense)                (None, 16)                272       \n",
      "_________________________________________________________________\n",
      "dense_1 (Dense)              (None, 1)                 17        \n",
      "=================================================================\n",
      "Total params: 160,289\n",
      "Trainable params: 160,289\n",
      "Non-trainable params: 0\n",
      "_________________________________________________________________\n"
     ]
    }
   ],
   "source": [
    "# 输入尺寸为影评词典尺寸即\n",
    "vocab_size = 10000\n",
    "\n",
    "model = keras.models.Sequential()\n",
    "model.add(keras.layers.Embedding(vocab_size, 16))\n",
    "model.add(keras.layers.GlobalAveragePooling1D())\n",
    "model.add(keras.layers.Dense(16, activation=tf.nn.relu))\n",
    "model.add(keras.layers.Dense(1, activation=tf.nn.sigmoid))\n",
    "\n",
    "model.summary()"
   ]
  },
  {
   "cell_type": "markdown",
   "metadata": {
    "colab_type": "text",
    "id": "6PbKQ6mucuKL"
   },
   "source": [
    "本例中的分类器将4个层次结构按顺序堆叠而成：\n",
    "\n",
    "1. 第一层是`Embedding`层，该层将词嵌入到高维向量，该层与模型一起参与训练，输出shape为`(batch, sequence, embedding)`的3维矩阵。\n",
    "2. `GlobalAveragePooling1D`层在`sequence`的维度上做全局平均， 输出shape为`(batch, embedding)`的2维矩阵。\n",
    "3. 接下来经过一个包含16个隐含单元的全连接 (`Dense`) 层。\n",
    "4. 最后一层为包含一个隐含结点的全连接层，使用`sigmoid`激活函数，输出0与1之间的浮点数，代表概率或置信度。表示样本是否为积极样本。\n",
    "\n",
    "以下代码为模型配置优化器、损失函数和评估方法并编译模型："
   ]
  },
  {
   "cell_type": "code",
   "execution_count": 13,
   "metadata": {
    "colab": {},
    "colab_type": "code",
    "execution": {
     "iopub.execute_input": "2021-08-04T13:20:04.685017Z",
     "iopub.status.busy": "2021-08-04T13:20:04.684538Z",
     "iopub.status.idle": "2021-08-04T13:20:04.766669Z",
     "shell.execute_reply": "2021-08-04T13:20:04.765605Z",
     "shell.execute_reply.started": "2021-08-04T13:20:04.684967Z"
    },
    "execution_event_id": "a838fc34-ffe5-423b-ac98-059decb2e56a",
    "id": "Mr0GP-cQ-llN",
    "last_executed_text": "model.compile(optimizer=tf.train.AdamOptimizer(),\n              loss='binary_crossentropy',\n              metrics=['accuracy'])",
    "persistent_id": "73ea031f-e06e-48f0-a0ea-d8ae3f9a9909"
   },
   "outputs": [
    {
     "name": "stdout",
     "output_type": "stream",
     "text": [
      "WARNING:tensorflow:From /opt/conda/lib/python3.6/site-packages/tensorflow_core/python/ops/nn_impl.py:183: where (from tensorflow.python.ops.array_ops) is deprecated and will be removed in a future version.\n",
      "Instructions for updating:\n",
      "Use tf.where in 2.0, which has the same broadcast rule as np.where\n"
     ]
    }
   ],
   "source": [
    "model.compile(optimizer=tf.train.AdamOptimizer(),\n",
    "              loss='binary_crossentropy',\n",
    "              metrics=['accuracy'])"
   ]
  },
  {
   "cell_type": "markdown",
   "metadata": {
    "colab_type": "text",
    "id": "hCWYwkug-llQ"
   },
   "source": [
    "## 创建验证集\n",
    "\n",
    "模型调试阶段，为验证模型收敛状态，需要设置验证集，本例从训练集中分出10000个样本作为验证集："
   ]
  },
  {
   "cell_type": "code",
   "execution_count": 14,
   "metadata": {
    "colab": {},
    "colab_type": "code",
    "execution": {
     "iopub.execute_input": "2021-08-04T13:20:06.567782Z",
     "iopub.status.busy": "2021-08-04T13:20:06.567314Z",
     "iopub.status.idle": "2021-08-04T13:20:06.574644Z",
     "shell.execute_reply": "2021-08-04T13:20:06.573243Z",
     "shell.execute_reply.started": "2021-08-04T13:20:06.567730Z"
    },
    "execution_event_id": "cb49cf27-1d35-4300-9f1b-9a1c1e4384eb",
    "id": "-NpcXY9--llS",
    "last_executed_text": "x_val = train_data[:10000]\npartial_x_train = train_data[10000:]\n\ny_val = train_labels[:10000]\npartial_y_train = train_labels[10000:]",
    "persistent_id": "547f72fd-f7f9-4d00-a0ad-827d9576ff59"
   },
   "outputs": [],
   "source": [
    "x_val = train_data[:10000]\n",
    "partial_x_train = train_data[10000:]\n",
    "\n",
    "y_val = train_labels[:10000]\n",
    "partial_y_train = train_labels[10000:]"
   ]
  },
  {
   "cell_type": "markdown",
   "metadata": {
    "colab_type": "text",
    "id": "35jv_fzP-llU"
   },
   "source": [
    "## 训练模型\n",
    "\n",
    "训练模型20轮，设置mini-batches尺寸为512。训练时，监控验证集上的loss和准确率变化："
   ]
  },
  {
   "cell_type": "code",
   "execution_count": 15,
   "metadata": {
    "colab": {},
    "colab_type": "code",
    "execution": {
     "iopub.execute_input": "2021-08-04T13:20:19.344508Z",
     "iopub.status.busy": "2021-08-04T13:20:19.344075Z",
     "iopub.status.idle": "2021-08-04T13:20:40.352190Z",
     "shell.execute_reply": "2021-08-04T13:20:40.351052Z",
     "shell.execute_reply.started": "2021-08-04T13:20:19.344462Z"
    },
    "execution_event_id": "3507346d-4639-42ea-9557-e27fae17a0a7",
    "id": "tXSGrjWZ-llW",
    "last_executed_text": "history = model.fit(partial_x_train,\n                    partial_y_train,\n                    epochs=20,\n                    batch_size=512,\n                    validation_data=(x_val, y_val),\n                    verbose=1)",
    "persistent_id": "18b36dfe-87de-4d6c-b20b-a941517e209b"
   },
   "outputs": [
    {
     "name": "stdout",
     "output_type": "stream",
     "text": [
      "Train on 15000 samples, validate on 10000 samples\n",
      "Epoch 1/20\n",
      "15000/15000 [==============================] - 1s 77us/sample - loss: 0.6918 - acc: 0.6131 - val_loss: 0.6897 - val_acc: 0.5996\n",
      "Epoch 2/20\n",
      "15000/15000 [==============================] - 1s 39us/sample - loss: 0.6859 - acc: 0.7023 - val_loss: 0.6822 - val_acc: 0.7470\n",
      "Epoch 3/20\n",
      "15000/15000 [==============================] - 1s 36us/sample - loss: 0.6745 - acc: 0.7645 - val_loss: 0.6681 - val_acc: 0.7636\n",
      "Epoch 4/20\n",
      "15000/15000 [==============================] - 1s 36us/sample - loss: 0.6547 - acc: 0.7688 - val_loss: 0.6454 - val_acc: 0.7641\n",
      "Epoch 5/20\n",
      "15000/15000 [==============================] - 1s 37us/sample - loss: 0.6252 - acc: 0.7972 - val_loss: 0.6142 - val_acc: 0.7856\n",
      "Epoch 6/20\n",
      "15000/15000 [==============================] - 1s 38us/sample - loss: 0.5868 - acc: 0.8158 - val_loss: 0.5766 - val_acc: 0.8024\n",
      "Epoch 7/20\n",
      "15000/15000 [==============================] - 1s 38us/sample - loss: 0.5425 - acc: 0.8261 - val_loss: 0.5346 - val_acc: 0.8168\n",
      "Epoch 8/20\n",
      "15000/15000 [==============================] - 1s 38us/sample - loss: 0.4967 - acc: 0.8438 - val_loss: 0.4943 - val_acc: 0.8313\n",
      "Epoch 9/20\n",
      "15000/15000 [==============================] - 1s 40us/sample - loss: 0.4529 - acc: 0.8571 - val_loss: 0.4568 - val_acc: 0.8407\n",
      "Epoch 10/20\n",
      "15000/15000 [==============================] - 1s 39us/sample - loss: 0.4131 - acc: 0.8706 - val_loss: 0.4248 - val_acc: 0.8479\n",
      "Epoch 11/20\n",
      "15000/15000 [==============================] - 1s 37us/sample - loss: 0.3789 - acc: 0.8783 - val_loss: 0.3980 - val_acc: 0.8574\n",
      "Epoch 12/20\n",
      "15000/15000 [==============================] - 1s 39us/sample - loss: 0.3497 - acc: 0.8878 - val_loss: 0.3772 - val_acc: 0.8593\n",
      "Epoch 13/20\n",
      "15000/15000 [==============================] - 1s 40us/sample - loss: 0.3259 - acc: 0.8923 - val_loss: 0.3585 - val_acc: 0.8653\n",
      "Epoch 14/20\n",
      "15000/15000 [==============================] - 1s 39us/sample - loss: 0.3044 - acc: 0.8989 - val_loss: 0.3449 - val_acc: 0.8695\n",
      "Epoch 15/20\n",
      "15000/15000 [==============================] - 1s 39us/sample - loss: 0.2867 - acc: 0.9019 - val_loss: 0.3334 - val_acc: 0.8730\n",
      "Epoch 16/20\n",
      "15000/15000 [==============================] - 1s 39us/sample - loss: 0.2708 - acc: 0.9077 - val_loss: 0.3239 - val_acc: 0.8741\n",
      "Epoch 17/20\n",
      "15000/15000 [==============================] - 1s 39us/sample - loss: 0.2563 - acc: 0.9123 - val_loss: 0.3161 - val_acc: 0.8769\n",
      "Epoch 18/20\n",
      "15000/15000 [==============================] - 1s 39us/sample - loss: 0.2434 - acc: 0.9172 - val_loss: 0.3091 - val_acc: 0.8803\n",
      "Epoch 19/20\n",
      "15000/15000 [==============================] - 1s 42us/sample - loss: 0.2319 - acc: 0.9202 - val_loss: 0.3034 - val_acc: 0.8806\n",
      "Epoch 20/20\n",
      "15000/15000 [==============================] - 1s 40us/sample - loss: 0.2215 - acc: 0.9237 - val_loss: 0.2995 - val_acc: 0.8813\n"
     ]
    }
   ],
   "source": [
    "history = model.fit(partial_x_train,\n",
    "                    partial_y_train,\n",
    "                    epochs=20,\n",
    "                    batch_size=512,\n",
    "                    validation_data=(x_val, y_val),\n",
    "                    verbose=1)"
   ]
  },
  {
   "cell_type": "markdown",
   "metadata": {
    "colab_type": "text",
    "id": "9EEGuDVuzb5r"
   },
   "source": [
    "## 评估模型\n",
    "\n",
    "下面在测试集上评估模型性能："
   ]
  },
  {
   "cell_type": "code",
   "execution_count": 16,
   "metadata": {
    "colab": {},
    "colab_type": "code",
    "execution": {
     "iopub.execute_input": "2021-08-04T13:21:05.705270Z",
     "iopub.status.busy": "2021-08-04T13:21:05.704786Z",
     "iopub.status.idle": "2021-08-04T13:21:07.247247Z",
     "shell.execute_reply": "2021-08-04T13:21:07.246011Z",
     "shell.execute_reply.started": "2021-08-04T13:21:05.705205Z"
    },
    "execution_event_id": "01a3d4a2-d0e2-471e-a8f1-c05bf1f825c4",
    "id": "zOMKywn4zReN",
    "last_executed_text": "results = model.evaluate(test_data, test_labels)",
    "persistent_id": "2ff3efab-63ef-4f27-9740-749699b8e5c2"
   },
   "outputs": [
    {
     "name": "stdout",
     "output_type": "stream",
     "text": [
      "25000/25000 [==============================] - 2s 61us/sample - loss: 0.3125 - acc: 0.8720\n"
     ]
    }
   ],
   "source": [
    "results = model.evaluate(test_data, test_labels)"
   ]
  },
  {
   "cell_type": "code",
   "execution_count": 17,
   "metadata": {
    "execution": {
     "iopub.execute_input": "2021-08-04T13:21:09.406509Z",
     "iopub.status.busy": "2021-08-04T13:21:09.405942Z",
     "iopub.status.idle": "2021-08-04T13:21:09.420336Z",
     "shell.execute_reply": "2021-08-04T13:21:09.419183Z",
     "shell.execute_reply.started": "2021-08-04T13:21:09.406432Z"
    },
    "execution_event_id": "2aebc7f7-7b85-40e2-967e-5c0e07157f6b",
    "last_executed_text": "print(results)",
    "persistent_id": "642da6f5-1e19-4476-bf68-d282d4b1f239"
   },
   "outputs": [
    {
     "name": "stdout",
     "output_type": "stream",
     "text": [
      "[0.3124636759567261, 0.87204]\n"
     ]
    }
   ],
   "source": [
    "print(results)"
   ]
  },
  {
   "cell_type": "markdown",
   "metadata": {
    "colab_type": "text",
    "id": "z1iEXVTR0Z2t"
   },
   "source": [
    "这个简单模型已经能达到约%85的正确率，经过更高级的改进，模型可以达到接近%95的正确率。"
   ]
  },
  {
   "cell_type": "markdown",
   "metadata": {
    "colab_type": "text",
    "id": "5KggXVeL-llZ"
   },
   "source": [
    "## 可视化呈现训练过程\n",
    "\n",
    "`model.fit()`返回一个包含各种训练信息字典的`History`对象:"
   ]
  },
  {
   "cell_type": "code",
   "execution_count": 18,
   "metadata": {
    "colab": {},
    "colab_type": "code",
    "execution": {
     "iopub.execute_input": "2021-08-04T13:21:10.879495Z",
     "iopub.status.busy": "2021-08-04T13:21:10.879008Z",
     "iopub.status.idle": "2021-08-04T13:21:10.887956Z",
     "shell.execute_reply": "2021-08-04T13:21:10.886617Z",
     "shell.execute_reply.started": "2021-08-04T13:21:10.879444Z"
    },
    "execution_event_id": "538a59af-2f9e-4309-a43c-30ba99f56025",
    "id": "VcvSXvhp-llb",
    "last_executed_text": "history_dict = history.history\nhistory_dict.keys()",
    "persistent_id": "de464d8b-e892-4bda-a884-7663a85363bf"
   },
   "outputs": [
    {
     "data": {
      "text/plain": [
       "dict_keys(['loss', 'acc', 'val_loss', 'val_acc'])"
      ]
     },
     "execution_count": 18,
     "metadata": {},
     "output_type": "execute_result"
    }
   ],
   "source": [
    "history_dict = history.history\n",
    "history_dict.keys()"
   ]
  },
  {
   "cell_type": "markdown",
   "metadata": {
    "colab_type": "text",
    "id": "nRKsqL40-lle"
   },
   "source": [
    "训练信息包括训练集和验证集上的loss和准确率，可以利用这些数据生成可视化训练过程："
   ]
  },
  {
   "cell_type": "code",
   "execution_count": 19,
   "metadata": {
    "colab": {},
    "colab_type": "code",
    "execution": {
     "iopub.execute_input": "2021-08-04T13:21:12.233346Z",
     "iopub.status.busy": "2021-08-04T13:21:12.232727Z",
     "iopub.status.idle": "2021-08-04T13:21:13.244844Z",
     "shell.execute_reply": "2021-08-04T13:21:13.243820Z",
     "shell.execute_reply.started": "2021-08-04T13:21:12.233281Z"
    },
    "execution_event_id": "56fa6e72-e22d-4274-bf8c-8dbca74ed50b",
    "id": "nGoYf2Js-lle",
    "last_executed_text": "import matplotlib.pyplot as plt",
    "persistent_id": "4bb4dbaa-b2d3-4489-a651-5d6d3e04e654"
   },
   "outputs": [],
   "source": [
    "import matplotlib.pyplot as plt"
   ]
  },
  {
   "cell_type": "code",
   "execution_count": 20,
   "metadata": {
    "execution": {
     "iopub.execute_input": "2021-08-04T13:21:13.407935Z",
     "iopub.status.busy": "2021-08-04T13:21:13.407551Z",
     "iopub.status.idle": "2021-08-04T13:21:13.647775Z",
     "shell.execute_reply": "2021-08-04T13:21:13.646831Z",
     "shell.execute_reply.started": "2021-08-04T13:21:13.407887Z"
    },
    "execution_event_id": "b98624ae-b0ac-48c9-a9c9-604b06331a7a",
    "last_executed_text": "plt.clf()   # 清空图片\nacc = history.history['acc']\nepochs = range(1, len(acc) + 1)\nloss = history.history['loss']\nval_loss = history.history['val_loss']\n# \"bo\" 是蓝点\nplt.plot(epochs, loss, 'bo', label='Training loss')\n# \"b\" 是蓝色实线\nplt.plot(epochs, val_loss, 'b', label='Validation loss')\nplt.title('Training and validation loss')\nplt.xlabel('Epochs')\nplt.ylabel('Loss')\nplt.legend()\n\nplt.show()",
    "persistent_id": "4058913a-44a6-4d06-b1e5-d664dbffb22a"
   },
   "outputs": [
    {
     "data": {
      "image/png": "[encoded data removed]",
      "text/plain": [
       "<Figure size 432x288 with 1 Axes>"
      ]
     },
     "metadata": {
      "needs_background": "light"
     },
     "output_type": "display_data"
    }
   ],
   "source": [
    "plt.clf()   # 清空图片\n",
    "acc = history.history['acc']\n",
    "epochs = range(1, len(acc) + 1)\n",
    "loss = history.history['loss']\n",
    "val_loss = history.history['val_loss']\n",
    "# \"bo\" 是蓝点\n",
    "plt.plot(epochs, loss, 'bo', label='Training loss')\n",
    "# \"b\" 是蓝色实线\n",
    "plt.plot(epochs, val_loss, 'b', label='Validation loss')\n",
    "plt.title('Training and validation loss')\n",
    "plt.xlabel('Epochs')\n",
    "plt.ylabel('Loss')\n",
    "plt.legend()\n",
    "\n",
    "plt.show()"
   ]
  },
  {
   "cell_type": "code",
   "execution_count": 21,
   "metadata": {
    "colab": {},
    "colab_type": "code",
    "execution": {
     "iopub.execute_input": "2021-08-04T13:21:13.649531Z",
     "iopub.status.busy": "2021-08-04T13:21:13.649290Z",
     "iopub.status.idle": "2021-08-04T13:21:13.875876Z",
     "shell.execute_reply": "2021-08-04T13:21:13.874646Z",
     "shell.execute_reply.started": "2021-08-04T13:21:13.649502Z"
    },
    "execution_event_id": "b89f6dfa-b4a1-4bca-a410-09fe7b7d078d",
    "id": "6hXx-xOv-llh",
    "last_executed_text": "plt.clf()\nacc_values = history_dict['acc']\nval_acc_values = history_dict['val_acc']\n\nplt.plot(epochs, acc_values, 'bo', label='Training acc')\nplt.plot(epochs, val_acc_values, 'b', label='Validation acc')\nplt.title('Training and validation accuracy')\nplt.xlabel('Epochs')\nplt.ylabel('Accuracy')\nplt.legend()\n\nplt.show()",
    "persistent_id": "6db9a428-6eaa-49a8-b9ad-5c1a4833494f"
   },
   "outputs": [
    {
     "data": {
      "image/png": "[encoded data removed]",
      "text/plain": [
       "<Figure size 432x288 with 1 Axes>"
      ]
     },
     "metadata": {
      "needs_background": "light"
     },
     "output_type": "display_data"
    }
   ],
   "source": [
    "plt.clf()\n",
    "acc_values = history_dict['acc']\n",
    "val_acc_values = history_dict['val_acc']\n",
    "\n",
    "plt.plot(epochs, acc_values, 'bo', label='Training acc')\n",
    "plt.plot(epochs, val_acc_values, 'b', label='Validation acc')\n",
    "plt.title('Training and validation accuracy')\n",
    "plt.xlabel('Epochs')\n",
    "plt.ylabel('Accuracy')\n",
    "plt.legend()\n",
    "\n",
    "plt.show()"
   ]
  },
  {
   "cell_type": "markdown",
   "metadata": {
    "colab_type": "text",
    "id": "oFEmZ5zq-llk"
   },
   "source": [
    "图中，点表示训练上的loss和准确率，实线表示验证集上的loss和准确率。loss随模型训练降低，准确率随模型训练升高，接近20轮时，训练集与验证集上loss和准确率开始有差距，这是模型在训练集上过拟合的例子，如果继续训练，模型在验证集和测试集上泛化能力将会下降。一种简单的解决方法是，我们最好在第20轮结束模型训练。"
   ]
  },
  {
   "cell_type": "code",
   "execution_count": 22,
   "metadata": {
    "execution": {
     "iopub.execute_input": "2021-08-04T13:21:13.877573Z",
     "iopub.status.busy": "2021-08-04T13:21:13.877315Z",
     "iopub.status.idle": "2021-08-04T13:21:13.957344Z",
     "shell.execute_reply": "2021-08-04T13:21:13.956313Z",
     "shell.execute_reply.started": "2021-08-04T13:21:13.877543Z"
    },
    "execution_event_id": "aafd046d-5fe7-4817-9342-c024eb6b9d3f",
    "last_executed_text": "#save model\nmodel.save('/root/text_classifier/model.h6')",
    "persistent_id": "bfb55c9b-d581-4473-8f1a-ed571305571d"
   },
   "outputs": [
    {
     "name": "stdout",
     "output_type": "stream",
     "text": [
      "/home/bml/storage/mnt/v-tl8enminw01tlrkr/org/pocdemo/model.h5\n",
      "WARNING:tensorflow:TensorFlow optimizers do not make it possible to access optimizer attributes or optimizer state after instantiation. As a result, we cannot save the optimizer as part of the model save file. You will have to compile your model again after loading it. Prefer using a Keras optimizer instead (see keras.io/optimizers).\n"
     ]
    }
   ],
   "source": [
    "#save model\n",
    "model_save_path = os.path.join(path, 'model.h5')\n",
    "print(model_save_path)\n",
    "\n",
    "\n",
    "model.save(model_save_path)"
   ]
  },
  {
   "cell_type": "code",
   "execution_count": 24,
   "metadata": {
    "execution": {
     "iopub.execute_input": "2021-08-04T13:21:49.455470Z",
     "iopub.status.busy": "2021-08-04T13:21:49.454981Z",
     "iopub.status.idle": "2021-08-04T13:21:51.762944Z",
     "shell.execute_reply": "2021-08-04T13:21:51.761169Z",
     "shell.execute_reply.started": "2021-08-04T13:21:49.455417Z"
    },
    "execution_event_id": "fcfae0ef-9009-4749-b533-b5a08aeb21c9",
    "last_executed_text": "!bmlmodel config -a 0c7550ad-5d3c-11ea-9939-fa163e5c4cbd -s 0c84a4f8-5d3c-11ea-9939-fa163e5c4cbd",
    "persistent_id": "9e66bbce-aa28-4fb3-8cb9-ffeb1e5a58fe"
   },
   "outputs": [
    {
     "name": "stdout",
     "output_type": "stream",
     "text": [
      "Info: Config accesskey and secretkey success.\n"
     ]
    }
   ],
   "source": [
    "!bmlmodel config -a super-user -s 59005119-88cf-11e8-8227-90e2ba1fdc4b"
   ]
  },
  {
   "cell_type": "markdown",
   "metadata": {},
   "source": [
    "发布模型"
   ]
  },
  {
   "cell_type": "code",
   "execution_count": 27,
   "metadata": {
    "execution": {
     "iopub.execute_input": "2021-08-04T13:22:56.583153Z",
     "iopub.status.busy": "2021-08-04T13:22:56.582782Z",
     "iopub.status.idle": "2021-08-04T13:22:56.619040Z",
     "shell.execute_reply": "2021-08-04T13:22:56.588472Z",
     "shell.execute_reply.started": "2021-08-04T13:22:56.583116Z"
    },
    "execution_event_id": "025727f6-b6d2-4a9d-bec7-e8aa1f38c612",
    "last_executed_text": "!bmlmodel publish -l /root/text_classifier -p newversion -n textclassify -v 1.0.0.4",
    "persistent_id": "7bd75f4d-2e0d-4d6b-9509-b344a324aaf2"
   },
   "outputs": [
    {
     "name": "stdout",
     "output_type": "stream",
     "text": [
      "/home/bml/storage/mnt/v-tl8enminw01tlrkr/org/pocdemo/\n"
     ]
    }
   ],
   "source": [
    "print(path)"
   ]
  },
  {
   "cell_type": "code",
   "execution_count": 29,
   "metadata": {
    "execution": {
     "iopub.execute_input": "2021-08-04T13:24:34.921070Z",
     "iopub.status.busy": "2021-08-04T13:24:34.920571Z",
     "iopub.status.idle": "2021-08-04T13:24:44.897976Z",
     "shell.execute_reply": "2021-08-04T13:24:44.896506Z",
     "shell.execute_reply.started": "2021-08-04T13:24:34.921017Z"
    }
   },
   "outputs": [
    {
     "name": "stdout",
     "output_type": "stream",
     "text": [
      "Push model to model repository completed.\n"
     ]
    }
   ],
   "source": [
    "!bmlmodel publish -l /home/bml/storage/mnt/v-tl8enminw01tlrkr/org/pocdemo/ -p newmodel -n imdb_model -v 1.0.0.0"
   ]
  },
  {
   "cell_type": "code",
   "execution_count": 24,
   "metadata": {
    "execution_event_id": "136e21a2-03bf-4461-bd31-e19df429e57c",
    "last_executed_text": "#预测服务，测试数据\n\n{\n    \"data\": {\n        \"data\": {\n            \"0\": \"<START> this film was just brilliant casting location scenery story direction everyone's really suited the part they played and you could just imagine being there robert <UNK> is an amazing actor and now the same being director <UNK> father came from the same scottish island as myself so i loved the fact there was a real connection with this film the witty remarks throughout the film were great it was just brilliant so much that i bought the film as soon as it was released for <UNK> and would recommend it to everyone to watch and the fly fishing was amazing really cried at the end it was so sad and you know what they say if you cry at a film it must have been good and this definitely was also <UNK> to the two little boy's that played the <UNK> of norman and paul they were just brilliant children are often left out of the <UNK> list i think because the stars that play them all grown up are such a big profile for the whole film but these children are amazing and should be praised for what they have done don't you think the whole story was so lovely because it was true and was someone's life after all that was shared with us all\"\n        }\n    }\n}",
    "persistent_id": "a34316dd-fda3-4ae3-89a8-1ea6b4fa0734"
   },
   "outputs": [
    {
     "data": {
      "text/plain": [
       "{'data': {'data': {'0': \"<START> this film was just brilliant casting location scenery story direction everyone's really suited the part they played and you could just imagine being there robert <UNK> is an amazing actor and now the same being director <UNK> father came from the same scottish island as myself so i loved the fact there was a real connection with this film the witty remarks throughout the film were great it was just brilliant so much that i bought the film as soon as it was released for <UNK> and would recommend it to everyone to watch and the fly fishing was amazing really cried at the end it was so sad and you know what they say if you cry at a film it must have been good and this definitely was also <UNK> to the two little boy's that played the <UNK> of norman and paul they were just brilliant children are often left out of the <UNK> list i think because the stars that play them all grown up are such a big profile for the whole film but these children are amazing and should be praised for what they have done don't you think the whole story was so lovely because it was true and was someone's life after all that was shared with us all\"}}}"
      ]
     },
     "execution_count": 24,
     "metadata": {},
     "output_type": "execute_result"
    }
   ],
   "source": [
    "#预测服务，测试数据\n",
    "\n",
    "{\n",
    "    \"data\": {\n",
    "        \"data\": {\n",
    "            \"0\": \"<START> this film was just brilliant casting location scenery story direction everyone's really suited the part they played and you could just imagine being there robert <UNK> is an amazing actor and now the same being director <UNK> father came from the same scottish island as myself so i loved the fact there was a real connection with this film the witty remarks throughout the film were great it was just brilliant so much that i bought the film as soon as it was released for <UNK> and would recommend it to everyone to watch and the fly fishing was amazing really cried at the end it was so sad and you know what they say if you cry at a film it must have been good and this definitely was also <UNK> to the two little boy's that played the <UNK> of norman and paul they were just brilliant children are often left out of the <UNK> list i think because the stars that play them all grown up are such a big profile for the whole film but these children are amazing and should be praised for what they have done don't you think the whole story was so lovely because it was true and was someone's life after all that was shared with us all\"\n",
    "        }\n",
    "    }\n",
    "}"
   ]
  },
  {
   "cell_type": "code",
   "execution_count": null,
   "metadata": {},
   "outputs": [],
   "source": []
  }
 ],
 "metadata": {
  "colab": {
   "collapsed_sections": [],
   "name": "basic-text-classification.ipynb",
   "private_outputs": true,
   "provenance": [],
   "toc_visible": true,
   "version": "0.3.2"
  },
  "history": [
   {
    "cell": {
     "executionCount": 1,
     "executionEventId": "333688e7-41f2-499b-b0c4-db6036802ed4",
     "hasError": false,
     "id": "a95a2cce-0e1b-4b51-814d-a47ae51f8fe9",
     "outputs": [
      {
       "name": "stderr",
       "output_type": "stream",
       "text": "/opt/conda/lib/python3.6/site-packages/tensorflow/python/framework/dtypes.py:523: FutureWarning: Passing (type, 1) or '1type' as a synonym of type is deprecated; in a future version of numpy, it will be understood as (type, (1,)) / '(1,)type'.\n  _np_qint8 = np.dtype([(\"qint8\", np.int8, 1)])\n/opt/conda/lib/python3.6/site-packages/tensorflow/python/framework/dtypes.py:524: FutureWarning: Passing (type, 1) or '1type' as a synonym of type is deprecated; in a future version of numpy, it will be understood as (type, (1,)) / '(1,)type'.\n  _np_quint8 = np.dtype([(\"quint8\", np.uint8, 1)])\n/opt/conda/lib/python3.6/site-packages/tensorflow/python/framework/dtypes.py:525: FutureWarning: Passing (type, 1) or '1type' as a synonym of type is deprecated; in a future version of numpy, it will be understood as (type, (1,)) / '(1,)type'.\n  _np_qint16 = np.dtype([(\"qint16\", np.int16, 1)])\n/opt/conda/lib/python3.6/site-packages/tensorflow/python/framework/dtypes.py:526: FutureWarning: Passing (type, 1) or '1type' as a synonym of type is deprecated; in a future version of numpy, it will be understood as (type, (1,)) / '(1,)type'.\n  _np_quint16 = np.dtype([(\"quint16\", np.uint16, 1)])\n/opt/conda/lib/python3.6/site-packages/tensorflow/python/framework/dtypes.py:527: FutureWarning: Passing (type, 1) or '1type' as a synonym of type is deprecated; in a future version of numpy, it will be understood as (type, (1,)) / '(1,)type'.\n  _np_qint32 = np.dtype([(\"qint32\", np.int32, 1)])\n/opt/conda/lib/python3.6/site-packages/tensorflow/python/framework/dtypes.py:532: FutureWarning: Passing (type, 1) or '1type' as a synonym of type is deprecated; in a future version of numpy, it will be understood as (type, (1,)) / '(1,)type'.\n  np_resource = np.dtype([(\"resource\", np.ubyte, 1)])\n"
      },
      {
       "name": "stdout",
       "output_type": "stream",
       "text": "1.12.2\n"
      }
     ],
     "persistentId": "4adda0dc-e3b2-4cb7-961f-a577c420ac6e",
     "text": "import tensorflow as tf\nfrom tensorflow import keras\n\nimport numpy as np\n\nprint(tf.__version__)"
    },
    "executionTime": "2020-03-08T11:00:23.195Z"
   },
   {
    "cell": {
     "executionCount": 2,
     "executionEventId": "cc75a395-6b95-4396-9535-d6b5b09f0f46",
     "hasError": false,
     "id": "1806d30b-0a1f-40f5-8cb5-9d1126b9e87a",
     "outputs": [],
     "persistentId": "1c56a15e-e333-4611-9d07-228292c34bf0",
     "text": "imdb = keras.datasets.imdb\nimport numpy as np\n# save np.load\nnp_load_old = np.load\n\n# modify the default parameters of np.load\nnp.load = lambda *a,**k: np_load_old(*a, allow_pickle=True, **k)\n\n# call load_data with allow_pickle implicitly set to true\n(train_data, train_labels), (test_data, test_labels) = imdb.load_data('/root/text_classifier/imdb.npz',num_words=10000)\n\n# restore np.load for future normal usage\nnp.load = np_load_old"
    },
    "executionTime": "2020-03-08T11:00:31.862Z"
   },
   {
    "cell": {
     "executionCount": 3,
     "executionEventId": "512bb3a2-c2e4-4c6f-991e-edcf77b08003",
     "hasError": false,
     "id": "5065a2e2-0898-4e16-b818-25ff5d0c64ef",
     "outputs": [
      {
       "name": "stdout",
       "output_type": "stream",
       "text": "Training entries: 25000, labels: 25000\n"
      }
     ],
     "persistentId": "99e0ee4e-eb2b-4697-9a92-6fc65e4274e4",
     "text": "print(\"Training entries: {}, labels: {}\".format(len(train_data), len(train_labels)))"
    },
    "executionTime": "2020-03-08T11:00:34.201Z"
   },
   {
    "cell": {
     "executionCount": 4,
     "executionEventId": "bd4552e5-5e79-4cc2-99bf-b8fb8a2dac70",
     "hasError": false,
     "id": "30cad9f4-83b4-4452-bcb1-80260cdcc57c",
     "outputs": [
      {
       "name": "stdout",
       "output_type": "stream",
       "text": "[1, 14, 22, 16, 43, 530, 973, 1622, 1385, 65, 458, 4468, 66, 3941, 4, 173, 36, 256, 5, 25, 100, 43, 838, 112, 50, 670, 2, 9, 35, 480, 284, 5, 150, 4, 172, 112, 167, 2, 336, 385, 39, 4, 172, 4536, 1111, 17, 546, 38, 13, 447, 4, 192, 50, 16, 6, 147, 2025, 19, 14, 22, 4, 1920, 4613, 469, 4, 22, 71, 87, 12, 16, 43, 530, 38, 76, 15, 13, 1247, 4, 22, 17, 515, 17, 12, 16, 626, 18, 2, 5, 62, 386, 12, 8, 316, 8, 106, 5, 4, 2223, 5244, 16, 480, 66, 3785, 33, 4, 130, 12, 16, 38, 619, 5, 25, 124, 51, 36, 135, 48, 25, 1415, 33, 6, 22, 12, 215, 28, 77, 52, 5, 14, 407, 16, 82, 2, 8, 4, 107, 117, 5952, 15, 256, 4, 2, 7, 3766, 5, 723, 36, 71, 43, 530, 476, 26, 400, 317, 46, 7, 4, 2, 1029, 13, 104, 88, 4, 381, 15, 297, 98, 32, 2071, 56, 26, 141, 6, 194, 7486, 18, 4, 226, 22, 21, 134, 476, 26, 480, 5, 144, 30, 5535, 18, 51, 36, 28, 224, 92, 25, 104, 4, 226, 65, 16, 38, 1334, 88, 12, 16, 283, 5, 16, 4472, 113, 103, 32, 15, 16, 5345, 19, 178, 32]\n"
      }
     ],
     "persistentId": "5976aeeb-f06b-40ea-84dc-c7b91e1dd6be",
     "text": "print(train_data[0])"
    },
    "executionTime": "2020-03-08T11:00:35.139Z"
   },
   {
    "cell": {
     "executionCount": 5,
     "executionEventId": "174f0482-3540-4c32-996e-1217183283ea",
     "hasError": false,
     "id": "f63d97c4-c52d-4d4f-99c1-e93b5b165cf7",
     "outputs": [
      {
       "data": {
        "text/plain": "(218, 189)"
       },
       "execution_count": 5,
       "metadata": {},
       "output_type": "execute_result"
      }
     ],
     "persistentId": "80838f58-2bda-446f-9b3f-9126c06f2ac8",
     "text": "len(train_data[0]), len(train_data[1])"
    },
    "executionTime": "2020-03-08T11:00:36.613Z"
   },
   {
    "cell": {
     "executionCount": 6,
     "executionEventId": "5c67fd9f-27cf-4bd6-8a70-d3f0255dbd61",
     "hasError": true,
     "id": "e458c45c-9fdc-4b76-8d26-6c8835e6fa6a",
     "outputs": [
      {
       "name": "stdout",
       "output_type": "stream",
       "text": "Downloading data from https://storage.googleapis.com/tensorflow/tf-keras-datasets/imdb_word_index.json\n"
      },
      {
       "ename": "KeyboardInterrupt",
       "evalue": "",
       "output_type": "error",
       "traceback": [
        "\u001b[0;31m---------------------------------------------------------------------------\u001b[0m",
        "\u001b[0;31mKeyboardInterrupt\u001b[0m                         Traceback (most recent call last)",
        "\u001b[0;32m<ipython-input-6-70c5e410965e>\u001b[0m in \u001b[0;36m<module>\u001b[0;34m\u001b[0m\n\u001b[1;32m      1\u001b[0m \u001b[0;31m# （词，序号）字典\u001b[0m\u001b[0;34m\u001b[0m\u001b[0;34m\u001b[0m\u001b[0m\n\u001b[0;32m----> 2\u001b[0;31m \u001b[0mword_index\u001b[0m \u001b[0;34m=\u001b[0m \u001b[0mimdb\u001b[0m\u001b[0;34m.\u001b[0m\u001b[0mget_word_index\u001b[0m\u001b[0;34m(\u001b[0m\u001b[0;34m'/root/imdb_word_index.json'\u001b[0m\u001b[0;34m)\u001b[0m\u001b[0;34m\u001b[0m\u001b[0m\n\u001b[0m\u001b[1;32m      3\u001b[0m \u001b[0;31m# 加入几种占位符\u001b[0m\u001b[0;34m\u001b[0m\u001b[0;34m\u001b[0m\u001b[0m\n\u001b[1;32m      4\u001b[0m \u001b[0mword_index\u001b[0m \u001b[0;34m=\u001b[0m \u001b[0;34m{\u001b[0m\u001b[0mk\u001b[0m\u001b[0;34m:\u001b[0m \u001b[0;34m(\u001b[0m\u001b[0mv\u001b[0m \u001b[0;34m+\u001b[0m \u001b[0;36m3\u001b[0m\u001b[0;34m)\u001b[0m \u001b[0;32mfor\u001b[0m \u001b[0mk\u001b[0m\u001b[0;34m,\u001b[0m \u001b[0mv\u001b[0m \u001b[0;32min\u001b[0m \u001b[0mword_index\u001b[0m\u001b[0;34m.\u001b[0m\u001b[0mitems\u001b[0m\u001b[0;34m(\u001b[0m\u001b[0;34m)\u001b[0m\u001b[0;34m}\u001b[0m\u001b[0;34m\u001b[0m\u001b[0m\n\u001b[1;32m      5\u001b[0m \u001b[0mword_index\u001b[0m\u001b[0;34m[\u001b[0m\u001b[0;34m\"<PAD>\"\u001b[0m\u001b[0;34m]\u001b[0m \u001b[0;34m=\u001b[0m \u001b[0;36m0\u001b[0m    \u001b[0;31m# 填充\u001b[0m\u001b[0;34m\u001b[0m\u001b[0m\n",
        "\u001b[0;32m/opt/conda/lib/python3.6/site-packages/tensorflow/python/keras/datasets/imdb.py\u001b[0m in \u001b[0;36mget_word_index\u001b[0;34m(path)\u001b[0m\n\u001b[1;32m    146\u001b[0m       \u001b[0mpath\u001b[0m\u001b[0;34m,\u001b[0m\u001b[0;34m\u001b[0m\u001b[0m\n\u001b[1;32m    147\u001b[0m       \u001b[0morigin\u001b[0m\u001b[0;34m=\u001b[0m\u001b[0morigin_folder\u001b[0m \u001b[0;34m+\u001b[0m \u001b[0;34m'imdb_word_index.json'\u001b[0m\u001b[0;34m,\u001b[0m\u001b[0;34m\u001b[0m\u001b[0m\n\u001b[0;32m--> 148\u001b[0;31m       file_hash='bfafd718b763782e994055a2d397834f')\n\u001b[0m\u001b[1;32m    149\u001b[0m   \u001b[0;32mwith\u001b[0m \u001b[0mopen\u001b[0m\u001b[0;34m(\u001b[0m\u001b[0mpath\u001b[0m\u001b[0;34m)\u001b[0m \u001b[0;32mas\u001b[0m \u001b[0mf\u001b[0m\u001b[0;34m:\u001b[0m\u001b[0;34m\u001b[0m\u001b[0m\n\u001b[1;32m    150\u001b[0m     \u001b[0;32mreturn\u001b[0m \u001b[0mjson\u001b[0m\u001b[0;34m.\u001b[0m\u001b[0mload\u001b[0m\u001b[0;34m(\u001b[0m\u001b[0mf\u001b[0m\u001b[0;34m)\u001b[0m\u001b[0;34m\u001b[0m\u001b[0m\n",
        "\u001b[0;32m/opt/conda/lib/python3.6/site-packages/tensorflow/python/keras/utils/data_utils.py\u001b[0m in \u001b[0;36mget_file\u001b[0;34m(fname, origin, untar, md5_hash, file_hash, cache_subdir, hash_algorithm, extract, archive_format, cache_dir)\u001b[0m\n\u001b[1;32m    247\u001b[0m     \u001b[0;32mtry\u001b[0m\u001b[0;34m:\u001b[0m\u001b[0;34m\u001b[0m\u001b[0m\n\u001b[1;32m    248\u001b[0m       \u001b[0;32mtry\u001b[0m\u001b[0;34m:\u001b[0m\u001b[0;34m\u001b[0m\u001b[0m\n\u001b[0;32m--> 249\u001b[0;31m         \u001b[0murlretrieve\u001b[0m\u001b[0;34m(\u001b[0m\u001b[0morigin\u001b[0m\u001b[0;34m,\u001b[0m \u001b[0mfpath\u001b[0m\u001b[0;34m,\u001b[0m \u001b[0mdl_progress\u001b[0m\u001b[0;34m)\u001b[0m\u001b[0;34m\u001b[0m\u001b[0m\n\u001b[0m\u001b[1;32m    250\u001b[0m       \u001b[0;32mexcept\u001b[0m \u001b[0mURLError\u001b[0m \u001b[0;32mas\u001b[0m \u001b[0me\u001b[0m\u001b[0;34m:\u001b[0m\u001b[0;34m\u001b[0m\u001b[0m\n\u001b[1;32m    251\u001b[0m         \u001b[0;32mraise\u001b[0m \u001b[0mException\u001b[0m\u001b[0;34m(\u001b[0m\u001b[0merror_msg\u001b[0m\u001b[0;34m.\u001b[0m\u001b[0mformat\u001b[0m\u001b[0;34m(\u001b[0m\u001b[0morigin\u001b[0m\u001b[0;34m,\u001b[0m \u001b[0me\u001b[0m\u001b[0;34m.\u001b[0m\u001b[0merrno\u001b[0m\u001b[0;34m,\u001b[0m \u001b[0me\u001b[0m\u001b[0;34m.\u001b[0m\u001b[0mreason\u001b[0m\u001b[0;34m)\u001b[0m\u001b[0;34m)\u001b[0m\u001b[0;34m\u001b[0m\u001b[0m\n",
        "\u001b[0;32m/opt/conda/lib/python3.6/urllib/request.py\u001b[0m in \u001b[0;36murlretrieve\u001b[0;34m(url, filename, reporthook, data)\u001b[0m\n\u001b[1;32m    246\u001b[0m     \u001b[0murl_type\u001b[0m\u001b[0;34m,\u001b[0m \u001b[0mpath\u001b[0m \u001b[0;34m=\u001b[0m \u001b[0msplittype\u001b[0m\u001b[0;34m(\u001b[0m\u001b[0murl\u001b[0m\u001b[0;34m)\u001b[0m\u001b[0;34m\u001b[0m\u001b[0m\n\u001b[1;32m    247\u001b[0m \u001b[0;34m\u001b[0m\u001b[0m\n\u001b[0;32m--> 248\u001b[0;31m     \u001b[0;32mwith\u001b[0m \u001b[0mcontextlib\u001b[0m\u001b[0;34m.\u001b[0m\u001b[0mclosing\u001b[0m\u001b[0;34m(\u001b[0m\u001b[0murlopen\u001b[0m\u001b[0;34m(\u001b[0m\u001b[0murl\u001b[0m\u001b[0;34m,\u001b[0m \u001b[0mdata\u001b[0m\u001b[0;34m)\u001b[0m\u001b[0;34m)\u001b[0m \u001b[0;32mas\u001b[0m \u001b[0mfp\u001b[0m\u001b[0;34m:\u001b[0m\u001b[0;34m\u001b[0m\u001b[0m\n\u001b[0m\u001b[1;32m    249\u001b[0m         \u001b[0mheaders\u001b[0m \u001b[0;34m=\u001b[0m \u001b[0mfp\u001b[0m\u001b[0;34m.\u001b[0m\u001b[0minfo\u001b[0m\u001b[0;34m(\u001b[0m\u001b[0;34m)\u001b[0m\u001b[0;34m\u001b[0m\u001b[0m\n\u001b[1;32m    250\u001b[0m \u001b[0;34m\u001b[0m\u001b[0m\n",
        "\u001b[0;32m/opt/conda/lib/python3.6/urllib/request.py\u001b[0m in \u001b[0;36murlopen\u001b[0;34m(url, data, timeout, cafile, capath, cadefault, context)\u001b[0m\n\u001b[1;32m    221\u001b[0m     \u001b[0;32melse\u001b[0m\u001b[0;34m:\u001b[0m\u001b[0;34m\u001b[0m\u001b[0m\n\u001b[1;32m    222\u001b[0m         \u001b[0mopener\u001b[0m \u001b[0;34m=\u001b[0m \u001b[0m_opener\u001b[0m\u001b[0;34m\u001b[0m\u001b[0m\n\u001b[0;32m--> 223\u001b[0;31m     \u001b[0;32mreturn\u001b[0m \u001b[0mopener\u001b[0m\u001b[0;34m.\u001b[0m\u001b[0mopen\u001b[0m\u001b[0;34m(\u001b[0m\u001b[0murl\u001b[0m\u001b[0;34m,\u001b[0m \u001b[0mdata\u001b[0m\u001b[0;34m,\u001b[0m \u001b[0mtimeout\u001b[0m\u001b[0;34m)\u001b[0m\u001b[0;34m\u001b[0m\u001b[0m\n\u001b[0m\u001b[1;32m    224\u001b[0m \u001b[0;34m\u001b[0m\u001b[0m\n\u001b[1;32m    225\u001b[0m \u001b[0;32mdef\u001b[0m \u001b[0minstall_opener\u001b[0m\u001b[0;34m(\u001b[0m\u001b[0mopener\u001b[0m\u001b[0;34m)\u001b[0m\u001b[0;34m:\u001b[0m\u001b[0;34m\u001b[0m\u001b[0m\n",
        "\u001b[0;32m/opt/conda/lib/python3.6/urllib/request.py\u001b[0m in \u001b[0;36mopen\u001b[0;34m(self, fullurl, data, timeout)\u001b[0m\n\u001b[1;32m    524\u001b[0m             \u001b[0mreq\u001b[0m \u001b[0;34m=\u001b[0m \u001b[0mmeth\u001b[0m\u001b[0;34m(\u001b[0m\u001b[0mreq\u001b[0m\u001b[0;34m)\u001b[0m\u001b[0;34m\u001b[0m\u001b[0m\n\u001b[1;32m    525\u001b[0m \u001b[0;34m\u001b[0m\u001b[0m\n\u001b[0;32m--> 526\u001b[0;31m         \u001b[0mresponse\u001b[0m \u001b[0;34m=\u001b[0m \u001b[0mself\u001b[0m\u001b[0;34m.\u001b[0m\u001b[0m_open\u001b[0m\u001b[0;34m(\u001b[0m\u001b[0mreq\u001b[0m\u001b[0;34m,\u001b[0m \u001b[0mdata\u001b[0m\u001b[0;34m)\u001b[0m\u001b[0;34m\u001b[0m\u001b[0m\n\u001b[0m\u001b[1;32m    527\u001b[0m \u001b[0;34m\u001b[0m\u001b[0m\n\u001b[1;32m    528\u001b[0m         \u001b[0;31m# post-process response\u001b[0m\u001b[0;34m\u001b[0m\u001b[0;34m\u001b[0m\u001b[0m\n",
        "\u001b[0;32m/opt/conda/lib/python3.6/urllib/request.py\u001b[0m in \u001b[0;36m_open\u001b[0;34m(self, req, data)\u001b[0m\n\u001b[1;32m    542\u001b[0m         \u001b[0mprotocol\u001b[0m \u001b[0;34m=\u001b[0m \u001b[0mreq\u001b[0m\u001b[0;34m.\u001b[0m\u001b[0mtype\u001b[0m\u001b[0;34m\u001b[0m\u001b[0m\n\u001b[1;32m    543\u001b[0m         result = self._call_chain(self.handle_open, protocol, protocol +\n\u001b[0;32m--> 544\u001b[0;31m                                   '_open', req)\n\u001b[0m\u001b[1;32m    545\u001b[0m         \u001b[0;32mif\u001b[0m \u001b[0mresult\u001b[0m\u001b[0;34m:\u001b[0m\u001b[0;34m\u001b[0m\u001b[0m\n\u001b[1;32m    546\u001b[0m             \u001b[0;32mreturn\u001b[0m \u001b[0mresult\u001b[0m\u001b[0;34m\u001b[0m\u001b[0m\n",
        "\u001b[0;32m/opt/conda/lib/python3.6/urllib/request.py\u001b[0m in \u001b[0;36m_call_chain\u001b[0;34m(self, chain, kind, meth_name, *args)\u001b[0m\n\u001b[1;32m    502\u001b[0m         \u001b[0;32mfor\u001b[0m \u001b[0mhandler\u001b[0m \u001b[0;32min\u001b[0m \u001b[0mhandlers\u001b[0m\u001b[0;34m:\u001b[0m\u001b[0;34m\u001b[0m\u001b[0m\n\u001b[1;32m    503\u001b[0m             \u001b[0mfunc\u001b[0m \u001b[0;34m=\u001b[0m \u001b[0mgetattr\u001b[0m\u001b[0;34m(\u001b[0m\u001b[0mhandler\u001b[0m\u001b[0;34m,\u001b[0m \u001b[0mmeth_name\u001b[0m\u001b[0;34m)\u001b[0m\u001b[0;34m\u001b[0m\u001b[0m\n\u001b[0;32m--> 504\u001b[0;31m             \u001b[0mresult\u001b[0m \u001b[0;34m=\u001b[0m \u001b[0mfunc\u001b[0m\u001b[0;34m(\u001b[0m\u001b[0;34m*\u001b[0m\u001b[0margs\u001b[0m\u001b[0;34m)\u001b[0m\u001b[0;34m\u001b[0m\u001b[0m\n\u001b[0m\u001b[1;32m    505\u001b[0m             \u001b[0;32mif\u001b[0m \u001b[0mresult\u001b[0m \u001b[0;32mis\u001b[0m \u001b[0;32mnot\u001b[0m \u001b[0;32mNone\u001b[0m\u001b[0;34m:\u001b[0m\u001b[0;34m\u001b[0m\u001b[0m\n\u001b[1;32m    506\u001b[0m                 \u001b[0;32mreturn\u001b[0m \u001b[0mresult\u001b[0m\u001b[0;34m\u001b[0m\u001b[0m\n",
        "\u001b[0;32m/opt/conda/lib/python3.6/urllib/request.py\u001b[0m in \u001b[0;36mhttps_open\u001b[0;34m(self, req)\u001b[0m\n\u001b[1;32m   1359\u001b[0m         \u001b[0;32mdef\u001b[0m \u001b[0mhttps_open\u001b[0m\u001b[0;34m(\u001b[0m\u001b[0mself\u001b[0m\u001b[0;34m,\u001b[0m \u001b[0mreq\u001b[0m\u001b[0;34m)\u001b[0m\u001b[0;34m:\u001b[0m\u001b[0;34m\u001b[0m\u001b[0m\n\u001b[1;32m   1360\u001b[0m             return self.do_open(http.client.HTTPSConnection, req,\n\u001b[0;32m-> 1361\u001b[0;31m                 context=self._context, check_hostname=self._check_hostname)\n\u001b[0m\u001b[1;32m   1362\u001b[0m \u001b[0;34m\u001b[0m\u001b[0m\n\u001b[1;32m   1363\u001b[0m         \u001b[0mhttps_request\u001b[0m \u001b[0;34m=\u001b[0m \u001b[0mAbstractHTTPHandler\u001b[0m\u001b[0;34m.\u001b[0m\u001b[0mdo_request_\u001b[0m\u001b[0;34m\u001b[0m\u001b[0m\n",
        "\u001b[0;32m/opt/conda/lib/python3.6/urllib/request.py\u001b[0m in \u001b[0;36mdo_open\u001b[0;34m(self, http_class, req, **http_conn_args)\u001b[0m\n\u001b[1;32m   1316\u001b[0m             \u001b[0;32mtry\u001b[0m\u001b[0;34m:\u001b[0m\u001b[0;34m\u001b[0m\u001b[0m\n\u001b[1;32m   1317\u001b[0m                 h.request(req.get_method(), req.selector, req.data, headers,\n\u001b[0;32m-> 1318\u001b[0;31m                           encode_chunked=req.has_header('Transfer-encoding'))\n\u001b[0m\u001b[1;32m   1319\u001b[0m             \u001b[0;32mexcept\u001b[0m \u001b[0mOSError\u001b[0m \u001b[0;32mas\u001b[0m \u001b[0merr\u001b[0m\u001b[0;34m:\u001b[0m \u001b[0;31m# timeout error\u001b[0m\u001b[0;34m\u001b[0m\u001b[0m\n\u001b[1;32m   1320\u001b[0m                 \u001b[0;32mraise\u001b[0m \u001b[0mURLError\u001b[0m\u001b[0;34m(\u001b[0m\u001b[0merr\u001b[0m\u001b[0;34m)\u001b[0m\u001b[0;34m\u001b[0m\u001b[0m\n",
        "\u001b[0;32m/opt/conda/lib/python3.6/http/client.py\u001b[0m in \u001b[0;36mrequest\u001b[0;34m(self, method, url, body, headers, encode_chunked)\u001b[0m\n\u001b[1;32m   1237\u001b[0m                 encode_chunked=False):\n\u001b[1;32m   1238\u001b[0m         \u001b[0;34m\"\"\"Send a complete request to the server.\"\"\"\u001b[0m\u001b[0;34m\u001b[0m\u001b[0m\n\u001b[0;32m-> 1239\u001b[0;31m         \u001b[0mself\u001b[0m\u001b[0;34m.\u001b[0m\u001b[0m_send_request\u001b[0m\u001b[0;34m(\u001b[0m\u001b[0mmethod\u001b[0m\u001b[0;34m,\u001b[0m \u001b[0murl\u001b[0m\u001b[0;34m,\u001b[0m \u001b[0mbody\u001b[0m\u001b[0;34m,\u001b[0m \u001b[0mheaders\u001b[0m\u001b[0;34m,\u001b[0m \u001b[0mencode_chunked\u001b[0m\u001b[0;34m)\u001b[0m\u001b[0;34m\u001b[0m\u001b[0m\n\u001b[0m\u001b[1;32m   1240\u001b[0m \u001b[0;34m\u001b[0m\u001b[0m\n\u001b[1;32m   1241\u001b[0m     \u001b[0;32mdef\u001b[0m \u001b[0m_send_request\u001b[0m\u001b[0;34m(\u001b[0m\u001b[0mself\u001b[0m\u001b[0;34m,\u001b[0m \u001b[0mmethod\u001b[0m\u001b[0;34m,\u001b[0m \u001b[0murl\u001b[0m\u001b[0;34m,\u001b[0m \u001b[0mbody\u001b[0m\u001b[0;34m,\u001b[0m \u001b[0mheaders\u001b[0m\u001b[0;34m,\u001b[0m \u001b[0mencode_chunked\u001b[0m\u001b[0;34m)\u001b[0m\u001b[0;34m:\u001b[0m\u001b[0;34m\u001b[0m\u001b[0m\n",
        "\u001b[0;32m/opt/conda/lib/python3.6/http/client.py\u001b[0m in \u001b[0;36m_send_request\u001b[0;34m(self, method, url, body, headers, encode_chunked)\u001b[0m\n\u001b[1;32m   1283\u001b[0m             \u001b[0;31m# default charset of iso-8859-1.\u001b[0m\u001b[0;34m\u001b[0m\u001b[0;34m\u001b[0m\u001b[0m\n\u001b[1;32m   1284\u001b[0m             \u001b[0mbody\u001b[0m \u001b[0;34m=\u001b[0m \u001b[0m_encode\u001b[0m\u001b[0;34m(\u001b[0m\u001b[0mbody\u001b[0m\u001b[0;34m,\u001b[0m \u001b[0;34m'body'\u001b[0m\u001b[0;34m)\u001b[0m\u001b[0;34m\u001b[0m\u001b[0m\n\u001b[0;32m-> 1285\u001b[0;31m         \u001b[0mself\u001b[0m\u001b[0;34m.\u001b[0m\u001b[0mendheaders\u001b[0m\u001b[0;34m(\u001b[0m\u001b[0mbody\u001b[0m\u001b[0;34m,\u001b[0m \u001b[0mencode_chunked\u001b[0m\u001b[0;34m=\u001b[0m\u001b[0mencode_chunked\u001b[0m\u001b[0;34m)\u001b[0m\u001b[0;34m\u001b[0m\u001b[0m\n\u001b[0m\u001b[1;32m   1286\u001b[0m \u001b[0;34m\u001b[0m\u001b[0m\n\u001b[1;32m   1287\u001b[0m     \u001b[0;32mdef\u001b[0m \u001b[0mgetresponse\u001b[0m\u001b[0;34m(\u001b[0m\u001b[0mself\u001b[0m\u001b[0;34m)\u001b[0m\u001b[0;34m:\u001b[0m\u001b[0;34m\u001b[0m\u001b[0m\n",
        "\u001b[0;32m/opt/conda/lib/python3.6/http/client.py\u001b[0m in \u001b[0;36mendheaders\u001b[0;34m(self, message_body, encode_chunked)\u001b[0m\n\u001b[1;32m   1232\u001b[0m         \u001b[0;32melse\u001b[0m\u001b[0;34m:\u001b[0m\u001b[0;34m\u001b[0m\u001b[0m\n\u001b[1;32m   1233\u001b[0m             \u001b[0;32mraise\u001b[0m \u001b[0mCannotSendHeader\u001b[0m\u001b[0;34m(\u001b[0m\u001b[0;34m)\u001b[0m\u001b[0;34m\u001b[0m\u001b[0m\n\u001b[0;32m-> 1234\u001b[0;31m         \u001b[0mself\u001b[0m\u001b[0;34m.\u001b[0m\u001b[0m_send_output\u001b[0m\u001b[0;34m(\u001b[0m\u001b[0mmessage_body\u001b[0m\u001b[0;34m,\u001b[0m \u001b[0mencode_chunked\u001b[0m\u001b[0;34m=\u001b[0m\u001b[0mencode_chunked\u001b[0m\u001b[0;34m)\u001b[0m\u001b[0;34m\u001b[0m\u001b[0m\n\u001b[0m\u001b[1;32m   1235\u001b[0m \u001b[0;34m\u001b[0m\u001b[0m\n\u001b[1;32m   1236\u001b[0m     def request(self, method, url, body=None, headers={}, *,\n",
        "\u001b[0;32m/opt/conda/lib/python3.6/http/client.py\u001b[0m in \u001b[0;36m_send_output\u001b[0;34m(self, message_body, encode_chunked)\u001b[0m\n\u001b[1;32m   1024\u001b[0m         \u001b[0mmsg\u001b[0m \u001b[0;34m=\u001b[0m \u001b[0;34mb\"\\r\\n\"\u001b[0m\u001b[0;34m.\u001b[0m\u001b[0mjoin\u001b[0m\u001b[0;34m(\u001b[0m\u001b[0mself\u001b[0m\u001b[0;34m.\u001b[0m\u001b[0m_buffer\u001b[0m\u001b[0;34m)\u001b[0m\u001b[0;34m\u001b[0m\u001b[0m\n\u001b[1;32m   1025\u001b[0m         \u001b[0;32mdel\u001b[0m \u001b[0mself\u001b[0m\u001b[0;34m.\u001b[0m\u001b[0m_buffer\u001b[0m\u001b[0;34m[\u001b[0m\u001b[0;34m:\u001b[0m\u001b[0;34m]\u001b[0m\u001b[0;34m\u001b[0m\u001b[0m\n\u001b[0;32m-> 1026\u001b[0;31m         \u001b[0mself\u001b[0m\u001b[0;34m.\u001b[0m\u001b[0msend\u001b[0m\u001b[0;34m(\u001b[0m\u001b[0mmsg\u001b[0m\u001b[0;34m)\u001b[0m\u001b[0;34m\u001b[0m\u001b[0m\n\u001b[0m\u001b[1;32m   1027\u001b[0m \u001b[0;34m\u001b[0m\u001b[0m\n\u001b[1;32m   1028\u001b[0m         \u001b[0;32mif\u001b[0m \u001b[0mmessage_body\u001b[0m \u001b[0;32mis\u001b[0m \u001b[0;32mnot\u001b[0m \u001b[0;32mNone\u001b[0m\u001b[0;34m:\u001b[0m\u001b[0;34m\u001b[0m\u001b[0m\n",
        "\u001b[0;32m/opt/conda/lib/python3.6/http/client.py\u001b[0m in \u001b[0;36msend\u001b[0;34m(self, data)\u001b[0m\n\u001b[1;32m    962\u001b[0m         \u001b[0;32mif\u001b[0m \u001b[0mself\u001b[0m\u001b[0;34m.\u001b[0m\u001b[0msock\u001b[0m \u001b[0;32mis\u001b[0m \u001b[0;32mNone\u001b[0m\u001b[0;34m:\u001b[0m\u001b[0;34m\u001b[0m\u001b[0m\n\u001b[1;32m    963\u001b[0m             \u001b[0;32mif\u001b[0m \u001b[0mself\u001b[0m\u001b[0;34m.\u001b[0m\u001b[0mauto_open\u001b[0m\u001b[0;34m:\u001b[0m\u001b[0;34m\u001b[0m\u001b[0m\n\u001b[0;32m--> 964\u001b[0;31m                 \u001b[0mself\u001b[0m\u001b[0;34m.\u001b[0m\u001b[0mconnect\u001b[0m\u001b[0;34m(\u001b[0m\u001b[0;34m)\u001b[0m\u001b[0;34m\u001b[0m\u001b[0m\n\u001b[0m\u001b[1;32m    965\u001b[0m             \u001b[0;32melse\u001b[0m\u001b[0;34m:\u001b[0m\u001b[0;34m\u001b[0m\u001b[0m\n\u001b[1;32m    966\u001b[0m                 \u001b[0;32mraise\u001b[0m \u001b[0mNotConnected\u001b[0m\u001b[0;34m(\u001b[0m\u001b[0;34m)\u001b[0m\u001b[0;34m\u001b[0m\u001b[0m\n",
        "\u001b[0;32m/opt/conda/lib/python3.6/http/client.py\u001b[0m in \u001b[0;36mconnect\u001b[0;34m(self)\u001b[0m\n\u001b[1;32m   1390\u001b[0m             \u001b[0;34m\"Connect to a host on a given (SSL) port.\"\u001b[0m\u001b[0;34m\u001b[0m\u001b[0m\n\u001b[1;32m   1391\u001b[0m \u001b[0;34m\u001b[0m\u001b[0m\n\u001b[0;32m-> 1392\u001b[0;31m             \u001b[0msuper\u001b[0m\u001b[0;34m(\u001b[0m\u001b[0;34m)\u001b[0m\u001b[0;34m.\u001b[0m\u001b[0mconnect\u001b[0m\u001b[0;34m(\u001b[0m\u001b[0;34m)\u001b[0m\u001b[0;34m\u001b[0m\u001b[0m\n\u001b[0m\u001b[1;32m   1393\u001b[0m \u001b[0;34m\u001b[0m\u001b[0m\n\u001b[1;32m   1394\u001b[0m             \u001b[0;32mif\u001b[0m \u001b[0mself\u001b[0m\u001b[0;34m.\u001b[0m\u001b[0m_tunnel_host\u001b[0m\u001b[0;34m:\u001b[0m\u001b[0;34m\u001b[0m\u001b[0m\n",
        "\u001b[0;32m/opt/conda/lib/python3.6/http/client.py\u001b[0m in \u001b[0;36mconnect\u001b[0;34m(self)\u001b[0m\n\u001b[1;32m    934\u001b[0m         \u001b[0;34m\"\"\"Connect to the host and port specified in __init__.\"\"\"\u001b[0m\u001b[0;34m\u001b[0m\u001b[0m\n\u001b[1;32m    935\u001b[0m         self.sock = self._create_connection(\n\u001b[0;32m--> 936\u001b[0;31m             (self.host,self.port), self.timeout, self.source_address)\n\u001b[0m\u001b[1;32m    937\u001b[0m         \u001b[0mself\u001b[0m\u001b[0;34m.\u001b[0m\u001b[0msock\u001b[0m\u001b[0;34m.\u001b[0m\u001b[0msetsockopt\u001b[0m\u001b[0;34m(\u001b[0m\u001b[0msocket\u001b[0m\u001b[0;34m.\u001b[0m\u001b[0mIPPROTO_TCP\u001b[0m\u001b[0;34m,\u001b[0m \u001b[0msocket\u001b[0m\u001b[0;34m.\u001b[0m\u001b[0mTCP_NODELAY\u001b[0m\u001b[0;34m,\u001b[0m \u001b[0;36m1\u001b[0m\u001b[0;34m)\u001b[0m\u001b[0;34m\u001b[0m\u001b[0m\n\u001b[1;32m    938\u001b[0m \u001b[0;34m\u001b[0m\u001b[0m\n",
        "\u001b[0;32m/opt/conda/lib/python3.6/socket.py\u001b[0m in \u001b[0;36mcreate_connection\u001b[0;34m(address, timeout, source_address)\u001b[0m\n\u001b[1;32m    711\u001b[0m             \u001b[0;32mif\u001b[0m \u001b[0msource_address\u001b[0m\u001b[0;34m:\u001b[0m\u001b[0;34m\u001b[0m\u001b[0m\n\u001b[1;32m    712\u001b[0m                 \u001b[0msock\u001b[0m\u001b[0;34m.\u001b[0m\u001b[0mbind\u001b[0m\u001b[0;34m(\u001b[0m\u001b[0msource_address\u001b[0m\u001b[0;34m)\u001b[0m\u001b[0;34m\u001b[0m\u001b[0m\n\u001b[0;32m--> 713\u001b[0;31m             \u001b[0msock\u001b[0m\u001b[0;34m.\u001b[0m\u001b[0mconnect\u001b[0m\u001b[0;34m(\u001b[0m\u001b[0msa\u001b[0m\u001b[0;34m)\u001b[0m\u001b[0;34m\u001b[0m\u001b[0m\n\u001b[0m\u001b[1;32m    714\u001b[0m             \u001b[0;31m# Break explicitly a reference cycle\u001b[0m\u001b[0;34m\u001b[0m\u001b[0;34m\u001b[0m\u001b[0m\n\u001b[1;32m    715\u001b[0m             \u001b[0merr\u001b[0m \u001b[0;34m=\u001b[0m \u001b[0;32mNone\u001b[0m\u001b[0;34m\u001b[0m\u001b[0m\n",
        "\u001b[0;31mKeyboardInterrupt\u001b[0m: "
       ]
      }
     ],
     "persistentId": "2a6b7118-8609-4de1-a039-b1ac824784db",
     "text": "# （词，序号）字典\nword_index = imdb.get_word_index('/root/imdb_word_index.json')\n# 加入几种占位符\nword_index = {k: (v + 3) for k, v in word_index.items()} \nword_index[\"<PAD>\"] = 0    # 填充\nword_index[\"<START>\"] = 1  # 样本起点\nword_index[\"<UNK>\"] = 2    # 未知词\nword_index[\"<UNUSED>\"] = 3 # 停用词\n# 翻转键值\nreverse_word_index = dict([(value, key) for (key, value) in word_index.items()])\n# 定义文本解析函数\ndef decode_review(text):\n    return ' '.join([reverse_word_index.get(i, '?') for i in text])"
    },
    "executionTime": "2020-03-08T11:00:50.114Z"
   },
   {
    "cell": {
     "executionCount": 7,
     "executionEventId": "3712b79c-12c9-4354-a410-77b4dde596ad",
     "hasError": false,
     "id": "e458c45c-9fdc-4b76-8d26-6c8835e6fa6a",
     "outputs": [],
     "persistentId": "2a6b7118-8609-4de1-a039-b1ac824784db",
     "text": "# （词，序号）字典\nword_index = imdb.get_word_index('/root/text_classifier/imdb_word_index.json')\n# 加入几种占位符\nword_index = {k: (v + 3) for k, v in word_index.items()} \nword_index[\"<PAD>\"] = 0    # 填充\nword_index[\"<START>\"] = 1  # 样本起点\nword_index[\"<UNK>\"] = 2    # 未知词\nword_index[\"<UNUSED>\"] = 3 # 停用词\n# 翻转键值\nreverse_word_index = dict([(value, key) for (key, value) in word_index.items()])\n# 定义文本解析函数\ndef decode_review(text):\n    return ' '.join([reverse_word_index.get(i, '?') for i in text])"
    },
    "executionTime": "2020-03-08T11:00:57.061Z"
   },
   {
    "cell": {
     "executionCount": 8,
     "executionEventId": "3de3139d-43ee-4114-841e-0674d1fc5f2c",
     "hasError": false,
     "id": "f26e5a3d-136b-4163-b39f-c26f2420db0b",
     "outputs": [
      {
       "data": {
        "text/plain": "\"<START> this film was just brilliant casting location scenery story direction everyone's really suited the part they played and you could just imagine being there robert <UNK> is an amazing actor and now the same being director <UNK> father came from the same scottish island as myself so i loved the fact there was a real connection with this film the witty remarks throughout the film were great it was just brilliant so much that i bought the film as soon as it was released for <UNK> and would recommend it to everyone to watch and the fly fishing was amazing really cried at the end it was so sad and you know what they say if you cry at a film it must have been good and this definitely was also <UNK> to the two little boy's that played the <UNK> of norman and paul they were just brilliant children are often left out of the <UNK> list i think because the stars that play them all grown up are such a big profile for the whole film but these children are amazing and should be praised for what they have done don't you think the whole story was so lovely because it was true and was someone's life after all that was shared with us all\""
       },
       "execution_count": 8,
       "metadata": {},
       "output_type": "execute_result"
      }
     ],
     "persistentId": "bd5575a4-0e69-4908-90c9-d6b862b42195",
     "text": "decode_review(train_data[0])"
    },
    "executionTime": "2020-03-08T11:00:58.822Z"
   },
   {
    "cell": {
     "executionCount": 9,
     "executionEventId": "b9bb26d8-6cd4-40b0-b335-299335c76c89",
     "hasError": false,
     "id": "ed1a48de-0d82-42bb-a833-c124fd3b4d19",
     "outputs": [],
     "persistentId": "9c7a04fa-6e40-4740-9209-bf1c43d19898",
     "text": "train_data = keras.preprocessing.sequence.pad_sequences(train_data,\n                                                        value=word_index[\"<PAD>\"],\n                                                        padding='post',\n                                                        maxlen=256)\n\ntest_data = keras.preprocessing.sequence.pad_sequences(test_data,\n                                                       value=word_index[\"<PAD>\"],\n                                                       padding='post',\n                                                       maxlen=256)"
    },
    "executionTime": "2020-03-08T11:01:01.985Z"
   },
   {
    "cell": {
     "executionCount": 10,
     "executionEventId": "8fce7ee1-79d7-421f-9afd-d79df73d550f",
     "hasError": false,
     "id": "f0caad9b-8b7a-4967-ae0b-4a9efa9082c0",
     "outputs": [
      {
       "data": {
        "text/plain": "(256, 256)"
       },
       "execution_count": 10,
       "metadata": {},
       "output_type": "execute_result"
      }
     ],
     "persistentId": "1e8d826f-a53b-431d-a3b0-af0b05921b99",
     "text": "len(train_data[0]), len(train_data[1])"
    },
    "executionTime": "2020-03-08T11:01:03.114Z"
   },
   {
    "cell": {
     "executionCount": 11,
     "executionEventId": "a436f3c0-99bb-48e0-b5ff-d0fdda5be905",
     "hasError": false,
     "id": "eda42f67-3226-47df-9964-50eab123c48e",
     "outputs": [
      {
       "name": "stdout",
       "output_type": "stream",
       "text": "[   1   14   22   16   43  530  973 1622 1385   65  458 4468   66 3941\n    4  173   36  256    5   25  100   43  838  112   50  670    2    9\n   35  480  284    5  150    4  172  112  167    2  336  385   39    4\n  172 4536 1111   17  546   38   13  447    4  192   50   16    6  147\n 2025   19   14   22    4 1920 4613  469    4   22   71   87   12   16\n   43  530   38   76   15   13 1247    4   22   17  515   17   12   16\n  626   18    2    5   62  386   12    8  316    8  106    5    4 2223\n 5244   16  480   66 3785   33    4  130   12   16   38  619    5   25\n  124   51   36  135   48   25 1415   33    6   22   12  215   28   77\n   52    5   14  407   16   82    2    8    4  107  117 5952   15  256\n    4    2    7 3766    5  723   36   71   43  530  476   26  400  317\n   46    7    4    2 1029   13  104   88    4  381   15  297   98   32\n 2071   56   26  141    6  194 7486   18    4  226   22   21  134  476\n   26  480    5  144   30 5535   18   51   36   28  224   92   25  104\n    4  226   65   16   38 1334   88   12   16  283    5   16 4472  113\n  103   32   15   16 5345   19  178   32    0    0    0    0    0    0\n    0    0    0    0    0    0    0    0    0    0    0    0    0    0\n    0    0    0    0    0    0    0    0    0    0    0    0    0    0\n    0    0    0    0]\n"
      }
     ],
     "persistentId": "242c4f83-9b40-4489-8e8f-a01cab87933d",
     "text": "print(train_data[0])"
    },
    "executionTime": "2020-03-08T11:01:04.183Z"
   },
   {
    "cell": {
     "executionCount": 12,
     "executionEventId": "79f1283a-3f11-44c0-abe8-b9fb33434545",
     "hasError": false,
     "id": "175aa030-3847-4081-aacd-c9e7e304d3bc",
     "outputs": [
      {
       "name": "stdout",
       "output_type": "stream",
       "text": "_________________________________________________________________\nLayer (type)                 Output Shape              Param #   \n=================================================================\nembedding (Embedding)        (None, None, 16)          160000    \n_________________________________________________________________\nglobal_average_pooling1d (Gl (None, 16)                0         \n_________________________________________________________________\ndense (Dense)                (None, 16)                272       \n_________________________________________________________________\ndense_1 (Dense)              (None, 1)                 17        \n=================================================================\nTotal params: 160,289\nTrainable params: 160,289\nNon-trainable params: 0\n_________________________________________________________________\n"
      }
     ],
     "persistentId": "c7fec4f6-1256-4136-a94b-ba92fc8afd13",
     "text": "# 输入尺寸为影评词典尺寸即\nvocab_size = 10000\n\nmodel = keras.models.Sequential()\nmodel.add(keras.layers.Embedding(vocab_size, 16))\nmodel.add(keras.layers.GlobalAveragePooling1D())\nmodel.add(keras.layers.Dense(16, activation=tf.nn.relu))\nmodel.add(keras.layers.Dense(1, activation=tf.nn.sigmoid))\n\nmodel.summary()"
    },
    "executionTime": "2020-03-08T11:01:05.965Z"
   },
   {
    "cell": {
     "executionCount": 13,
     "executionEventId": "ca76b984-e98c-4ec3-a56c-c1a656c669bc",
     "hasError": false,
     "id": "9c5f8300-e754-44e7-bbf0-c49246198866",
     "outputs": [],
     "persistentId": "73ea031f-e06e-48f0-a0ea-d8ae3f9a9909",
     "text": "model.compile(optimizer=tf.train.AdamOptimizer(),\n              loss='binary_crossentropy',\n              metrics=['accuracy'])"
    },
    "executionTime": "2020-03-08T11:01:08.269Z"
   },
   {
    "cell": {
     "executionCount": 14,
     "executionEventId": "c791e8f2-da5e-4d70-b31d-6d8fb78df516",
     "hasError": false,
     "id": "57a98c80-b4b4-4e08-9347-8c42b3e6c4fd",
     "outputs": [],
     "persistentId": "547f72fd-f7f9-4d00-a0ad-827d9576ff59",
     "text": "x_val = train_data[:10000]\npartial_x_train = train_data[10000:]\n\ny_val = train_labels[:10000]\npartial_y_train = train_labels[10000:]"
    },
    "executionTime": "2020-03-08T11:01:11.462Z"
   },
   {
    "cell": {
     "executionCount": 15,
     "executionEventId": "91dcaf95-cd56-4ac0-8368-5ac29fd97d64",
     "hasError": false,
     "id": "bc2a5bbb-2b39-4374-a04a-93dcce53d416",
     "outputs": [
      {
       "name": "stdout",
       "output_type": "stream",
       "text": "Train on 15000 samples, validate on 10000 samples\nEpoch 1/20\n15000/15000 [==============================] - 339s 23ms/step - loss: 0.6918 - acc: 0.5575 - val_loss: 0.6898 - val_acc: 0.6021\nEpoch 2/20\n15000/15000 [==============================] - 1s 39us/step - loss: 0.6852 - acc: 0.6959 - val_loss: 0.6803 - val_acc: 0.7326\nEpoch 3/20\n15000/15000 [==============================] - 1s 39us/step - loss: 0.6712 - acc: 0.7587 - val_loss: 0.6636 - val_acc: 0.7519\nEpoch 4/20\n15000/15000 [==============================] - 1s 38us/step - loss: 0.6479 - acc: 0.7722 - val_loss: 0.6375 - val_acc: 0.7659\nEpoch 5/20\n15000/15000 [==============================] - 1s 38us/step - loss: 0.6115 - acc: 0.7958 - val_loss: 0.5971 - val_acc: 0.7883\nEpoch 6/20\n15000/15000 [==============================] - 1s 38us/step - loss: 0.5646 - acc: 0.8167 - val_loss: 0.5528 - val_acc: 0.8035\nEpoch 7/20\n15000/15000 [==============================] - 1s 38us/step - loss: 0.5144 - acc: 0.8357 - val_loss: 0.5076 - val_acc: 0.8217\nEpoch 8/20\n15000/15000 [==============================] - 1s 39us/step - loss: 0.4656 - acc: 0.8516 - val_loss: 0.4658 - val_acc: 0.8369\nEpoch 9/20\n15000/15000 [==============================] - 1s 38us/step - loss: 0.4221 - acc: 0.8637 - val_loss: 0.4299 - val_acc: 0.8457\nEpoch 10/20\n15000/15000 [==============================] - 1s 37us/step - loss: 0.3842 - acc: 0.8779 - val_loss: 0.4007 - val_acc: 0.8543\nEpoch 11/20\n15000/15000 [==============================] - 1s 38us/step - loss: 0.3530 - acc: 0.8845 - val_loss: 0.3792 - val_acc: 0.8580\nEpoch 12/20\n15000/15000 [==============================] - 1s 38us/step - loss: 0.3272 - acc: 0.8914 - val_loss: 0.3583 - val_acc: 0.8656\nEpoch 13/20\n15000/15000 [==============================] - 1s 37us/step - loss: 0.3040 - acc: 0.8980 - val_loss: 0.3440 - val_acc: 0.8699\nEpoch 14/20\n15000/15000 [==============================] - 1s 38us/step - loss: 0.2848 - acc: 0.9035 - val_loss: 0.3312 - val_acc: 0.8732\nEpoch 15/20\n15000/15000 [==============================] - 1s 37us/step - loss: 0.2682 - acc: 0.9083 - val_loss: 0.3215 - val_acc: 0.8756\nEpoch 16/20\n15000/15000 [==============================] - 1s 38us/step - loss: 0.2540 - acc: 0.9125 - val_loss: 0.3134 - val_acc: 0.8783\nEpoch 17/20\n15000/15000 [==============================] - 1s 37us/step - loss: 0.2402 - acc: 0.9175 - val_loss: 0.3068 - val_acc: 0.8781\nEpoch 18/20\n15000/15000 [==============================] - 1s 38us/step - loss: 0.2282 - acc: 0.9224 - val_loss: 0.3014 - val_acc: 0.8811\nEpoch 19/20\n15000/15000 [==============================] - 1s 38us/step - loss: 0.2170 - acc: 0.9256 - val_loss: 0.2971 - val_acc: 0.8823\nEpoch 20/20\n15000/15000 [==============================] - 1s 38us/step - loss: 0.2072 - acc: 0.9286 - val_loss: 0.2935 - val_acc: 0.8826\n"
      }
     ],
     "persistentId": "18b36dfe-87de-4d6c-b20b-a941517e209b",
     "text": "history = model.fit(partial_x_train,\n                    partial_y_train,\n                    epochs=20,\n                    batch_size=512,\n                    validation_data=(x_val, y_val),\n                    verbose=1)"
    },
    "executionTime": "2020-03-08T11:07:05.201Z"
   },
   {
    "cell": {
     "executionCount": 16,
     "executionEventId": "cb6b8282-04fc-4270-9825-5108a5e70d5b",
     "hasError": false,
     "id": "83082e03-1a42-4034-a3d6-0b123f5e5cd5",
     "outputs": [
      {
       "name": "stdout",
       "output_type": "stream",
       "text": "25000/25000 [==============================] - 1s 58us/step\n"
      }
     ],
     "persistentId": "2ff3efab-63ef-4f27-9740-749699b8e5c2",
     "text": "results = model.evaluate(test_data, test_labels)"
    },
    "executionTime": "2020-03-08T11:07:06.640Z"
   },
   {
    "cell": {
     "executionCount": 17,
     "executionEventId": "e0e73ef4-6d68-4be4-b682-32ef9b5cd089",
     "hasError": false,
     "id": "d518c5d9-fe98-471f-941e-7faa5f2d6a04",
     "outputs": [
      {
       "name": "stdout",
       "output_type": "stream",
       "text": "[0.30736243354797366, 0.87496]\n"
      }
     ],
     "persistentId": "642da6f5-1e19-4476-bf68-d282d4b1f239",
     "text": "print(results)"
    },
    "executionTime": "2020-03-08T11:07:06.647Z"
   },
   {
    "cell": {
     "executionCount": 18,
     "executionEventId": "0685dddb-d6ef-4631-9232-b9bf29348e80",
     "hasError": false,
     "id": "eaa8e7e7-6e2c-4e46-b776-5d13ca90dab4",
     "outputs": [
      {
       "data": {
        "text/plain": "dict_keys(['val_loss', 'val_acc', 'loss', 'acc'])"
       },
       "execution_count": 18,
       "metadata": {},
       "output_type": "execute_result"
      }
     ],
     "persistentId": "de464d8b-e892-4bda-a884-7663a85363bf",
     "text": "history_dict = history.history\nhistory_dict.keys()"
    },
    "executionTime": "2020-03-08T11:07:06.661Z"
   },
   {
    "cell": {
     "executionCount": 19,
     "executionEventId": "c6706474-18a1-44ff-99b8-d0edca9d894f",
     "hasError": false,
     "id": "818955c4-8c67-4e5d-8a1b-3cb7f24b94a7",
     "outputs": [],
     "persistentId": "4bb4dbaa-b2d3-4489-a651-5d6d3e04e654",
     "text": "import matplotlib.pyplot as plt"
    },
    "executionTime": "2020-03-08T11:07:07.002Z"
   },
   {
    "cell": {
     "executionCount": 20,
     "executionEventId": "2ab9edd1-ca7c-4de6-b5ff-5c2566583527",
     "hasError": false,
     "id": "676051ff-e47a-4202-8738-3758fb5d4e50",
     "outputs": [
      {
       "data": {
        "image/png": "iVBORw0KGgoAAAANSUhEUgAAAYUAAAEWCAYAAACJ0YulAAAABHNCSVQICAgIfAhkiAAAAAlwSFlzAAALEgAACxIB0t1+/AAAIABJREFUeJzt3X2c1XP+//HHa7pOqRSi1BQtKqkxElrlYhNR5Krkmk0Iu3b3p83F0vL9umjxjTayrpaIZREiV5GrpQsVlXQhjJJqFclFU6/fH+/PTKfpzMyZZj5zzsw877fbuZ1zPp/P+ZzXOXPmvM772twdERERgKx0ByAiIplDSUFERAopKYiISCElBRERKaSkICIihZQURESkkJKCVCgzq2Vm682sTUUem05mtpeZVXjfbTM7ysyWJdxfaGa/TuXY7Xiuf5jZyO19fAnnvcHMHqzo80r61E53AJJeZrY+4W5D4GdgU3T/QnefUJbzufsmoFFFH1sTuPveFXEeM7sAOMPdeyec+4KKOLdUf0oKNZy7F34pR79EL3D3V4s73sxqu3t+ZcQmIpVP1UdSoqh64HEze8zMvgfOMLODzew/ZrbWzFaY2RgzqxMdX9vM3Myyo/uPRPtfNLPvzew9M2tX1mOj/ceY2admts7M7jSzd8zsnGLiTiXGC81ssZl9a2ZjEh5by8xuN7M1ZrYE6FvC+3O1mU0ssm2smd0W3b7AzBZEr2dJ9Cu+uHPlmVnv6HZDM3s4im0ecECS510anXeemfWPtu8H3AX8OqqaW53w3l6X8Phh0WtfY2bPmNluqbw3pTGzE6J41prZ62a2d8K+kWa23My+M7NPEl5rDzObFW1faWa3pvp8EgN310UX3B1gGXBUkW03AL8AxxN+RDQADgQOIpQ02wOfAsOj42sDDmRH9x8BVgO5QB3gceCR7Th2F+B7YEC07wpgI3BOMa8llRifBZoA2cB/C147MByYB7QGmgPTwr9K0udpD6wHdkg49zdAbnT/+OgYA44AfgS6RPuOApYlnCsP6B3dHg28ATQD2gLzixx7KrBb9Dc5PYph12jfBcAbReJ8BLguut0nirErUB/4O/B6Ku9Nktd/A/BgdHvfKI4jor/RyOh9rwN0Aj4HWkbHtgPaR7enA4Oj242Bg9L9v1CTLyopSCredvfn3H2zu//o7tPd/X13z3f3pcB4oFcJj3/S3We4+0ZgAuHLqKzHHgfMdvdno323ExJIUinG+L/uvs7dlxG+gAue61TgdnfPc/c1wE0lPM9S4GNCsgL4DbDW3WdE+59z96UevA68BiRtTC7iVOAGd//W3T8n/PpPfN4n3H1F9Dd5lJDQc1M4L8AQ4B/uPtvdfwJGAL3MrHXCMcW9NyUZBExy99ejv9FNwI6E5JxPSECdoirIz6L3DkJy72Bmzd39e3d/P8XXITFQUpBUfJl4x8z2MbMXzOxrM/sOGAW0KOHxXyfc3kDJjcvFHbt7Yhzu7oRf1kmlGGNKz0X4hVuSR4HB0e3TCcmsII7jzOx9M/uvma0l/Eov6b0qsFtJMZjZOWY2J6qmWQvsk+J5Iby+wvO5+3fAt0CrhGPK8jcr7rybCX+jVu6+EPgD4e/wTVQd2TI69FygI7DQzD4ws2NTfB0SAyUFSUXR7pj3EH4d7+XuOwLXEqpH4rSCUJ0DgJkZW3+JFVWeGFcAeyTcL63L7OPAUdEv7QGEJIGZNQCeBP6XULXTFHg5xTi+Li4GM2sPjAMuAppH5/0k4byldZ9dTqiSKjhfY0I11VcpxFWW82YR/mZfAbj7I+5+KKHqqBbhfcHdF7r7IEIV4d+Ap8ysfjljke2kpCDbozGwDvjBzPYFLqyE53weyDGz482sNnA5sHNMMT4B/M7MWplZc+DKkg5295XA28ADwEJ3XxTtqgfUBVYBm8zsOODIMsQw0syaWhjHMTxhXyPCF/8qQn68gFBSKLASaF3QsJ7EY8D5ZtbFzOoRvpzfcvdiS15liLm/mfWOnvtPhHag981sXzM7PHq+H6PLJsILONPMWkQli3XRa9tczlhkOykpyPb4A3A24R/+HsIv5VhFX7ynAbcBa4A9gQ8J4yoqOsZxhLr/jwiNoE+m8JhHCQ3HjybEvBb4PfA0obH2ZEJyS8VfCCWWZcCLwD8TzjsXGAN8EB2zD5BYD/8KsAhYaWaJ1UAFj3+JUI3zdPT4NoR2hnJx93mE93wcIWH1BfpH7Qv1gFsI7UBfE0omV0cPPRZYYKF322jgNHf/pbzxyPaxUDUrUrWYWS1CdcXJ7v5WuuMRqS5UUpAqw8z6mlmTqAriGkKPlg/SHJZItaKkIFVJT2ApoQqiL3CCuxdXfSQi20HVRyIiUkglBRERKVTlJsRr0aKFZ2dnpzsMEZEqZebMmavdvaRu3EAVTArZ2dnMmDEj3WGIiFQpZlbayHxA1UciIpJASUFERArFmhSifuULo3nZRyTZf7uZzY4un0YTe4mISJrE1qYQjTgdS5hKOA+YbmaT3H1+wTHu/vuE4y8FusUVj4hsn40bN5KXl8dPP/2U7lAkBfXr16d169bUqVPc1Fcli7OhuTuwuGDO9Gh1qgGExUKSGUyY70VEMkheXh6NGzcmOzubMDmtZCp3Z82aNeTl5dGuXbvSH5BEnNVHrdh6Pvg8ipnq2MzaEqbTfb2Y/UPNbIaZzVi1alWZA5kwAbKzISsrXE8o01L0IjXbTz/9RPPmzZUQqgAzo3nz5uUq1cWZFJJ9goobPj2IsOLWpmQ73X28u+e6e+7OO5fazXYrEybA0KHw+efgHq6HDlViECkLJYSqo7x/qziTQh5bLxLSmjCrZTKDCHO8V7irroING7betmFD2C4iIluLMylMJ6y72s7M6hKt31r0IDPbmzC3+ntxBPHFF8m3f57SMI5A1U8i6bNmzRq6du1K165dadmyJa1atSq8/8svqS27cO6557Jw4cISjxk7diwTKuifu2fPnsyePbtCzlXZYmtodvd8MxsOTCEsvXe/u88zs1HADHcvSBCDgYke08x8bdokTwBmcPTRcNhh4XLggVA/yQKABdVPBaWNguongCHlXpZEpPqZMCGUxL/4Ivz/3Xhj+f5XmjdvXvgFe91119GoUSP++Mc/bnWMu+PuZGUl/537wAMPlPo8l1xyyfYHWY3EOk7B3Se7+6/cfU93vzHadm1CQsDdr3P3bcYwVJQbb4SGDbfeVrcuHHkkLF8OV18dkkLTptCrF1xzDbzyCqxfH45V9ZNI6iqzDW/x4sV07tyZYcOGkZOTw4oVKxg6dCi5ubl06tSJUaNGFR5b8Ms9Pz+fpk2bMmLECPbff38OPvhgvvnmGwCuvvpq7rjjjsLjR4wYQffu3dl777159913Afjhhx846aST2H///Rk8eDC5ubmllggeeeQR9ttvPzp37szIkSMByM/P58wzzyzcPmbMGABuv/12OnbsyP77788ZZ5xR4e9ZKqr9iOYhQ2D8eGjbNpQO2raF++8PX/wffQSrV8Ozz8Lw4fDjj/C//wt9+oQkcdBBxVczFVctJVKTVfaPqPnz53P++efz4Ycf0qpVK2666SZmzJjBnDlzeOWVV5g/f9se8OvWraNXr17MmTOHgw8+mPvvvz/pud2dDz74gFtvvbUwwdx55520bNmSOXPmMGLECD788MMS48vLy+Pqq69m6tSpfPjhh7zzzjs8//zzzJw5k9WrV/PRRx/x8ccfc9ZZZwFwyy23MHv2bObMmcNdd91Vzndn+1T7pAAhMSxbBps3h+vEomzz5tC/P4weDR98AN9+C1OmwIgRUK9e8eds0ybuqEWqnuJ+LMX1I2rPPffkwAMPLLz/2GOPkZOTQ05ODgsWLEiaFBo0aMAxxxwDwAEHHMCyZcuSnnvgwIHbHPP2228zaNAgAPbff386depUYnzvv/8+RxxxBC1atKBOnTqcfvrpTJs2jb322ouFCxdy+eWXM2XKFJo0aQJAp06dOOOMM5gwYcJ2Dz4rrxqRFMqiceNQUrjhBpg2LZQqkiWHTp1g6dLKj08kkxX3YymuH1E77LBD4e1Fixbxf//3f7z++uvMnTuXvn37Ju2vX7du3cLbtWrVIj8/P+m560X/+InHlLXps7jjmzdvzty5c+nZsydjxozhwgsvBGDKlCkMGzaMDz74gNzcXDZtStpLP1ZKCqU491y4775Q7QSw666hWmnKFNhrr1DKeOWVUH9aHPVekpoiWRtew4Zhe9y+++47GjduzI477siKFSuYMmVKhT9Hz549eeKJJwD46KOPkpZEEvXo0YOpU6eyZs0a8vPzmThxIr169WLVqlW4O6eccgrXX389s2bNYtOmTeTl5XHEEUdw6623smrVKjYUrYurBFVuPYV0GDJk294TX30Fd98d2iueew722Se0S5x1VihtFFDvJalJCj7TFdn7KFU5OTl07NiRzp070759ew499NAKf45LL72Us846iy5dupCTk0Pnzp0Lq36Sad26NaNGjaJ37964O8cffzz9+vVj1qxZnH/++bg7ZsbNN99Mfn4+p59+Ot9//z2bN2/myiuvpHHil0klqXJrNOfm5nomLbLz88/wxBNw550wfTrsuCOcc05IEB06hJJBssbqtm1D+4ZIpluwYAH77rtvusPICPn5+eTn51O/fn0WLVpEnz59WLRoEbVrZ9bv62R/MzOb6e65pT02s15JFVSvHpx5Zri8/35IDuPGwZgxcMwx6r0kUp2sX7+eI488kvz8fNyde+65J+MSQnlVr1eTZgcdFC6jR4dqpXHjij9WvZdEqp6mTZsyc+bMdIcRKzU0x6BlS7j22lBKuPji0MCcqEGDyml4ExEpKyWFGNWtC2PHwj//GRJFgb32CqOoRUQyjZJCJRgyBFasgE2b4K67wviGTp3gH/8ouSuriEhlU1KoRFlZcMklMHcuHHAA/Pa30LevGp1FJHMoKaRB+/bw2muhaumdd6BzZ7j33uJLDRr8JjVZ7969txmIdscdd3DxxReX+LhGjRoBsHz5ck4++eRiz11aF/c77rhjq0Fkxx57LGvXrk0l9BJdd911jB49utznqWhKCmmSlRUaoT/6CHJzw4C2o4/ettSgleOkphs8eDATJ07catvEiRMZPHhwSo/ffffdefLJJ7f7+YsmhcmTJ9O0adPtPl+mU1JIs3bt4NVX4e9/h3ffDaWG8eO3lBo0dbfUdCeffDLPP/88P//8MwDLli1j+fLl9OzZs3DcQE5ODvvttx/PPvvsNo9ftmwZnTt3BuDHH39k0KBBdOnShdNOO40ff/yx8LiLLrqocNrtv/zlLwCMGTOG5cuXc/jhh3P44YcDkJ2dzerVqwG47bbb6Ny5M507dy6cdnvZsmXsu+++/Pa3v6VTp0706dNnq+dJZvbs2fTo0YMuXbpw4okn8u233xY+f8eOHenSpUvhRHxvvvlm4SJD3bp14/vvv9/u9zYZjVPIAFlZcNFFoX3h/PPhwgvhX/8KDdGVPeukSEl+9zuo6AXFunaF6Ps0qebNm9O9e3deeuklBgwYwMSJEznttNMwM+rXr8/TTz/NjjvuyOrVq+nRowf9+/cvdp3icePG0bBhQ+bOncvcuXPJyckp3HfjjTey0047sWnTJo488kjmzp3LZZddxm233cbUqVNp0aLFVueaOXMmDzzwAO+//z7uzkEHHUSvXr1o1qwZixYt4rHHHuPee+/l1FNP5amnnipxfYSzzjqLO++8k169enHttddy/fXXc8cdd3DTTTfx2WefUa9evcIqq9GjRzN27FgOPfRQ1q9fT/1kq4OVg0oKGSSx1PDee6HU0KxZ8mM1+E1qksQqpMSqI3dn5MiRdOnShaOOOoqvvvqKlStXFnueadOmFX45d+nShS5duhTue+KJJ8jJyaFbt27Mmzev1Mnu3n77bU488UR22GEHGjVqxMCBA3nrrbcAaNeuHV27dgVKnp4bwvoOa9eupVevXgCcffbZTJs2rTDGIUOG8MgjjxSOnD700EO54oorGDNmDGvXrq3wEdUqKWSYglLDMceEUsPrr4dtmzdvOaayZp0UKaqkX/RxOuGEE7jiiiuYNWsWP/74Y+Ev/AkTJrBq1SpmzpxJnTp1yM7OTjpddqJkpYjPPvuM0aNHM336dJo1a8Y555xT6nlKmjeuXsJ8+7Vq1Sq1+qg4L7zwAtOmTWPSpEn89a9/Zd68eYwYMYJ+/foxefJkevTowauvvso+++yzXedPRiWFDJWdHUoN48aFQXAFn+M2bUKbg2ZYlZqkUaNG9O7dm/POO2+rBuZ169axyy67UKdOHaZOncrnxU02FjnssMOYEPXS+Pjjj5k7dy4Qpt3eYYcdaNKkCStXruTFF18sfEzjxo2T1tsfdthhPPPMM2zYsIEffviBp59+ml//+tdlfm1NmjShWbNmhaWMhx9+mF69erF582a+/PJLDj/8cG655RbWrl3L+vXrWbJkCfvttx9XXnklubm5fPLJJ2V+zpKopJDBzGDYsNDWcMEFoRvreecpIUjNNHjwYAYOHLhVT6QhQ4Zw/PHHk5ubS9euXUv9xXzRRRdx7rnn0qVLF7p27Ur37t2BsIpat27d6NSp0zbTbg8dOpRjjjmG3XbbjalTpxZuz8nJ4Zxzzik8xwUXXEC3bt1KrCoqzkMPPcSwYcPYsGED7du354EHHmDTpk2cccYZrFu3Dnfn97//PU2bNuWaa65h6tSp1KpVi44dOxauIldRNHV2FbF5c6hOevDBsI70iBHpjkhqCk2dXfVo6uwaICsr9Eb65Rf4859DldIVV6Q7KhGpbpQUqpBateChh0Ji+MMfQmIYPjzdUYlIdaKkUMXUrg2PPgobN8Kll4bEULC8p0hcCpaNlMxX3iYB9T6qgurUgccfh2OPDQ3RDz6Y7oikOqtfvz5r1qwp95eNxM/dWbNmTbkGtKmkUEXVqwdPPQXHHx96JNWtC6efnu6opDpq3bo1eXl5rFq1Kt2hSArq169P69att/vxSgpVWP368Oyz0K8fnHVWSAzFTAYpst3q1KlDu3bt0h2GVBJVH1VxDRvCc89Bjx4weHBIEkVp6m0RSZWSQjXQqBFMngw5OXDKKeF2AU29LSJloaRQTey4I7z0Euy3HwwcCK+8ErZr6m0RKQslhWqkWTN4+WXYe28YMADefFNTb4tI2SgpVDPNm4dSQrt2oQF6l12SH6ept0UkmViTgpn1NbOFZrbYzJLO1mNmp5rZfDObZ2aPxhlPTbHLLmHyvFatYN260H01kabeFpHixJYUzKwWMBY4BugIDDazjkWO6QD8GTjU3TsBv4srnpqmZcuwFsPuu4fpMVq2DLOutm2rqbdFpHhxjlPoDix296UAZjYRGAAkLmf0W2Csu38L4O7fxBhPjdOqVUgMvXrB99+HZRQTFpoSEdlGnNVHrYAvE+7nRdsS/Qr4lZm9Y2b/MbO+yU5kZkPNbIaZzdCoyrJp2zYkhoYN4aij4NNP0x2RiGSyOJNCstmzik6eUhvoAPQGBgP/MLOm2zzIfby757p77s4771zhgVZ37duHNgb3sMxnCUvYikgNF2dSyAP2SLjfGlie5Jhn3X2ju38GLCQkCalgv/oVPP88rFgBxx0H69enOyIRyURxJoXpQAcza2dmdYFBwKQixzwDHA5gZi0I1UlLY4ypRjvoIHjiCZg1C047DfLz0x2RiGSa2JKCu+cDw4EpwALgCXefZ2ajzKx/dNgUYI2ZzQemAn9y9zVxxSShlDBuXJgKY9iwUKUkIlIg1llS3X0yMLnItmsTbjtwRXSRSjJ0KHz5JdxwA7RuDdddl+6IRCRTaOrsGmrUKMjLg+uvD4nhggvSHZGIZAIlhRrKLAxiW7EiVCPtvntYyU1EajbNfVSD1akD//oX7L9/mHJ7+vR0RyQi6aakUMM1bgwvvBDmS+rXD5YsSXdEIpJOSgpCy5ZhLYZNm6BvX9CgcZGaS0lBgLAGw3PPhcbn44/femEeLecpUnMoKUihQw6BRx+FDz6AQYPC4DYt5ylSsygpyFZOPBHuvDOUGoYPh5EjtZynSE2iLqmyjUsuCYPbbr65+GO0nKdI9aSSgiT1P/9T8kI8Ws5TpHpSUpCksrLg/vuhU6dt92k5T5HqS0lBilW3LrzzTigVWLQ6hpbzFKne1KYgJWrSBN57D3r0gF9+gTfeCN1SRaR6UklBSrX77mFw288/h/mR1q5Nd0QiEhclBUlJx47w73/D4sUwcGAoNYhI9aOkICk7/HC47z6YOjVMta0FekSqH7UpSJmceSZ89hn85S/Qvr0W6BGpbpQUpMyuuSYkhuuvh3bt4Oyz0x2RiFQUJQUpMzO4554w6vmCC8LKbUceme6oRKQiqE1BtkvduvDUU2F21YED4eOP0x2RiFQEJQXZbk2awOTJYYRzv35haU8RqdqUFKRc2rQJK7etWQPHHQfr16c7IhEpDyUFKbecHHj8cZg9e8s6DCJSNSkpSIXo1y+sw/DCC3D55RrDIFJVqfeRVJiLLw5dVUePDmMY/vCHdEckImWlpCAV6uabYdky+OMfw4yqJ5+c7ohEpCxUfSQVKisL/vlPOPjgMPr5vffCes7Z2WFfdrbWdxbJZCopSIVr0AAmTQqJ4eijYeNG+OmnsO/zz2Ho0HBbazKIZB6VFCQWLVqEMQw//LAlIRTYsAGuuio9cYlIyZQUJDYdOsDmzcn3ffFF5cYiIqlRUpBYtW2bfHubNpUbh4ikJtakYGZ9zWyhmS02sxFJ9p9jZqvMbHZ0uSDOeKTy3XhjmAYjUYMGYbuIZJ7YGprNrBYwFvgNkAdMN7NJ7j6/yKGPu/vwuOKQ9CpoTB45ckuVUZ8+amQWyVRxlhS6A4vdfam7/wJMBAbE+HySoYYMCb2ONm8OU20/+2wY4CYimSfOpNAK+DLhfl60raiTzGyumT1pZnskO5GZDTWzGWY2Y9WqVXHEKpXADO6+G049Ff70J7j33nRHJCJFxZkULMm2ojPiPAdku3sX4FXgoWQncvfx7p7r7rk777xzBYcplalWLXj4YTjmGLjwwjCRnohkjjiTQh6Q+Mu/NbA88QB3X+PuP0d37wUOiDEeyRB168KTT0LPnnDGGWE8g4hkhjiTwnSgg5m1M7O6wCBgUuIBZrZbwt3+wIIY45EM0rAhPPccdOkCJ50E06alOyIRgRiTgrvnA8OBKYQv+yfcfZ6ZjTKz/tFhl5nZPDObA1wGnBNXPJJ5mjSBl14K8yEddxzMnJnuiETEvIpNfJ+bm+szZsxIdxhSgfLyQlXS+vWhxNCxY7ojEql+zGymu+eWdpxGNEvatW4Nr74KderAb34T1mQQkfRQUpCMsNde8PLL8OOPITGsWJHuiERqJiUFyRj77Qcvvghffx1GPf/3v+mOSKTmUVKQjHLQQWEthkWLwliG779Pd0QiNYuSgmScI44Ig9pmzoQBA7Zdj0FE4qOkIBlpwAB48EGYOhUOPTRMwa3lPEXip+U4JWOdcUbolfRQwuQnWs5TJF4plRTMbE8zqxfd7m1ml5lZ03hDE4E33th2m5bzFIlPqtVHTwGbzGwv4D6gHfBobFGJRIpbtlPLeYrEI9WksDmatuJE4A53/z2wWymPESm34pbtbN26cuMQqSlSTQobzWwwcDbwfLStTjwhiWyRbDlPgB12gHXrKj8ekeou1aRwLnAwcKO7f2Zm7YBH4gtLJBgyBMaPD72PzML1xRfDkiXQq5dGPotUtDJPiGdmzYA93H1uPCGVTBPiCYQpMQYOhF13Dbf33DPdEYlktgqdEM/M3jCzHc1sJ2AO8ICZ3VbeIEW2V58+8PrroQrpkEPgww/THZFI9ZBq9VETd/8OGAg84O4HAEfFF5ZI6bp3h7ffhnr1QlVSsu6rIlI2qSaF2tEqaaeypaFZJO322QfefRf22AOOPhr+/e90RyRStaWaFEYRVlBb4u7Tzaw9sCi+sERS17o1vPUWHHAAnHIK3HtvuiMSqbpSmubC3f8F/Cvh/lLgpLiCEimrnXaCV14JSWHoUPjmGxg5MvRYEpHUpdrQ3NrMnjazb8xspZk9ZWYaPiQZZYcd4Nlnw5xJV18Nl18OmzenOyqRqiXV6qMHgEnA7kAr4Llom0hGqVMnTKD3+9/DnXeGBPHLL+mOSqTqSHWW1J3dPTEJPGhmv4sjIJHyysqCv/0tjGEYMQLWrIGnnoJGjdIdmUjmS7WksNrMzjCzWtHlDGBNnIGJlIcZXHkl3HdfmH77yCNh9ep0RyWS+VJNCucRuqN+DawATiZMfSGS0c47L3RTnTsXevaEhQvTHZFIZkspKbj7F+7e3913dvdd3P0EwkA2kYy3fj00aRISwr77wkUXpTsikcxVnuU4r6iwKERiMmFC6KK6cmW47w533w29e4fFekRka+VJCuoBLhnvqquSf/m/+SYceCDMn1/5MYlksvIkhbJNryqSBiWt0LZ6NeTmwgMPhBKEiJSSFMzsezP7Lsnle8KYBZGMVtzKbW3bwuzZ0KNHaIw+++zQ9iBS05WYFNy9sbvvmOTS2N1THeMgkjbJVm5r2DBs3223MDXG9deHtofc3NBLSaQmK0/1kUjGS7Zy2/jxYTtArVpw7bXw2mvw3XdhOu577lF1ktRcZV55Ld208prE5Ztv4Mwzw0pup50WkseOO6Y7KpGKUaErr4nUBLvsAi++CP/zP/Dkk5CTA7NmpTsqkcoVa1Iws75mttDMFpvZiBKOO9nM3MxKzWIiccrKgj//Oazi9tNPcPDBcNddqk6SmiO2pGBmtYCxwDFAR2CwmXVMclxj4DLg/bhiESmrnj1D76Tf/AYuvRROPhnWrk13VCLxi7Ok0B1Y7O5L3f0XYCIwIMlxfwVuAX6KMRaRMmvRAiZNgtGjw3XXrvDMMyo1SPUWZ1JoBXyZcD8v2lbIzLoBe7h7ies+m9lQM5thZjNWrVpV8ZGKFCMrC/7wh7DcZ4MGcOKJ8Otfw3vvpTsykXjEmRSSTYNR+BvLzLKA24E/lHYidx/v7rnunrvzzjtXYIgiqenRAz76KHRXXbIEDjkkVCl9+mm6IxOpWHEmhTxgj4T7rYGKfnc3AAARWUlEQVTlCfcbA52BN8xsGdADmKTGZslUtWuHyfUWLQoD3l56CTp1gksu2TLhnkhVF2dSmA50MLN2ZlYXGERY0hMAd1/n7i3cPdvds4H/AP3dXYMQJKM1ahQGvC1ZAr/9bSg97LUX/PWv8MMP6Y5OpHxiSwrung8MB6YAC4An3H2emY0ys/5xPa9IRZswAbKzQ/tCdna4D2G5z7//HebNgz59QqLo0AHuvRfy89MZscj204hmkRIUrMeQOP12w4ZbT5VR4J134P/9P3j33bCYz803w3HHhek1RNJNI5pFKkCy9Rg2bAjbizr0UHj77bD856ZN0L9/WMzngw8qJVSRCqGkIFKC4tZjKG67Wei2+vHHoWrpk0/goIPCXEpLlsQXp0hFUVIQKUFx6zEUt71AnTphLejFi0Nbw/PPhyql4cPVU0kym5KCSAlKWo8hFY0bh+6rixeHxXzuvhv23BOuuQbWrav4eEXKS0lBpASlrceQqt12CwlhwYLQ+HzDDdC+Pfztb2HiPZFMod5HImkwaxaMHAlTpkDr1qE0cdZZYYCcSBzU+0gkg+XkhBHRr78OrVrB+efDfvuFnktV7HeaVDNKCiJpdPjhYXK9f/87VE+ddFKYZ+n119MdmdRUSgoiaVbQjXXuXLj/flixAo48Eo4+GmbOTHd0UtMoKYhkiNq14dxzw8yrf/tbSAi5uWGMg2ZjlcqipCASs+LmTipO/fpwxRVhsNs118ALL0DHjnDhhaE0IRInJQWRGBXMnfT556EB+fPPw/3SEgNAkyYwalRIDhdfDA88APvvH1aAu+02+Prr+OOXmkddUkVilJ0dEkFRbdvCsmVlO9fq1fD44/DPf4b5lLKywuysZ54JJ5yw7SA7kUTqkiqSAco6d1JJWrQIC/q8/36YU+nPf4b588NAupYtw4jpqVNh8+byxSw1m5KCSIy2d+6k0uy9dxgV/dln8MYbcMop8OSTcMQR0K5dmMX1k0/K9xxSMykpiMSovHMnlSYrC3r1gvvuC20Mjz0Wlgi9+eYwAV/37nDnnbBqVcU8n1R/SgoiMaqouZNS0bAhDBoEkydDXl5ojN64ES67DHbfPazv8MgjmohPSqaGZpFq7qOP4OGH4dFH4auvwrTeRx0VRk8PGBDaKqT6U0OziABhTqVbbgmN2+++G0oOCxbABReEBuojj4Rx49TFVQKVFERqIHf48EN46qlwWbgwVG8demgoQQwcWP7GcMksqZYUlBREajj30LW1IEEUjJo+8MCQIE46CfbaK70xSvmp+kikGinrVBllYRZ6LF17LcyZE+ZZuummsG/ECOjQIYykHjUqzOi6cWPFPbdkHpUURDJcwVQZGzZs2dawYXy9mBJ9/nmY1vupp0J7hDvssAMccgj07h0uublQt268cUj5qfpIpJqoyKkyymPVKpg2LQyWe/PN0KsJQoIqSBK9eoWxEUoSmUdJQaSayMpKvhqbWXqntFi9OiSJN98MiaKgLaJBg5AkevUKiaJ7d6hXL31xSqCkIFJNZEpJoTRr1mybJNzDVOAHHxySRI8ecMABGhuRDkoKItVEOtsUyuO//4W33goJ4o03QiN2wddNdnZoizjwwHCdkwNNm6Yx2BpASUGkGpkwIUxy98UXYfzAjTdmdkJIZt06mDULZsyA6dPD9WefbdnfoUNIEAWXbt2gceP0xVvdKCmISMZbsyYsOzpjxpZkkZcX9pmFSf0SE0XnzkoU20tJQUSqpK+/3jZRrFy5ZX+bNmFcReJl332hUaP0xVwVpJoUaldGMCKSXlWp+qllS+jXL1wgtEMsXx4SxMcfw7x54fLaa/DLL1sel52dPFloRbqyUVIQqeaKNlQXrBMNmZsYEplBq1bhMmDAlu35+WH96oIkUXB5+eUto67NwqJDBUmiQ4cwZceee8Juu4XuvrK1WKuPzKwv8H9ALeAf7n5Tkf3DgEuATcB6YKi7zy/pnKo+EimbqtKltaJs3AiLF2+bLD79NCSSAg0ahOSw555bEkXBdZs2ULua/WROe5uCmdUCPgV+A+QB04HBiV/6Zraju38X3e4PXOzufUs6r5KCSNlk6uC3yrZxY6g+W7IkJI2C68WLYelS+OmnLcfWrh1KGImJYs89QyJt1Qp22im8f1VJJrQpdAcWu/vSKKCJwACgMCkUJITIDkDVavUWqQLatEleUqhpU2PXqbPly71Pn633bd4c2i2KJowlS8KcT999t/Xx9etD69YlX3beuWpWT8WZFFoBXybczwMOKnqQmV0CXAHUBY5IdiIzGwoMBWhT0z7JIuV0443JB79V1DrR1UFW1pYv8169tt7nHrrOLl4cussmXr76Ct5+O1wXnT22Tp1Qqig4b6tWoR1j111DY3rBdfPmmZU84kwKyQpX25QE3H0sMNbMTgeuBs5Ocsx4YDyE6qMKjlOkWitoTK4qvY8yjVmYlqOkqTk2bw4TBhZNGgWXGTPgmWe2rqIqUKtWKFUkJopk17vuGqqt4k4gcSaFPGCPhPutgeUlHD8RGBdjPCI11pAhSgJxysra8sV9wAHJj3EP1VArV4axGInXibfnzw/Xid1tC4wZA5deGu9riTMpTAc6mFk74CtgEHB64gFm1sHdF0V3+wGLEJGMU5XGOWQqM2jSJFx+9auSj3WHtWu3TRhFq7biEFtScPd8MxsOTCF0Sb3f3eeZ2ShghrtPAoab2VHARuBbklQdiUh6VfVxDlWRGTRrFi777FPJz61pLkSkJDVtnEN1pTWaRaRCfPFF2bZL1aakICIlKq4XuHqHV09KCiJSohtv3HZSOY1zqL6UFESkREOGhFXe2rYNDaBt22b+qm+y/ZQURKRUQ4aERuXNm8N1WRPChAmhwTorK1xPmFDxMUrFqGbzAIpIplGX1qpFJQURidVVV2097xKE+1ddlZ54pGRKCiISK3VprVqUFEQkVurSWrUoKYhIrNSltWpRUhCRWFVEl1b1Xqo86n0kIrErz9Td6r1UuVRSEJGMpt5LlUtJQUQymnovVS4lBRHJaOq9VLmUFEQko1VE7yU1VKdOSUFEMlp5ey8VNFR//nlY5rKgoVqJITmtvCYi1ZpWjgu08pqICGqoLislBRGp1tRQXTZKCiJSramhumyUFESkWlNDddmooVlEpATVpaFaDc0iIhWgpjVUKymIiJSgpjVUKymIiJSgpjVUKymIiJSgpjVUq6FZRCRGmdJQrYZmEZEMUNUaqpUURERiVBEN1ZXZJqGkICISo/I2VFd2m4SSgohIjMrbUF3Zy5HGmhTMrK+ZLTSzxWY2Isn+K8xsvpnNNbPXzKxtnPGIiKTDkCGhUXnz5nCdakKAym+TiC0pmFktYCxwDNARGGxmHYsc9iGQ6+5dgCeBW+KKR0SkKqrswXNxlhS6A4vdfam7/wJMBAYkHuDuU929oGD0H6B1jPGIiFQ5FTF4riziTAqtgC8T7udF24pzPvBish1mNtTMZpjZjFWrVlVgiCIima28bRJlVTue0wJgSbYlHSlnZmcAuUCvZPvdfTwwHsLgtYoKUESkKhgyJL4kUFScSSEP2CPhfmtgedGDzOwo4Cqgl7v/HGM8IiJSijirj6YDHcysnZnVBQYBkxIPMLNuwD1Af3f/JsZYREQkBbElBXfPB4YDU4AFwBPuPs/MRplZ/+iwW4FGwL/MbLaZTSrmdCIiUgnirD7C3ScDk4tsuzbh9lFxPr+IiJSNRjSLiEihKjd1tpmtApJMRJsRWgCr0x1ECRRf+WR6fJD5MSq+8ilPfG3dfefSDqpySSGTmdmMVOYrTxfFVz6ZHh9kfoyKr3wqIz5VH4mISCElBRERKaSkULHGpzuAUii+8sn0+CDzY1R85RN7fGpTEBGRQiopiIhIISUFEREppKRQRma2h5lNNbMFZjbPzC5PckxvM1sXTd0x28yuTXauGGNcZmYfRc89I8l+M7Mx0Yp4c80spxJj2zvhfZltZt+Z2e+KHFPp75+Z3W9m35jZxwnbdjKzV8xsUXTdrJjHnh0ds8jMzq6k2G41s0+iv9/TZta0mMeW+FmIOcbrzOyrhL/jscU8tsQVGmOM7/GE2JaZ2exiHhvre1jcd0raPn/urksZLsBuQE50uzHwKdCxyDG9gefTGOMyoEUJ+48lrF1hQA/g/TTFWQv4mjCoJq3vH3AYkAN8nLDtFmBEdHsEcHOSx+0ELI2um0W3m1VCbH2A2tHtm5PFlspnIeYYrwP+mMJnYAnQHqgLzCn6/xRXfEX2/w24Nh3vYXHfKen6/KmkUEbuvsLdZ0W3vydM9lfS4kGZaADwTw/+AzQ1s93SEMeRwBJ3T/sIdXefBvy3yOYBwEPR7YeAE5I89GjgFXf/r7t/C7wC9I07Nnd/2cOkk5ABqxYW8/6lotQVGitCSfGZmQGnAo9V9POmooTvlLR8/pQUysHMsoFuwPtJdh9sZnPM7EUz61SpgYXFjF42s5lmNjTJ/rKuiheXQRT/j5jO96/Aru6+AsI/LrBLkmMy4b08j2JWLaT0z0LchkdVXPcXU/2RCe/fr4GV7r6omP2V9h4W+U5Jy+dPSWE7mVkj4Cngd+7+XZHdswhVIvsDdwLPVHJ4h7p7DnAMcImZHVZkf8qr4sXFwhob/YF/Jdmd7vevLNL6XprZVUA+MKGYQ0r7LMRpHLAn0BVYQaiiKSrtn0VgMCWXEirlPSzlO6XYhyXZVq73T0lhO5hZHcIfb4K7/7vofnf/zt3XR7cnA3XMrEVlxefuy6Prb4CnCUX0RCmtihezY4BZ7r6y6I50v38JVhZUq0XXyRaCStt7GTUqHgcM8aiCuagUPguxcfeV7r7J3TcD9xbz3Gn9LJpZbWAg8Hhxx1TGe1jMd0paPn9KCmUU1T/eByxw99uKOaZldBxm1p3wPq+ppPh2MLPGBbcJDZIfFzlsEnBW1AupB7CuoJhaiYr9dZbO96+ISUBBb46zgWeTHDMF6GNmzaLqkT7RtliZWV/gSsKqhRuKOSaVz0KcMSa2U51YzHOXukJjzI4CPnH3vGQ7K+M9LOE7JT2fv7ha1KvrBehJKJ7NBWZHl2OBYcCw6JjhwDxCT4r/AIdUYnzto+edE8VwVbQ9MT4DxhJ6fXwE5Fbye9iQ8CXfJGFbWt8/QoJaAWwk/Po6H2gOvAYsiq53io7NBf6R8NjzgMXR5dxKim0xoS654DN4d3Ts7sDkkj4Llfj+PRx9vuYSvuB2KxpjdP9YQo+bJXHFmCy+aPuDBZ+7hGMr9T0s4TslLZ8/TXMhIiKFVH0kIiKFlBRERKSQkoKIiBRSUhARkUJKCiIiUkhJQSRiZpts6xlcK2zGTjPLTpyhUyRT1U53ACIZ5Ed375ruIETSSSUFkVJE8+nfbGYfRJe9ou1tzey1aMK318ysTbR9VwtrHMyJLodEp6plZvdGc+a/bGYNouMvM7P50XkmpulligBKCiKJGhSpPjotYd937t4duAu4I9p2F2EK8i6ECenGRNvHAG96mNAvhzASFqADMNbdOwFrgZOi7SOAbtF5hsX14kRSoRHNIhEzW+/ujZJsXwYc4e5Lo4nLvnb35ma2mjB1w8Zo+wp3b2Fmq4DW7v5zwjmyCfPed4juXwnUcfcbzOwlYD1hNthnPJoMUCQdVFIQSY0Xc7u4Y5L5OeH2Jra06fUjzEV1ADAzmrlTJC2UFERSc1rC9XvR7XcJs3oCDAHejm6/BlwEYGa1zGzH4k5qZlnAHu4+Ffh/QFNgm9KKSGXRLxKRLRrY1ou3v+TuBd1S65nZ+4QfUoOjbZcB95vZn4BVwLnR9suB8WZ2PqFEcBFhhs5kagGPmFkTwuy1t7v72gp7RSJlpDYFkVJEbQq57r463bGIxE3VRyIiUkglBRERKaSSgoiIFFJSEBGRQkoKIiJSSElBREQKKSmIiEih/w9ts3baqoL6RgAAAABJRU5ErkJggg==\n",
        "text/plain": "<matplotlib.figure.Figure at 0x7f0a5a6a1048>"
       },
       "metadata": {},
       "output_type": "display_data"
      }
     ],
     "persistentId": "4058913a-44a6-4d06-b1e5-d664dbffb22a",
     "text": "plt.clf()   # 清空图片\nacc = history.history['acc']\nepochs = range(1, len(acc) + 1)\nloss = history.history['loss']\nval_loss = history.history['val_loss']\n# \"bo\" 是蓝点\nplt.plot(epochs, loss, 'bo', label='Training loss')\n# \"b\" 是蓝色实线\nplt.plot(epochs, val_loss, 'b', label='Validation loss')\nplt.title('Training and validation loss')\nplt.xlabel('Epochs')\nplt.ylabel('Loss')\nplt.legend()\n\nplt.show()"
    },
    "executionTime": "2020-03-08T11:07:07.372Z"
   },
   {
    "cell": {
     "executionCount": 21,
     "executionEventId": "20a5fcc6-b687-4409-aa04-3c1e3581fd33",
     "hasError": false,
     "id": "540af6e1-848e-4b64-b06e-2c7a673215f1",
     "outputs": [
      {
       "data": {
        "image/png": "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\n",
        "text/plain": "<matplotlib.figure.Figure at 0x7f0a5a6bdcf8>"
       },
       "metadata": {},
       "output_type": "display_data"
      }
     ],
     "persistentId": "6db9a428-6eaa-49a8-b9ad-5c1a4833494f",
     "text": "plt.clf()\nacc_values = history_dict['acc']\nval_acc_values = history_dict['val_acc']\n\nplt.plot(epochs, acc_values, 'bo', label='Training acc')\nplt.plot(epochs, val_acc_values, 'b', label='Validation acc')\nplt.title('Training and validation accuracy')\nplt.xlabel('Epochs')\nplt.ylabel('Accuracy')\nplt.legend()\n\nplt.show()"
    },
    "executionTime": "2020-03-08T11:07:07.835Z"
   },
   {
    "cell": {
     "executionCount": 22,
     "executionEventId": "e5589d18-e7d9-4ee1-b3fd-6efc8921d775",
     "hasError": true,
     "id": "3011d599-805d-4de7-a3f7-b21fe73afb4a",
     "outputs": [
      {
       "ename": "OSError",
       "evalue": "Unable to create file (Unable to open file: name = '/root/demo/text_classification/model.h5', errno = 2, error message = 'no such file or directory', flags = 13, o_flags = 242)",
       "output_type": "error",
       "traceback": [
        "\u001b[0;31m---------------------------------------------------------------------------\u001b[0m",
        "\u001b[0;31mOSError\u001b[0m                                   Traceback (most recent call last)",
        "\u001b[0;32m<ipython-input-22-9a60f04ba042>\u001b[0m in \u001b[0;36m<module>\u001b[0;34m\u001b[0m\n\u001b[1;32m      1\u001b[0m \u001b[0;31m#save model\u001b[0m\u001b[0;34m\u001b[0m\u001b[0;34m\u001b[0m\u001b[0m\n\u001b[0;32m----> 2\u001b[0;31m \u001b[0mmodel\u001b[0m\u001b[0;34m.\u001b[0m\u001b[0msave\u001b[0m\u001b[0;34m(\u001b[0m\u001b[0;34m'/root/demo/text_classification/model.h5'\u001b[0m\u001b[0;34m)\u001b[0m\u001b[0;34m\u001b[0m\u001b[0m\n\u001b[0m",
        "\u001b[0;32m/opt/conda/lib/python3.6/site-packages/tensorflow/python/keras/engine/network.py\u001b[0m in \u001b[0;36msave\u001b[0;34m(self, filepath, overwrite, include_optimizer)\u001b[0m\n\u001b[1;32m   1361\u001b[0m \u001b[0;34m\u001b[0m\u001b[0m\n\u001b[1;32m   1362\u001b[0m     \u001b[0;32mfrom\u001b[0m \u001b[0mtensorflow\u001b[0m\u001b[0;34m.\u001b[0m\u001b[0mpython\u001b[0m\u001b[0;34m.\u001b[0m\u001b[0mkeras\u001b[0m\u001b[0;34m.\u001b[0m\u001b[0mmodels\u001b[0m \u001b[0;32mimport\u001b[0m \u001b[0msave_model\u001b[0m  \u001b[0;31m# pylint: disable=g-import-not-at-top\u001b[0m\u001b[0;34m\u001b[0m\u001b[0m\n\u001b[0;32m-> 1363\u001b[0;31m     \u001b[0msave_model\u001b[0m\u001b[0;34m(\u001b[0m\u001b[0mself\u001b[0m\u001b[0;34m,\u001b[0m \u001b[0mfilepath\u001b[0m\u001b[0;34m,\u001b[0m \u001b[0moverwrite\u001b[0m\u001b[0;34m,\u001b[0m \u001b[0minclude_optimizer\u001b[0m\u001b[0;34m)\u001b[0m\u001b[0;34m\u001b[0m\u001b[0m\n\u001b[0m\u001b[1;32m   1364\u001b[0m \u001b[0;34m\u001b[0m\u001b[0m\n\u001b[1;32m   1365\u001b[0m   \u001b[0;32mdef\u001b[0m \u001b[0msave_weights\u001b[0m\u001b[0;34m(\u001b[0m\u001b[0mself\u001b[0m\u001b[0;34m,\u001b[0m \u001b[0mfilepath\u001b[0m\u001b[0;34m,\u001b[0m \u001b[0moverwrite\u001b[0m\u001b[0;34m=\u001b[0m\u001b[0;32mTrue\u001b[0m\u001b[0;34m,\u001b[0m \u001b[0msave_format\u001b[0m\u001b[0;34m=\u001b[0m\u001b[0;32mNone\u001b[0m\u001b[0;34m)\u001b[0m\u001b[0;34m:\u001b[0m\u001b[0;34m\u001b[0m\u001b[0m\n",
        "\u001b[0;32m/opt/conda/lib/python3.6/site-packages/tensorflow/python/keras/engine/saving.py\u001b[0m in \u001b[0;36msave_model\u001b[0;34m(model, filepath, overwrite, include_optimizer)\u001b[0m\n\u001b[1;32m     87\u001b[0m         \u001b[0;32mreturn\u001b[0m\u001b[0;34m\u001b[0m\u001b[0m\n\u001b[1;32m     88\u001b[0m \u001b[0;34m\u001b[0m\u001b[0m\n\u001b[0;32m---> 89\u001b[0;31m     \u001b[0mf\u001b[0m \u001b[0;34m=\u001b[0m \u001b[0mh5py\u001b[0m\u001b[0;34m.\u001b[0m\u001b[0mFile\u001b[0m\u001b[0;34m(\u001b[0m\u001b[0mfilepath\u001b[0m\u001b[0;34m,\u001b[0m \u001b[0mmode\u001b[0m\u001b[0;34m=\u001b[0m\u001b[0;34m'w'\u001b[0m\u001b[0;34m)\u001b[0m\u001b[0;34m\u001b[0m\u001b[0m\n\u001b[0m\u001b[1;32m     90\u001b[0m     \u001b[0mopened_new_file\u001b[0m \u001b[0;34m=\u001b[0m \u001b[0;32mTrue\u001b[0m\u001b[0;34m\u001b[0m\u001b[0m\n\u001b[1;32m     91\u001b[0m   \u001b[0;32melse\u001b[0m\u001b[0;34m:\u001b[0m\u001b[0;34m\u001b[0m\u001b[0m\n",
        "\u001b[0;32m/opt/conda/lib/python3.6/site-packages/h5py/_hl/files.py\u001b[0m in \u001b[0;36m__init__\u001b[0;34m(self, name, mode, driver, libver, userblock_size, swmr, **kwds)\u001b[0m\n\u001b[1;32m    270\u001b[0m \u001b[0;34m\u001b[0m\u001b[0m\n\u001b[1;32m    271\u001b[0m                 \u001b[0mfapl\u001b[0m \u001b[0;34m=\u001b[0m \u001b[0mmake_fapl\u001b[0m\u001b[0;34m(\u001b[0m\u001b[0mdriver\u001b[0m\u001b[0;34m,\u001b[0m \u001b[0mlibver\u001b[0m\u001b[0;34m,\u001b[0m \u001b[0;34m**\u001b[0m\u001b[0mkwds\u001b[0m\u001b[0;34m)\u001b[0m\u001b[0;34m\u001b[0m\u001b[0m\n\u001b[0;32m--> 272\u001b[0;31m                 \u001b[0mfid\u001b[0m \u001b[0;34m=\u001b[0m \u001b[0mmake_fid\u001b[0m\u001b[0;34m(\u001b[0m\u001b[0mname\u001b[0m\u001b[0;34m,\u001b[0m \u001b[0mmode\u001b[0m\u001b[0;34m,\u001b[0m \u001b[0muserblock_size\u001b[0m\u001b[0;34m,\u001b[0m \u001b[0mfapl\u001b[0m\u001b[0;34m,\u001b[0m \u001b[0mswmr\u001b[0m\u001b[0;34m=\u001b[0m\u001b[0mswmr\u001b[0m\u001b[0;34m)\u001b[0m\u001b[0;34m\u001b[0m\u001b[0m\n\u001b[0m\u001b[1;32m    273\u001b[0m \u001b[0;34m\u001b[0m\u001b[0m\n\u001b[1;32m    274\u001b[0m                 \u001b[0;32mif\u001b[0m \u001b[0mswmr_support\u001b[0m\u001b[0;34m:\u001b[0m\u001b[0;34m\u001b[0m\u001b[0m\n",
        "\u001b[0;32m/opt/conda/lib/python3.6/site-packages/h5py/_hl/files.py\u001b[0m in \u001b[0;36mmake_fid\u001b[0;34m(name, mode, userblock_size, fapl, fcpl, swmr)\u001b[0m\n\u001b[1;32m     96\u001b[0m         \u001b[0mfid\u001b[0m \u001b[0;34m=\u001b[0m \u001b[0mh5f\u001b[0m\u001b[0;34m.\u001b[0m\u001b[0mcreate\u001b[0m\u001b[0;34m(\u001b[0m\u001b[0mname\u001b[0m\u001b[0;34m,\u001b[0m \u001b[0mh5f\u001b[0m\u001b[0;34m.\u001b[0m\u001b[0mACC_EXCL\u001b[0m\u001b[0;34m,\u001b[0m \u001b[0mfapl\u001b[0m\u001b[0;34m=\u001b[0m\u001b[0mfapl\u001b[0m\u001b[0;34m,\u001b[0m \u001b[0mfcpl\u001b[0m\u001b[0;34m=\u001b[0m\u001b[0mfcpl\u001b[0m\u001b[0;34m)\u001b[0m\u001b[0;34m\u001b[0m\u001b[0m\n\u001b[1;32m     97\u001b[0m     \u001b[0;32melif\u001b[0m \u001b[0mmode\u001b[0m \u001b[0;34m==\u001b[0m \u001b[0;34m'w'\u001b[0m\u001b[0;34m:\u001b[0m\u001b[0;34m\u001b[0m\u001b[0m\n\u001b[0;32m---> 98\u001b[0;31m         \u001b[0mfid\u001b[0m \u001b[0;34m=\u001b[0m \u001b[0mh5f\u001b[0m\u001b[0;34m.\u001b[0m\u001b[0mcreate\u001b[0m\u001b[0;34m(\u001b[0m\u001b[0mname\u001b[0m\u001b[0;34m,\u001b[0m \u001b[0mh5f\u001b[0m\u001b[0;34m.\u001b[0m\u001b[0mACC_TRUNC\u001b[0m\u001b[0;34m,\u001b[0m \u001b[0mfapl\u001b[0m\u001b[0;34m=\u001b[0m\u001b[0mfapl\u001b[0m\u001b[0;34m,\u001b[0m \u001b[0mfcpl\u001b[0m\u001b[0;34m=\u001b[0m\u001b[0mfcpl\u001b[0m\u001b[0;34m)\u001b[0m\u001b[0;34m\u001b[0m\u001b[0m\n\u001b[0m\u001b[1;32m     99\u001b[0m     \u001b[0;32melif\u001b[0m \u001b[0mmode\u001b[0m \u001b[0;34m==\u001b[0m \u001b[0;34m'a'\u001b[0m\u001b[0;34m:\u001b[0m\u001b[0;34m\u001b[0m\u001b[0m\n\u001b[1;32m    100\u001b[0m         \u001b[0;31m# Open in append mode (read/write).\u001b[0m\u001b[0;34m\u001b[0m\u001b[0;34m\u001b[0m\u001b[0m\n",
        "\u001b[0;32mh5py/_objects.pyx\u001b[0m in \u001b[0;36mh5py._objects.with_phil.wrapper (/feedstock_root/build_artefacts/recipe_root_1486476471321/work/h5py-2.6.0/h5py/_objects.c:2849)\u001b[0;34m()\u001b[0m\n",
        "\u001b[0;32mh5py/_objects.pyx\u001b[0m in \u001b[0;36mh5py._objects.with_phil.wrapper (/feedstock_root/build_artefacts/recipe_root_1486476471321/work/h5py-2.6.0/h5py/_objects.c:2807)\u001b[0;34m()\u001b[0m\n",
        "\u001b[0;32mh5py/h5f.pyx\u001b[0m in \u001b[0;36mh5py.h5f.create (/feedstock_root/build_artefacts/recipe_root_1486476471321/work/h5py-2.6.0/h5py/h5f.c:2269)\u001b[0;34m()\u001b[0m\n",
        "\u001b[0;31mOSError\u001b[0m: Unable to create file (Unable to open file: name = '/root/demo/text_classification/model.h5', errno = 2, error message = 'no such file or directory', flags = 13, o_flags = 242)"
       ]
      }
     ],
     "persistentId": "bfb55c9b-d581-4473-8f1a-ed571305571d",
     "text": "#save model\nmodel.save('/root/demo/text_classification/model.h5')"
    },
    "executionTime": "2020-03-08T11:07:07.903Z"
   },
   {
    "cell": {
     "executionCount": 23,
     "executionEventId": "16707a17-2903-4ddf-b822-655fc9f24cce",
     "hasError": false,
     "id": "83082e03-1a42-4034-a3d6-0b123f5e5cd5",
     "outputs": [
      {
       "name": "stdout",
       "output_type": "stream",
       "text": "25000/25000 [==============================] - 2s 60us/step\n"
      }
     ],
     "persistentId": "2ff3efab-63ef-4f27-9740-749699b8e5c2",
     "text": "results = model.evaluate(test_data, test_labels)"
    },
    "executionTime": "2020-03-08T11:07:13.831Z"
   },
   {
    "cell": {
     "executionCount": 24,
     "executionEventId": "bc4ec724-95e5-4ec7-827d-c9b6d877af35",
     "hasError": false,
     "id": "d518c5d9-fe98-471f-941e-7faa5f2d6a04",
     "outputs": [
      {
       "name": "stdout",
       "output_type": "stream",
       "text": "[0.30736243354797366, 0.87496]\n"
      }
     ],
     "persistentId": "642da6f5-1e19-4476-bf68-d282d4b1f239",
     "text": "print(results)"
    },
    "executionTime": "2020-03-08T11:07:15.578Z"
   },
   {
    "cell": {
     "executionCount": 25,
     "executionEventId": "535d0ba8-d801-4a54-9b7f-d2780c4e974e",
     "hasError": false,
     "id": "eaa8e7e7-6e2c-4e46-b776-5d13ca90dab4",
     "outputs": [
      {
       "data": {
        "text/plain": "dict_keys(['val_loss', 'val_acc', 'loss', 'acc'])"
       },
       "execution_count": 25,
       "metadata": {},
       "output_type": "execute_result"
      }
     ],
     "persistentId": "de464d8b-e892-4bda-a884-7663a85363bf",
     "text": "history_dict = history.history\nhistory_dict.keys()"
    },
    "executionTime": "2020-03-08T11:07:17.550Z"
   },
   {
    "cell": {
     "executionCount": 26,
     "executionEventId": "481bf6e1-91f2-465f-9cd2-c9904fb95e1d",
     "hasError": false,
     "id": "818955c4-8c67-4e5d-8a1b-3cb7f24b94a7",
     "outputs": [],
     "persistentId": "4bb4dbaa-b2d3-4489-a651-5d6d3e04e654",
     "text": "import matplotlib.pyplot as plt"
    },
    "executionTime": "2020-03-08T11:07:18.959Z"
   },
   {
    "cell": {
     "executionCount": 27,
     "executionEventId": "b765bfd8-7e00-48fb-ba4b-8a0edd3160d6",
     "hasError": false,
     "id": "676051ff-e47a-4202-8738-3758fb5d4e50",
     "outputs": [
      {
       "data": {
        "image/png": "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\n",
        "text/plain": "<matplotlib.figure.Figure at 0x7f0a5bd4abe0>"
       },
       "metadata": {},
       "output_type": "display_data"
      }
     ],
     "persistentId": "4058913a-44a6-4d06-b1e5-d664dbffb22a",
     "text": "plt.clf()   # 清空图片\nacc = history.history['acc']\nepochs = range(1, len(acc) + 1)\nloss = history.history['loss']\nval_loss = history.history['val_loss']\n# \"bo\" 是蓝点\nplt.plot(epochs, loss, 'bo', label='Training loss')\n# \"b\" 是蓝色实线\nplt.plot(epochs, val_loss, 'b', label='Validation loss')\nplt.title('Training and validation loss')\nplt.xlabel('Epochs')\nplt.ylabel('Loss')\nplt.legend()\n\nplt.show()"
    },
    "executionTime": "2020-03-08T11:07:19.783Z"
   },
   {
    "cell": {
     "executionCount": 28,
     "executionEventId": "dce0090f-53bb-4ff6-a51e-7320a57d6588",
     "hasError": false,
     "id": "540af6e1-848e-4b64-b06e-2c7a673215f1",
     "outputs": [
      {
       "data": {
        "image/png": "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\n",
        "text/plain": "<matplotlib.figure.Figure at 0x7f0a5bd655c0>"
       },
       "metadata": {},
       "output_type": "display_data"
      }
     ],
     "persistentId": "6db9a428-6eaa-49a8-b9ad-5c1a4833494f",
     "text": "plt.clf()\nacc_values = history_dict['acc']\nval_acc_values = history_dict['val_acc']\n\nplt.plot(epochs, acc_values, 'bo', label='Training acc')\nplt.plot(epochs, val_acc_values, 'b', label='Validation acc')\nplt.title('Training and validation accuracy')\nplt.xlabel('Epochs')\nplt.ylabel('Accuracy')\nplt.legend()\n\nplt.show()"
    },
    "executionTime": "2020-03-08T11:07:22.483Z"
   },
   {
    "cell": {
     "executionCount": 29,
     "executionEventId": "1ab6d5fa-08fb-4217-85a6-55eb2b4377ab",
     "hasError": false,
     "id": "3011d599-805d-4de7-a3f7-b21fe73afb4a",
     "outputs": [
      {
       "name": "stdout",
       "output_type": "stream",
       "text": "WARNING:tensorflow:TensorFlow optimizers do not make it possible to access optimizer attributes or optimizer state after instantiation. As a result, we cannot save the optimizer as part of the model save file.You will have to compile your model again after loading it. Prefer using a Keras optimizer instead (see keras.io/optimizers).\n"
      }
     ],
     "persistentId": "bfb55c9b-d581-4473-8f1a-ed571305571d",
     "text": "#save model\nmodel.save('/root/text_classifier/model.h5')"
    },
    "executionTime": "2020-03-08T11:07:38.019Z"
   },
   {
    "cell": {
     "executionCount": 30,
     "executionEventId": "8d0163f1-8172-4eee-aed2-d8152346e2c3",
     "hasError": false,
     "id": "d2cc99fb-8176-4197-bc3d-50b32483c88e",
     "outputs": [
      {
       "name": "stdout",
       "output_type": "stream",
       "text": "Info: Config accesskey and secretkey success\n"
      }
     ],
     "persistentId": "9e66bbce-aa28-4fb3-8cb9-ffeb1e5a58fe",
     "text": "!bmlmodel config -a 0c7550ad-5d3c-11ea-9939-fa163e5c4cbd -s 0c84a4f8-5d3c-11ea-9939-fa163e5c4cbd"
    },
    "executionTime": "2020-03-08T11:07:42.589Z"
   },
   {
    "cell": {
     "executionCount": 31,
     "executionEventId": "b5a7b5ff-7781-4d3c-a39c-78cfa1007b57",
     "hasError": false,
     "id": "4499683e-b491-4bed-be38-5e599c983df7",
     "outputs": [
      {
       "name": "stdout",
       "output_type": "stream",
       "text": "\u001b[0A\u001b[0AError: publish model failed, client create publish job: create job failed, [Code: ModelRepoNotFound; Message: model repo[textclassify] does not exist; RequestId: ]\n"
      }
     ],
     "persistentId": "7bd75f4d-2e0d-4d6b-9509-b344a324aaf2",
     "text": "!bmlmodel publish -l /root/text_classifier -p newversion -n textclassify -v 1.0.0.1"
    },
    "executionTime": "2020-03-08T11:07:59.948Z"
   },
   {
    "cell": {
     "executionCount": 32,
     "executionEventId": "f9c5820a-b73b-4f62-8220-e03a3d2c1ca7",
     "hasError": false,
     "id": "5791d97e-854a-4627-a73c-6b91d761ee07",
     "outputs": [
      {
       "name": "stdout",
       "output_type": "stream",
       "text": "\u001b[0A\u001b[0APush model to registry completed, use:1615848244ns \n "
      }
     ],
     "persistentId": "1f79f619-cf19-4463-833e-0d7f47aed82d",
     "text": "!bmlmodel publish -l /root/text_classifier -p newmodel -n textclassify -v 1.0.0.1"
    },
    "executionTime": "2020-03-08T11:09:17.033Z"
   },
   {
    "cell": {
     "executionCount": 33,
     "executionEventId": "7b7ae640-2dbb-46a0-be9d-b5308a2aa8ae",
     "hasError": false,
     "id": "4499683e-b491-4bed-be38-5e599c983df7",
     "outputs": [
      {
       "name": "stdout",
       "output_type": "stream",
       "text": "\u001b[0A\u001b[0AError: publish model failed, client create publish job: create job failed, [Code: ModelRepoAlreadyExists; Message: 模型[textclassify]已经在项目[ve_test_project]中存在，请更改名称后再重新进行创建; RequestId: ]\n"
      }
     ],
     "persistentId": "7bd75f4d-2e0d-4d6b-9509-b344a324aaf2",
     "text": "!bmlmodel publish -l /root/text_classifier -p newmodel -n textclassify -v 1.0.0.2"
    },
    "executionTime": "2020-03-08T11:09:27.690Z"
   },
   {
    "cell": {
     "executionCount": 34,
     "executionEventId": "891a9598-0ecf-41c6-a7cd-47e1d5b7fc42",
     "hasError": false,
     "id": "4499683e-b491-4bed-be38-5e599c983df7",
     "outputs": [
      {
       "name": "stdout",
       "output_type": "stream",
       "text": "\u001b[0A\u001b[0APush model to registry completed, use:1572805735ns \n "
      }
     ],
     "persistentId": "7bd75f4d-2e0d-4d6b-9509-b344a324aaf2",
     "text": "!bmlmodel publish -l /root/text_classifier -p newversion -n textclassify -v 1.0.0.2"
    },
    "executionTime": "2020-03-08T11:09:41.804Z"
   },
   {
    "cell": {
     "executionCount": 35,
     "executionEventId": "fd5344bd-eb59-4def-8137-21a84a41d263",
     "hasError": false,
     "id": "4499683e-b491-4bed-be38-5e599c983df7",
     "outputs": [
      {
       "name": "stdout",
       "output_type": "stream",
       "text": "\u001b[0A\u001b[0APush model to registry completed, use:1785317173ns \n "
      }
     ],
     "persistentId": "7bd75f4d-2e0d-4d6b-9509-b344a324aaf2",
     "text": "!bmlmodel publish -l /root/text_classifier -p newversion -n textclassify -v 1.0.0.3"
    },
    "executionTime": "2020-03-08T11:11:54.340Z"
   },
   {
    "cell": {
     "executionCount": 1,
     "executionEventId": "03b19dbe-3612-4a30-9ffc-67eecc782c5d",
     "hasError": false,
     "id": "44cf78cf-f90c-447d-b392-f762d2584ebd",
     "outputs": [
      {
       "name": "stderr",
       "output_type": "stream",
       "text": "/opt/conda/lib/python3.6/site-packages/tensorflow/python/framework/dtypes.py:523: FutureWarning: Passing (type, 1) or '1type' as a synonym of type is deprecated; in a future version of numpy, it will be understood as (type, (1,)) / '(1,)type'.\n  _np_qint8 = np.dtype([(\"qint8\", np.int8, 1)])\n/opt/conda/lib/python3.6/site-packages/tensorflow/python/framework/dtypes.py:524: FutureWarning: Passing (type, 1) or '1type' as a synonym of type is deprecated; in a future version of numpy, it will be understood as (type, (1,)) / '(1,)type'.\n  _np_quint8 = np.dtype([(\"quint8\", np.uint8, 1)])\n/opt/conda/lib/python3.6/site-packages/tensorflow/python/framework/dtypes.py:525: FutureWarning: Passing (type, 1) or '1type' as a synonym of type is deprecated; in a future version of numpy, it will be understood as (type, (1,)) / '(1,)type'.\n  _np_qint16 = np.dtype([(\"qint16\", np.int16, 1)])\n/opt/conda/lib/python3.6/site-packages/tensorflow/python/framework/dtypes.py:526: FutureWarning: Passing (type, 1) or '1type' as a synonym of type is deprecated; in a future version of numpy, it will be understood as (type, (1,)) / '(1,)type'.\n  _np_quint16 = np.dtype([(\"quint16\", np.uint16, 1)])\n/opt/conda/lib/python3.6/site-packages/tensorflow/python/framework/dtypes.py:527: FutureWarning: Passing (type, 1) or '1type' as a synonym of type is deprecated; in a future version of numpy, it will be understood as (type, (1,)) / '(1,)type'.\n  _np_qint32 = np.dtype([(\"qint32\", np.int32, 1)])\n/opt/conda/lib/python3.6/site-packages/tensorflow/python/framework/dtypes.py:532: FutureWarning: Passing (type, 1) or '1type' as a synonym of type is deprecated; in a future version of numpy, it will be understood as (type, (1,)) / '(1,)type'.\n  np_resource = np.dtype([(\"resource\", np.ubyte, 1)])\n"
      },
      {
       "name": "stdout",
       "output_type": "stream",
       "text": "1.12.2\n"
      }
     ],
     "persistentId": "4adda0dc-e3b2-4cb7-961f-a577c420ac6e",
     "text": "import tensorflow as tf\nfrom tensorflow import keras\n\nimport numpy as np\n\nprint(tf.__version__)"
    },
    "executionTime": "2020-03-08T11:32:55.260Z"
   },
   {
    "cell": {
     "executionCount": 2,
     "executionEventId": "927fa890-44f3-43ec-a0fa-7e33e5d0c58d",
     "hasError": false,
     "id": "6d8690a2-c9f3-4c8a-a7f5-98d76cbe59a2",
     "outputs": [],
     "persistentId": "1c56a15e-e333-4611-9d07-228292c34bf0",
     "text": "imdb = keras.datasets.imdb\nimport numpy as np\n# save np.load\nnp_load_old = np.load\n\n# modify the default parameters of np.load\nnp.load = lambda *a,**k: np_load_old(*a, allow_pickle=True, **k)\n\n# call load_data with allow_pickle implicitly set to true\n(train_data, train_labels), (test_data, test_labels) = imdb.load_data('/root/text_classifier/imdb.npz',num_words=10000)\n\n# restore np.load for future normal usage\nnp.load = np_load_old"
    },
    "executionTime": "2020-03-08T11:33:06.758Z"
   },
   {
    "cell": {
     "executionCount": 3,
     "executionEventId": "fef95be4-9688-48af-9655-0219649a7415",
     "hasError": false,
     "id": "29ee69ee-326b-4515-bb2d-11458914342f",
     "outputs": [
      {
       "name": "stdout",
       "output_type": "stream",
       "text": "Training entries: 25000, labels: 25000\n"
      }
     ],
     "persistentId": "99e0ee4e-eb2b-4697-9a92-6fc65e4274e4",
     "text": "print(\"Training entries: {}, labels: {}\".format(len(train_data), len(train_labels)))"
    },
    "executionTime": "2020-03-08T11:33:14.252Z"
   },
   {
    "cell": {
     "executionCount": 4,
     "executionEventId": "d2f825dd-fecb-4111-b91c-e00229a2da54",
     "hasError": false,
     "id": "fdb7402c-12a9-4fdf-8dee-1083cd4443f5",
     "outputs": [
      {
       "name": "stdout",
       "output_type": "stream",
       "text": "[1, 14, 22, 16, 43, 530, 973, 1622, 1385, 65, 458, 4468, 66, 3941, 4, 173, 36, 256, 5, 25, 100, 43, 838, 112, 50, 670, 2, 9, 35, 480, 284, 5, 150, 4, 172, 112, 167, 2, 336, 385, 39, 4, 172, 4536, 1111, 17, 546, 38, 13, 447, 4, 192, 50, 16, 6, 147, 2025, 19, 14, 22, 4, 1920, 4613, 469, 4, 22, 71, 87, 12, 16, 43, 530, 38, 76, 15, 13, 1247, 4, 22, 17, 515, 17, 12, 16, 626, 18, 2, 5, 62, 386, 12, 8, 316, 8, 106, 5, 4, 2223, 5244, 16, 480, 66, 3785, 33, 4, 130, 12, 16, 38, 619, 5, 25, 124, 51, 36, 135, 48, 25, 1415, 33, 6, 22, 12, 215, 28, 77, 52, 5, 14, 407, 16, 82, 2, 8, 4, 107, 117, 5952, 15, 256, 4, 2, 7, 3766, 5, 723, 36, 71, 43, 530, 476, 26, 400, 317, 46, 7, 4, 2, 1029, 13, 104, 88, 4, 381, 15, 297, 98, 32, 2071, 56, 26, 141, 6, 194, 7486, 18, 4, 226, 22, 21, 134, 476, 26, 480, 5, 144, 30, 5535, 18, 51, 36, 28, 224, 92, 25, 104, 4, 226, 65, 16, 38, 1334, 88, 12, 16, 283, 5, 16, 4472, 113, 103, 32, 15, 16, 5345, 19, 178, 32]\n"
      }
     ],
     "persistentId": "5976aeeb-f06b-40ea-84dc-c7b91e1dd6be",
     "text": "print(train_data[0])"
    },
    "executionTime": "2020-03-08T11:33:16.959Z"
   },
   {
    "cell": {
     "executionCount": 5,
     "executionEventId": "223474a1-f34d-4451-bc79-36f0250df645",
     "hasError": false,
     "id": "f6ccfba0-954e-4fbb-9385-38118e849344",
     "outputs": [
      {
       "data": {
        "text/plain": "(218, 189)"
       },
       "execution_count": 5,
       "metadata": {},
       "output_type": "execute_result"
      }
     ],
     "persistentId": "80838f58-2bda-446f-9b3f-9126c06f2ac8",
     "text": "len(train_data[0]), len(train_data[1])"
    },
    "executionTime": "2020-03-08T11:33:21.662Z"
   },
   {
    "cell": {
     "executionCount": 6,
     "executionEventId": "dec72c7f-ea39-4f99-b79b-7766d5a50424",
     "hasError": false,
     "id": "fac877d1-3d0f-46f8-affc-cb9f5344077c",
     "outputs": [],
     "persistentId": "2a6b7118-8609-4de1-a039-b1ac824784db",
     "text": "# （词，序号）字典\nword_index = imdb.get_word_index('/root/text_classifier/imdb_word_index.json')\n# 加入几种占位符\nword_index = {k: (v + 3) for k, v in word_index.items()} \nword_index[\"<PAD>\"] = 0    # 填充\nword_index[\"<START>\"] = 1  # 样本起点\nword_index[\"<UNK>\"] = 2    # 未知词\nword_index[\"<UNUSED>\"] = 3 # 停用词\n# 翻转键值\nreverse_word_index = dict([(value, key) for (key, value) in word_index.items()])\n# 定义文本解析函数\ndef decode_review(text):\n    return ' '.join([reverse_word_index.get(i, '?') for i in text])"
    },
    "executionTime": "2020-03-08T11:33:28.576Z"
   },
   {
    "cell": {
     "executionCount": 7,
     "executionEventId": "69fe39ac-fb5f-4d61-ae6d-109c131a7ac3",
     "hasError": false,
     "id": "5ad51274-6b37-44da-9e25-607bf94459dd",
     "outputs": [
      {
       "data": {
        "text/plain": "\"<START> this film was just brilliant casting location scenery story direction everyone's really suited the part they played and you could just imagine being there robert <UNK> is an amazing actor and now the same being director <UNK> father came from the same scottish island as myself so i loved the fact there was a real connection with this film the witty remarks throughout the film were great it was just brilliant so much that i bought the film as soon as it was released for <UNK> and would recommend it to everyone to watch and the fly fishing was amazing really cried at the end it was so sad and you know what they say if you cry at a film it must have been good and this definitely was also <UNK> to the two little boy's that played the <UNK> of norman and paul they were just brilliant children are often left out of the <UNK> list i think because the stars that play them all grown up are such a big profile for the whole film but these children are amazing and should be praised for what they have done don't you think the whole story was so lovely because it was true and was someone's life after all that was shared with us all\""
       },
       "execution_count": 7,
       "metadata": {},
       "output_type": "execute_result"
      }
     ],
     "persistentId": "bd5575a4-0e69-4908-90c9-d6b862b42195",
     "text": "decode_review(train_data[0])"
    },
    "executionTime": "2020-03-08T11:33:31.907Z"
   },
   {
    "cell": {
     "executionCount": 8,
     "executionEventId": "774a61b3-a340-41ed-8bf2-4f503a381982",
     "hasError": false,
     "id": "b62a51e5-f242-43f7-9da5-606130a321bd",
     "outputs": [],
     "persistentId": "9c7a04fa-6e40-4740-9209-bf1c43d19898",
     "text": "train_data = keras.preprocessing.sequence.pad_sequences(train_data,\n                                                        value=word_index[\"<PAD>\"],\n                                                        padding='post',\n                                                        maxlen=256)\n\ntest_data = keras.preprocessing.sequence.pad_sequences(test_data,\n                                                       value=word_index[\"<PAD>\"],\n                                                       padding='post',\n                                                       maxlen=256)"
    },
    "executionTime": "2020-03-08T11:33:38.406Z"
   },
   {
    "cell": {
     "executionCount": 9,
     "executionEventId": "d404eb77-a2e7-4dca-ac34-8c2bfd60a96b",
     "hasError": false,
     "id": "f4976dbe-80e9-4747-a9cc-cc704fbc5780",
     "outputs": [
      {
       "data": {
        "text/plain": "(256, 256)"
       },
       "execution_count": 9,
       "metadata": {},
       "output_type": "execute_result"
      }
     ],
     "persistentId": "1e8d826f-a53b-431d-a3b0-af0b05921b99",
     "text": "len(train_data[0]), len(train_data[1])"
    },
    "executionTime": "2020-03-08T11:33:46.413Z"
   },
   {
    "cell": {
     "executionCount": 10,
     "executionEventId": "2f495896-00b3-41ef-8078-1fdf4089ddee",
     "hasError": false,
     "id": "2cbadcb1-b522-4109-aeca-52483eb836cf",
     "outputs": [
      {
       "name": "stdout",
       "output_type": "stream",
       "text": "[   1   14   22   16   43  530  973 1622 1385   65  458 4468   66 3941\n    4  173   36  256    5   25  100   43  838  112   50  670    2    9\n   35  480  284    5  150    4  172  112  167    2  336  385   39    4\n  172 4536 1111   17  546   38   13  447    4  192   50   16    6  147\n 2025   19   14   22    4 1920 4613  469    4   22   71   87   12   16\n   43  530   38   76   15   13 1247    4   22   17  515   17   12   16\n  626   18    2    5   62  386   12    8  316    8  106    5    4 2223\n 5244   16  480   66 3785   33    4  130   12   16   38  619    5   25\n  124   51   36  135   48   25 1415   33    6   22   12  215   28   77\n   52    5   14  407   16   82    2    8    4  107  117 5952   15  256\n    4    2    7 3766    5  723   36   71   43  530  476   26  400  317\n   46    7    4    2 1029   13  104   88    4  381   15  297   98   32\n 2071   56   26  141    6  194 7486   18    4  226   22   21  134  476\n   26  480    5  144   30 5535   18   51   36   28  224   92   25  104\n    4  226   65   16   38 1334   88   12   16  283    5   16 4472  113\n  103   32   15   16 5345   19  178   32    0    0    0    0    0    0\n    0    0    0    0    0    0    0    0    0    0    0    0    0    0\n    0    0    0    0    0    0    0    0    0    0    0    0    0    0\n    0    0    0    0]\n"
      }
     ],
     "persistentId": "242c4f83-9b40-4489-8e8f-a01cab87933d",
     "text": "print(train_data[0])"
    },
    "executionTime": "2020-03-08T11:33:49.539Z"
   },
   {
    "cell": {
     "executionCount": 11,
     "executionEventId": "9c25fcb8-4b67-4580-a0ae-9e2a0f9e0d80",
     "hasError": true,
     "id": "dd4fef6d-de18-4b20-a926-25a8e4fdc966",
     "outputs": [
      {
       "ename": "NameError",
       "evalue": "name 'model' is not defined",
       "output_type": "error",
       "traceback": [
        "\u001b[0;31m---------------------------------------------------------------------------\u001b[0m",
        "\u001b[0;31mNameError\u001b[0m                                 Traceback (most recent call last)",
        "\u001b[0;32m<ipython-input-11-5abf59e2f315>\u001b[0m in \u001b[0;36m<module>\u001b[0;34m\u001b[0m\n\u001b[1;32m      1\u001b[0m \u001b[0;31m#save model\u001b[0m\u001b[0;34m\u001b[0m\u001b[0;34m\u001b[0m\u001b[0m\n\u001b[0;32m----> 2\u001b[0;31m \u001b[0mmodel\u001b[0m\u001b[0;34m.\u001b[0m\u001b[0msave\u001b[0m\u001b[0;34m(\u001b[0m\u001b[0;34m'/root/text_classifier/model.h6'\u001b[0m\u001b[0;34m)\u001b[0m\u001b[0;34m\u001b[0m\u001b[0m\n\u001b[0m",
        "\u001b[0;31mNameError\u001b[0m: name 'model' is not defined"
       ]
      }
     ],
     "persistentId": "bfb55c9b-d581-4473-8f1a-ed571305571d",
     "text": "#save model\nmodel.save('/root/text_classifier/model.h6')"
    },
    "executionTime": "2020-03-08T14:55:34.215Z"
   },
   {
    "cell": {
     "executionCount": 12,
     "executionEventId": "514a613e-5cf4-473b-8ff8-5cc42d902727",
     "hasError": true,
     "id": "dd4fef6d-de18-4b20-a926-25a8e4fdc966",
     "outputs": [
      {
       "ename": "NameError",
       "evalue": "name 'model' is not defined",
       "output_type": "error",
       "traceback": [
        "\u001b[0;31m---------------------------------------------------------------------------\u001b[0m",
        "\u001b[0;31mNameError\u001b[0m                                 Traceback (most recent call last)",
        "\u001b[0;32m<ipython-input-12-b2fc6d1bbfea>\u001b[0m in \u001b[0;36m<module>\u001b[0;34m\u001b[0m\n\u001b[1;32m      1\u001b[0m \u001b[0;31m#save model\u001b[0m\u001b[0;34m\u001b[0m\u001b[0;34m\u001b[0m\u001b[0m\n\u001b[0;32m----> 2\u001b[0;31m \u001b[0mmodel\u001b[0m\u001b[0;34m.\u001b[0m\u001b[0msave\u001b[0m\u001b[0;34m(\u001b[0m\u001b[0;34m'/root/text_classifier/model.h5'\u001b[0m\u001b[0;34m)\u001b[0m\u001b[0;34m\u001b[0m\u001b[0m\n\u001b[0m",
        "\u001b[0;31mNameError\u001b[0m: name 'model' is not defined"
       ]
      }
     ],
     "persistentId": "bfb55c9b-d581-4473-8f1a-ed571305571d",
     "text": "#save model\nmodel.save('/root/text_classifier/model.h5')"
    },
    "executionTime": "2020-03-08T14:55:58.824Z"
   },
   {
    "cell": {
     "executionCount": 13,
     "executionEventId": "a9948f69-813b-4314-8867-0aa9d8544fb8",
     "hasError": false,
     "id": "d64d77fc-b1f6-492a-8ca3-54337ecb0453",
     "outputs": [
      {
       "name": "stdout",
       "output_type": "stream",
       "text": "1.12.2\n"
      }
     ],
     "persistentId": "4adda0dc-e3b2-4cb7-961f-a577c420ac6e",
     "text": "import tensorflow as tf\nfrom tensorflow import keras\n\nimport numpy as np\n\nprint(tf.__version__)"
    },
    "executionTime": "2020-03-08T14:56:12.579Z"
   },
   {
    "cell": {
     "executionCount": 14,
     "executionEventId": "9eebe860-b05b-4349-85ae-04c5d84234c6",
     "hasError": false,
     "id": "a6e31066-c199-412c-83ad-2982a66f1e9a",
     "outputs": [],
     "persistentId": "1c56a15e-e333-4611-9d07-228292c34bf0",
     "text": "imdb = keras.datasets.imdb\nimport numpy as np\n# save np.load\nnp_load_old = np.load\n\n# modify the default parameters of np.load\nnp.load = lambda *a,**k: np_load_old(*a, allow_pickle=True, **k)\n\n# call load_data with allow_pickle implicitly set to true\n(train_data, train_labels), (test_data, test_labels) = imdb.load_data('/root/text_classifier/imdb.npz',num_words=10000)\n\n# restore np.load for future normal usage\nnp.load = np_load_old"
    },
    "executionTime": "2020-03-08T14:56:25.272Z"
   },
   {
    "cell": {
     "executionCount": 15,
     "executionEventId": "1b21ea95-943f-454a-97db-73f7c0e2146f",
     "hasError": false,
     "id": "b62139f3-f39d-4442-baa2-6bc9ecdaea4c",
     "outputs": [
      {
       "name": "stdout",
       "output_type": "stream",
       "text": "Training entries: 25000, labels: 25000\n"
      }
     ],
     "persistentId": "99e0ee4e-eb2b-4697-9a92-6fc65e4274e4",
     "text": "print(\"Training entries: {}, labels: {}\".format(len(train_data), len(train_labels)))"
    },
    "executionTime": "2020-03-08T14:56:28.102Z"
   },
   {
    "cell": {
     "executionCount": 16,
     "executionEventId": "91649ad3-a2e1-49e0-bfd3-e3365fcbdbeb",
     "hasError": false,
     "id": "358848ed-3514-499a-ab34-94d50a591a08",
     "outputs": [
      {
       "name": "stdout",
       "output_type": "stream",
       "text": "[1, 14, 22, 16, 43, 530, 973, 1622, 1385, 65, 458, 4468, 66, 3941, 4, 173, 36, 256, 5, 25, 100, 43, 838, 112, 50, 670, 2, 9, 35, 480, 284, 5, 150, 4, 172, 112, 167, 2, 336, 385, 39, 4, 172, 4536, 1111, 17, 546, 38, 13, 447, 4, 192, 50, 16, 6, 147, 2025, 19, 14, 22, 4, 1920, 4613, 469, 4, 22, 71, 87, 12, 16, 43, 530, 38, 76, 15, 13, 1247, 4, 22, 17, 515, 17, 12, 16, 626, 18, 2, 5, 62, 386, 12, 8, 316, 8, 106, 5, 4, 2223, 5244, 16, 480, 66, 3785, 33, 4, 130, 12, 16, 38, 619, 5, 25, 124, 51, 36, 135, 48, 25, 1415, 33, 6, 22, 12, 215, 28, 77, 52, 5, 14, 407, 16, 82, 2, 8, 4, 107, 117, 5952, 15, 256, 4, 2, 7, 3766, 5, 723, 36, 71, 43, 530, 476, 26, 400, 317, 46, 7, 4, 2, 1029, 13, 104, 88, 4, 381, 15, 297, 98, 32, 2071, 56, 26, 141, 6, 194, 7486, 18, 4, 226, 22, 21, 134, 476, 26, 480, 5, 144, 30, 5535, 18, 51, 36, 28, 224, 92, 25, 104, 4, 226, 65, 16, 38, 1334, 88, 12, 16, 283, 5, 16, 4472, 113, 103, 32, 15, 16, 5345, 19, 178, 32]\n"
      }
     ],
     "persistentId": "5976aeeb-f06b-40ea-84dc-c7b91e1dd6be",
     "text": "print(train_data[0])"
    },
    "executionTime": "2020-03-08T14:56:30.542Z"
   },
   {
    "cell": {
     "executionCount": 17,
     "executionEventId": "24be512f-3c50-4971-9795-8a9fdbf13f0c",
     "hasError": false,
     "id": "8130631a-cb38-4e7d-a7cf-49eb60f9815d",
     "outputs": [
      {
       "data": {
        "text/plain": "(218, 189)"
       },
       "execution_count": 17,
       "metadata": {},
       "output_type": "execute_result"
      }
     ],
     "persistentId": "80838f58-2bda-446f-9b3f-9126c06f2ac8",
     "text": "len(train_data[0]), len(train_data[1])"
    },
    "executionTime": "2020-03-08T14:56:32.703Z"
   },
   {
    "cell": {
     "executionCount": 18,
     "executionEventId": "26ca61d2-7215-4ef8-a19c-de2d165351b9",
     "hasError": false,
     "id": "46914070-c9d0-4b34-9f3c-efe1a613c13e",
     "outputs": [],
     "persistentId": "2a6b7118-8609-4de1-a039-b1ac824784db",
     "text": "# （词，序号）字典\nword_index = imdb.get_word_index('/root/text_classifier/imdb_word_index.json')\n# 加入几种占位符\nword_index = {k: (v + 3) for k, v in word_index.items()} \nword_index[\"<PAD>\"] = 0    # 填充\nword_index[\"<START>\"] = 1  # 样本起点\nword_index[\"<UNK>\"] = 2    # 未知词\nword_index[\"<UNUSED>\"] = 3 # 停用词\n# 翻转键值\nreverse_word_index = dict([(value, key) for (key, value) in word_index.items()])\n# 定义文本解析函数\ndef decode_review(text):\n    return ' '.join([reverse_word_index.get(i, '?') for i in text])"
    },
    "executionTime": "2020-03-08T14:56:37.479Z"
   },
   {
    "cell": {
     "executionCount": 19,
     "executionEventId": "a63729e1-9636-416a-913c-452c9b6c0e56",
     "hasError": false,
     "id": "48641bc5-ae80-463d-9efd-1ae109674a87",
     "outputs": [
      {
       "data": {
        "text/plain": "\"<START> this film was just brilliant casting location scenery story direction everyone's really suited the part they played and you could just imagine being there robert <UNK> is an amazing actor and now the same being director <UNK> father came from the same scottish island as myself so i loved the fact there was a real connection with this film the witty remarks throughout the film were great it was just brilliant so much that i bought the film as soon as it was released for <UNK> and would recommend it to everyone to watch and the fly fishing was amazing really cried at the end it was so sad and you know what they say if you cry at a film it must have been good and this definitely was also <UNK> to the two little boy's that played the <UNK> of norman and paul they were just brilliant children are often left out of the <UNK> list i think because the stars that play them all grown up are such a big profile for the whole film but these children are amazing and should be praised for what they have done don't you think the whole story was so lovely because it was true and was someone's life after all that was shared with us all\""
       },
       "execution_count": 19,
       "metadata": {},
       "output_type": "execute_result"
      }
     ],
     "persistentId": "bd5575a4-0e69-4908-90c9-d6b862b42195",
     "text": "decode_review(train_data[0])"
    },
    "executionTime": "2020-03-08T14:56:40.603Z"
   },
   {
    "cell": {
     "executionCount": 20,
     "executionEventId": "8ad79eb4-dc24-41b4-b01d-dd79ebc67b46",
     "hasError": false,
     "id": "48ba3c5f-4208-43aa-8c07-37c21250fe99",
     "outputs": [],
     "persistentId": "9c7a04fa-6e40-4740-9209-bf1c43d19898",
     "text": "train_data = keras.preprocessing.sequence.pad_sequences(train_data,\n                                                        value=word_index[\"<PAD>\"],\n                                                        padding='post',\n                                                        maxlen=256)\n\ntest_data = keras.preprocessing.sequence.pad_sequences(test_data,\n                                                       value=word_index[\"<PAD>\"],\n                                                       padding='post',\n                                                       maxlen=256)"
    },
    "executionTime": "2020-03-08T14:56:46.776Z"
   },
   {
    "cell": {
     "executionCount": 21,
     "executionEventId": "e9b01c50-0108-48e6-bf38-4e9a66768aed",
     "hasError": false,
     "id": "a795b72f-0981-4e8e-a845-4a2c9f5e6cb7",
     "outputs": [
      {
       "data": {
        "text/plain": "(256, 256)"
       },
       "execution_count": 21,
       "metadata": {},
       "output_type": "execute_result"
      }
     ],
     "persistentId": "1e8d826f-a53b-431d-a3b0-af0b05921b99",
     "text": "len(train_data[0]), len(train_data[1])"
    },
    "executionTime": "2020-03-08T14:56:49.534Z"
   },
   {
    "cell": {
     "executionCount": 22,
     "executionEventId": "981d50f8-b6a5-4285-926e-6d13a8510b63",
     "hasError": false,
     "id": "7c86326f-689a-470c-8433-805c4f54e0de",
     "outputs": [
      {
       "name": "stdout",
       "output_type": "stream",
       "text": "[   1   14   22   16   43  530  973 1622 1385   65  458 4468   66 3941\n    4  173   36  256    5   25  100   43  838  112   50  670    2    9\n   35  480  284    5  150    4  172  112  167    2  336  385   39    4\n  172 4536 1111   17  546   38   13  447    4  192   50   16    6  147\n 2025   19   14   22    4 1920 4613  469    4   22   71   87   12   16\n   43  530   38   76   15   13 1247    4   22   17  515   17   12   16\n  626   18    2    5   62  386   12    8  316    8  106    5    4 2223\n 5244   16  480   66 3785   33    4  130   12   16   38  619    5   25\n  124   51   36  135   48   25 1415   33    6   22   12  215   28   77\n   52    5   14  407   16   82    2    8    4  107  117 5952   15  256\n    4    2    7 3766    5  723   36   71   43  530  476   26  400  317\n   46    7    4    2 1029   13  104   88    4  381   15  297   98   32\n 2071   56   26  141    6  194 7486   18    4  226   22   21  134  476\n   26  480    5  144   30 5535   18   51   36   28  224   92   25  104\n    4  226   65   16   38 1334   88   12   16  283    5   16 4472  113\n  103   32   15   16 5345   19  178   32    0    0    0    0    0    0\n    0    0    0    0    0    0    0    0    0    0    0    0    0    0\n    0    0    0    0    0    0    0    0    0    0    0    0    0    0\n    0    0    0    0]\n"
      }
     ],
     "persistentId": "242c4f83-9b40-4489-8e8f-a01cab87933d",
     "text": "print(train_data[0])"
    },
    "executionTime": "2020-03-08T14:56:52.847Z"
   },
   {
    "cell": {
     "executionCount": 23,
     "executionEventId": "496f0121-26e0-4e0a-8ea5-5523bb49ca4a",
     "hasError": false,
     "id": "24e5aae8-f22d-4435-9721-eb17f7093316",
     "outputs": [
      {
       "name": "stdout",
       "output_type": "stream",
       "text": "_________________________________________________________________\nLayer (type)                 Output Shape              Param #   \n=================================================================\nembedding (Embedding)        (None, None, 16)          160000    \n_________________________________________________________________\nglobal_average_pooling1d (Gl (None, 16)                0         \n_________________________________________________________________\ndense (Dense)                (None, 16)                272       \n_________________________________________________________________\ndense_1 (Dense)              (None, 1)                 17        \n=================================================================\nTotal params: 160,289\nTrainable params: 160,289\nNon-trainable params: 0\n_________________________________________________________________\n"
      }
     ],
     "persistentId": "c7fec4f6-1256-4136-a94b-ba92fc8afd13",
     "text": "# 输入尺寸为影评词典尺寸即\nvocab_size = 10000\n\nmodel = keras.models.Sequential()\nmodel.add(keras.layers.Embedding(vocab_size, 16))\nmodel.add(keras.layers.GlobalAveragePooling1D())\nmodel.add(keras.layers.Dense(16, activation=tf.nn.relu))\nmodel.add(keras.layers.Dense(1, activation=tf.nn.sigmoid))\n\nmodel.summary()"
    },
    "executionTime": "2020-03-08T14:56:56.305Z"
   },
   {
    "cell": {
     "executionCount": 24,
     "executionEventId": "f6b15c95-83bf-4ec5-8d1c-150e027ca0c3",
     "hasError": false,
     "id": "6ef6dedd-4f8e-4e26-8d03-970bad6c7fc2",
     "outputs": [],
     "persistentId": "73ea031f-e06e-48f0-a0ea-d8ae3f9a9909",
     "text": "model.compile(optimizer=tf.train.AdamOptimizer(),\n              loss='binary_crossentropy',\n              metrics=['accuracy'])"
    },
    "executionTime": "2020-03-08T14:56:59.964Z"
   },
   {
    "cell": {
     "executionCount": 25,
     "executionEventId": "3895cdce-c549-4bb7-a2fe-91771a31bcd1",
     "hasError": false,
     "id": "e682a8c7-51bc-4f6e-9824-8bbb4c07b06d",
     "outputs": [],
     "persistentId": "547f72fd-f7f9-4d00-a0ad-827d9576ff59",
     "text": "x_val = train_data[:10000]\npartial_x_train = train_data[10000:]\n\ny_val = train_labels[:10000]\npartial_y_train = train_labels[10000:]"
    },
    "executionTime": "2020-03-08T14:57:03.084Z"
   },
   {
    "cell": {
     "executionCount": 26,
     "executionEventId": "e9020934-e82f-4165-8fdb-768a4c585f3e",
     "hasError": true,
     "id": "64f9cf0b-ff7e-4bbe-927e-c5a107d76822",
     "outputs": [
      {
       "name": "stdout",
       "output_type": "stream",
       "text": "Train on 15000 samples, validate on 10000 samples\nEpoch 1/20\n"
      },
      {
       "ename": "InternalError",
       "evalue": "Blas GEMM launch failed : a.shape=(512, 16), b.shape=(16, 16), m=512, n=16, k=16\n\t [[{{node dense/MatMul}} = MatMul[T=DT_FLOAT, transpose_a=false, transpose_b=false, _device=\"/job:localhost/replica:0/task:0/device:GPU:0\"](global_average_pooling1d/Mean, dense/MatMul/ReadVariableOp)]]\n\t [[{{node loss/dense_1_loss/broadcast_weights/assert_broadcastable/is_valid_shape/has_valid_nonscalar_shape/has_invalid_dims/concat/_63}} = _Recv[client_terminated=false, recv_device=\"/job:localhost/replica:0/task:0/device:CPU:0\", send_device=\"/job:localhost/replica:0/task:0/device:GPU:0\", send_device_incarnation=1, tensor_name=\"edge_180_l...ims/concat\", tensor_type=DT_INT32, _device=\"/job:localhost/replica:0/task:0/device:CPU:0\"]()]]",
       "output_type": "error",
       "traceback": [
        "\u001b[0;31m---------------------------------------------------------------------------\u001b[0m",
        "\u001b[0;31mInternalError\u001b[0m                             Traceback (most recent call last)",
        "\u001b[0;32m<ipython-input-26-37a66bb39506>\u001b[0m in \u001b[0;36m<module>\u001b[0;34m\u001b[0m\n\u001b[1;32m      4\u001b[0m                     \u001b[0mbatch_size\u001b[0m\u001b[0;34m=\u001b[0m\u001b[0;36m512\u001b[0m\u001b[0;34m,\u001b[0m\u001b[0;34m\u001b[0m\u001b[0m\n\u001b[1;32m      5\u001b[0m                     \u001b[0mvalidation_data\u001b[0m\u001b[0;34m=\u001b[0m\u001b[0;34m(\u001b[0m\u001b[0mx_val\u001b[0m\u001b[0;34m,\u001b[0m \u001b[0my_val\u001b[0m\u001b[0;34m)\u001b[0m\u001b[0;34m,\u001b[0m\u001b[0;34m\u001b[0m\u001b[0m\n\u001b[0;32m----> 6\u001b[0;31m                     verbose=1)\n\u001b[0m",
        "\u001b[0;32m/opt/conda/lib/python3.6/site-packages/tensorflow/python/keras/engine/training.py\u001b[0m in \u001b[0;36mfit\u001b[0;34m(self, x, y, batch_size, epochs, verbose, callbacks, validation_split, validation_data, shuffle, class_weight, sample_weight, initial_epoch, steps_per_epoch, validation_steps, max_queue_size, workers, use_multiprocessing, **kwargs)\u001b[0m\n\u001b[1;32m   1637\u001b[0m           \u001b[0minitial_epoch\u001b[0m\u001b[0;34m=\u001b[0m\u001b[0minitial_epoch\u001b[0m\u001b[0;34m,\u001b[0m\u001b[0;34m\u001b[0m\u001b[0m\n\u001b[1;32m   1638\u001b[0m           \u001b[0msteps_per_epoch\u001b[0m\u001b[0;34m=\u001b[0m\u001b[0msteps_per_epoch\u001b[0m\u001b[0;34m,\u001b[0m\u001b[0;34m\u001b[0m\u001b[0m\n\u001b[0;32m-> 1639\u001b[0;31m           validation_steps=validation_steps)\n\u001b[0m\u001b[1;32m   1640\u001b[0m \u001b[0;34m\u001b[0m\u001b[0m\n\u001b[1;32m   1641\u001b[0m   def evaluate(self,\n",
        "\u001b[0;32m/opt/conda/lib/python3.6/site-packages/tensorflow/python/keras/engine/training_arrays.py\u001b[0m in \u001b[0;36mfit_loop\u001b[0;34m(model, inputs, targets, sample_weights, batch_size, epochs, verbose, callbacks, val_inputs, val_targets, val_sample_weights, shuffle, initial_epoch, steps_per_epoch, validation_steps)\u001b[0m\n\u001b[1;32m    213\u001b[0m           \u001b[0mins_batch\u001b[0m\u001b[0;34m[\u001b[0m\u001b[0mi\u001b[0m\u001b[0;34m]\u001b[0m \u001b[0;34m=\u001b[0m \u001b[0mins_batch\u001b[0m\u001b[0;34m[\u001b[0m\u001b[0mi\u001b[0m\u001b[0;34m]\u001b[0m\u001b[0;34m.\u001b[0m\u001b[0mtoarray\u001b[0m\u001b[0;34m(\u001b[0m\u001b[0;34m)\u001b[0m\u001b[0;34m\u001b[0m\u001b[0m\n\u001b[1;32m    214\u001b[0m \u001b[0;34m\u001b[0m\u001b[0m\n\u001b[0;32m--> 215\u001b[0;31m         \u001b[0mouts\u001b[0m \u001b[0;34m=\u001b[0m \u001b[0mf\u001b[0m\u001b[0;34m(\u001b[0m\u001b[0mins_batch\u001b[0m\u001b[0;34m)\u001b[0m\u001b[0;34m\u001b[0m\u001b[0m\n\u001b[0m\u001b[1;32m    216\u001b[0m         \u001b[0;32mif\u001b[0m \u001b[0;32mnot\u001b[0m \u001b[0misinstance\u001b[0m\u001b[0;34m(\u001b[0m\u001b[0mouts\u001b[0m\u001b[0;34m,\u001b[0m \u001b[0mlist\u001b[0m\u001b[0;34m)\u001b[0m\u001b[0;34m:\u001b[0m\u001b[0;34m\u001b[0m\u001b[0m\n\u001b[1;32m    217\u001b[0m           \u001b[0mouts\u001b[0m \u001b[0;34m=\u001b[0m \u001b[0;34m[\u001b[0m\u001b[0mouts\u001b[0m\u001b[0;34m]\u001b[0m\u001b[0;34m\u001b[0m\u001b[0m\n",
        "\u001b[0;32m/opt/conda/lib/python3.6/site-packages/tensorflow/python/keras/backend.py\u001b[0m in \u001b[0;36m__call__\u001b[0;34m(self, inputs)\u001b[0m\n\u001b[1;32m   2984\u001b[0m \u001b[0;34m\u001b[0m\u001b[0m\n\u001b[1;32m   2985\u001b[0m     fetched = self._callable_fn(*array_vals,\n\u001b[0;32m-> 2986\u001b[0;31m                                 run_metadata=self.run_metadata)\n\u001b[0m\u001b[1;32m   2987\u001b[0m     \u001b[0mself\u001b[0m\u001b[0;34m.\u001b[0m\u001b[0m_call_fetch_callbacks\u001b[0m\u001b[0;34m(\u001b[0m\u001b[0mfetched\u001b[0m\u001b[0;34m[\u001b[0m\u001b[0;34m-\u001b[0m\u001b[0mlen\u001b[0m\u001b[0;34m(\u001b[0m\u001b[0mself\u001b[0m\u001b[0;34m.\u001b[0m\u001b[0m_fetches\u001b[0m\u001b[0;34m)\u001b[0m\u001b[0;34m:\u001b[0m\u001b[0;34m]\u001b[0m\u001b[0;34m)\u001b[0m\u001b[0;34m\u001b[0m\u001b[0m\n\u001b[1;32m   2988\u001b[0m     \u001b[0;32mreturn\u001b[0m \u001b[0mfetched\u001b[0m\u001b[0;34m[\u001b[0m\u001b[0;34m:\u001b[0m\u001b[0mlen\u001b[0m\u001b[0;34m(\u001b[0m\u001b[0mself\u001b[0m\u001b[0;34m.\u001b[0m\u001b[0moutputs\u001b[0m\u001b[0;34m)\u001b[0m\u001b[0;34m]\u001b[0m\u001b[0;34m\u001b[0m\u001b[0m\n",
        "\u001b[0;32m/opt/conda/lib/python3.6/site-packages/tensorflow/python/client/session.py\u001b[0m in \u001b[0;36m__call__\u001b[0;34m(self, *args, **kwargs)\u001b[0m\n\u001b[1;32m   1437\u001b[0m           ret = tf_session.TF_SessionRunCallable(\n\u001b[1;32m   1438\u001b[0m               \u001b[0mself\u001b[0m\u001b[0;34m.\u001b[0m\u001b[0m_session\u001b[0m\u001b[0;34m.\u001b[0m\u001b[0m_session\u001b[0m\u001b[0;34m,\u001b[0m \u001b[0mself\u001b[0m\u001b[0;34m.\u001b[0m\u001b[0m_handle\u001b[0m\u001b[0;34m,\u001b[0m \u001b[0margs\u001b[0m\u001b[0;34m,\u001b[0m \u001b[0mstatus\u001b[0m\u001b[0;34m,\u001b[0m\u001b[0;34m\u001b[0m\u001b[0m\n\u001b[0;32m-> 1439\u001b[0;31m               run_metadata_ptr)\n\u001b[0m\u001b[1;32m   1440\u001b[0m         \u001b[0;32mif\u001b[0m \u001b[0mrun_metadata\u001b[0m\u001b[0;34m:\u001b[0m\u001b[0;34m\u001b[0m\u001b[0m\n\u001b[1;32m   1441\u001b[0m           \u001b[0mproto_data\u001b[0m \u001b[0;34m=\u001b[0m \u001b[0mtf_session\u001b[0m\u001b[0;34m.\u001b[0m\u001b[0mTF_GetBuffer\u001b[0m\u001b[0;34m(\u001b[0m\u001b[0mrun_metadata_ptr\u001b[0m\u001b[0;34m)\u001b[0m\u001b[0;34m\u001b[0m\u001b[0m\n",
        "\u001b[0;32m/opt/conda/lib/python3.6/site-packages/tensorflow/python/framework/errors_impl.py\u001b[0m in \u001b[0;36m__exit__\u001b[0;34m(self, type_arg, value_arg, traceback_arg)\u001b[0m\n\u001b[1;32m    526\u001b[0m             \u001b[0;32mNone\u001b[0m\u001b[0;34m,\u001b[0m \u001b[0;32mNone\u001b[0m\u001b[0;34m,\u001b[0m\u001b[0;34m\u001b[0m\u001b[0m\n\u001b[1;32m    527\u001b[0m             \u001b[0mcompat\u001b[0m\u001b[0;34m.\u001b[0m\u001b[0mas_text\u001b[0m\u001b[0;34m(\u001b[0m\u001b[0mc_api\u001b[0m\u001b[0;34m.\u001b[0m\u001b[0mTF_Message\u001b[0m\u001b[0;34m(\u001b[0m\u001b[0mself\u001b[0m\u001b[0;34m.\u001b[0m\u001b[0mstatus\u001b[0m\u001b[0;34m.\u001b[0m\u001b[0mstatus\u001b[0m\u001b[0;34m)\u001b[0m\u001b[0;34m)\u001b[0m\u001b[0;34m,\u001b[0m\u001b[0;34m\u001b[0m\u001b[0m\n\u001b[0;32m--> 528\u001b[0;31m             c_api.TF_GetCode(self.status.status))\n\u001b[0m\u001b[1;32m    529\u001b[0m     \u001b[0;31m# Delete the underlying status object from memory otherwise it stays alive\u001b[0m\u001b[0;34m\u001b[0m\u001b[0;34m\u001b[0m\u001b[0m\n\u001b[1;32m    530\u001b[0m     \u001b[0;31m# as there is a reference to status from this from the traceback due to\u001b[0m\u001b[0;34m\u001b[0m\u001b[0;34m\u001b[0m\u001b[0m\n",
        "\u001b[0;31mInternalError\u001b[0m: Blas GEMM launch failed : a.shape=(512, 16), b.shape=(16, 16), m=512, n=16, k=16\n\t [[{{node dense/MatMul}} = MatMul[T=DT_FLOAT, transpose_a=false, transpose_b=false, _device=\"/job:localhost/replica:0/task:0/device:GPU:0\"](global_average_pooling1d/Mean, dense/MatMul/ReadVariableOp)]]\n\t [[{{node loss/dense_1_loss/broadcast_weights/assert_broadcastable/is_valid_shape/has_valid_nonscalar_shape/has_invalid_dims/concat/_63}} = _Recv[client_terminated=false, recv_device=\"/job:localhost/replica:0/task:0/device:CPU:0\", send_device=\"/job:localhost/replica:0/task:0/device:GPU:0\", send_device_incarnation=1, tensor_name=\"edge_180_l...ims/concat\", tensor_type=DT_INT32, _device=\"/job:localhost/replica:0/task:0/device:CPU:0\"]()]]"
       ]
      }
     ],
     "persistentId": "18b36dfe-87de-4d6c-b20b-a941517e209b",
     "text": "history = model.fit(partial_x_train,\n                    partial_y_train,\n                    epochs=20,\n                    batch_size=512,\n                    validation_data=(x_val, y_val),\n                    verbose=1)"
    },
    "executionTime": "2020-03-08T14:57:08.873Z"
   },
   {
    "cell": {
     "executionCount": 1,
     "executionEventId": "e546d340-c07f-43e7-a485-1aaa2e43d4fb",
     "hasError": true,
     "id": "64f9cf0b-ff7e-4bbe-927e-c5a107d76822",
     "outputs": [
      {
       "ename": "NameError",
       "evalue": "name 'model' is not defined",
       "output_type": "error",
       "traceback": [
        "\u001b[0;31m---------------------------------------------------------------------------\u001b[0m",
        "\u001b[0;31mNameError\u001b[0m                                 Traceback (most recent call last)",
        "\u001b[0;32m<ipython-input-1-9860e41ea5ee>\u001b[0m in \u001b[0;36m<module>\u001b[0;34m\u001b[0m\n\u001b[0;32m----> 1\u001b[0;31m history = model.fit(partial_x_train,\n\u001b[0m\u001b[1;32m      2\u001b[0m                     \u001b[0mpartial_y_train\u001b[0m\u001b[0;34m,\u001b[0m\u001b[0;34m\u001b[0m\u001b[0m\n\u001b[1;32m      3\u001b[0m                     \u001b[0mepochs\u001b[0m\u001b[0;34m=\u001b[0m\u001b[0;36m20\u001b[0m\u001b[0;34m,\u001b[0m\u001b[0;34m\u001b[0m\u001b[0m\n\u001b[1;32m      4\u001b[0m                     \u001b[0mbatch_size\u001b[0m\u001b[0;34m=\u001b[0m\u001b[0;36m512\u001b[0m\u001b[0;34m,\u001b[0m\u001b[0;34m\u001b[0m\u001b[0m\n\u001b[1;32m      5\u001b[0m                     \u001b[0mvalidation_data\u001b[0m\u001b[0;34m=\u001b[0m\u001b[0;34m(\u001b[0m\u001b[0mx_val\u001b[0m\u001b[0;34m,\u001b[0m \u001b[0my_val\u001b[0m\u001b[0;34m)\u001b[0m\u001b[0;34m,\u001b[0m\u001b[0;34m\u001b[0m\u001b[0m\n",
        "\u001b[0;31mNameError\u001b[0m: name 'model' is not defined"
       ]
      }
     ],
     "persistentId": "18b36dfe-87de-4d6c-b20b-a941517e209b",
     "text": "history = model.fit(partial_x_train,\n                    partial_y_train,\n                    epochs=20,\n                    batch_size=512,\n                    validation_data=(x_val, y_val),\n                    verbose=2)"
    },
    "executionTime": "2020-03-08T14:58:42.663Z"
   },
   {
    "cell": {
     "executionCount": 2,
     "executionEventId": "5c6ef555-1d6a-426c-99f9-9e0e0cef31c2",
     "hasError": true,
     "id": "7c86326f-689a-470c-8433-805c4f54e0de",
     "outputs": [
      {
       "ename": "NameError",
       "evalue": "name 'train_data' is not defined",
       "output_type": "error",
       "traceback": [
        "\u001b[0;31m---------------------------------------------------------------------------\u001b[0m",
        "\u001b[0;31mNameError\u001b[0m                                 Traceback (most recent call last)",
        "\u001b[0;32m<ipython-input-2-950dec5b2e00>\u001b[0m in \u001b[0;36m<module>\u001b[0;34m\u001b[0m\n\u001b[0;32m----> 1\u001b[0;31m \u001b[0mprint\u001b[0m\u001b[0;34m(\u001b[0m\u001b[0mtrain_data\u001b[0m\u001b[0;34m[\u001b[0m\u001b[0;36m0\u001b[0m\u001b[0;34m]\u001b[0m\u001b[0;34m)\u001b[0m\u001b[0;34m\u001b[0m\u001b[0m\n\u001b[0m",
        "\u001b[0;31mNameError\u001b[0m: name 'train_data' is not defined"
       ]
      }
     ],
     "persistentId": "242c4f83-9b40-4489-8e8f-a01cab87933d",
     "text": "print(train_data[0])"
    },
    "executionTime": "2020-03-08T14:58:58.460Z"
   },
   {
    "cell": {
     "executionCount": 3,
     "executionEventId": "dc9845d4-04bc-422e-9b0f-93cd150dcd2a",
     "hasError": false,
     "id": "d64d77fc-b1f6-492a-8ca3-54337ecb0453",
     "outputs": [
      {
       "name": "stderr",
       "output_type": "stream",
       "text": "/opt/conda/lib/python3.6/site-packages/tensorflow/python/framework/dtypes.py:523: FutureWarning: Passing (type, 1) or '1type' as a synonym of type is deprecated; in a future version of numpy, it will be understood as (type, (1,)) / '(1,)type'.\n  _np_qint8 = np.dtype([(\"qint8\", np.int8, 1)])\n/opt/conda/lib/python3.6/site-packages/tensorflow/python/framework/dtypes.py:524: FutureWarning: Passing (type, 1) or '1type' as a synonym of type is deprecated; in a future version of numpy, it will be understood as (type, (1,)) / '(1,)type'.\n  _np_quint8 = np.dtype([(\"quint8\", np.uint8, 1)])\n/opt/conda/lib/python3.6/site-packages/tensorflow/python/framework/dtypes.py:525: FutureWarning: Passing (type, 1) or '1type' as a synonym of type is deprecated; in a future version of numpy, it will be understood as (type, (1,)) / '(1,)type'.\n  _np_qint16 = np.dtype([(\"qint16\", np.int16, 1)])\n/opt/conda/lib/python3.6/site-packages/tensorflow/python/framework/dtypes.py:526: FutureWarning: Passing (type, 1) or '1type' as a synonym of type is deprecated; in a future version of numpy, it will be understood as (type, (1,)) / '(1,)type'.\n  _np_quint16 = np.dtype([(\"quint16\", np.uint16, 1)])\n/opt/conda/lib/python3.6/site-packages/tensorflow/python/framework/dtypes.py:527: FutureWarning: Passing (type, 1) or '1type' as a synonym of type is deprecated; in a future version of numpy, it will be understood as (type, (1,)) / '(1,)type'.\n  _np_qint32 = np.dtype([(\"qint32\", np.int32, 1)])\n/opt/conda/lib/python3.6/site-packages/tensorflow/python/framework/dtypes.py:532: FutureWarning: Passing (type, 1) or '1type' as a synonym of type is deprecated; in a future version of numpy, it will be understood as (type, (1,)) / '(1,)type'.\n  np_resource = np.dtype([(\"resource\", np.ubyte, 1)])\n"
      },
      {
       "name": "stdout",
       "output_type": "stream",
       "text": "1.12.2\n"
      }
     ],
     "persistentId": "4adda0dc-e3b2-4cb7-961f-a577c420ac6e",
     "text": "import tensorflow as tf\nfrom tensorflow import keras\n\nimport numpy as np\n\nprint(tf.__version__)"
    },
    "executionTime": "2020-03-08T14:59:05.941Z"
   },
   {
    "cell": {
     "executionCount": 4,
     "executionEventId": "923965b5-bd8f-403a-b0ad-ac624e90e822",
     "hasError": false,
     "id": "a6e31066-c199-412c-83ad-2982a66f1e9a",
     "outputs": [],
     "persistentId": "1c56a15e-e333-4611-9d07-228292c34bf0",
     "text": "imdb = keras.datasets.imdb\nimport numpy as np\n# save np.load\nnp_load_old = np.load\n\n# modify the default parameters of np.load\nnp.load = lambda *a,**k: np_load_old(*a, allow_pickle=True, **k)\n\n# call load_data with allow_pickle implicitly set to true\n(train_data, train_labels), (test_data, test_labels) = imdb.load_data('/root/text_classifier/imdb.npz',num_words=10000)\n\n# restore np.load for future normal usage\nnp.load = np_load_old"
    },
    "executionTime": "2020-03-08T14:59:18.454Z"
   },
   {
    "cell": {
     "executionCount": 5,
     "executionEventId": "37be2be8-b6b3-48ae-980f-b62ddf95fb08",
     "hasError": false,
     "id": "b62139f3-f39d-4442-baa2-6bc9ecdaea4c",
     "outputs": [
      {
       "name": "stdout",
       "output_type": "stream",
       "text": "Training entries: 25000, labels: 25000\n"
      }
     ],
     "persistentId": "99e0ee4e-eb2b-4697-9a92-6fc65e4274e4",
     "text": "print(\"Training entries: {}, labels: {}\".format(len(train_data), len(train_labels)))"
    },
    "executionTime": "2020-03-08T14:59:23.189Z"
   },
   {
    "cell": {
     "executionCount": 6,
     "executionEventId": "eb53fcc0-249e-4088-9462-86f9c183c318",
     "hasError": false,
     "id": "358848ed-3514-499a-ab34-94d50a591a08",
     "outputs": [
      {
       "name": "stdout",
       "output_type": "stream",
       "text": "[1, 14, 22, 16, 43, 530, 973, 1622, 1385, 65, 458, 4468, 66, 3941, 4, 173, 36, 256, 5, 25, 100, 43, 838, 112, 50, 670, 2, 9, 35, 480, 284, 5, 150, 4, 172, 112, 167, 2, 336, 385, 39, 4, 172, 4536, 1111, 17, 546, 38, 13, 447, 4, 192, 50, 16, 6, 147, 2025, 19, 14, 22, 4, 1920, 4613, 469, 4, 22, 71, 87, 12, 16, 43, 530, 38, 76, 15, 13, 1247, 4, 22, 17, 515, 17, 12, 16, 626, 18, 2, 5, 62, 386, 12, 8, 316, 8, 106, 5, 4, 2223, 5244, 16, 480, 66, 3785, 33, 4, 130, 12, 16, 38, 619, 5, 25, 124, 51, 36, 135, 48, 25, 1415, 33, 6, 22, 12, 215, 28, 77, 52, 5, 14, 407, 16, 82, 2, 8, 4, 107, 117, 5952, 15, 256, 4, 2, 7, 3766, 5, 723, 36, 71, 43, 530, 476, 26, 400, 317, 46, 7, 4, 2, 1029, 13, 104, 88, 4, 381, 15, 297, 98, 32, 2071, 56, 26, 141, 6, 194, 7486, 18, 4, 226, 22, 21, 134, 476, 26, 480, 5, 144, 30, 5535, 18, 51, 36, 28, 224, 92, 25, 104, 4, 226, 65, 16, 38, 1334, 88, 12, 16, 283, 5, 16, 4472, 113, 103, 32, 15, 16, 5345, 19, 178, 32]\n"
      }
     ],
     "persistentId": "5976aeeb-f06b-40ea-84dc-c7b91e1dd6be",
     "text": "print(train_data[0])"
    },
    "executionTime": "2020-03-08T14:59:26.910Z"
   },
   {
    "cell": {
     "executionCount": 7,
     "executionEventId": "bc5f8b2a-aa2a-49b2-a60f-edae58307df4",
     "hasError": false,
     "id": "8130631a-cb38-4e7d-a7cf-49eb60f9815d",
     "outputs": [
      {
       "data": {
        "text/plain": "(218, 189)"
       },
       "execution_count": 7,
       "metadata": {},
       "output_type": "execute_result"
      }
     ],
     "persistentId": "80838f58-2bda-446f-9b3f-9126c06f2ac8",
     "text": "len(train_data[0]), len(train_data[1])"
    },
    "executionTime": "2020-03-08T14:59:29.517Z"
   },
   {
    "cell": {
     "executionCount": 8,
     "executionEventId": "37f9cc8c-b918-4139-b3b9-28b03ee927da",
     "hasError": false,
     "id": "46914070-c9d0-4b34-9f3c-efe1a613c13e",
     "outputs": [],
     "persistentId": "2a6b7118-8609-4de1-a039-b1ac824784db",
     "text": "# （词，序号）字典\nword_index = imdb.get_word_index('/root/text_classifier/imdb_word_index.json')\n# 加入几种占位符\nword_index = {k: (v + 3) for k, v in word_index.items()} \nword_index[\"<PAD>\"] = 0    # 填充\nword_index[\"<START>\"] = 1  # 样本起点\nword_index[\"<UNK>\"] = 2    # 未知词\nword_index[\"<UNUSED>\"] = 3 # 停用词\n# 翻转键值\nreverse_word_index = dict([(value, key) for (key, value) in word_index.items()])\n# 定义文本解析函数\ndef decode_review(text):\n    return ' '.join([reverse_word_index.get(i, '?') for i in text])"
    },
    "executionTime": "2020-03-08T14:59:32.997Z"
   },
   {
    "cell": {
     "executionCount": 9,
     "executionEventId": "f123bac4-ecfa-421e-8c6f-6be7590c3eac",
     "hasError": false,
     "id": "48641bc5-ae80-463d-9efd-1ae109674a87",
     "outputs": [
      {
       "data": {
        "text/plain": "\"<START> this film was just brilliant casting location scenery story direction everyone's really suited the part they played and you could just imagine being there robert <UNK> is an amazing actor and now the same being director <UNK> father came from the same scottish island as myself so i loved the fact there was a real connection with this film the witty remarks throughout the film were great it was just brilliant so much that i bought the film as soon as it was released for <UNK> and would recommend it to everyone to watch and the fly fishing was amazing really cried at the end it was so sad and you know what they say if you cry at a film it must have been good and this definitely was also <UNK> to the two little boy's that played the <UNK> of norman and paul they were just brilliant children are often left out of the <UNK> list i think because the stars that play them all grown up are such a big profile for the whole film but these children are amazing and should be praised for what they have done don't you think the whole story was so lovely because it was true and was someone's life after all that was shared with us all\""
       },
       "execution_count": 9,
       "metadata": {},
       "output_type": "execute_result"
      }
     ],
     "persistentId": "bd5575a4-0e69-4908-90c9-d6b862b42195",
     "text": "decode_review(train_data[0])"
    },
    "executionTime": "2020-03-08T14:59:35.803Z"
   },
   {
    "cell": {
     "executionCount": 10,
     "executionEventId": "8773d0ee-e8b6-4552-8b5f-6ba93bb0fcfa",
     "hasError": false,
     "id": "48ba3c5f-4208-43aa-8c07-37c21250fe99",
     "outputs": [],
     "persistentId": "9c7a04fa-6e40-4740-9209-bf1c43d19898",
     "text": "train_data = keras.preprocessing.sequence.pad_sequences(train_data,\n                                                        value=word_index[\"<PAD>\"],\n                                                        padding='post',\n                                                        maxlen=256)\n\ntest_data = keras.preprocessing.sequence.pad_sequences(test_data,\n                                                       value=word_index[\"<PAD>\"],\n                                                       padding='post',\n                                                       maxlen=256)"
    },
    "executionTime": "2020-03-08T14:59:43.147Z"
   },
   {
    "cell": {
     "executionCount": 11,
     "executionEventId": "673b7e5f-0a28-4a4e-897e-0a7b2b4ab6f2",
     "hasError": false,
     "id": "a795b72f-0981-4e8e-a845-4a2c9f5e6cb7",
     "outputs": [
      {
       "data": {
        "text/plain": "(256, 256)"
       },
       "execution_count": 11,
       "metadata": {},
       "output_type": "execute_result"
      }
     ],
     "persistentId": "1e8d826f-a53b-431d-a3b0-af0b05921b99",
     "text": "len(train_data[0]), len(train_data[1])"
    },
    "executionTime": "2020-03-08T14:59:45.565Z"
   },
   {
    "cell": {
     "executionCount": 12,
     "executionEventId": "e8d8c92b-d99e-4a22-9060-2f04f400f41b",
     "hasError": false,
     "id": "7c86326f-689a-470c-8433-805c4f54e0de",
     "outputs": [
      {
       "name": "stdout",
       "output_type": "stream",
       "text": "[   1   14   22   16   43  530  973 1622 1385   65  458 4468   66 3941\n    4  173   36  256    5   25  100   43  838  112   50  670    2    9\n   35  480  284    5  150    4  172  112  167    2  336  385   39    4\n  172 4536 1111   17  546   38   13  447    4  192   50   16    6  147\n 2025   19   14   22    4 1920 4613  469    4   22   71   87   12   16\n   43  530   38   76   15   13 1247    4   22   17  515   17   12   16\n  626   18    2    5   62  386   12    8  316    8  106    5    4 2223\n 5244   16  480   66 3785   33    4  130   12   16   38  619    5   25\n  124   51   36  135   48   25 1415   33    6   22   12  215   28   77\n   52    5   14  407   16   82    2    8    4  107  117 5952   15  256\n    4    2    7 3766    5  723   36   71   43  530  476   26  400  317\n   46    7    4    2 1029   13  104   88    4  381   15  297   98   32\n 2071   56   26  141    6  194 7486   18    4  226   22   21  134  476\n   26  480    5  144   30 5535   18   51   36   28  224   92   25  104\n    4  226   65   16   38 1334   88   12   16  283    5   16 4472  113\n  103   32   15   16 5345   19  178   32    0    0    0    0    0    0\n    0    0    0    0    0    0    0    0    0    0    0    0    0    0\n    0    0    0    0    0    0    0    0    0    0    0    0    0    0\n    0    0    0    0]\n"
      }
     ],
     "persistentId": "242c4f83-9b40-4489-8e8f-a01cab87933d",
     "text": "print(train_data[0])"
    },
    "executionTime": "2020-03-08T14:59:48.429Z"
   },
   {
    "cell": {
     "executionCount": 13,
     "executionEventId": "7103f58a-fd8a-47e4-83c3-c8db123e4d6d",
     "hasError": false,
     "id": "24e5aae8-f22d-4435-9721-eb17f7093316",
     "outputs": [
      {
       "name": "stdout",
       "output_type": "stream",
       "text": "_________________________________________________________________\nLayer (type)                 Output Shape              Param #   \n=================================================================\nembedding (Embedding)        (None, None, 16)          160000    \n_________________________________________________________________\nglobal_average_pooling1d (Gl (None, 16)                0         \n_________________________________________________________________\ndense (Dense)                (None, 16)                272       \n_________________________________________________________________\ndense_1 (Dense)              (None, 1)                 17        \n=================================================================\nTotal params: 160,289\nTrainable params: 160,289\nNon-trainable params: 0\n_________________________________________________________________\n"
      }
     ],
     "persistentId": "c7fec4f6-1256-4136-a94b-ba92fc8afd13",
     "text": "# 输入尺寸为影评词典尺寸即\nvocab_size = 10000\n\nmodel = keras.models.Sequential()\nmodel.add(keras.layers.Embedding(vocab_size, 16))\nmodel.add(keras.layers.GlobalAveragePooling1D())\nmodel.add(keras.layers.Dense(16, activation=tf.nn.relu))\nmodel.add(keras.layers.Dense(1, activation=tf.nn.sigmoid))\n\nmodel.summary()"
    },
    "executionTime": "2020-03-08T14:59:52.276Z"
   },
   {
    "cell": {
     "executionCount": 14,
     "executionEventId": "7cde33b5-5180-464b-b1f5-49617c59c357",
     "hasError": false,
     "id": "6ef6dedd-4f8e-4e26-8d03-970bad6c7fc2",
     "outputs": [],
     "persistentId": "73ea031f-e06e-48f0-a0ea-d8ae3f9a9909",
     "text": "model.compile(optimizer=tf.train.AdamOptimizer(),\n              loss='binary_crossentropy',\n              metrics=['accuracy'])"
    },
    "executionTime": "2020-03-08T14:59:56.544Z"
   },
   {
    "cell": {
     "executionCount": 15,
     "executionEventId": "3736af55-aa95-459d-8700-26f5f50e926d",
     "hasError": false,
     "id": "e682a8c7-51bc-4f6e-9824-8bbb4c07b06d",
     "outputs": [],
     "persistentId": "547f72fd-f7f9-4d00-a0ad-827d9576ff59",
     "text": "x_val = train_data[:10000]\npartial_x_train = train_data[10000:]\n\ny_val = train_labels[:10000]\npartial_y_train = train_labels[10000:]"
    },
    "executionTime": "2020-03-08T14:59:59.981Z"
   },
   {
    "cell": {
     "executionCount": 1,
     "executionEventId": "e4fbac99-8fa6-43fb-9455-4ce5f149902f",
     "hasError": false,
     "id": "d64d77fc-b1f6-492a-8ca3-54337ecb0453",
     "outputs": [
      {
       "name": "stderr",
       "output_type": "stream",
       "text": "/opt/conda/lib/python3.6/site-packages/tensorflow/python/framework/dtypes.py:523: FutureWarning: Passing (type, 1) or '1type' as a synonym of type is deprecated; in a future version of numpy, it will be understood as (type, (1,)) / '(1,)type'.\n  _np_qint8 = np.dtype([(\"qint8\", np.int8, 1)])\n/opt/conda/lib/python3.6/site-packages/tensorflow/python/framework/dtypes.py:524: FutureWarning: Passing (type, 1) or '1type' as a synonym of type is deprecated; in a future version of numpy, it will be understood as (type, (1,)) / '(1,)type'.\n  _np_quint8 = np.dtype([(\"quint8\", np.uint8, 1)])\n/opt/conda/lib/python3.6/site-packages/tensorflow/python/framework/dtypes.py:525: FutureWarning: Passing (type, 1) or '1type' as a synonym of type is deprecated; in a future version of numpy, it will be understood as (type, (1,)) / '(1,)type'.\n  _np_qint16 = np.dtype([(\"qint16\", np.int16, 1)])\n/opt/conda/lib/python3.6/site-packages/tensorflow/python/framework/dtypes.py:526: FutureWarning: Passing (type, 1) or '1type' as a synonym of type is deprecated; in a future version of numpy, it will be understood as (type, (1,)) / '(1,)type'.\n  _np_quint16 = np.dtype([(\"quint16\", np.uint16, 1)])\n/opt/conda/lib/python3.6/site-packages/tensorflow/python/framework/dtypes.py:527: FutureWarning: Passing (type, 1) or '1type' as a synonym of type is deprecated; in a future version of numpy, it will be understood as (type, (1,)) / '(1,)type'.\n  _np_qint32 = np.dtype([(\"qint32\", np.int32, 1)])\n/opt/conda/lib/python3.6/site-packages/tensorflow/python/framework/dtypes.py:532: FutureWarning: Passing (type, 1) or '1type' as a synonym of type is deprecated; in a future version of numpy, it will be understood as (type, (1,)) / '(1,)type'.\n  np_resource = np.dtype([(\"resource\", np.ubyte, 1)])\n"
      },
      {
       "name": "stdout",
       "output_type": "stream",
       "text": "1.12.2\n"
      }
     ],
     "persistentId": "4adda0dc-e3b2-4cb7-961f-a577c420ac6e",
     "text": "import tensorflow as tf\nfrom tensorflow import keras\n\nimport numpy as np\n\nprint(tf.__version__)"
    },
    "executionTime": "2020-03-08T15:01:04.915Z"
   },
   {
    "cell": {
     "executionCount": 2,
     "executionEventId": "885a0d15-7910-4d0d-b94d-0f389d1cfd60",
     "hasError": false,
     "id": "a6e31066-c199-412c-83ad-2982a66f1e9a",
     "outputs": [],
     "persistentId": "1c56a15e-e333-4611-9d07-228292c34bf0",
     "text": "imdb = keras.datasets.imdb\nimport numpy as np\n# save np.load\nnp_load_old = np.load\n\n# modify the default parameters of np.load\nnp.load = lambda *a,**k: np_load_old(*a, allow_pickle=True, **k)\n\n# call load_data with allow_pickle implicitly set to true\n(train_data, train_labels), (test_data, test_labels) = imdb.load_data('/root/text_classifier/imdb.npz',num_words=10000)\n\n# restore np.load for future normal usage\nnp.load = np_load_old"
    },
    "executionTime": "2020-03-08T15:01:13.656Z"
   },
   {
    "cell": {
     "executionCount": 3,
     "executionEventId": "ec13b569-f200-499f-9995-b7e3cbc678ca",
     "hasError": false,
     "id": "b62139f3-f39d-4442-baa2-6bc9ecdaea4c",
     "outputs": [
      {
       "name": "stdout",
       "output_type": "stream",
       "text": "Training entries: 25000, labels: 25000\n"
      }
     ],
     "persistentId": "99e0ee4e-eb2b-4697-9a92-6fc65e4274e4",
     "text": "print(\"Training entries: {}, labels: {}\".format(len(train_data), len(train_labels)))"
    },
    "executionTime": "2020-03-08T15:01:15.283Z"
   },
   {
    "cell": {
     "executionCount": 4,
     "executionEventId": "787c25b3-6507-4675-8fbe-ca8d57baa1c5",
     "hasError": false,
     "id": "358848ed-3514-499a-ab34-94d50a591a08",
     "outputs": [
      {
       "name": "stdout",
       "output_type": "stream",
       "text": "[1, 14, 22, 16, 43, 530, 973, 1622, 1385, 65, 458, 4468, 66, 3941, 4, 173, 36, 256, 5, 25, 100, 43, 838, 112, 50, 670, 2, 9, 35, 480, 284, 5, 150, 4, 172, 112, 167, 2, 336, 385, 39, 4, 172, 4536, 1111, 17, 546, 38, 13, 447, 4, 192, 50, 16, 6, 147, 2025, 19, 14, 22, 4, 1920, 4613, 469, 4, 22, 71, 87, 12, 16, 43, 530, 38, 76, 15, 13, 1247, 4, 22, 17, 515, 17, 12, 16, 626, 18, 2, 5, 62, 386, 12, 8, 316, 8, 106, 5, 4, 2223, 5244, 16, 480, 66, 3785, 33, 4, 130, 12, 16, 38, 619, 5, 25, 124, 51, 36, 135, 48, 25, 1415, 33, 6, 22, 12, 215, 28, 77, 52, 5, 14, 407, 16, 82, 2, 8, 4, 107, 117, 5952, 15, 256, 4, 2, 7, 3766, 5, 723, 36, 71, 43, 530, 476, 26, 400, 317, 46, 7, 4, 2, 1029, 13, 104, 88, 4, 381, 15, 297, 98, 32, 2071, 56, 26, 141, 6, 194, 7486, 18, 4, 226, 22, 21, 134, 476, 26, 480, 5, 144, 30, 5535, 18, 51, 36, 28, 224, 92, 25, 104, 4, 226, 65, 16, 38, 1334, 88, 12, 16, 283, 5, 16, 4472, 113, 103, 32, 15, 16, 5345, 19, 178, 32]\n"
      }
     ],
     "persistentId": "5976aeeb-f06b-40ea-84dc-c7b91e1dd6be",
     "text": "print(train_data[0])"
    },
    "executionTime": "2020-03-08T15:01:18.066Z"
   },
   {
    "cell": {
     "executionCount": 5,
     "executionEventId": "5115aabf-1ed0-4904-ba29-0d39b619daf7",
     "hasError": false,
     "id": "8130631a-cb38-4e7d-a7cf-49eb60f9815d",
     "outputs": [
      {
       "data": {
        "text/plain": "(218, 189)"
       },
       "execution_count": 5,
       "metadata": {},
       "output_type": "execute_result"
      }
     ],
     "persistentId": "80838f58-2bda-446f-9b3f-9126c06f2ac8",
     "text": "len(train_data[0]), len(train_data[1])"
    },
    "executionTime": "2020-03-08T15:01:20.527Z"
   },
   {
    "cell": {
     "executionCount": 6,
     "executionEventId": "d0df5b1b-aa43-4334-a2cd-b5f397d2a135",
     "hasError": false,
     "id": "46914070-c9d0-4b34-9f3c-efe1a613c13e",
     "outputs": [],
     "persistentId": "2a6b7118-8609-4de1-a039-b1ac824784db",
     "text": "# （词，序号）字典\nword_index = imdb.get_word_index('/root/text_classifier/imdb_word_index.json')\n# 加入几种占位符\nword_index = {k: (v + 3) for k, v in word_index.items()} \nword_index[\"<PAD>\"] = 0    # 填充\nword_index[\"<START>\"] = 1  # 样本起点\nword_index[\"<UNK>\"] = 2    # 未知词\nword_index[\"<UNUSED>\"] = 3 # 停用词\n# 翻转键值\nreverse_word_index = dict([(value, key) for (key, value) in word_index.items()])\n# 定义文本解析函数\ndef decode_review(text):\n    return ' '.join([reverse_word_index.get(i, '?') for i in text])"
    },
    "executionTime": "2020-03-08T15:01:24.121Z"
   },
   {
    "cell": {
     "executionCount": 7,
     "executionEventId": "8913e586-ed9c-46ef-9687-5e0c408389d7",
     "hasError": false,
     "id": "48641bc5-ae80-463d-9efd-1ae109674a87",
     "outputs": [
      {
       "data": {
        "text/plain": "\"<START> this film was just brilliant casting location scenery story direction everyone's really suited the part they played and you could just imagine being there robert <UNK> is an amazing actor and now the same being director <UNK> father came from the same scottish island as myself so i loved the fact there was a real connection with this film the witty remarks throughout the film were great it was just brilliant so much that i bought the film as soon as it was released for <UNK> and would recommend it to everyone to watch and the fly fishing was amazing really cried at the end it was so sad and you know what they say if you cry at a film it must have been good and this definitely was also <UNK> to the two little boy's that played the <UNK> of norman and paul they were just brilliant children are often left out of the <UNK> list i think because the stars that play them all grown up are such a big profile for the whole film but these children are amazing and should be praised for what they have done don't you think the whole story was so lovely because it was true and was someone's life after all that was shared with us all\""
       },
       "execution_count": 7,
       "metadata": {},
       "output_type": "execute_result"
      }
     ],
     "persistentId": "bd5575a4-0e69-4908-90c9-d6b862b42195",
     "text": "decode_review(train_data[0])"
    },
    "executionTime": "2020-03-08T15:01:27.260Z"
   },
   {
    "cell": {
     "executionCount": 8,
     "executionEventId": "2723a840-a21e-4a65-8595-35524bb47774",
     "hasError": false,
     "id": "48ba3c5f-4208-43aa-8c07-37c21250fe99",
     "outputs": [],
     "persistentId": "9c7a04fa-6e40-4740-9209-bf1c43d19898",
     "text": "train_data = keras.preprocessing.sequence.pad_sequences(train_data,\n                                                        value=word_index[\"<PAD>\"],\n                                                        padding='post',\n                                                        maxlen=256)\n\ntest_data = keras.preprocessing.sequence.pad_sequences(test_data,\n                                                       value=word_index[\"<PAD>\"],\n                                                       padding='post',\n                                                       maxlen=256)"
    },
    "executionTime": "2020-03-08T15:01:33.739Z"
   },
   {
    "cell": {
     "executionCount": 9,
     "executionEventId": "0c70382b-d3c4-4f36-af59-04aa4a4f4bf8",
     "hasError": false,
     "id": "a795b72f-0981-4e8e-a845-4a2c9f5e6cb7",
     "outputs": [
      {
       "data": {
        "text/plain": "(256, 256)"
       },
       "execution_count": 9,
       "metadata": {},
       "output_type": "execute_result"
      }
     ],
     "persistentId": "1e8d826f-a53b-431d-a3b0-af0b05921b99",
     "text": "len(train_data[0]), len(train_data[1])"
    },
    "executionTime": "2020-03-08T15:01:35.177Z"
   },
   {
    "cell": {
     "executionCount": 10,
     "executionEventId": "65065069-7372-454e-be78-f040c38a98dc",
     "hasError": false,
     "id": "7c86326f-689a-470c-8433-805c4f54e0de",
     "outputs": [
      {
       "name": "stdout",
       "output_type": "stream",
       "text": "[   1   14   22   16   43  530  973 1622 1385   65  458 4468   66 3941\n    4  173   36  256    5   25  100   43  838  112   50  670    2    9\n   35  480  284    5  150    4  172  112  167    2  336  385   39    4\n  172 4536 1111   17  546   38   13  447    4  192   50   16    6  147\n 2025   19   14   22    4 1920 4613  469    4   22   71   87   12   16\n   43  530   38   76   15   13 1247    4   22   17  515   17   12   16\n  626   18    2    5   62  386   12    8  316    8  106    5    4 2223\n 5244   16  480   66 3785   33    4  130   12   16   38  619    5   25\n  124   51   36  135   48   25 1415   33    6   22   12  215   28   77\n   52    5   14  407   16   82    2    8    4  107  117 5952   15  256\n    4    2    7 3766    5  723   36   71   43  530  476   26  400  317\n   46    7    4    2 1029   13  104   88    4  381   15  297   98   32\n 2071   56   26  141    6  194 7486   18    4  226   22   21  134  476\n   26  480    5  144   30 5535   18   51   36   28  224   92   25  104\n    4  226   65   16   38 1334   88   12   16  283    5   16 4472  113\n  103   32   15   16 5345   19  178   32    0    0    0    0    0    0\n    0    0    0    0    0    0    0    0    0    0    0    0    0    0\n    0    0    0    0    0    0    0    0    0    0    0    0    0    0\n    0    0    0    0]\n"
      }
     ],
     "persistentId": "242c4f83-9b40-4489-8e8f-a01cab87933d",
     "text": "print(train_data[0])"
    },
    "executionTime": "2020-03-08T15:01:37.899Z"
   },
   {
    "cell": {
     "executionCount": 11,
     "executionEventId": "d2a12709-7e4f-40eb-8498-63e9402f0d12",
     "hasError": false,
     "id": "24e5aae8-f22d-4435-9721-eb17f7093316",
     "outputs": [
      {
       "name": "stdout",
       "output_type": "stream",
       "text": "_________________________________________________________________\nLayer (type)                 Output Shape              Param #   \n=================================================================\nembedding (Embedding)        (None, None, 16)          160000    \n_________________________________________________________________\nglobal_average_pooling1d (Gl (None, 16)                0         \n_________________________________________________________________\ndense (Dense)                (None, 16)                272       \n_________________________________________________________________\ndense_1 (Dense)              (None, 1)                 17        \n=================================================================\nTotal params: 160,289\nTrainable params: 160,289\nNon-trainable params: 0\n_________________________________________________________________\n"
      }
     ],
     "persistentId": "c7fec4f6-1256-4136-a94b-ba92fc8afd13",
     "text": "# 输入尺寸为影评词典尺寸即\nvocab_size = 10000\n\nmodel = keras.models.Sequential()\nmodel.add(keras.layers.Embedding(vocab_size, 16))\nmodel.add(keras.layers.GlobalAveragePooling1D())\nmodel.add(keras.layers.Dense(16, activation=tf.nn.relu))\nmodel.add(keras.layers.Dense(1, activation=tf.nn.sigmoid))\n\nmodel.summary()"
    },
    "executionTime": "2020-03-08T15:01:41.342Z"
   },
   {
    "cell": {
     "executionCount": 12,
     "executionEventId": "3916d0ca-968f-454d-be04-3b97f288b3d4",
     "hasError": false,
     "id": "6ef6dedd-4f8e-4e26-8d03-970bad6c7fc2",
     "outputs": [],
     "persistentId": "73ea031f-e06e-48f0-a0ea-d8ae3f9a9909",
     "text": "model.compile(optimizer=tf.train.AdamOptimizer(),\n              loss='binary_crossentropy',\n              metrics=['accuracy'])"
    },
    "executionTime": "2020-03-08T15:01:44.999Z"
   },
   {
    "cell": {
     "executionCount": 13,
     "executionEventId": "17b9fa05-6d5b-42d7-9835-24ce57e09f98",
     "hasError": false,
     "id": "e682a8c7-51bc-4f6e-9824-8bbb4c07b06d",
     "outputs": [],
     "persistentId": "547f72fd-f7f9-4d00-a0ad-827d9576ff59",
     "text": "x_val = train_data[:10000]\npartial_x_train = train_data[10000:]\n\ny_val = train_labels[:10000]\npartial_y_train = train_labels[10000:]"
    },
    "executionTime": "2020-03-08T15:01:47.324Z"
   },
   {
    "cell": {
     "executionCount": 14,
     "executionEventId": "48eb63b7-658e-40dc-a38e-aa39948d5e2f",
     "hasError": true,
     "id": "64f9cf0b-ff7e-4bbe-927e-c5a107d76822",
     "outputs": [
      {
       "name": "stdout",
       "output_type": "stream",
       "text": "Train on 15000 samples, validate on 10000 samples\nEpoch 1/20\n"
      },
      {
       "ename": "InternalError",
       "evalue": "Blas GEMM launch failed : a.shape=(512, 16), b.shape=(16, 16), m=512, n=16, k=16\n\t [[{{node dense/MatMul}} = MatMul[T=DT_FLOAT, transpose_a=false, transpose_b=false, _device=\"/job:localhost/replica:0/task:0/device:GPU:0\"](global_average_pooling1d/Mean, dense/MatMul/ReadVariableOp)]]\n\t [[{{node loss/dense_1_loss/broadcast_weights/assert_broadcastable/is_valid_shape/has_valid_nonscalar_shape/has_invalid_dims/concat/_63}} = _Recv[client_terminated=false, recv_device=\"/job:localhost/replica:0/task:0/device:CPU:0\", send_device=\"/job:localhost/replica:0/task:0/device:GPU:0\", send_device_incarnation=1, tensor_name=\"edge_180_l...ims/concat\", tensor_type=DT_INT32, _device=\"/job:localhost/replica:0/task:0/device:CPU:0\"]()]]",
       "output_type": "error",
       "traceback": [
        "\u001b[0;31m---------------------------------------------------------------------------\u001b[0m",
        "\u001b[0;31mInternalError\u001b[0m                             Traceback (most recent call last)",
        "\u001b[0;32m<ipython-input-14-37a66bb39506>\u001b[0m in \u001b[0;36m<module>\u001b[0;34m\u001b[0m\n\u001b[1;32m      4\u001b[0m                     \u001b[0mbatch_size\u001b[0m\u001b[0;34m=\u001b[0m\u001b[0;36m512\u001b[0m\u001b[0;34m,\u001b[0m\u001b[0;34m\u001b[0m\u001b[0m\n\u001b[1;32m      5\u001b[0m                     \u001b[0mvalidation_data\u001b[0m\u001b[0;34m=\u001b[0m\u001b[0;34m(\u001b[0m\u001b[0mx_val\u001b[0m\u001b[0;34m,\u001b[0m \u001b[0my_val\u001b[0m\u001b[0;34m)\u001b[0m\u001b[0;34m,\u001b[0m\u001b[0;34m\u001b[0m\u001b[0m\n\u001b[0;32m----> 6\u001b[0;31m                     verbose=1)\n\u001b[0m",
        "\u001b[0;32m/opt/conda/lib/python3.6/site-packages/tensorflow/python/keras/engine/training.py\u001b[0m in \u001b[0;36mfit\u001b[0;34m(self, x, y, batch_size, epochs, verbose, callbacks, validation_split, validation_data, shuffle, class_weight, sample_weight, initial_epoch, steps_per_epoch, validation_steps, max_queue_size, workers, use_multiprocessing, **kwargs)\u001b[0m\n\u001b[1;32m   1637\u001b[0m           \u001b[0minitial_epoch\u001b[0m\u001b[0;34m=\u001b[0m\u001b[0minitial_epoch\u001b[0m\u001b[0;34m,\u001b[0m\u001b[0;34m\u001b[0m\u001b[0m\n\u001b[1;32m   1638\u001b[0m           \u001b[0msteps_per_epoch\u001b[0m\u001b[0;34m=\u001b[0m\u001b[0msteps_per_epoch\u001b[0m\u001b[0;34m,\u001b[0m\u001b[0;34m\u001b[0m\u001b[0m\n\u001b[0;32m-> 1639\u001b[0;31m           validation_steps=validation_steps)\n\u001b[0m\u001b[1;32m   1640\u001b[0m \u001b[0;34m\u001b[0m\u001b[0m\n\u001b[1;32m   1641\u001b[0m   def evaluate(self,\n",
        "\u001b[0;32m/opt/conda/lib/python3.6/site-packages/tensorflow/python/keras/engine/training_arrays.py\u001b[0m in \u001b[0;36mfit_loop\u001b[0;34m(model, inputs, targets, sample_weights, batch_size, epochs, verbose, callbacks, val_inputs, val_targets, val_sample_weights, shuffle, initial_epoch, steps_per_epoch, validation_steps)\u001b[0m\n\u001b[1;32m    213\u001b[0m           \u001b[0mins_batch\u001b[0m\u001b[0;34m[\u001b[0m\u001b[0mi\u001b[0m\u001b[0;34m]\u001b[0m \u001b[0;34m=\u001b[0m \u001b[0mins_batch\u001b[0m\u001b[0;34m[\u001b[0m\u001b[0mi\u001b[0m\u001b[0;34m]\u001b[0m\u001b[0;34m.\u001b[0m\u001b[0mtoarray\u001b[0m\u001b[0;34m(\u001b[0m\u001b[0;34m)\u001b[0m\u001b[0;34m\u001b[0m\u001b[0m\n\u001b[1;32m    214\u001b[0m \u001b[0;34m\u001b[0m\u001b[0m\n\u001b[0;32m--> 215\u001b[0;31m         \u001b[0mouts\u001b[0m \u001b[0;34m=\u001b[0m \u001b[0mf\u001b[0m\u001b[0;34m(\u001b[0m\u001b[0mins_batch\u001b[0m\u001b[0;34m)\u001b[0m\u001b[0;34m\u001b[0m\u001b[0m\n\u001b[0m\u001b[1;32m    216\u001b[0m         \u001b[0;32mif\u001b[0m \u001b[0;32mnot\u001b[0m \u001b[0misinstance\u001b[0m\u001b[0;34m(\u001b[0m\u001b[0mouts\u001b[0m\u001b[0;34m,\u001b[0m \u001b[0mlist\u001b[0m\u001b[0;34m)\u001b[0m\u001b[0;34m:\u001b[0m\u001b[0;34m\u001b[0m\u001b[0m\n\u001b[1;32m    217\u001b[0m           \u001b[0mouts\u001b[0m \u001b[0;34m=\u001b[0m \u001b[0;34m[\u001b[0m\u001b[0mouts\u001b[0m\u001b[0;34m]\u001b[0m\u001b[0;34m\u001b[0m\u001b[0m\n",
        "\u001b[0;32m/opt/conda/lib/python3.6/site-packages/tensorflow/python/keras/backend.py\u001b[0m in \u001b[0;36m__call__\u001b[0;34m(self, inputs)\u001b[0m\n\u001b[1;32m   2984\u001b[0m \u001b[0;34m\u001b[0m\u001b[0m\n\u001b[1;32m   2985\u001b[0m     fetched = self._callable_fn(*array_vals,\n\u001b[0;32m-> 2986\u001b[0;31m                                 run_metadata=self.run_metadata)\n\u001b[0m\u001b[1;32m   2987\u001b[0m     \u001b[0mself\u001b[0m\u001b[0;34m.\u001b[0m\u001b[0m_call_fetch_callbacks\u001b[0m\u001b[0;34m(\u001b[0m\u001b[0mfetched\u001b[0m\u001b[0;34m[\u001b[0m\u001b[0;34m-\u001b[0m\u001b[0mlen\u001b[0m\u001b[0;34m(\u001b[0m\u001b[0mself\u001b[0m\u001b[0;34m.\u001b[0m\u001b[0m_fetches\u001b[0m\u001b[0;34m)\u001b[0m\u001b[0;34m:\u001b[0m\u001b[0;34m]\u001b[0m\u001b[0;34m)\u001b[0m\u001b[0;34m\u001b[0m\u001b[0m\n\u001b[1;32m   2988\u001b[0m     \u001b[0;32mreturn\u001b[0m \u001b[0mfetched\u001b[0m\u001b[0;34m[\u001b[0m\u001b[0;34m:\u001b[0m\u001b[0mlen\u001b[0m\u001b[0;34m(\u001b[0m\u001b[0mself\u001b[0m\u001b[0;34m.\u001b[0m\u001b[0moutputs\u001b[0m\u001b[0;34m)\u001b[0m\u001b[0;34m]\u001b[0m\u001b[0;34m\u001b[0m\u001b[0m\n",
        "\u001b[0;32m/opt/conda/lib/python3.6/site-packages/tensorflow/python/client/session.py\u001b[0m in \u001b[0;36m__call__\u001b[0;34m(self, *args, **kwargs)\u001b[0m\n\u001b[1;32m   1437\u001b[0m           ret = tf_session.TF_SessionRunCallable(\n\u001b[1;32m   1438\u001b[0m               \u001b[0mself\u001b[0m\u001b[0;34m.\u001b[0m\u001b[0m_session\u001b[0m\u001b[0;34m.\u001b[0m\u001b[0m_session\u001b[0m\u001b[0;34m,\u001b[0m \u001b[0mself\u001b[0m\u001b[0;34m.\u001b[0m\u001b[0m_handle\u001b[0m\u001b[0;34m,\u001b[0m \u001b[0margs\u001b[0m\u001b[0;34m,\u001b[0m \u001b[0mstatus\u001b[0m\u001b[0;34m,\u001b[0m\u001b[0;34m\u001b[0m\u001b[0m\n\u001b[0;32m-> 1439\u001b[0;31m               run_metadata_ptr)\n\u001b[0m\u001b[1;32m   1440\u001b[0m         \u001b[0;32mif\u001b[0m \u001b[0mrun_metadata\u001b[0m\u001b[0;34m:\u001b[0m\u001b[0;34m\u001b[0m\u001b[0m\n\u001b[1;32m   1441\u001b[0m           \u001b[0mproto_data\u001b[0m \u001b[0;34m=\u001b[0m \u001b[0mtf_session\u001b[0m\u001b[0;34m.\u001b[0m\u001b[0mTF_GetBuffer\u001b[0m\u001b[0;34m(\u001b[0m\u001b[0mrun_metadata_ptr\u001b[0m\u001b[0;34m)\u001b[0m\u001b[0;34m\u001b[0m\u001b[0m\n",
        "\u001b[0;32m/opt/conda/lib/python3.6/site-packages/tensorflow/python/framework/errors_impl.py\u001b[0m in \u001b[0;36m__exit__\u001b[0;34m(self, type_arg, value_arg, traceback_arg)\u001b[0m\n\u001b[1;32m    526\u001b[0m             \u001b[0;32mNone\u001b[0m\u001b[0;34m,\u001b[0m \u001b[0;32mNone\u001b[0m\u001b[0;34m,\u001b[0m\u001b[0;34m\u001b[0m\u001b[0m\n\u001b[1;32m    527\u001b[0m             \u001b[0mcompat\u001b[0m\u001b[0;34m.\u001b[0m\u001b[0mas_text\u001b[0m\u001b[0;34m(\u001b[0m\u001b[0mc_api\u001b[0m\u001b[0;34m.\u001b[0m\u001b[0mTF_Message\u001b[0m\u001b[0;34m(\u001b[0m\u001b[0mself\u001b[0m\u001b[0;34m.\u001b[0m\u001b[0mstatus\u001b[0m\u001b[0;34m.\u001b[0m\u001b[0mstatus\u001b[0m\u001b[0;34m)\u001b[0m\u001b[0;34m)\u001b[0m\u001b[0;34m,\u001b[0m\u001b[0;34m\u001b[0m\u001b[0m\n\u001b[0;32m--> 528\u001b[0;31m             c_api.TF_GetCode(self.status.status))\n\u001b[0m\u001b[1;32m    529\u001b[0m     \u001b[0;31m# Delete the underlying status object from memory otherwise it stays alive\u001b[0m\u001b[0;34m\u001b[0m\u001b[0;34m\u001b[0m\u001b[0m\n\u001b[1;32m    530\u001b[0m     \u001b[0;31m# as there is a reference to status from this from the traceback due to\u001b[0m\u001b[0;34m\u001b[0m\u001b[0;34m\u001b[0m\u001b[0m\n",
        "\u001b[0;31mInternalError\u001b[0m: Blas GEMM launch failed : a.shape=(512, 16), b.shape=(16, 16), m=512, n=16, k=16\n\t [[{{node dense/MatMul}} = MatMul[T=DT_FLOAT, transpose_a=false, transpose_b=false, _device=\"/job:localhost/replica:0/task:0/device:GPU:0\"](global_average_pooling1d/Mean, dense/MatMul/ReadVariableOp)]]\n\t [[{{node loss/dense_1_loss/broadcast_weights/assert_broadcastable/is_valid_shape/has_valid_nonscalar_shape/has_invalid_dims/concat/_63}} = _Recv[client_terminated=false, recv_device=\"/job:localhost/replica:0/task:0/device:CPU:0\", send_device=\"/job:localhost/replica:0/task:0/device:GPU:0\", send_device_incarnation=1, tensor_name=\"edge_180_l...ims/concat\", tensor_type=DT_INT32, _device=\"/job:localhost/replica:0/task:0/device:CPU:0\"]()]]"
       ]
      }
     ],
     "persistentId": "18b36dfe-87de-4d6c-b20b-a941517e209b",
     "text": "history = model.fit(partial_x_train,\n                    partial_y_train,\n                    epochs=20,\n                    batch_size=512,\n                    validation_data=(x_val, y_val),\n                    verbose=1)"
    },
    "executionTime": "2020-03-08T15:01:54.039Z"
   },
   {
    "cell": {
     "executionCount": 1,
     "executionEventId": "51fe3110-72c6-40af-833a-eabf9103b6a0",
     "hasError": true,
     "id": "64f9cf0b-ff7e-4bbe-927e-c5a107d76822",
     "outputs": [
      {
       "ename": "NameError",
       "evalue": "name 'model' is not defined",
       "output_type": "error",
       "traceback": [
        "\u001b[0;31m---------------------------------------------------------------------------\u001b[0m",
        "\u001b[0;31mNameError\u001b[0m                                 Traceback (most recent call last)",
        "\u001b[0;32m<ipython-input-1-37a66bb39506>\u001b[0m in \u001b[0;36m<module>\u001b[0;34m\u001b[0m\n\u001b[0;32m----> 1\u001b[0;31m history = model.fit(partial_x_train,\n\u001b[0m\u001b[1;32m      2\u001b[0m                     \u001b[0mpartial_y_train\u001b[0m\u001b[0;34m,\u001b[0m\u001b[0;34m\u001b[0m\u001b[0m\n\u001b[1;32m      3\u001b[0m                     \u001b[0mepochs\u001b[0m\u001b[0;34m=\u001b[0m\u001b[0;36m20\u001b[0m\u001b[0;34m,\u001b[0m\u001b[0;34m\u001b[0m\u001b[0m\n\u001b[1;32m      4\u001b[0m                     \u001b[0mbatch_size\u001b[0m\u001b[0;34m=\u001b[0m\u001b[0;36m512\u001b[0m\u001b[0;34m,\u001b[0m\u001b[0;34m\u001b[0m\u001b[0m\n\u001b[1;32m      5\u001b[0m                     \u001b[0mvalidation_data\u001b[0m\u001b[0;34m=\u001b[0m\u001b[0;34m(\u001b[0m\u001b[0mx_val\u001b[0m\u001b[0;34m,\u001b[0m \u001b[0my_val\u001b[0m\u001b[0;34m)\u001b[0m\u001b[0;34m,\u001b[0m\u001b[0;34m\u001b[0m\u001b[0m\n",
        "\u001b[0;31mNameError\u001b[0m: name 'model' is not defined"
       ]
      }
     ],
     "persistentId": "18b36dfe-87de-4d6c-b20b-a941517e209b",
     "text": "history = model.fit(partial_x_train,\n                    partial_y_train,\n                    epochs=20,\n                    batch_size=512,\n                    validation_data=(x_val, y_val),\n                    verbose=1)"
    },
    "executionTime": "2020-03-08T15:03:52.390Z"
   },
   {
    "cell": {
     "executionCount": 16,
     "executionEventId": "77cf3e16-ff08-4af4-8ac2-150ec1fb5853",
     "hasError": false,
     "id": "931702de-eb2f-481e-b9fa-f584b54842e3",
     "outputs": [
      {
       "name": "stdout",
       "output_type": "stream",
       "text": "1.12.2\n"
      }
     ],
     "persistentId": "4adda0dc-e3b2-4cb7-961f-a577c420ac6e",
     "text": "import tensorflow as tf\nfrom tensorflow import keras\n\nimport numpy as np\n\nprint(tf.__version__)"
    },
    "executionTime": "2020-03-08T15:15:36.917Z"
   },
   {
    "cell": {
     "executionCount": 17,
     "executionEventId": "afbb0b2b-deb7-4a8d-8cde-185513d426cd",
     "hasError": false,
     "id": "354cf5ab-7173-4e3d-8104-caa3a605ea97",
     "outputs": [],
     "persistentId": "1c56a15e-e333-4611-9d07-228292c34bf0",
     "text": "imdb = keras.datasets.imdb\nimport numpy as np\n# save np.load\nnp_load_old = np.load\n\n# modify the default parameters of np.load\nnp.load = lambda *a,**k: np_load_old(*a, allow_pickle=True, **k)\n\n# call load_data with allow_pickle implicitly set to true\n(train_data, train_labels), (test_data, test_labels) = imdb.load_data('/root/text_classifier/imdb.npz',num_words=10000)\n\n# restore np.load for future normal usage\nnp.load = np_load_old"
    },
    "executionTime": "2020-03-08T15:15:47.115Z"
   },
   {
    "cell": {
     "executionCount": 18,
     "executionEventId": "50d43388-d521-4e41-9b09-d27d0a916d27",
     "hasError": false,
     "id": "5f25bb42-8074-4020-adde-b529e4e59517",
     "outputs": [
      {
       "name": "stdout",
       "output_type": "stream",
       "text": "Training entries: 25000, labels: 25000\n"
      }
     ],
     "persistentId": "99e0ee4e-eb2b-4697-9a92-6fc65e4274e4",
     "text": "print(\"Training entries: {}, labels: {}\".format(len(train_data), len(train_labels)))"
    },
    "executionTime": "2020-03-08T15:15:48.893Z"
   },
   {
    "cell": {
     "executionCount": 19,
     "executionEventId": "097fd8e9-1361-489a-ba93-409484c07018",
     "hasError": false,
     "id": "dc4c9e56-03d8-4849-86f5-e2fe94fbddcb",
     "outputs": [
      {
       "name": "stdout",
       "output_type": "stream",
       "text": "[1, 14, 22, 16, 43, 530, 973, 1622, 1385, 65, 458, 4468, 66, 3941, 4, 173, 36, 256, 5, 25, 100, 43, 838, 112, 50, 670, 2, 9, 35, 480, 284, 5, 150, 4, 172, 112, 167, 2, 336, 385, 39, 4, 172, 4536, 1111, 17, 546, 38, 13, 447, 4, 192, 50, 16, 6, 147, 2025, 19, 14, 22, 4, 1920, 4613, 469, 4, 22, 71, 87, 12, 16, 43, 530, 38, 76, 15, 13, 1247, 4, 22, 17, 515, 17, 12, 16, 626, 18, 2, 5, 62, 386, 12, 8, 316, 8, 106, 5, 4, 2223, 5244, 16, 480, 66, 3785, 33, 4, 130, 12, 16, 38, 619, 5, 25, 124, 51, 36, 135, 48, 25, 1415, 33, 6, 22, 12, 215, 28, 77, 52, 5, 14, 407, 16, 82, 2, 8, 4, 107, 117, 5952, 15, 256, 4, 2, 7, 3766, 5, 723, 36, 71, 43, 530, 476, 26, 400, 317, 46, 7, 4, 2, 1029, 13, 104, 88, 4, 381, 15, 297, 98, 32, 2071, 56, 26, 141, 6, 194, 7486, 18, 4, 226, 22, 21, 134, 476, 26, 480, 5, 144, 30, 5535, 18, 51, 36, 28, 224, 92, 25, 104, 4, 226, 65, 16, 38, 1334, 88, 12, 16, 283, 5, 16, 4472, 113, 103, 32, 15, 16, 5345, 19, 178, 32]\n"
      }
     ],
     "persistentId": "5976aeeb-f06b-40ea-84dc-c7b91e1dd6be",
     "text": "print(train_data[0])"
    },
    "executionTime": "2020-03-08T15:15:52.267Z"
   },
   {
    "cell": {
     "executionCount": 20,
     "executionEventId": "15793e54-923e-4e28-b1db-79e94122b75a",
     "hasError": false,
     "id": "2dde84eb-623c-464f-b26c-beeee6cc7086",
     "outputs": [
      {
       "data": {
        "text/plain": "(218, 189)"
       },
       "execution_count": 20,
       "metadata": {},
       "output_type": "execute_result"
      }
     ],
     "persistentId": "80838f58-2bda-446f-9b3f-9126c06f2ac8",
     "text": "len(train_data[0]), len(train_data[1])"
    },
    "executionTime": "2020-03-08T15:15:54.399Z"
   },
   {
    "cell": {
     "executionCount": 21,
     "executionEventId": "3677e10b-01f4-4996-86dd-62f1234fb979",
     "hasError": false,
     "id": "75dbbab6-5f3f-41f2-ab69-85631c93a239",
     "outputs": [],
     "persistentId": "2a6b7118-8609-4de1-a039-b1ac824784db",
     "text": "# （词，序号）字典\nword_index = imdb.get_word_index('/root/text_classifier/imdb_word_index.json')\n# 加入几种占位符\nword_index = {k: (v + 3) for k, v in word_index.items()} \nword_index[\"<PAD>\"] = 0    # 填充\nword_index[\"<START>\"] = 1  # 样本起点\nword_index[\"<UNK>\"] = 2    # 未知词\nword_index[\"<UNUSED>\"] = 3 # 停用词\n# 翻转键值\nreverse_word_index = dict([(value, key) for (key, value) in word_index.items()])\n# 定义文本解析函数\ndef decode_review(text):\n    return ' '.join([reverse_word_index.get(i, '?') for i in text])"
    },
    "executionTime": "2020-03-08T15:15:58.751Z"
   },
   {
    "cell": {
     "executionCount": 22,
     "executionEventId": "59698659-c663-4448-8a53-1c564cd4a9d4",
     "hasError": false,
     "id": "1bf1573f-23ef-4acb-bfb9-9415ec441618",
     "outputs": [
      {
       "data": {
        "text/plain": "\"<START> this film was just brilliant casting location scenery story direction everyone's really suited the part they played and you could just imagine being there robert <UNK> is an amazing actor and now the same being director <UNK> father came from the same scottish island as myself so i loved the fact there was a real connection with this film the witty remarks throughout the film were great it was just brilliant so much that i bought the film as soon as it was released for <UNK> and would recommend it to everyone to watch and the fly fishing was amazing really cried at the end it was so sad and you know what they say if you cry at a film it must have been good and this definitely was also <UNK> to the two little boy's that played the <UNK> of norman and paul they were just brilliant children are often left out of the <UNK> list i think because the stars that play them all grown up are such a big profile for the whole film but these children are amazing and should be praised for what they have done don't you think the whole story was so lovely because it was true and was someone's life after all that was shared with us all\""
       },
       "execution_count": 22,
       "metadata": {},
       "output_type": "execute_result"
      }
     ],
     "persistentId": "bd5575a4-0e69-4908-90c9-d6b862b42195",
     "text": "decode_review(train_data[0])"
    },
    "executionTime": "2020-03-08T15:16:01.568Z"
   },
   {
    "cell": {
     "executionCount": 23,
     "executionEventId": "c5ef9788-bead-4222-a7b7-053bc1c52218",
     "hasError": false,
     "id": "1bf1573f-23ef-4acb-bfb9-9415ec441618",
     "outputs": [
      {
       "data": {
        "text/plain": "\"<START> this film was just brilliant casting location scenery story direction everyone's really suited the part they played and you could just imagine being there robert <UNK> is an amazing actor and now the same being director <UNK> father came from the same scottish island as myself so i loved the fact there was a real connection with this film the witty remarks throughout the film were great it was just brilliant so much that i bought the film as soon as it was released for <UNK> and would recommend it to everyone to watch and the fly fishing was amazing really cried at the end it was so sad and you know what they say if you cry at a film it must have been good and this definitely was also <UNK> to the two little boy's that played the <UNK> of norman and paul they were just brilliant children are often left out of the <UNK> list i think because the stars that play them all grown up are such a big profile for the whole film but these children are amazing and should be praised for what they have done don't you think the whole story was so lovely because it was true and was someone's life after all that was shared with us all\""
       },
       "execution_count": 23,
       "metadata": {},
       "output_type": "execute_result"
      }
     ],
     "persistentId": "bd5575a4-0e69-4908-90c9-d6b862b42195",
     "text": "decode_review(train_data[0])"
    },
    "executionTime": "2020-03-08T15:16:09.607Z"
   },
   {
    "cell": {
     "executionCount": 24,
     "executionEventId": "30755046-7e16-4531-9ad0-ff3a891a66cc",
     "hasError": false,
     "id": "fb0bf4c9-b9e0-43a3-9e4d-481ece19efea",
     "outputs": [],
     "persistentId": "9c7a04fa-6e40-4740-9209-bf1c43d19898",
     "text": "train_data = keras.preprocessing.sequence.pad_sequences(train_data,\n                                                        value=word_index[\"<PAD>\"],\n                                                        padding='post',\n                                                        maxlen=256)\n\ntest_data = keras.preprocessing.sequence.pad_sequences(test_data,\n                                                       value=word_index[\"<PAD>\"],\n                                                       padding='post',\n                                                       maxlen=256)"
    },
    "executionTime": "2020-03-08T15:16:15.107Z"
   },
   {
    "cell": {
     "executionCount": 25,
     "executionEventId": "0d4ce139-14c6-426b-92a3-87c259e3d338",
     "hasError": false,
     "id": "236da0b9-2cf2-4917-9711-c16632a9b171",
     "outputs": [
      {
       "data": {
        "text/plain": "(256, 256)"
       },
       "execution_count": 25,
       "metadata": {},
       "output_type": "execute_result"
      }
     ],
     "persistentId": "1e8d826f-a53b-431d-a3b0-af0b05921b99",
     "text": "len(train_data[0]), len(train_data[1])"
    },
    "executionTime": "2020-03-08T15:16:18.109Z"
   },
   {
    "cell": {
     "executionCount": 26,
     "executionEventId": "49f7a144-ded6-4ddd-bba2-2a0b646508b5",
     "hasError": false,
     "id": "4fe9a452-869f-4e67-8f35-0b461fb400bc",
     "outputs": [
      {
       "name": "stdout",
       "output_type": "stream",
       "text": "[   1   14   22   16   43  530  973 1622 1385   65  458 4468   66 3941\n    4  173   36  256    5   25  100   43  838  112   50  670    2    9\n   35  480  284    5  150    4  172  112  167    2  336  385   39    4\n  172 4536 1111   17  546   38   13  447    4  192   50   16    6  147\n 2025   19   14   22    4 1920 4613  469    4   22   71   87   12   16\n   43  530   38   76   15   13 1247    4   22   17  515   17   12   16\n  626   18    2    5   62  386   12    8  316    8  106    5    4 2223\n 5244   16  480   66 3785   33    4  130   12   16   38  619    5   25\n  124   51   36  135   48   25 1415   33    6   22   12  215   28   77\n   52    5   14  407   16   82    2    8    4  107  117 5952   15  256\n    4    2    7 3766    5  723   36   71   43  530  476   26  400  317\n   46    7    4    2 1029   13  104   88    4  381   15  297   98   32\n 2071   56   26  141    6  194 7486   18    4  226   22   21  134  476\n   26  480    5  144   30 5535   18   51   36   28  224   92   25  104\n    4  226   65   16   38 1334   88   12   16  283    5   16 4472  113\n  103   32   15   16 5345   19  178   32    0    0    0    0    0    0\n    0    0    0    0    0    0    0    0    0    0    0    0    0    0\n    0    0    0    0    0    0    0    0    0    0    0    0    0    0\n    0    0    0    0]\n"
      }
     ],
     "persistentId": "242c4f83-9b40-4489-8e8f-a01cab87933d",
     "text": "print(train_data[0])"
    },
    "executionTime": "2020-03-08T15:16:21.290Z"
   },
   {
    "cell": {
     "executionCount": 27,
     "executionEventId": "8ad34760-b1a6-4898-a793-7cac0644f50a",
     "hasError": false,
     "id": "92f4fdb4-b0f4-4ea8-95a8-0e71fb905933",
     "outputs": [
      {
       "name": "stdout",
       "output_type": "stream",
       "text": "_________________________________________________________________\nLayer (type)                 Output Shape              Param #   \n=================================================================\nembedding_1 (Embedding)      (None, None, 16)          160000    \n_________________________________________________________________\nglobal_average_pooling1d_1 ( (None, 16)                0         \n_________________________________________________________________\ndense_2 (Dense)              (None, 16)                272       \n_________________________________________________________________\ndense_3 (Dense)              (None, 1)                 17        \n=================================================================\nTotal params: 160,289\nTrainable params: 160,289\nNon-trainable params: 0\n_________________________________________________________________\n"
      }
     ],
     "persistentId": "c7fec4f6-1256-4136-a94b-ba92fc8afd13",
     "text": "# 输入尺寸为影评词典尺寸即\nvocab_size = 10000\n\nmodel = keras.models.Sequential()\nmodel.add(keras.layers.Embedding(vocab_size, 16))\nmodel.add(keras.layers.GlobalAveragePooling1D())\nmodel.add(keras.layers.Dense(16, activation=tf.nn.relu))\nmodel.add(keras.layers.Dense(1, activation=tf.nn.sigmoid))\n\nmodel.summary()"
    },
    "executionTime": "2020-03-08T15:16:25.273Z"
   },
   {
    "cell": {
     "executionCount": 28,
     "executionEventId": "3d9fa819-d125-4814-9199-f54a523dd5bc",
     "hasError": false,
     "id": "72a37d6f-34f4-467c-81f7-5daf47d3ea7c",
     "outputs": [],
     "persistentId": "73ea031f-e06e-48f0-a0ea-d8ae3f9a9909",
     "text": "model.compile(optimizer=tf.train.AdamOptimizer(),\n              loss='binary_crossentropy',\n              metrics=['accuracy'])"
    },
    "executionTime": "2020-03-08T15:16:28.535Z"
   },
   {
    "cell": {
     "executionCount": 29,
     "executionEventId": "b28db0aa-55e3-40ac-8a2b-e6069a7a9bc7",
     "hasError": false,
     "id": "e069d59c-93d2-46e6-b461-e91279d0bdd0",
     "outputs": [],
     "persistentId": "547f72fd-f7f9-4d00-a0ad-827d9576ff59",
     "text": "x_val = train_data[:10000]\npartial_x_train = train_data[10000:]\n\ny_val = train_labels[:10000]\npartial_y_train = train_labels[10000:]"
    },
    "executionTime": "2020-03-08T15:16:30.441Z"
   },
   {
    "cell": {
     "executionCount": 30,
     "executionEventId": "30cc63a8-17e7-4d73-ac2a-5ad23aed5c34",
     "hasError": true,
     "id": "94fadb54-ab8e-47eb-a702-322249f13e87",
     "outputs": [
      {
       "name": "stdout",
       "output_type": "stream",
       "text": "Train on 15000 samples, validate on 10000 samples\nEpoch 1/20\n"
      },
      {
       "ename": "InternalError",
       "evalue": "GPU sync failed",
       "output_type": "error",
       "traceback": [
        "\u001b[0;31m---------------------------------------------------------------------------\u001b[0m",
        "\u001b[0;31mInternalError\u001b[0m                             Traceback (most recent call last)",
        "\u001b[0;32m/opt/conda/lib/python3.6/site-packages/tensorflow/python/client/session.py\u001b[0m in \u001b[0;36m_do_call\u001b[0;34m(self, fn, *args)\u001b[0m\n\u001b[1;32m   1333\u001b[0m     \u001b[0;32mtry\u001b[0m\u001b[0;34m:\u001b[0m\u001b[0;34m\u001b[0m\u001b[0m\n\u001b[0;32m-> 1334\u001b[0;31m       \u001b[0;32mreturn\u001b[0m \u001b[0mfn\u001b[0m\u001b[0;34m(\u001b[0m\u001b[0;34m*\u001b[0m\u001b[0margs\u001b[0m\u001b[0;34m)\u001b[0m\u001b[0;34m\u001b[0m\u001b[0m\n\u001b[0m\u001b[1;32m   1335\u001b[0m     \u001b[0;32mexcept\u001b[0m \u001b[0merrors\u001b[0m\u001b[0;34m.\u001b[0m\u001b[0mOpError\u001b[0m \u001b[0;32mas\u001b[0m \u001b[0me\u001b[0m\u001b[0;34m:\u001b[0m\u001b[0;34m\u001b[0m\u001b[0m\n",
        "\u001b[0;32m/opt/conda/lib/python3.6/site-packages/tensorflow/python/client/session.py\u001b[0m in \u001b[0;36m_run_fn\u001b[0;34m(feed_dict, fetch_list, target_list, options, run_metadata)\u001b[0m\n\u001b[1;32m   1318\u001b[0m       return self._call_tf_sessionrun(\n\u001b[0;32m-> 1319\u001b[0;31m           options, feed_dict, fetch_list, target_list, run_metadata)\n\u001b[0m\u001b[1;32m   1320\u001b[0m \u001b[0;34m\u001b[0m\u001b[0m\n",
        "\u001b[0;32m/opt/conda/lib/python3.6/site-packages/tensorflow/python/client/session.py\u001b[0m in \u001b[0;36m_call_tf_sessionrun\u001b[0;34m(self, options, feed_dict, fetch_list, target_list, run_metadata)\u001b[0m\n\u001b[1;32m   1406\u001b[0m         \u001b[0mself\u001b[0m\u001b[0;34m.\u001b[0m\u001b[0m_session\u001b[0m\u001b[0;34m,\u001b[0m \u001b[0moptions\u001b[0m\u001b[0;34m,\u001b[0m \u001b[0mfeed_dict\u001b[0m\u001b[0;34m,\u001b[0m \u001b[0mfetch_list\u001b[0m\u001b[0;34m,\u001b[0m \u001b[0mtarget_list\u001b[0m\u001b[0;34m,\u001b[0m\u001b[0;34m\u001b[0m\u001b[0m\n\u001b[0;32m-> 1407\u001b[0;31m         run_metadata)\n\u001b[0m\u001b[1;32m   1408\u001b[0m \u001b[0;34m\u001b[0m\u001b[0m\n",
        "\u001b[0;31mInternalError\u001b[0m: GPU sync failed",
        "\nDuring handling of the above exception, another exception occurred:\n",
        "\u001b[0;31mInternalError\u001b[0m                             Traceback (most recent call last)",
        "\u001b[0;32m<ipython-input-30-37a66bb39506>\u001b[0m in \u001b[0;36m<module>\u001b[0;34m\u001b[0m\n\u001b[1;32m      4\u001b[0m                     \u001b[0mbatch_size\u001b[0m\u001b[0;34m=\u001b[0m\u001b[0;36m512\u001b[0m\u001b[0;34m,\u001b[0m\u001b[0;34m\u001b[0m\u001b[0m\n\u001b[1;32m      5\u001b[0m                     \u001b[0mvalidation_data\u001b[0m\u001b[0;34m=\u001b[0m\u001b[0;34m(\u001b[0m\u001b[0mx_val\u001b[0m\u001b[0;34m,\u001b[0m \u001b[0my_val\u001b[0m\u001b[0;34m)\u001b[0m\u001b[0;34m,\u001b[0m\u001b[0;34m\u001b[0m\u001b[0m\n\u001b[0;32m----> 6\u001b[0;31m                     verbose=1)\n\u001b[0m",
        "\u001b[0;32m/opt/conda/lib/python3.6/site-packages/tensorflow/python/keras/engine/training.py\u001b[0m in \u001b[0;36mfit\u001b[0;34m(self, x, y, batch_size, epochs, verbose, callbacks, validation_split, validation_data, shuffle, class_weight, sample_weight, initial_epoch, steps_per_epoch, validation_steps, max_queue_size, workers, use_multiprocessing, **kwargs)\u001b[0m\n\u001b[1;32m   1637\u001b[0m           \u001b[0minitial_epoch\u001b[0m\u001b[0;34m=\u001b[0m\u001b[0minitial_epoch\u001b[0m\u001b[0;34m,\u001b[0m\u001b[0;34m\u001b[0m\u001b[0m\n\u001b[1;32m   1638\u001b[0m           \u001b[0msteps_per_epoch\u001b[0m\u001b[0;34m=\u001b[0m\u001b[0msteps_per_epoch\u001b[0m\u001b[0;34m,\u001b[0m\u001b[0;34m\u001b[0m\u001b[0m\n\u001b[0;32m-> 1639\u001b[0;31m           validation_steps=validation_steps)\n\u001b[0m\u001b[1;32m   1640\u001b[0m \u001b[0;34m\u001b[0m\u001b[0m\n\u001b[1;32m   1641\u001b[0m   def evaluate(self,\n",
        "\u001b[0;32m/opt/conda/lib/python3.6/site-packages/tensorflow/python/keras/engine/training_arrays.py\u001b[0m in \u001b[0;36mfit_loop\u001b[0;34m(model, inputs, targets, sample_weights, batch_size, epochs, verbose, callbacks, val_inputs, val_targets, val_sample_weights, shuffle, initial_epoch, steps_per_epoch, validation_steps)\u001b[0m\n\u001b[1;32m    213\u001b[0m           \u001b[0mins_batch\u001b[0m\u001b[0;34m[\u001b[0m\u001b[0mi\u001b[0m\u001b[0;34m]\u001b[0m \u001b[0;34m=\u001b[0m \u001b[0mins_batch\u001b[0m\u001b[0;34m[\u001b[0m\u001b[0mi\u001b[0m\u001b[0;34m]\u001b[0m\u001b[0;34m.\u001b[0m\u001b[0mtoarray\u001b[0m\u001b[0;34m(\u001b[0m\u001b[0;34m)\u001b[0m\u001b[0;34m\u001b[0m\u001b[0m\n\u001b[1;32m    214\u001b[0m \u001b[0;34m\u001b[0m\u001b[0m\n\u001b[0;32m--> 215\u001b[0;31m         \u001b[0mouts\u001b[0m \u001b[0;34m=\u001b[0m \u001b[0mf\u001b[0m\u001b[0;34m(\u001b[0m\u001b[0mins_batch\u001b[0m\u001b[0;34m)\u001b[0m\u001b[0;34m\u001b[0m\u001b[0m\n\u001b[0m\u001b[1;32m    216\u001b[0m         \u001b[0;32mif\u001b[0m \u001b[0;32mnot\u001b[0m \u001b[0misinstance\u001b[0m\u001b[0;34m(\u001b[0m\u001b[0mouts\u001b[0m\u001b[0;34m,\u001b[0m \u001b[0mlist\u001b[0m\u001b[0;34m)\u001b[0m\u001b[0;34m:\u001b[0m\u001b[0;34m\u001b[0m\u001b[0m\n\u001b[1;32m    217\u001b[0m           \u001b[0mouts\u001b[0m \u001b[0;34m=\u001b[0m \u001b[0;34m[\u001b[0m\u001b[0mouts\u001b[0m\u001b[0;34m]\u001b[0m\u001b[0;34m\u001b[0m\u001b[0m\n",
        "\u001b[0;32m/opt/conda/lib/python3.6/site-packages/tensorflow/python/keras/backend.py\u001b[0m in \u001b[0;36m__call__\u001b[0;34m(self, inputs)\u001b[0m\n\u001b[1;32m   2945\u001b[0m       \u001b[0;32mraise\u001b[0m \u001b[0mTypeError\u001b[0m\u001b[0;34m(\u001b[0m\u001b[0;34m'`inputs` should be a list or tuple.'\u001b[0m\u001b[0;34m)\u001b[0m\u001b[0;34m\u001b[0m\u001b[0m\n\u001b[1;32m   2946\u001b[0m \u001b[0;34m\u001b[0m\u001b[0m\n\u001b[0;32m-> 2947\u001b[0;31m     \u001b[0msession\u001b[0m \u001b[0;34m=\u001b[0m \u001b[0mget_session\u001b[0m\u001b[0;34m(\u001b[0m\u001b[0;34m)\u001b[0m\u001b[0;34m\u001b[0m\u001b[0m\n\u001b[0m\u001b[1;32m   2948\u001b[0m     \u001b[0mfeed_arrays\u001b[0m \u001b[0;34m=\u001b[0m \u001b[0;34m[\u001b[0m\u001b[0;34m]\u001b[0m\u001b[0;34m\u001b[0m\u001b[0m\n\u001b[1;32m   2949\u001b[0m     \u001b[0marray_vals\u001b[0m \u001b[0;34m=\u001b[0m \u001b[0;34m[\u001b[0m\u001b[0;34m]\u001b[0m\u001b[0;34m\u001b[0m\u001b[0m\n",
        "\u001b[0;32m/opt/conda/lib/python3.6/site-packages/tensorflow/python/keras/backend.py\u001b[0m in \u001b[0;36mget_session\u001b[0;34m()\u001b[0m\n\u001b[1;32m    467\u001b[0m   \u001b[0;32mif\u001b[0m \u001b[0;32mnot\u001b[0m \u001b[0m_MANUAL_VAR_INIT\u001b[0m\u001b[0;34m:\u001b[0m\u001b[0;34m\u001b[0m\u001b[0m\n\u001b[1;32m    468\u001b[0m     \u001b[0;32mwith\u001b[0m \u001b[0msession\u001b[0m\u001b[0;34m.\u001b[0m\u001b[0mgraph\u001b[0m\u001b[0;34m.\u001b[0m\u001b[0mas_default\u001b[0m\u001b[0;34m(\u001b[0m\u001b[0;34m)\u001b[0m\u001b[0;34m:\u001b[0m\u001b[0;34m\u001b[0m\u001b[0m\n\u001b[0;32m--> 469\u001b[0;31m       \u001b[0m_initialize_variables\u001b[0m\u001b[0;34m(\u001b[0m\u001b[0msession\u001b[0m\u001b[0;34m)\u001b[0m\u001b[0;34m\u001b[0m\u001b[0m\n\u001b[0m\u001b[1;32m    470\u001b[0m   \u001b[0;32mreturn\u001b[0m \u001b[0msession\u001b[0m\u001b[0;34m\u001b[0m\u001b[0m\n\u001b[1;32m    471\u001b[0m \u001b[0;34m\u001b[0m\u001b[0m\n",
        "\u001b[0;32m/opt/conda/lib/python3.6/site-packages/tensorflow/python/keras/backend.py\u001b[0m in \u001b[0;36m_initialize_variables\u001b[0;34m(session)\u001b[0m\n\u001b[1;32m    729\u001b[0m     \u001b[0;31m# marked as initialized.\u001b[0m\u001b[0;34m\u001b[0m\u001b[0;34m\u001b[0m\u001b[0m\n\u001b[1;32m    730\u001b[0m     is_initialized = session.run(\n\u001b[0;32m--> 731\u001b[0;31m         [variables_module.is_variable_initialized(v) for v in candidate_vars])\n\u001b[0m\u001b[1;32m    732\u001b[0m     \u001b[0muninitialized_vars\u001b[0m \u001b[0;34m=\u001b[0m \u001b[0;34m[\u001b[0m\u001b[0;34m]\u001b[0m\u001b[0;34m\u001b[0m\u001b[0m\n\u001b[1;32m    733\u001b[0m     \u001b[0;32mfor\u001b[0m \u001b[0mflag\u001b[0m\u001b[0;34m,\u001b[0m \u001b[0mv\u001b[0m \u001b[0;32min\u001b[0m \u001b[0mzip\u001b[0m\u001b[0;34m(\u001b[0m\u001b[0mis_initialized\u001b[0m\u001b[0;34m,\u001b[0m \u001b[0mcandidate_vars\u001b[0m\u001b[0;34m)\u001b[0m\u001b[0;34m:\u001b[0m\u001b[0;34m\u001b[0m\u001b[0m\n",
        "\u001b[0;32m/opt/conda/lib/python3.6/site-packages/tensorflow/python/client/session.py\u001b[0m in \u001b[0;36mrun\u001b[0;34m(self, fetches, feed_dict, options, run_metadata)\u001b[0m\n\u001b[1;32m    927\u001b[0m     \u001b[0;32mtry\u001b[0m\u001b[0;34m:\u001b[0m\u001b[0;34m\u001b[0m\u001b[0m\n\u001b[1;32m    928\u001b[0m       result = self._run(None, fetches, feed_dict, options_ptr,\n\u001b[0;32m--> 929\u001b[0;31m                          run_metadata_ptr)\n\u001b[0m\u001b[1;32m    930\u001b[0m       \u001b[0;32mif\u001b[0m \u001b[0mrun_metadata\u001b[0m\u001b[0;34m:\u001b[0m\u001b[0;34m\u001b[0m\u001b[0m\n\u001b[1;32m    931\u001b[0m         \u001b[0mproto_data\u001b[0m \u001b[0;34m=\u001b[0m \u001b[0mtf_session\u001b[0m\u001b[0;34m.\u001b[0m\u001b[0mTF_GetBuffer\u001b[0m\u001b[0;34m(\u001b[0m\u001b[0mrun_metadata_ptr\u001b[0m\u001b[0;34m)\u001b[0m\u001b[0;34m\u001b[0m\u001b[0m\n",
        "\u001b[0;32m/opt/conda/lib/python3.6/site-packages/tensorflow/python/client/session.py\u001b[0m in \u001b[0;36m_run\u001b[0;34m(self, handle, fetches, feed_dict, options, run_metadata)\u001b[0m\n\u001b[1;32m   1150\u001b[0m     \u001b[0;32mif\u001b[0m \u001b[0mfinal_fetches\u001b[0m \u001b[0;32mor\u001b[0m \u001b[0mfinal_targets\u001b[0m \u001b[0;32mor\u001b[0m \u001b[0;34m(\u001b[0m\u001b[0mhandle\u001b[0m \u001b[0;32mand\u001b[0m \u001b[0mfeed_dict_tensor\u001b[0m\u001b[0;34m)\u001b[0m\u001b[0;34m:\u001b[0m\u001b[0;34m\u001b[0m\u001b[0m\n\u001b[1;32m   1151\u001b[0m       results = self._do_run(handle, final_targets, final_fetches,\n\u001b[0;32m-> 1152\u001b[0;31m                              feed_dict_tensor, options, run_metadata)\n\u001b[0m\u001b[1;32m   1153\u001b[0m     \u001b[0;32melse\u001b[0m\u001b[0;34m:\u001b[0m\u001b[0;34m\u001b[0m\u001b[0m\n\u001b[1;32m   1154\u001b[0m       \u001b[0mresults\u001b[0m \u001b[0;34m=\u001b[0m \u001b[0;34m[\u001b[0m\u001b[0;34m]\u001b[0m\u001b[0;34m\u001b[0m\u001b[0m\n",
        "\u001b[0;32m/opt/conda/lib/python3.6/site-packages/tensorflow/python/client/session.py\u001b[0m in \u001b[0;36m_do_run\u001b[0;34m(self, handle, target_list, fetch_list, feed_dict, options, run_metadata)\u001b[0m\n\u001b[1;32m   1326\u001b[0m     \u001b[0;32mif\u001b[0m \u001b[0mhandle\u001b[0m \u001b[0;32mis\u001b[0m \u001b[0;32mNone\u001b[0m\u001b[0;34m:\u001b[0m\u001b[0;34m\u001b[0m\u001b[0m\n\u001b[1;32m   1327\u001b[0m       return self._do_call(_run_fn, feeds, fetches, targets, options,\n\u001b[0;32m-> 1328\u001b[0;31m                            run_metadata)\n\u001b[0m\u001b[1;32m   1329\u001b[0m     \u001b[0;32melse\u001b[0m\u001b[0;34m:\u001b[0m\u001b[0;34m\u001b[0m\u001b[0m\n\u001b[1;32m   1330\u001b[0m       \u001b[0;32mreturn\u001b[0m \u001b[0mself\u001b[0m\u001b[0;34m.\u001b[0m\u001b[0m_do_call\u001b[0m\u001b[0;34m(\u001b[0m\u001b[0m_prun_fn\u001b[0m\u001b[0;34m,\u001b[0m \u001b[0mhandle\u001b[0m\u001b[0;34m,\u001b[0m \u001b[0mfeeds\u001b[0m\u001b[0;34m,\u001b[0m \u001b[0mfetches\u001b[0m\u001b[0;34m)\u001b[0m\u001b[0;34m\u001b[0m\u001b[0m\n",
        "\u001b[0;32m/opt/conda/lib/python3.6/site-packages/tensorflow/python/client/session.py\u001b[0m in \u001b[0;36m_do_call\u001b[0;34m(self, fn, *args)\u001b[0m\n\u001b[1;32m   1346\u001b[0m           \u001b[0;32mpass\u001b[0m\u001b[0;34m\u001b[0m\u001b[0m\n\u001b[1;32m   1347\u001b[0m       \u001b[0mmessage\u001b[0m \u001b[0;34m=\u001b[0m \u001b[0merror_interpolation\u001b[0m\u001b[0;34m.\u001b[0m\u001b[0minterpolate\u001b[0m\u001b[0;34m(\u001b[0m\u001b[0mmessage\u001b[0m\u001b[0;34m,\u001b[0m \u001b[0mself\u001b[0m\u001b[0;34m.\u001b[0m\u001b[0m_graph\u001b[0m\u001b[0;34m)\u001b[0m\u001b[0;34m\u001b[0m\u001b[0m\n\u001b[0;32m-> 1348\u001b[0;31m       \u001b[0;32mraise\u001b[0m \u001b[0mtype\u001b[0m\u001b[0;34m(\u001b[0m\u001b[0me\u001b[0m\u001b[0;34m)\u001b[0m\u001b[0;34m(\u001b[0m\u001b[0mnode_def\u001b[0m\u001b[0;34m,\u001b[0m \u001b[0mop\u001b[0m\u001b[0;34m,\u001b[0m \u001b[0mmessage\u001b[0m\u001b[0;34m)\u001b[0m\u001b[0;34m\u001b[0m\u001b[0m\n\u001b[0m\u001b[1;32m   1349\u001b[0m \u001b[0;34m\u001b[0m\u001b[0m\n\u001b[1;32m   1350\u001b[0m   \u001b[0;32mdef\u001b[0m \u001b[0m_extend_graph\u001b[0m\u001b[0;34m(\u001b[0m\u001b[0mself\u001b[0m\u001b[0;34m)\u001b[0m\u001b[0;34m:\u001b[0m\u001b[0;34m\u001b[0m\u001b[0m\n",
        "\u001b[0;31mInternalError\u001b[0m: GPU sync failed"
       ]
      }
     ],
     "persistentId": "18b36dfe-87de-4d6c-b20b-a941517e209b",
     "text": "history = model.fit(partial_x_train,\n                    partial_y_train,\n                    epochs=20,\n                    batch_size=512,\n                    validation_data=(x_val, y_val),\n                    verbose=1)"
    },
    "executionTime": "2020-03-08T15:16:33.256Z"
   },
   {
    "cell": {
     "executionCount": 31,
     "executionEventId": "f5d3abc3-2234-4c93-99e9-9bccaf54274a",
     "hasError": true,
     "id": "94fadb54-ab8e-47eb-a702-322249f13e87",
     "outputs": [
      {
       "name": "stdout",
       "output_type": "stream",
       "text": "Train on 15000 samples, validate on 10000 samples\nEpoch 1/20\n"
      },
      {
       "ename": "InternalError",
       "evalue": "GPU sync failed",
       "output_type": "error",
       "traceback": [
        "\u001b[0;31m---------------------------------------------------------------------------\u001b[0m",
        "\u001b[0;31mInternalError\u001b[0m                             Traceback (most recent call last)",
        "\u001b[0;32m/opt/conda/lib/python3.6/site-packages/tensorflow/python/client/session.py\u001b[0m in \u001b[0;36m_do_call\u001b[0;34m(self, fn, *args)\u001b[0m\n\u001b[1;32m   1333\u001b[0m     \u001b[0;32mtry\u001b[0m\u001b[0;34m:\u001b[0m\u001b[0;34m\u001b[0m\u001b[0m\n\u001b[0;32m-> 1334\u001b[0;31m       \u001b[0;32mreturn\u001b[0m \u001b[0mfn\u001b[0m\u001b[0;34m(\u001b[0m\u001b[0;34m*\u001b[0m\u001b[0margs\u001b[0m\u001b[0;34m)\u001b[0m\u001b[0;34m\u001b[0m\u001b[0m\n\u001b[0m\u001b[1;32m   1335\u001b[0m     \u001b[0;32mexcept\u001b[0m \u001b[0merrors\u001b[0m\u001b[0;34m.\u001b[0m\u001b[0mOpError\u001b[0m \u001b[0;32mas\u001b[0m \u001b[0me\u001b[0m\u001b[0;34m:\u001b[0m\u001b[0;34m\u001b[0m\u001b[0m\n",
        "\u001b[0;32m/opt/conda/lib/python3.6/site-packages/tensorflow/python/client/session.py\u001b[0m in \u001b[0;36m_run_fn\u001b[0;34m(feed_dict, fetch_list, target_list, options, run_metadata)\u001b[0m\n\u001b[1;32m   1318\u001b[0m       return self._call_tf_sessionrun(\n\u001b[0;32m-> 1319\u001b[0;31m           options, feed_dict, fetch_list, target_list, run_metadata)\n\u001b[0m\u001b[1;32m   1320\u001b[0m \u001b[0;34m\u001b[0m\u001b[0m\n",
        "\u001b[0;32m/opt/conda/lib/python3.6/site-packages/tensorflow/python/client/session.py\u001b[0m in \u001b[0;36m_call_tf_sessionrun\u001b[0;34m(self, options, feed_dict, fetch_list, target_list, run_metadata)\u001b[0m\n\u001b[1;32m   1406\u001b[0m         \u001b[0mself\u001b[0m\u001b[0;34m.\u001b[0m\u001b[0m_session\u001b[0m\u001b[0;34m,\u001b[0m \u001b[0moptions\u001b[0m\u001b[0;34m,\u001b[0m \u001b[0mfeed_dict\u001b[0m\u001b[0;34m,\u001b[0m \u001b[0mfetch_list\u001b[0m\u001b[0;34m,\u001b[0m \u001b[0mtarget_list\u001b[0m\u001b[0;34m,\u001b[0m\u001b[0;34m\u001b[0m\u001b[0m\n\u001b[0;32m-> 1407\u001b[0;31m         run_metadata)\n\u001b[0m\u001b[1;32m   1408\u001b[0m \u001b[0;34m\u001b[0m\u001b[0m\n",
        "\u001b[0;31mInternalError\u001b[0m: GPU sync failed",
        "\nDuring handling of the above exception, another exception occurred:\n",
        "\u001b[0;31mInternalError\u001b[0m                             Traceback (most recent call last)",
        "\u001b[0;32m<ipython-input-31-37a66bb39506>\u001b[0m in \u001b[0;36m<module>\u001b[0;34m\u001b[0m\n\u001b[1;32m      4\u001b[0m                     \u001b[0mbatch_size\u001b[0m\u001b[0;34m=\u001b[0m\u001b[0;36m512\u001b[0m\u001b[0;34m,\u001b[0m\u001b[0;34m\u001b[0m\u001b[0m\n\u001b[1;32m      5\u001b[0m                     \u001b[0mvalidation_data\u001b[0m\u001b[0;34m=\u001b[0m\u001b[0;34m(\u001b[0m\u001b[0mx_val\u001b[0m\u001b[0;34m,\u001b[0m \u001b[0my_val\u001b[0m\u001b[0;34m)\u001b[0m\u001b[0;34m,\u001b[0m\u001b[0;34m\u001b[0m\u001b[0m\n\u001b[0;32m----> 6\u001b[0;31m                     verbose=1)\n\u001b[0m",
        "\u001b[0;32m/opt/conda/lib/python3.6/site-packages/tensorflow/python/keras/engine/training.py\u001b[0m in \u001b[0;36mfit\u001b[0;34m(self, x, y, batch_size, epochs, verbose, callbacks, validation_split, validation_data, shuffle, class_weight, sample_weight, initial_epoch, steps_per_epoch, validation_steps, max_queue_size, workers, use_multiprocessing, **kwargs)\u001b[0m\n\u001b[1;32m   1637\u001b[0m           \u001b[0minitial_epoch\u001b[0m\u001b[0;34m=\u001b[0m\u001b[0minitial_epoch\u001b[0m\u001b[0;34m,\u001b[0m\u001b[0;34m\u001b[0m\u001b[0m\n\u001b[1;32m   1638\u001b[0m           \u001b[0msteps_per_epoch\u001b[0m\u001b[0;34m=\u001b[0m\u001b[0msteps_per_epoch\u001b[0m\u001b[0;34m,\u001b[0m\u001b[0;34m\u001b[0m\u001b[0m\n\u001b[0;32m-> 1639\u001b[0;31m           validation_steps=validation_steps)\n\u001b[0m\u001b[1;32m   1640\u001b[0m \u001b[0;34m\u001b[0m\u001b[0m\n\u001b[1;32m   1641\u001b[0m   def evaluate(self,\n",
        "\u001b[0;32m/opt/conda/lib/python3.6/site-packages/tensorflow/python/keras/engine/training_arrays.py\u001b[0m in \u001b[0;36mfit_loop\u001b[0;34m(model, inputs, targets, sample_weights, batch_size, epochs, verbose, callbacks, val_inputs, val_targets, val_sample_weights, shuffle, initial_epoch, steps_per_epoch, validation_steps)\u001b[0m\n\u001b[1;32m    213\u001b[0m           \u001b[0mins_batch\u001b[0m\u001b[0;34m[\u001b[0m\u001b[0mi\u001b[0m\u001b[0;34m]\u001b[0m \u001b[0;34m=\u001b[0m \u001b[0mins_batch\u001b[0m\u001b[0;34m[\u001b[0m\u001b[0mi\u001b[0m\u001b[0;34m]\u001b[0m\u001b[0;34m.\u001b[0m\u001b[0mtoarray\u001b[0m\u001b[0;34m(\u001b[0m\u001b[0;34m)\u001b[0m\u001b[0;34m\u001b[0m\u001b[0m\n\u001b[1;32m    214\u001b[0m \u001b[0;34m\u001b[0m\u001b[0m\n\u001b[0;32m--> 215\u001b[0;31m         \u001b[0mouts\u001b[0m \u001b[0;34m=\u001b[0m \u001b[0mf\u001b[0m\u001b[0;34m(\u001b[0m\u001b[0mins_batch\u001b[0m\u001b[0;34m)\u001b[0m\u001b[0;34m\u001b[0m\u001b[0m\n\u001b[0m\u001b[1;32m    216\u001b[0m         \u001b[0;32mif\u001b[0m \u001b[0;32mnot\u001b[0m \u001b[0misinstance\u001b[0m\u001b[0;34m(\u001b[0m\u001b[0mouts\u001b[0m\u001b[0;34m,\u001b[0m \u001b[0mlist\u001b[0m\u001b[0;34m)\u001b[0m\u001b[0;34m:\u001b[0m\u001b[0;34m\u001b[0m\u001b[0m\n\u001b[1;32m    217\u001b[0m           \u001b[0mouts\u001b[0m \u001b[0;34m=\u001b[0m \u001b[0;34m[\u001b[0m\u001b[0mouts\u001b[0m\u001b[0;34m]\u001b[0m\u001b[0;34m\u001b[0m\u001b[0m\n",
        "\u001b[0;32m/opt/conda/lib/python3.6/site-packages/tensorflow/python/keras/backend.py\u001b[0m in \u001b[0;36m__call__\u001b[0;34m(self, inputs)\u001b[0m\n\u001b[1;32m   2945\u001b[0m       \u001b[0;32mraise\u001b[0m \u001b[0mTypeError\u001b[0m\u001b[0;34m(\u001b[0m\u001b[0;34m'`inputs` should be a list or tuple.'\u001b[0m\u001b[0;34m)\u001b[0m\u001b[0;34m\u001b[0m\u001b[0m\n\u001b[1;32m   2946\u001b[0m \u001b[0;34m\u001b[0m\u001b[0m\n\u001b[0;32m-> 2947\u001b[0;31m     \u001b[0msession\u001b[0m \u001b[0;34m=\u001b[0m \u001b[0mget_session\u001b[0m\u001b[0;34m(\u001b[0m\u001b[0;34m)\u001b[0m\u001b[0;34m\u001b[0m\u001b[0m\n\u001b[0m\u001b[1;32m   2948\u001b[0m     \u001b[0mfeed_arrays\u001b[0m \u001b[0;34m=\u001b[0m \u001b[0;34m[\u001b[0m\u001b[0;34m]\u001b[0m\u001b[0;34m\u001b[0m\u001b[0m\n\u001b[1;32m   2949\u001b[0m     \u001b[0marray_vals\u001b[0m \u001b[0;34m=\u001b[0m \u001b[0;34m[\u001b[0m\u001b[0;34m]\u001b[0m\u001b[0;34m\u001b[0m\u001b[0m\n",
        "\u001b[0;32m/opt/conda/lib/python3.6/site-packages/tensorflow/python/keras/backend.py\u001b[0m in \u001b[0;36mget_session\u001b[0;34m()\u001b[0m\n\u001b[1;32m    467\u001b[0m   \u001b[0;32mif\u001b[0m \u001b[0;32mnot\u001b[0m \u001b[0m_MANUAL_VAR_INIT\u001b[0m\u001b[0;34m:\u001b[0m\u001b[0;34m\u001b[0m\u001b[0m\n\u001b[1;32m    468\u001b[0m     \u001b[0;32mwith\u001b[0m \u001b[0msession\u001b[0m\u001b[0;34m.\u001b[0m\u001b[0mgraph\u001b[0m\u001b[0;34m.\u001b[0m\u001b[0mas_default\u001b[0m\u001b[0;34m(\u001b[0m\u001b[0;34m)\u001b[0m\u001b[0;34m:\u001b[0m\u001b[0;34m\u001b[0m\u001b[0m\n\u001b[0;32m--> 469\u001b[0;31m       \u001b[0m_initialize_variables\u001b[0m\u001b[0;34m(\u001b[0m\u001b[0msession\u001b[0m\u001b[0;34m)\u001b[0m\u001b[0;34m\u001b[0m\u001b[0m\n\u001b[0m\u001b[1;32m    470\u001b[0m   \u001b[0;32mreturn\u001b[0m \u001b[0msession\u001b[0m\u001b[0;34m\u001b[0m\u001b[0m\n\u001b[1;32m    471\u001b[0m \u001b[0;34m\u001b[0m\u001b[0m\n",
        "\u001b[0;32m/opt/conda/lib/python3.6/site-packages/tensorflow/python/keras/backend.py\u001b[0m in \u001b[0;36m_initialize_variables\u001b[0;34m(session)\u001b[0m\n\u001b[1;32m    729\u001b[0m     \u001b[0;31m# marked as initialized.\u001b[0m\u001b[0;34m\u001b[0m\u001b[0;34m\u001b[0m\u001b[0m\n\u001b[1;32m    730\u001b[0m     is_initialized = session.run(\n\u001b[0;32m--> 731\u001b[0;31m         [variables_module.is_variable_initialized(v) for v in candidate_vars])\n\u001b[0m\u001b[1;32m    732\u001b[0m     \u001b[0muninitialized_vars\u001b[0m \u001b[0;34m=\u001b[0m \u001b[0;34m[\u001b[0m\u001b[0;34m]\u001b[0m\u001b[0;34m\u001b[0m\u001b[0m\n\u001b[1;32m    733\u001b[0m     \u001b[0;32mfor\u001b[0m \u001b[0mflag\u001b[0m\u001b[0;34m,\u001b[0m \u001b[0mv\u001b[0m \u001b[0;32min\u001b[0m \u001b[0mzip\u001b[0m\u001b[0;34m(\u001b[0m\u001b[0mis_initialized\u001b[0m\u001b[0;34m,\u001b[0m \u001b[0mcandidate_vars\u001b[0m\u001b[0;34m)\u001b[0m\u001b[0;34m:\u001b[0m\u001b[0;34m\u001b[0m\u001b[0m\n",
        "\u001b[0;32m/opt/conda/lib/python3.6/site-packages/tensorflow/python/client/session.py\u001b[0m in \u001b[0;36mrun\u001b[0;34m(self, fetches, feed_dict, options, run_metadata)\u001b[0m\n\u001b[1;32m    927\u001b[0m     \u001b[0;32mtry\u001b[0m\u001b[0;34m:\u001b[0m\u001b[0;34m\u001b[0m\u001b[0m\n\u001b[1;32m    928\u001b[0m       result = self._run(None, fetches, feed_dict, options_ptr,\n\u001b[0;32m--> 929\u001b[0;31m                          run_metadata_ptr)\n\u001b[0m\u001b[1;32m    930\u001b[0m       \u001b[0;32mif\u001b[0m \u001b[0mrun_metadata\u001b[0m\u001b[0;34m:\u001b[0m\u001b[0;34m\u001b[0m\u001b[0m\n\u001b[1;32m    931\u001b[0m         \u001b[0mproto_data\u001b[0m \u001b[0;34m=\u001b[0m \u001b[0mtf_session\u001b[0m\u001b[0;34m.\u001b[0m\u001b[0mTF_GetBuffer\u001b[0m\u001b[0;34m(\u001b[0m\u001b[0mrun_metadata_ptr\u001b[0m\u001b[0;34m)\u001b[0m\u001b[0;34m\u001b[0m\u001b[0m\n",
        "\u001b[0;32m/opt/conda/lib/python3.6/site-packages/tensorflow/python/client/session.py\u001b[0m in \u001b[0;36m_run\u001b[0;34m(self, handle, fetches, feed_dict, options, run_metadata)\u001b[0m\n\u001b[1;32m   1150\u001b[0m     \u001b[0;32mif\u001b[0m \u001b[0mfinal_fetches\u001b[0m \u001b[0;32mor\u001b[0m \u001b[0mfinal_targets\u001b[0m \u001b[0;32mor\u001b[0m \u001b[0;34m(\u001b[0m\u001b[0mhandle\u001b[0m \u001b[0;32mand\u001b[0m \u001b[0mfeed_dict_tensor\u001b[0m\u001b[0;34m)\u001b[0m\u001b[0;34m:\u001b[0m\u001b[0;34m\u001b[0m\u001b[0m\n\u001b[1;32m   1151\u001b[0m       results = self._do_run(handle, final_targets, final_fetches,\n\u001b[0;32m-> 1152\u001b[0;31m                              feed_dict_tensor, options, run_metadata)\n\u001b[0m\u001b[1;32m   1153\u001b[0m     \u001b[0;32melse\u001b[0m\u001b[0;34m:\u001b[0m\u001b[0;34m\u001b[0m\u001b[0m\n\u001b[1;32m   1154\u001b[0m       \u001b[0mresults\u001b[0m \u001b[0;34m=\u001b[0m \u001b[0;34m[\u001b[0m\u001b[0;34m]\u001b[0m\u001b[0;34m\u001b[0m\u001b[0m\n",
        "\u001b[0;32m/opt/conda/lib/python3.6/site-packages/tensorflow/python/client/session.py\u001b[0m in \u001b[0;36m_do_run\u001b[0;34m(self, handle, target_list, fetch_list, feed_dict, options, run_metadata)\u001b[0m\n\u001b[1;32m   1326\u001b[0m     \u001b[0;32mif\u001b[0m \u001b[0mhandle\u001b[0m \u001b[0;32mis\u001b[0m \u001b[0;32mNone\u001b[0m\u001b[0;34m:\u001b[0m\u001b[0;34m\u001b[0m\u001b[0m\n\u001b[1;32m   1327\u001b[0m       return self._do_call(_run_fn, feeds, fetches, targets, options,\n\u001b[0;32m-> 1328\u001b[0;31m                            run_metadata)\n\u001b[0m\u001b[1;32m   1329\u001b[0m     \u001b[0;32melse\u001b[0m\u001b[0;34m:\u001b[0m\u001b[0;34m\u001b[0m\u001b[0m\n\u001b[1;32m   1330\u001b[0m       \u001b[0;32mreturn\u001b[0m \u001b[0mself\u001b[0m\u001b[0;34m.\u001b[0m\u001b[0m_do_call\u001b[0m\u001b[0;34m(\u001b[0m\u001b[0m_prun_fn\u001b[0m\u001b[0;34m,\u001b[0m \u001b[0mhandle\u001b[0m\u001b[0;34m,\u001b[0m \u001b[0mfeeds\u001b[0m\u001b[0;34m,\u001b[0m \u001b[0mfetches\u001b[0m\u001b[0;34m)\u001b[0m\u001b[0;34m\u001b[0m\u001b[0m\n",
        "\u001b[0;32m/opt/conda/lib/python3.6/site-packages/tensorflow/python/client/session.py\u001b[0m in \u001b[0;36m_do_call\u001b[0;34m(self, fn, *args)\u001b[0m\n\u001b[1;32m   1346\u001b[0m           \u001b[0;32mpass\u001b[0m\u001b[0;34m\u001b[0m\u001b[0m\n\u001b[1;32m   1347\u001b[0m       \u001b[0mmessage\u001b[0m \u001b[0;34m=\u001b[0m \u001b[0merror_interpolation\u001b[0m\u001b[0;34m.\u001b[0m\u001b[0minterpolate\u001b[0m\u001b[0;34m(\u001b[0m\u001b[0mmessage\u001b[0m\u001b[0;34m,\u001b[0m \u001b[0mself\u001b[0m\u001b[0;34m.\u001b[0m\u001b[0m_graph\u001b[0m\u001b[0;34m)\u001b[0m\u001b[0;34m\u001b[0m\u001b[0m\n\u001b[0;32m-> 1348\u001b[0;31m       \u001b[0;32mraise\u001b[0m \u001b[0mtype\u001b[0m\u001b[0;34m(\u001b[0m\u001b[0me\u001b[0m\u001b[0;34m)\u001b[0m\u001b[0;34m(\u001b[0m\u001b[0mnode_def\u001b[0m\u001b[0;34m,\u001b[0m \u001b[0mop\u001b[0m\u001b[0;34m,\u001b[0m \u001b[0mmessage\u001b[0m\u001b[0;34m)\u001b[0m\u001b[0;34m\u001b[0m\u001b[0m\n\u001b[0m\u001b[1;32m   1349\u001b[0m \u001b[0;34m\u001b[0m\u001b[0m\n\u001b[1;32m   1350\u001b[0m   \u001b[0;32mdef\u001b[0m \u001b[0m_extend_graph\u001b[0m\u001b[0;34m(\u001b[0m\u001b[0mself\u001b[0m\u001b[0;34m)\u001b[0m\u001b[0;34m:\u001b[0m\u001b[0;34m\u001b[0m\u001b[0m\n",
        "\u001b[0;31mInternalError\u001b[0m: GPU sync failed"
       ]
      }
     ],
     "persistentId": "18b36dfe-87de-4d6c-b20b-a941517e209b",
     "text": "history = model.fit(partial_x_train,\n                    partial_y_train,\n                    epochs=20,\n                    batch_size=512,\n                    validation_data=(x_val, y_val),\n                    verbose=1)"
    },
    "executionTime": "2020-03-08T15:17:35.174Z"
   },
   {
    "cell": {
     "executionCount": 32,
     "executionEventId": "63f7ea2b-91e0-4ed4-aeba-359a30c2e5cf",
     "hasError": true,
     "id": "94fadb54-ab8e-47eb-a702-322249f13e87",
     "outputs": [
      {
       "name": "stdout",
       "output_type": "stream",
       "text": "Train on 15000 samples, validate on 10000 samples\nEpoch 1/20\n"
      },
      {
       "ename": "InternalError",
       "evalue": "GPU sync failed",
       "output_type": "error",
       "traceback": [
        "\u001b[0;31m---------------------------------------------------------------------------\u001b[0m",
        "\u001b[0;31mInternalError\u001b[0m                             Traceback (most recent call last)",
        "\u001b[0;32m/opt/conda/lib/python3.6/site-packages/tensorflow/python/client/session.py\u001b[0m in \u001b[0;36m_do_call\u001b[0;34m(self, fn, *args)\u001b[0m\n\u001b[1;32m   1333\u001b[0m     \u001b[0;32mtry\u001b[0m\u001b[0;34m:\u001b[0m\u001b[0;34m\u001b[0m\u001b[0m\n\u001b[0;32m-> 1334\u001b[0;31m       \u001b[0;32mreturn\u001b[0m \u001b[0mfn\u001b[0m\u001b[0;34m(\u001b[0m\u001b[0;34m*\u001b[0m\u001b[0margs\u001b[0m\u001b[0;34m)\u001b[0m\u001b[0;34m\u001b[0m\u001b[0m\n\u001b[0m\u001b[1;32m   1335\u001b[0m     \u001b[0;32mexcept\u001b[0m \u001b[0merrors\u001b[0m\u001b[0;34m.\u001b[0m\u001b[0mOpError\u001b[0m \u001b[0;32mas\u001b[0m \u001b[0me\u001b[0m\u001b[0;34m:\u001b[0m\u001b[0;34m\u001b[0m\u001b[0m\n",
        "\u001b[0;32m/opt/conda/lib/python3.6/site-packages/tensorflow/python/client/session.py\u001b[0m in \u001b[0;36m_run_fn\u001b[0;34m(feed_dict, fetch_list, target_list, options, run_metadata)\u001b[0m\n\u001b[1;32m   1318\u001b[0m       return self._call_tf_sessionrun(\n\u001b[0;32m-> 1319\u001b[0;31m           options, feed_dict, fetch_list, target_list, run_metadata)\n\u001b[0m\u001b[1;32m   1320\u001b[0m \u001b[0;34m\u001b[0m\u001b[0m\n",
        "\u001b[0;32m/opt/conda/lib/python3.6/site-packages/tensorflow/python/client/session.py\u001b[0m in \u001b[0;36m_call_tf_sessionrun\u001b[0;34m(self, options, feed_dict, fetch_list, target_list, run_metadata)\u001b[0m\n\u001b[1;32m   1406\u001b[0m         \u001b[0mself\u001b[0m\u001b[0;34m.\u001b[0m\u001b[0m_session\u001b[0m\u001b[0;34m,\u001b[0m \u001b[0moptions\u001b[0m\u001b[0;34m,\u001b[0m \u001b[0mfeed_dict\u001b[0m\u001b[0;34m,\u001b[0m \u001b[0mfetch_list\u001b[0m\u001b[0;34m,\u001b[0m \u001b[0mtarget_list\u001b[0m\u001b[0;34m,\u001b[0m\u001b[0;34m\u001b[0m\u001b[0m\n\u001b[0;32m-> 1407\u001b[0;31m         run_metadata)\n\u001b[0m\u001b[1;32m   1408\u001b[0m \u001b[0;34m\u001b[0m\u001b[0m\n",
        "\u001b[0;31mInternalError\u001b[0m: GPU sync failed",
        "\nDuring handling of the above exception, another exception occurred:\n",
        "\u001b[0;31mInternalError\u001b[0m                             Traceback (most recent call last)",
        "\u001b[0;32m<ipython-input-32-37a66bb39506>\u001b[0m in \u001b[0;36m<module>\u001b[0;34m\u001b[0m\n\u001b[1;32m      4\u001b[0m                     \u001b[0mbatch_size\u001b[0m\u001b[0;34m=\u001b[0m\u001b[0;36m512\u001b[0m\u001b[0;34m,\u001b[0m\u001b[0;34m\u001b[0m\u001b[0m\n\u001b[1;32m      5\u001b[0m                     \u001b[0mvalidation_data\u001b[0m\u001b[0;34m=\u001b[0m\u001b[0;34m(\u001b[0m\u001b[0mx_val\u001b[0m\u001b[0;34m,\u001b[0m \u001b[0my_val\u001b[0m\u001b[0;34m)\u001b[0m\u001b[0;34m,\u001b[0m\u001b[0;34m\u001b[0m\u001b[0m\n\u001b[0;32m----> 6\u001b[0;31m                     verbose=1)\n\u001b[0m",
        "\u001b[0;32m/opt/conda/lib/python3.6/site-packages/tensorflow/python/keras/engine/training.py\u001b[0m in \u001b[0;36mfit\u001b[0;34m(self, x, y, batch_size, epochs, verbose, callbacks, validation_split, validation_data, shuffle, class_weight, sample_weight, initial_epoch, steps_per_epoch, validation_steps, max_queue_size, workers, use_multiprocessing, **kwargs)\u001b[0m\n\u001b[1;32m   1637\u001b[0m           \u001b[0minitial_epoch\u001b[0m\u001b[0;34m=\u001b[0m\u001b[0minitial_epoch\u001b[0m\u001b[0;34m,\u001b[0m\u001b[0;34m\u001b[0m\u001b[0m\n\u001b[1;32m   1638\u001b[0m           \u001b[0msteps_per_epoch\u001b[0m\u001b[0;34m=\u001b[0m\u001b[0msteps_per_epoch\u001b[0m\u001b[0;34m,\u001b[0m\u001b[0;34m\u001b[0m\u001b[0m\n\u001b[0;32m-> 1639\u001b[0;31m           validation_steps=validation_steps)\n\u001b[0m\u001b[1;32m   1640\u001b[0m \u001b[0;34m\u001b[0m\u001b[0m\n\u001b[1;32m   1641\u001b[0m   def evaluate(self,\n",
        "\u001b[0;32m/opt/conda/lib/python3.6/site-packages/tensorflow/python/keras/engine/training_arrays.py\u001b[0m in \u001b[0;36mfit_loop\u001b[0;34m(model, inputs, targets, sample_weights, batch_size, epochs, verbose, callbacks, val_inputs, val_targets, val_sample_weights, shuffle, initial_epoch, steps_per_epoch, validation_steps)\u001b[0m\n\u001b[1;32m    213\u001b[0m           \u001b[0mins_batch\u001b[0m\u001b[0;34m[\u001b[0m\u001b[0mi\u001b[0m\u001b[0;34m]\u001b[0m \u001b[0;34m=\u001b[0m \u001b[0mins_batch\u001b[0m\u001b[0;34m[\u001b[0m\u001b[0mi\u001b[0m\u001b[0;34m]\u001b[0m\u001b[0;34m.\u001b[0m\u001b[0mtoarray\u001b[0m\u001b[0;34m(\u001b[0m\u001b[0;34m)\u001b[0m\u001b[0;34m\u001b[0m\u001b[0m\n\u001b[1;32m    214\u001b[0m \u001b[0;34m\u001b[0m\u001b[0m\n\u001b[0;32m--> 215\u001b[0;31m         \u001b[0mouts\u001b[0m \u001b[0;34m=\u001b[0m \u001b[0mf\u001b[0m\u001b[0;34m(\u001b[0m\u001b[0mins_batch\u001b[0m\u001b[0;34m)\u001b[0m\u001b[0;34m\u001b[0m\u001b[0m\n\u001b[0m\u001b[1;32m    216\u001b[0m         \u001b[0;32mif\u001b[0m \u001b[0;32mnot\u001b[0m \u001b[0misinstance\u001b[0m\u001b[0;34m(\u001b[0m\u001b[0mouts\u001b[0m\u001b[0;34m,\u001b[0m \u001b[0mlist\u001b[0m\u001b[0;34m)\u001b[0m\u001b[0;34m:\u001b[0m\u001b[0;34m\u001b[0m\u001b[0m\n\u001b[1;32m    217\u001b[0m           \u001b[0mouts\u001b[0m \u001b[0;34m=\u001b[0m \u001b[0;34m[\u001b[0m\u001b[0mouts\u001b[0m\u001b[0;34m]\u001b[0m\u001b[0;34m\u001b[0m\u001b[0m\n",
        "\u001b[0;32m/opt/conda/lib/python3.6/site-packages/tensorflow/python/keras/backend.py\u001b[0m in \u001b[0;36m__call__\u001b[0;34m(self, inputs)\u001b[0m\n\u001b[1;32m   2945\u001b[0m       \u001b[0;32mraise\u001b[0m \u001b[0mTypeError\u001b[0m\u001b[0;34m(\u001b[0m\u001b[0;34m'`inputs` should be a list or tuple.'\u001b[0m\u001b[0;34m)\u001b[0m\u001b[0;34m\u001b[0m\u001b[0m\n\u001b[1;32m   2946\u001b[0m \u001b[0;34m\u001b[0m\u001b[0m\n\u001b[0;32m-> 2947\u001b[0;31m     \u001b[0msession\u001b[0m \u001b[0;34m=\u001b[0m \u001b[0mget_session\u001b[0m\u001b[0;34m(\u001b[0m\u001b[0;34m)\u001b[0m\u001b[0;34m\u001b[0m\u001b[0m\n\u001b[0m\u001b[1;32m   2948\u001b[0m     \u001b[0mfeed_arrays\u001b[0m \u001b[0;34m=\u001b[0m \u001b[0;34m[\u001b[0m\u001b[0;34m]\u001b[0m\u001b[0;34m\u001b[0m\u001b[0m\n\u001b[1;32m   2949\u001b[0m     \u001b[0marray_vals\u001b[0m \u001b[0;34m=\u001b[0m \u001b[0;34m[\u001b[0m\u001b[0;34m]\u001b[0m\u001b[0;34m\u001b[0m\u001b[0m\n",
        "\u001b[0;32m/opt/conda/lib/python3.6/site-packages/tensorflow/python/keras/backend.py\u001b[0m in \u001b[0;36mget_session\u001b[0;34m()\u001b[0m\n\u001b[1;32m    467\u001b[0m   \u001b[0;32mif\u001b[0m \u001b[0;32mnot\u001b[0m \u001b[0m_MANUAL_VAR_INIT\u001b[0m\u001b[0;34m:\u001b[0m\u001b[0;34m\u001b[0m\u001b[0m\n\u001b[1;32m    468\u001b[0m     \u001b[0;32mwith\u001b[0m \u001b[0msession\u001b[0m\u001b[0;34m.\u001b[0m\u001b[0mgraph\u001b[0m\u001b[0;34m.\u001b[0m\u001b[0mas_default\u001b[0m\u001b[0;34m(\u001b[0m\u001b[0;34m)\u001b[0m\u001b[0;34m:\u001b[0m\u001b[0;34m\u001b[0m\u001b[0m\n\u001b[0;32m--> 469\u001b[0;31m       \u001b[0m_initialize_variables\u001b[0m\u001b[0;34m(\u001b[0m\u001b[0msession\u001b[0m\u001b[0;34m)\u001b[0m\u001b[0;34m\u001b[0m\u001b[0m\n\u001b[0m\u001b[1;32m    470\u001b[0m   \u001b[0;32mreturn\u001b[0m \u001b[0msession\u001b[0m\u001b[0;34m\u001b[0m\u001b[0m\n\u001b[1;32m    471\u001b[0m \u001b[0;34m\u001b[0m\u001b[0m\n",
        "\u001b[0;32m/opt/conda/lib/python3.6/site-packages/tensorflow/python/keras/backend.py\u001b[0m in \u001b[0;36m_initialize_variables\u001b[0;34m(session)\u001b[0m\n\u001b[1;32m    729\u001b[0m     \u001b[0;31m# marked as initialized.\u001b[0m\u001b[0;34m\u001b[0m\u001b[0;34m\u001b[0m\u001b[0m\n\u001b[1;32m    730\u001b[0m     is_initialized = session.run(\n\u001b[0;32m--> 731\u001b[0;31m         [variables_module.is_variable_initialized(v) for v in candidate_vars])\n\u001b[0m\u001b[1;32m    732\u001b[0m     \u001b[0muninitialized_vars\u001b[0m \u001b[0;34m=\u001b[0m \u001b[0;34m[\u001b[0m\u001b[0;34m]\u001b[0m\u001b[0;34m\u001b[0m\u001b[0m\n\u001b[1;32m    733\u001b[0m     \u001b[0;32mfor\u001b[0m \u001b[0mflag\u001b[0m\u001b[0;34m,\u001b[0m \u001b[0mv\u001b[0m \u001b[0;32min\u001b[0m \u001b[0mzip\u001b[0m\u001b[0;34m(\u001b[0m\u001b[0mis_initialized\u001b[0m\u001b[0;34m,\u001b[0m \u001b[0mcandidate_vars\u001b[0m\u001b[0;34m)\u001b[0m\u001b[0;34m:\u001b[0m\u001b[0;34m\u001b[0m\u001b[0m\n",
        "\u001b[0;32m/opt/conda/lib/python3.6/site-packages/tensorflow/python/client/session.py\u001b[0m in \u001b[0;36mrun\u001b[0;34m(self, fetches, feed_dict, options, run_metadata)\u001b[0m\n\u001b[1;32m    927\u001b[0m     \u001b[0;32mtry\u001b[0m\u001b[0;34m:\u001b[0m\u001b[0;34m\u001b[0m\u001b[0m\n\u001b[1;32m    928\u001b[0m       result = self._run(None, fetches, feed_dict, options_ptr,\n\u001b[0;32m--> 929\u001b[0;31m                          run_metadata_ptr)\n\u001b[0m\u001b[1;32m    930\u001b[0m       \u001b[0;32mif\u001b[0m \u001b[0mrun_metadata\u001b[0m\u001b[0;34m:\u001b[0m\u001b[0;34m\u001b[0m\u001b[0m\n\u001b[1;32m    931\u001b[0m         \u001b[0mproto_data\u001b[0m \u001b[0;34m=\u001b[0m \u001b[0mtf_session\u001b[0m\u001b[0;34m.\u001b[0m\u001b[0mTF_GetBuffer\u001b[0m\u001b[0;34m(\u001b[0m\u001b[0mrun_metadata_ptr\u001b[0m\u001b[0;34m)\u001b[0m\u001b[0;34m\u001b[0m\u001b[0m\n",
        "\u001b[0;32m/opt/conda/lib/python3.6/site-packages/tensorflow/python/client/session.py\u001b[0m in \u001b[0;36m_run\u001b[0;34m(self, handle, fetches, feed_dict, options, run_metadata)\u001b[0m\n\u001b[1;32m   1150\u001b[0m     \u001b[0;32mif\u001b[0m \u001b[0mfinal_fetches\u001b[0m \u001b[0;32mor\u001b[0m \u001b[0mfinal_targets\u001b[0m \u001b[0;32mor\u001b[0m \u001b[0;34m(\u001b[0m\u001b[0mhandle\u001b[0m \u001b[0;32mand\u001b[0m \u001b[0mfeed_dict_tensor\u001b[0m\u001b[0;34m)\u001b[0m\u001b[0;34m:\u001b[0m\u001b[0;34m\u001b[0m\u001b[0m\n\u001b[1;32m   1151\u001b[0m       results = self._do_run(handle, final_targets, final_fetches,\n\u001b[0;32m-> 1152\u001b[0;31m                              feed_dict_tensor, options, run_metadata)\n\u001b[0m\u001b[1;32m   1153\u001b[0m     \u001b[0;32melse\u001b[0m\u001b[0;34m:\u001b[0m\u001b[0;34m\u001b[0m\u001b[0m\n\u001b[1;32m   1154\u001b[0m       \u001b[0mresults\u001b[0m \u001b[0;34m=\u001b[0m \u001b[0;34m[\u001b[0m\u001b[0;34m]\u001b[0m\u001b[0;34m\u001b[0m\u001b[0m\n",
        "\u001b[0;32m/opt/conda/lib/python3.6/site-packages/tensorflow/python/client/session.py\u001b[0m in \u001b[0;36m_do_run\u001b[0;34m(self, handle, target_list, fetch_list, feed_dict, options, run_metadata)\u001b[0m\n\u001b[1;32m   1326\u001b[0m     \u001b[0;32mif\u001b[0m \u001b[0mhandle\u001b[0m \u001b[0;32mis\u001b[0m \u001b[0;32mNone\u001b[0m\u001b[0;34m:\u001b[0m\u001b[0;34m\u001b[0m\u001b[0m\n\u001b[1;32m   1327\u001b[0m       return self._do_call(_run_fn, feeds, fetches, targets, options,\n\u001b[0;32m-> 1328\u001b[0;31m                            run_metadata)\n\u001b[0m\u001b[1;32m   1329\u001b[0m     \u001b[0;32melse\u001b[0m\u001b[0;34m:\u001b[0m\u001b[0;34m\u001b[0m\u001b[0m\n\u001b[1;32m   1330\u001b[0m       \u001b[0;32mreturn\u001b[0m \u001b[0mself\u001b[0m\u001b[0;34m.\u001b[0m\u001b[0m_do_call\u001b[0m\u001b[0;34m(\u001b[0m\u001b[0m_prun_fn\u001b[0m\u001b[0;34m,\u001b[0m \u001b[0mhandle\u001b[0m\u001b[0;34m,\u001b[0m \u001b[0mfeeds\u001b[0m\u001b[0;34m,\u001b[0m \u001b[0mfetches\u001b[0m\u001b[0;34m)\u001b[0m\u001b[0;34m\u001b[0m\u001b[0m\n",
        "\u001b[0;32m/opt/conda/lib/python3.6/site-packages/tensorflow/python/client/session.py\u001b[0m in \u001b[0;36m_do_call\u001b[0;34m(self, fn, *args)\u001b[0m\n\u001b[1;32m   1346\u001b[0m           \u001b[0;32mpass\u001b[0m\u001b[0;34m\u001b[0m\u001b[0m\n\u001b[1;32m   1347\u001b[0m       \u001b[0mmessage\u001b[0m \u001b[0;34m=\u001b[0m \u001b[0merror_interpolation\u001b[0m\u001b[0;34m.\u001b[0m\u001b[0minterpolate\u001b[0m\u001b[0;34m(\u001b[0m\u001b[0mmessage\u001b[0m\u001b[0;34m,\u001b[0m \u001b[0mself\u001b[0m\u001b[0;34m.\u001b[0m\u001b[0m_graph\u001b[0m\u001b[0;34m)\u001b[0m\u001b[0;34m\u001b[0m\u001b[0m\n\u001b[0;32m-> 1348\u001b[0;31m       \u001b[0;32mraise\u001b[0m \u001b[0mtype\u001b[0m\u001b[0;34m(\u001b[0m\u001b[0me\u001b[0m\u001b[0;34m)\u001b[0m\u001b[0;34m(\u001b[0m\u001b[0mnode_def\u001b[0m\u001b[0;34m,\u001b[0m \u001b[0mop\u001b[0m\u001b[0;34m,\u001b[0m \u001b[0mmessage\u001b[0m\u001b[0;34m)\u001b[0m\u001b[0;34m\u001b[0m\u001b[0m\n\u001b[0m\u001b[1;32m   1349\u001b[0m \u001b[0;34m\u001b[0m\u001b[0m\n\u001b[1;32m   1350\u001b[0m   \u001b[0;32mdef\u001b[0m \u001b[0m_extend_graph\u001b[0m\u001b[0;34m(\u001b[0m\u001b[0mself\u001b[0m\u001b[0;34m)\u001b[0m\u001b[0;34m:\u001b[0m\u001b[0;34m\u001b[0m\u001b[0m\n",
        "\u001b[0;31mInternalError\u001b[0m: GPU sync failed"
       ]
      }
     ],
     "persistentId": "18b36dfe-87de-4d6c-b20b-a941517e209b",
     "text": "history = model.fit(partial_x_train,\n                    partial_y_train,\n                    epochs=20,\n                    batch_size=512,\n                    validation_data=(x_val, y_val),\n                    verbose=1)"
    },
    "executionTime": "2020-03-08T15:17:39.147Z"
   },
   {
    "cell": {
     "executionCount": 33,
     "executionEventId": "20b902c4-6368-4850-9d4c-702bae340b71",
     "hasError": true,
     "id": "94fadb54-ab8e-47eb-a702-322249f13e87",
     "outputs": [
      {
       "name": "stdout",
       "output_type": "stream",
       "text": "Train on 15000 samples, validate on 10000 samples\nEpoch 1/20\n"
      },
      {
       "ename": "InternalError",
       "evalue": "GPU sync failed",
       "output_type": "error",
       "traceback": [
        "\u001b[0;31m---------------------------------------------------------------------------\u001b[0m",
        "\u001b[0;31mInternalError\u001b[0m                             Traceback (most recent call last)",
        "\u001b[0;32m/opt/conda/lib/python3.6/site-packages/tensorflow/python/client/session.py\u001b[0m in \u001b[0;36m_do_call\u001b[0;34m(self, fn, *args)\u001b[0m\n\u001b[1;32m   1333\u001b[0m     \u001b[0;32mtry\u001b[0m\u001b[0;34m:\u001b[0m\u001b[0;34m\u001b[0m\u001b[0m\n\u001b[0;32m-> 1334\u001b[0;31m       \u001b[0;32mreturn\u001b[0m \u001b[0mfn\u001b[0m\u001b[0;34m(\u001b[0m\u001b[0;34m*\u001b[0m\u001b[0margs\u001b[0m\u001b[0;34m)\u001b[0m\u001b[0;34m\u001b[0m\u001b[0m\n\u001b[0m\u001b[1;32m   1335\u001b[0m     \u001b[0;32mexcept\u001b[0m \u001b[0merrors\u001b[0m\u001b[0;34m.\u001b[0m\u001b[0mOpError\u001b[0m \u001b[0;32mas\u001b[0m \u001b[0me\u001b[0m\u001b[0;34m:\u001b[0m\u001b[0;34m\u001b[0m\u001b[0m\n",
        "\u001b[0;32m/opt/conda/lib/python3.6/site-packages/tensorflow/python/client/session.py\u001b[0m in \u001b[0;36m_run_fn\u001b[0;34m(feed_dict, fetch_list, target_list, options, run_metadata)\u001b[0m\n\u001b[1;32m   1318\u001b[0m       return self._call_tf_sessionrun(\n\u001b[0;32m-> 1319\u001b[0;31m           options, feed_dict, fetch_list, target_list, run_metadata)\n\u001b[0m\u001b[1;32m   1320\u001b[0m \u001b[0;34m\u001b[0m\u001b[0m\n",
        "\u001b[0;32m/opt/conda/lib/python3.6/site-packages/tensorflow/python/client/session.py\u001b[0m in \u001b[0;36m_call_tf_sessionrun\u001b[0;34m(self, options, feed_dict, fetch_list, target_list, run_metadata)\u001b[0m\n\u001b[1;32m   1406\u001b[0m         \u001b[0mself\u001b[0m\u001b[0;34m.\u001b[0m\u001b[0m_session\u001b[0m\u001b[0;34m,\u001b[0m \u001b[0moptions\u001b[0m\u001b[0;34m,\u001b[0m \u001b[0mfeed_dict\u001b[0m\u001b[0;34m,\u001b[0m \u001b[0mfetch_list\u001b[0m\u001b[0;34m,\u001b[0m \u001b[0mtarget_list\u001b[0m\u001b[0;34m,\u001b[0m\u001b[0;34m\u001b[0m\u001b[0m\n\u001b[0;32m-> 1407\u001b[0;31m         run_metadata)\n\u001b[0m\u001b[1;32m   1408\u001b[0m \u001b[0;34m\u001b[0m\u001b[0m\n",
        "\u001b[0;31mInternalError\u001b[0m: GPU sync failed",
        "\nDuring handling of the above exception, another exception occurred:\n",
        "\u001b[0;31mInternalError\u001b[0m                             Traceback (most recent call last)",
        "\u001b[0;32m<ipython-input-33-37a66bb39506>\u001b[0m in \u001b[0;36m<module>\u001b[0;34m\u001b[0m\n\u001b[1;32m      4\u001b[0m                     \u001b[0mbatch_size\u001b[0m\u001b[0;34m=\u001b[0m\u001b[0;36m512\u001b[0m\u001b[0;34m,\u001b[0m\u001b[0;34m\u001b[0m\u001b[0m\n\u001b[1;32m      5\u001b[0m                     \u001b[0mvalidation_data\u001b[0m\u001b[0;34m=\u001b[0m\u001b[0;34m(\u001b[0m\u001b[0mx_val\u001b[0m\u001b[0;34m,\u001b[0m \u001b[0my_val\u001b[0m\u001b[0;34m)\u001b[0m\u001b[0;34m,\u001b[0m\u001b[0;34m\u001b[0m\u001b[0m\n\u001b[0;32m----> 6\u001b[0;31m                     verbose=1)\n\u001b[0m",
        "\u001b[0;32m/opt/conda/lib/python3.6/site-packages/tensorflow/python/keras/engine/training.py\u001b[0m in \u001b[0;36mfit\u001b[0;34m(self, x, y, batch_size, epochs, verbose, callbacks, validation_split, validation_data, shuffle, class_weight, sample_weight, initial_epoch, steps_per_epoch, validation_steps, max_queue_size, workers, use_multiprocessing, **kwargs)\u001b[0m\n\u001b[1;32m   1637\u001b[0m           \u001b[0minitial_epoch\u001b[0m\u001b[0;34m=\u001b[0m\u001b[0minitial_epoch\u001b[0m\u001b[0;34m,\u001b[0m\u001b[0;34m\u001b[0m\u001b[0m\n\u001b[1;32m   1638\u001b[0m           \u001b[0msteps_per_epoch\u001b[0m\u001b[0;34m=\u001b[0m\u001b[0msteps_per_epoch\u001b[0m\u001b[0;34m,\u001b[0m\u001b[0;34m\u001b[0m\u001b[0m\n\u001b[0;32m-> 1639\u001b[0;31m           validation_steps=validation_steps)\n\u001b[0m\u001b[1;32m   1640\u001b[0m \u001b[0;34m\u001b[0m\u001b[0m\n\u001b[1;32m   1641\u001b[0m   def evaluate(self,\n",
        "\u001b[0;32m/opt/conda/lib/python3.6/site-packages/tensorflow/python/keras/engine/training_arrays.py\u001b[0m in \u001b[0;36mfit_loop\u001b[0;34m(model, inputs, targets, sample_weights, batch_size, epochs, verbose, callbacks, val_inputs, val_targets, val_sample_weights, shuffle, initial_epoch, steps_per_epoch, validation_steps)\u001b[0m\n\u001b[1;32m    213\u001b[0m           \u001b[0mins_batch\u001b[0m\u001b[0;34m[\u001b[0m\u001b[0mi\u001b[0m\u001b[0;34m]\u001b[0m \u001b[0;34m=\u001b[0m \u001b[0mins_batch\u001b[0m\u001b[0;34m[\u001b[0m\u001b[0mi\u001b[0m\u001b[0;34m]\u001b[0m\u001b[0;34m.\u001b[0m\u001b[0mtoarray\u001b[0m\u001b[0;34m(\u001b[0m\u001b[0;34m)\u001b[0m\u001b[0;34m\u001b[0m\u001b[0m\n\u001b[1;32m    214\u001b[0m \u001b[0;34m\u001b[0m\u001b[0m\n\u001b[0;32m--> 215\u001b[0;31m         \u001b[0mouts\u001b[0m \u001b[0;34m=\u001b[0m \u001b[0mf\u001b[0m\u001b[0;34m(\u001b[0m\u001b[0mins_batch\u001b[0m\u001b[0;34m)\u001b[0m\u001b[0;34m\u001b[0m\u001b[0m\n\u001b[0m\u001b[1;32m    216\u001b[0m         \u001b[0;32mif\u001b[0m \u001b[0;32mnot\u001b[0m \u001b[0misinstance\u001b[0m\u001b[0;34m(\u001b[0m\u001b[0mouts\u001b[0m\u001b[0;34m,\u001b[0m \u001b[0mlist\u001b[0m\u001b[0;34m)\u001b[0m\u001b[0;34m:\u001b[0m\u001b[0;34m\u001b[0m\u001b[0m\n\u001b[1;32m    217\u001b[0m           \u001b[0mouts\u001b[0m \u001b[0;34m=\u001b[0m \u001b[0;34m[\u001b[0m\u001b[0mouts\u001b[0m\u001b[0;34m]\u001b[0m\u001b[0;34m\u001b[0m\u001b[0m\n",
        "\u001b[0;32m/opt/conda/lib/python3.6/site-packages/tensorflow/python/keras/backend.py\u001b[0m in \u001b[0;36m__call__\u001b[0;34m(self, inputs)\u001b[0m\n\u001b[1;32m   2945\u001b[0m       \u001b[0;32mraise\u001b[0m \u001b[0mTypeError\u001b[0m\u001b[0;34m(\u001b[0m\u001b[0;34m'`inputs` should be a list or tuple.'\u001b[0m\u001b[0;34m)\u001b[0m\u001b[0;34m\u001b[0m\u001b[0m\n\u001b[1;32m   2946\u001b[0m \u001b[0;34m\u001b[0m\u001b[0m\n\u001b[0;32m-> 2947\u001b[0;31m     \u001b[0msession\u001b[0m \u001b[0;34m=\u001b[0m \u001b[0mget_session\u001b[0m\u001b[0;34m(\u001b[0m\u001b[0;34m)\u001b[0m\u001b[0;34m\u001b[0m\u001b[0m\n\u001b[0m\u001b[1;32m   2948\u001b[0m     \u001b[0mfeed_arrays\u001b[0m \u001b[0;34m=\u001b[0m \u001b[0;34m[\u001b[0m\u001b[0;34m]\u001b[0m\u001b[0;34m\u001b[0m\u001b[0m\n\u001b[1;32m   2949\u001b[0m     \u001b[0marray_vals\u001b[0m \u001b[0;34m=\u001b[0m \u001b[0;34m[\u001b[0m\u001b[0;34m]\u001b[0m\u001b[0;34m\u001b[0m\u001b[0m\n",
        "\u001b[0;32m/opt/conda/lib/python3.6/site-packages/tensorflow/python/keras/backend.py\u001b[0m in \u001b[0;36mget_session\u001b[0;34m()\u001b[0m\n\u001b[1;32m    467\u001b[0m   \u001b[0;32mif\u001b[0m \u001b[0;32mnot\u001b[0m \u001b[0m_MANUAL_VAR_INIT\u001b[0m\u001b[0;34m:\u001b[0m\u001b[0;34m\u001b[0m\u001b[0m\n\u001b[1;32m    468\u001b[0m     \u001b[0;32mwith\u001b[0m \u001b[0msession\u001b[0m\u001b[0;34m.\u001b[0m\u001b[0mgraph\u001b[0m\u001b[0;34m.\u001b[0m\u001b[0mas_default\u001b[0m\u001b[0;34m(\u001b[0m\u001b[0;34m)\u001b[0m\u001b[0;34m:\u001b[0m\u001b[0;34m\u001b[0m\u001b[0m\n\u001b[0;32m--> 469\u001b[0;31m       \u001b[0m_initialize_variables\u001b[0m\u001b[0;34m(\u001b[0m\u001b[0msession\u001b[0m\u001b[0;34m)\u001b[0m\u001b[0;34m\u001b[0m\u001b[0m\n\u001b[0m\u001b[1;32m    470\u001b[0m   \u001b[0;32mreturn\u001b[0m \u001b[0msession\u001b[0m\u001b[0;34m\u001b[0m\u001b[0m\n\u001b[1;32m    471\u001b[0m \u001b[0;34m\u001b[0m\u001b[0m\n",
        "\u001b[0;32m/opt/conda/lib/python3.6/site-packages/tensorflow/python/keras/backend.py\u001b[0m in \u001b[0;36m_initialize_variables\u001b[0;34m(session)\u001b[0m\n\u001b[1;32m    729\u001b[0m     \u001b[0;31m# marked as initialized.\u001b[0m\u001b[0;34m\u001b[0m\u001b[0;34m\u001b[0m\u001b[0m\n\u001b[1;32m    730\u001b[0m     is_initialized = session.run(\n\u001b[0;32m--> 731\u001b[0;31m         [variables_module.is_variable_initialized(v) for v in candidate_vars])\n\u001b[0m\u001b[1;32m    732\u001b[0m     \u001b[0muninitialized_vars\u001b[0m \u001b[0;34m=\u001b[0m \u001b[0;34m[\u001b[0m\u001b[0;34m]\u001b[0m\u001b[0;34m\u001b[0m\u001b[0m\n\u001b[1;32m    733\u001b[0m     \u001b[0;32mfor\u001b[0m \u001b[0mflag\u001b[0m\u001b[0;34m,\u001b[0m \u001b[0mv\u001b[0m \u001b[0;32min\u001b[0m \u001b[0mzip\u001b[0m\u001b[0;34m(\u001b[0m\u001b[0mis_initialized\u001b[0m\u001b[0;34m,\u001b[0m \u001b[0mcandidate_vars\u001b[0m\u001b[0;34m)\u001b[0m\u001b[0;34m:\u001b[0m\u001b[0;34m\u001b[0m\u001b[0m\n",
        "\u001b[0;32m/opt/conda/lib/python3.6/site-packages/tensorflow/python/client/session.py\u001b[0m in \u001b[0;36mrun\u001b[0;34m(self, fetches, feed_dict, options, run_metadata)\u001b[0m\n\u001b[1;32m    927\u001b[0m     \u001b[0;32mtry\u001b[0m\u001b[0;34m:\u001b[0m\u001b[0;34m\u001b[0m\u001b[0m\n\u001b[1;32m    928\u001b[0m       result = self._run(None, fetches, feed_dict, options_ptr,\n\u001b[0;32m--> 929\u001b[0;31m                          run_metadata_ptr)\n\u001b[0m\u001b[1;32m    930\u001b[0m       \u001b[0;32mif\u001b[0m \u001b[0mrun_metadata\u001b[0m\u001b[0;34m:\u001b[0m\u001b[0;34m\u001b[0m\u001b[0m\n\u001b[1;32m    931\u001b[0m         \u001b[0mproto_data\u001b[0m \u001b[0;34m=\u001b[0m \u001b[0mtf_session\u001b[0m\u001b[0;34m.\u001b[0m\u001b[0mTF_GetBuffer\u001b[0m\u001b[0;34m(\u001b[0m\u001b[0mrun_metadata_ptr\u001b[0m\u001b[0;34m)\u001b[0m\u001b[0;34m\u001b[0m\u001b[0m\n",
        "\u001b[0;32m/opt/conda/lib/python3.6/site-packages/tensorflow/python/client/session.py\u001b[0m in \u001b[0;36m_run\u001b[0;34m(self, handle, fetches, feed_dict, options, run_metadata)\u001b[0m\n\u001b[1;32m   1150\u001b[0m     \u001b[0;32mif\u001b[0m \u001b[0mfinal_fetches\u001b[0m \u001b[0;32mor\u001b[0m \u001b[0mfinal_targets\u001b[0m \u001b[0;32mor\u001b[0m \u001b[0;34m(\u001b[0m\u001b[0mhandle\u001b[0m \u001b[0;32mand\u001b[0m \u001b[0mfeed_dict_tensor\u001b[0m\u001b[0;34m)\u001b[0m\u001b[0;34m:\u001b[0m\u001b[0;34m\u001b[0m\u001b[0m\n\u001b[1;32m   1151\u001b[0m       results = self._do_run(handle, final_targets, final_fetches,\n\u001b[0;32m-> 1152\u001b[0;31m                              feed_dict_tensor, options, run_metadata)\n\u001b[0m\u001b[1;32m   1153\u001b[0m     \u001b[0;32melse\u001b[0m\u001b[0;34m:\u001b[0m\u001b[0;34m\u001b[0m\u001b[0m\n\u001b[1;32m   1154\u001b[0m       \u001b[0mresults\u001b[0m \u001b[0;34m=\u001b[0m \u001b[0;34m[\u001b[0m\u001b[0;34m]\u001b[0m\u001b[0;34m\u001b[0m\u001b[0m\n",
        "\u001b[0;32m/opt/conda/lib/python3.6/site-packages/tensorflow/python/client/session.py\u001b[0m in \u001b[0;36m_do_run\u001b[0;34m(self, handle, target_list, fetch_list, feed_dict, options, run_metadata)\u001b[0m\n\u001b[1;32m   1326\u001b[0m     \u001b[0;32mif\u001b[0m \u001b[0mhandle\u001b[0m \u001b[0;32mis\u001b[0m \u001b[0;32mNone\u001b[0m\u001b[0;34m:\u001b[0m\u001b[0;34m\u001b[0m\u001b[0m\n\u001b[1;32m   1327\u001b[0m       return self._do_call(_run_fn, feeds, fetches, targets, options,\n\u001b[0;32m-> 1328\u001b[0;31m                            run_metadata)\n\u001b[0m\u001b[1;32m   1329\u001b[0m     \u001b[0;32melse\u001b[0m\u001b[0;34m:\u001b[0m\u001b[0;34m\u001b[0m\u001b[0m\n\u001b[1;32m   1330\u001b[0m       \u001b[0;32mreturn\u001b[0m \u001b[0mself\u001b[0m\u001b[0;34m.\u001b[0m\u001b[0m_do_call\u001b[0m\u001b[0;34m(\u001b[0m\u001b[0m_prun_fn\u001b[0m\u001b[0;34m,\u001b[0m \u001b[0mhandle\u001b[0m\u001b[0;34m,\u001b[0m \u001b[0mfeeds\u001b[0m\u001b[0;34m,\u001b[0m \u001b[0mfetches\u001b[0m\u001b[0;34m)\u001b[0m\u001b[0;34m\u001b[0m\u001b[0m\n",
        "\u001b[0;32m/opt/conda/lib/python3.6/site-packages/tensorflow/python/client/session.py\u001b[0m in \u001b[0;36m_do_call\u001b[0;34m(self, fn, *args)\u001b[0m\n\u001b[1;32m   1346\u001b[0m           \u001b[0;32mpass\u001b[0m\u001b[0;34m\u001b[0m\u001b[0m\n\u001b[1;32m   1347\u001b[0m       \u001b[0mmessage\u001b[0m \u001b[0;34m=\u001b[0m \u001b[0merror_interpolation\u001b[0m\u001b[0;34m.\u001b[0m\u001b[0minterpolate\u001b[0m\u001b[0;34m(\u001b[0m\u001b[0mmessage\u001b[0m\u001b[0;34m,\u001b[0m \u001b[0mself\u001b[0m\u001b[0;34m.\u001b[0m\u001b[0m_graph\u001b[0m\u001b[0;34m)\u001b[0m\u001b[0;34m\u001b[0m\u001b[0m\n\u001b[0;32m-> 1348\u001b[0;31m       \u001b[0;32mraise\u001b[0m \u001b[0mtype\u001b[0m\u001b[0;34m(\u001b[0m\u001b[0me\u001b[0m\u001b[0;34m)\u001b[0m\u001b[0;34m(\u001b[0m\u001b[0mnode_def\u001b[0m\u001b[0;34m,\u001b[0m \u001b[0mop\u001b[0m\u001b[0;34m,\u001b[0m \u001b[0mmessage\u001b[0m\u001b[0;34m)\u001b[0m\u001b[0;34m\u001b[0m\u001b[0m\n\u001b[0m\u001b[1;32m   1349\u001b[0m \u001b[0;34m\u001b[0m\u001b[0m\n\u001b[1;32m   1350\u001b[0m   \u001b[0;32mdef\u001b[0m \u001b[0m_extend_graph\u001b[0m\u001b[0;34m(\u001b[0m\u001b[0mself\u001b[0m\u001b[0;34m)\u001b[0m\u001b[0;34m:\u001b[0m\u001b[0;34m\u001b[0m\u001b[0m\n",
        "\u001b[0;31mInternalError\u001b[0m: GPU sync failed"
       ]
      }
     ],
     "persistentId": "18b36dfe-87de-4d6c-b20b-a941517e209b",
     "text": "history = model.fit(partial_x_train,\n                    partial_y_train,\n                    epochs=20,\n                    batch_size=512,\n                    validation_data=(x_val, y_val),\n                    verbose=1)"
    },
    "executionTime": "2020-03-08T15:18:06.179Z"
   },
   {
    "cell": {
     "executionCount": 34,
     "executionEventId": "b88466e6-8329-494b-acdf-98ba49724378",
     "hasError": true,
     "id": "94fadb54-ab8e-47eb-a702-322249f13e87",
     "outputs": [
      {
       "name": "stdout",
       "output_type": "stream",
       "text": "Train on 15000 samples, validate on 10000 samples\nEpoch 1/20\n"
      },
      {
       "ename": "InternalError",
       "evalue": "GPU sync failed",
       "output_type": "error",
       "traceback": [
        "\u001b[0;31m---------------------------------------------------------------------------\u001b[0m",
        "\u001b[0;31mInternalError\u001b[0m                             Traceback (most recent call last)",
        "\u001b[0;32m/opt/conda/lib/python3.6/site-packages/tensorflow/python/client/session.py\u001b[0m in \u001b[0;36m_do_call\u001b[0;34m(self, fn, *args)\u001b[0m\n\u001b[1;32m   1333\u001b[0m     \u001b[0;32mtry\u001b[0m\u001b[0;34m:\u001b[0m\u001b[0;34m\u001b[0m\u001b[0m\n\u001b[0;32m-> 1334\u001b[0;31m       \u001b[0;32mreturn\u001b[0m \u001b[0mfn\u001b[0m\u001b[0;34m(\u001b[0m\u001b[0;34m*\u001b[0m\u001b[0margs\u001b[0m\u001b[0;34m)\u001b[0m\u001b[0;34m\u001b[0m\u001b[0m\n\u001b[0m\u001b[1;32m   1335\u001b[0m     \u001b[0;32mexcept\u001b[0m \u001b[0merrors\u001b[0m\u001b[0;34m.\u001b[0m\u001b[0mOpError\u001b[0m \u001b[0;32mas\u001b[0m \u001b[0me\u001b[0m\u001b[0;34m:\u001b[0m\u001b[0;34m\u001b[0m\u001b[0m\n",
        "\u001b[0;32m/opt/conda/lib/python3.6/site-packages/tensorflow/python/client/session.py\u001b[0m in \u001b[0;36m_run_fn\u001b[0;34m(feed_dict, fetch_list, target_list, options, run_metadata)\u001b[0m\n\u001b[1;32m   1318\u001b[0m       return self._call_tf_sessionrun(\n\u001b[0;32m-> 1319\u001b[0;31m           options, feed_dict, fetch_list, target_list, run_metadata)\n\u001b[0m\u001b[1;32m   1320\u001b[0m \u001b[0;34m\u001b[0m\u001b[0m\n",
        "\u001b[0;32m/opt/conda/lib/python3.6/site-packages/tensorflow/python/client/session.py\u001b[0m in \u001b[0;36m_call_tf_sessionrun\u001b[0;34m(self, options, feed_dict, fetch_list, target_list, run_metadata)\u001b[0m\n\u001b[1;32m   1406\u001b[0m         \u001b[0mself\u001b[0m\u001b[0;34m.\u001b[0m\u001b[0m_session\u001b[0m\u001b[0;34m,\u001b[0m \u001b[0moptions\u001b[0m\u001b[0;34m,\u001b[0m \u001b[0mfeed_dict\u001b[0m\u001b[0;34m,\u001b[0m \u001b[0mfetch_list\u001b[0m\u001b[0;34m,\u001b[0m \u001b[0mtarget_list\u001b[0m\u001b[0;34m,\u001b[0m\u001b[0;34m\u001b[0m\u001b[0m\n\u001b[0;32m-> 1407\u001b[0;31m         run_metadata)\n\u001b[0m\u001b[1;32m   1408\u001b[0m \u001b[0;34m\u001b[0m\u001b[0m\n",
        "\u001b[0;31mInternalError\u001b[0m: GPU sync failed",
        "\nDuring handling of the above exception, another exception occurred:\n",
        "\u001b[0;31mInternalError\u001b[0m                             Traceback (most recent call last)",
        "\u001b[0;32m<ipython-input-34-37a66bb39506>\u001b[0m in \u001b[0;36m<module>\u001b[0;34m\u001b[0m\n\u001b[1;32m      4\u001b[0m                     \u001b[0mbatch_size\u001b[0m\u001b[0;34m=\u001b[0m\u001b[0;36m512\u001b[0m\u001b[0;34m,\u001b[0m\u001b[0;34m\u001b[0m\u001b[0m\n\u001b[1;32m      5\u001b[0m                     \u001b[0mvalidation_data\u001b[0m\u001b[0;34m=\u001b[0m\u001b[0;34m(\u001b[0m\u001b[0mx_val\u001b[0m\u001b[0;34m,\u001b[0m \u001b[0my_val\u001b[0m\u001b[0;34m)\u001b[0m\u001b[0;34m,\u001b[0m\u001b[0;34m\u001b[0m\u001b[0m\n\u001b[0;32m----> 6\u001b[0;31m                     verbose=1)\n\u001b[0m",
        "\u001b[0;32m/opt/conda/lib/python3.6/site-packages/tensorflow/python/keras/engine/training.py\u001b[0m in \u001b[0;36mfit\u001b[0;34m(self, x, y, batch_size, epochs, verbose, callbacks, validation_split, validation_data, shuffle, class_weight, sample_weight, initial_epoch, steps_per_epoch, validation_steps, max_queue_size, workers, use_multiprocessing, **kwargs)\u001b[0m\n\u001b[1;32m   1637\u001b[0m           \u001b[0minitial_epoch\u001b[0m\u001b[0;34m=\u001b[0m\u001b[0minitial_epoch\u001b[0m\u001b[0;34m,\u001b[0m\u001b[0;34m\u001b[0m\u001b[0m\n\u001b[1;32m   1638\u001b[0m           \u001b[0msteps_per_epoch\u001b[0m\u001b[0;34m=\u001b[0m\u001b[0msteps_per_epoch\u001b[0m\u001b[0;34m,\u001b[0m\u001b[0;34m\u001b[0m\u001b[0m\n\u001b[0;32m-> 1639\u001b[0;31m           validation_steps=validation_steps)\n\u001b[0m\u001b[1;32m   1640\u001b[0m \u001b[0;34m\u001b[0m\u001b[0m\n\u001b[1;32m   1641\u001b[0m   def evaluate(self,\n",
        "\u001b[0;32m/opt/conda/lib/python3.6/site-packages/tensorflow/python/keras/engine/training_arrays.py\u001b[0m in \u001b[0;36mfit_loop\u001b[0;34m(model, inputs, targets, sample_weights, batch_size, epochs, verbose, callbacks, val_inputs, val_targets, val_sample_weights, shuffle, initial_epoch, steps_per_epoch, validation_steps)\u001b[0m\n\u001b[1;32m    213\u001b[0m           \u001b[0mins_batch\u001b[0m\u001b[0;34m[\u001b[0m\u001b[0mi\u001b[0m\u001b[0;34m]\u001b[0m \u001b[0;34m=\u001b[0m \u001b[0mins_batch\u001b[0m\u001b[0;34m[\u001b[0m\u001b[0mi\u001b[0m\u001b[0;34m]\u001b[0m\u001b[0;34m.\u001b[0m\u001b[0mtoarray\u001b[0m\u001b[0;34m(\u001b[0m\u001b[0;34m)\u001b[0m\u001b[0;34m\u001b[0m\u001b[0m\n\u001b[1;32m    214\u001b[0m \u001b[0;34m\u001b[0m\u001b[0m\n\u001b[0;32m--> 215\u001b[0;31m         \u001b[0mouts\u001b[0m \u001b[0;34m=\u001b[0m \u001b[0mf\u001b[0m\u001b[0;34m(\u001b[0m\u001b[0mins_batch\u001b[0m\u001b[0;34m)\u001b[0m\u001b[0;34m\u001b[0m\u001b[0m\n\u001b[0m\u001b[1;32m    216\u001b[0m         \u001b[0;32mif\u001b[0m \u001b[0;32mnot\u001b[0m \u001b[0misinstance\u001b[0m\u001b[0;34m(\u001b[0m\u001b[0mouts\u001b[0m\u001b[0;34m,\u001b[0m \u001b[0mlist\u001b[0m\u001b[0;34m)\u001b[0m\u001b[0;34m:\u001b[0m\u001b[0;34m\u001b[0m\u001b[0m\n\u001b[1;32m    217\u001b[0m           \u001b[0mouts\u001b[0m \u001b[0;34m=\u001b[0m \u001b[0;34m[\u001b[0m\u001b[0mouts\u001b[0m\u001b[0;34m]\u001b[0m\u001b[0;34m\u001b[0m\u001b[0m\n",
        "\u001b[0;32m/opt/conda/lib/python3.6/site-packages/tensorflow/python/keras/backend.py\u001b[0m in \u001b[0;36m__call__\u001b[0;34m(self, inputs)\u001b[0m\n\u001b[1;32m   2945\u001b[0m       \u001b[0;32mraise\u001b[0m \u001b[0mTypeError\u001b[0m\u001b[0;34m(\u001b[0m\u001b[0;34m'`inputs` should be a list or tuple.'\u001b[0m\u001b[0;34m)\u001b[0m\u001b[0;34m\u001b[0m\u001b[0m\n\u001b[1;32m   2946\u001b[0m \u001b[0;34m\u001b[0m\u001b[0m\n\u001b[0;32m-> 2947\u001b[0;31m     \u001b[0msession\u001b[0m \u001b[0;34m=\u001b[0m \u001b[0mget_session\u001b[0m\u001b[0;34m(\u001b[0m\u001b[0;34m)\u001b[0m\u001b[0;34m\u001b[0m\u001b[0m\n\u001b[0m\u001b[1;32m   2948\u001b[0m     \u001b[0mfeed_arrays\u001b[0m \u001b[0;34m=\u001b[0m \u001b[0;34m[\u001b[0m\u001b[0;34m]\u001b[0m\u001b[0;34m\u001b[0m\u001b[0m\n\u001b[1;32m   2949\u001b[0m     \u001b[0marray_vals\u001b[0m \u001b[0;34m=\u001b[0m \u001b[0;34m[\u001b[0m\u001b[0;34m]\u001b[0m\u001b[0;34m\u001b[0m\u001b[0m\n",
        "\u001b[0;32m/opt/conda/lib/python3.6/site-packages/tensorflow/python/keras/backend.py\u001b[0m in \u001b[0;36mget_session\u001b[0;34m()\u001b[0m\n\u001b[1;32m    467\u001b[0m   \u001b[0;32mif\u001b[0m \u001b[0;32mnot\u001b[0m \u001b[0m_MANUAL_VAR_INIT\u001b[0m\u001b[0;34m:\u001b[0m\u001b[0;34m\u001b[0m\u001b[0m\n\u001b[1;32m    468\u001b[0m     \u001b[0;32mwith\u001b[0m \u001b[0msession\u001b[0m\u001b[0;34m.\u001b[0m\u001b[0mgraph\u001b[0m\u001b[0;34m.\u001b[0m\u001b[0mas_default\u001b[0m\u001b[0;34m(\u001b[0m\u001b[0;34m)\u001b[0m\u001b[0;34m:\u001b[0m\u001b[0;34m\u001b[0m\u001b[0m\n\u001b[0;32m--> 469\u001b[0;31m       \u001b[0m_initialize_variables\u001b[0m\u001b[0;34m(\u001b[0m\u001b[0msession\u001b[0m\u001b[0;34m)\u001b[0m\u001b[0;34m\u001b[0m\u001b[0m\n\u001b[0m\u001b[1;32m    470\u001b[0m   \u001b[0;32mreturn\u001b[0m \u001b[0msession\u001b[0m\u001b[0;34m\u001b[0m\u001b[0m\n\u001b[1;32m    471\u001b[0m \u001b[0;34m\u001b[0m\u001b[0m\n",
        "\u001b[0;32m/opt/conda/lib/python3.6/site-packages/tensorflow/python/keras/backend.py\u001b[0m in \u001b[0;36m_initialize_variables\u001b[0;34m(session)\u001b[0m\n\u001b[1;32m    729\u001b[0m     \u001b[0;31m# marked as initialized.\u001b[0m\u001b[0;34m\u001b[0m\u001b[0;34m\u001b[0m\u001b[0m\n\u001b[1;32m    730\u001b[0m     is_initialized = session.run(\n\u001b[0;32m--> 731\u001b[0;31m         [variables_module.is_variable_initialized(v) for v in candidate_vars])\n\u001b[0m\u001b[1;32m    732\u001b[0m     \u001b[0muninitialized_vars\u001b[0m \u001b[0;34m=\u001b[0m \u001b[0;34m[\u001b[0m\u001b[0;34m]\u001b[0m\u001b[0;34m\u001b[0m\u001b[0m\n\u001b[1;32m    733\u001b[0m     \u001b[0;32mfor\u001b[0m \u001b[0mflag\u001b[0m\u001b[0;34m,\u001b[0m \u001b[0mv\u001b[0m \u001b[0;32min\u001b[0m \u001b[0mzip\u001b[0m\u001b[0;34m(\u001b[0m\u001b[0mis_initialized\u001b[0m\u001b[0;34m,\u001b[0m \u001b[0mcandidate_vars\u001b[0m\u001b[0;34m)\u001b[0m\u001b[0;34m:\u001b[0m\u001b[0;34m\u001b[0m\u001b[0m\n",
        "\u001b[0;32m/opt/conda/lib/python3.6/site-packages/tensorflow/python/client/session.py\u001b[0m in \u001b[0;36mrun\u001b[0;34m(self, fetches, feed_dict, options, run_metadata)\u001b[0m\n\u001b[1;32m    927\u001b[0m     \u001b[0;32mtry\u001b[0m\u001b[0;34m:\u001b[0m\u001b[0;34m\u001b[0m\u001b[0m\n\u001b[1;32m    928\u001b[0m       result = self._run(None, fetches, feed_dict, options_ptr,\n\u001b[0;32m--> 929\u001b[0;31m                          run_metadata_ptr)\n\u001b[0m\u001b[1;32m    930\u001b[0m       \u001b[0;32mif\u001b[0m \u001b[0mrun_metadata\u001b[0m\u001b[0;34m:\u001b[0m\u001b[0;34m\u001b[0m\u001b[0m\n\u001b[1;32m    931\u001b[0m         \u001b[0mproto_data\u001b[0m \u001b[0;34m=\u001b[0m \u001b[0mtf_session\u001b[0m\u001b[0;34m.\u001b[0m\u001b[0mTF_GetBuffer\u001b[0m\u001b[0;34m(\u001b[0m\u001b[0mrun_metadata_ptr\u001b[0m\u001b[0;34m)\u001b[0m\u001b[0;34m\u001b[0m\u001b[0m\n",
        "\u001b[0;32m/opt/conda/lib/python3.6/site-packages/tensorflow/python/client/session.py\u001b[0m in \u001b[0;36m_run\u001b[0;34m(self, handle, fetches, feed_dict, options, run_metadata)\u001b[0m\n\u001b[1;32m   1150\u001b[0m     \u001b[0;32mif\u001b[0m \u001b[0mfinal_fetches\u001b[0m \u001b[0;32mor\u001b[0m \u001b[0mfinal_targets\u001b[0m \u001b[0;32mor\u001b[0m \u001b[0;34m(\u001b[0m\u001b[0mhandle\u001b[0m \u001b[0;32mand\u001b[0m \u001b[0mfeed_dict_tensor\u001b[0m\u001b[0;34m)\u001b[0m\u001b[0;34m:\u001b[0m\u001b[0;34m\u001b[0m\u001b[0m\n\u001b[1;32m   1151\u001b[0m       results = self._do_run(handle, final_targets, final_fetches,\n\u001b[0;32m-> 1152\u001b[0;31m                              feed_dict_tensor, options, run_metadata)\n\u001b[0m\u001b[1;32m   1153\u001b[0m     \u001b[0;32melse\u001b[0m\u001b[0;34m:\u001b[0m\u001b[0;34m\u001b[0m\u001b[0m\n\u001b[1;32m   1154\u001b[0m       \u001b[0mresults\u001b[0m \u001b[0;34m=\u001b[0m \u001b[0;34m[\u001b[0m\u001b[0;34m]\u001b[0m\u001b[0;34m\u001b[0m\u001b[0m\n",
        "\u001b[0;32m/opt/conda/lib/python3.6/site-packages/tensorflow/python/client/session.py\u001b[0m in \u001b[0;36m_do_run\u001b[0;34m(self, handle, target_list, fetch_list, feed_dict, options, run_metadata)\u001b[0m\n\u001b[1;32m   1326\u001b[0m     \u001b[0;32mif\u001b[0m \u001b[0mhandle\u001b[0m \u001b[0;32mis\u001b[0m \u001b[0;32mNone\u001b[0m\u001b[0;34m:\u001b[0m\u001b[0;34m\u001b[0m\u001b[0m\n\u001b[1;32m   1327\u001b[0m       return self._do_call(_run_fn, feeds, fetches, targets, options,\n\u001b[0;32m-> 1328\u001b[0;31m                            run_metadata)\n\u001b[0m\u001b[1;32m   1329\u001b[0m     \u001b[0;32melse\u001b[0m\u001b[0;34m:\u001b[0m\u001b[0;34m\u001b[0m\u001b[0m\n\u001b[1;32m   1330\u001b[0m       \u001b[0;32mreturn\u001b[0m \u001b[0mself\u001b[0m\u001b[0;34m.\u001b[0m\u001b[0m_do_call\u001b[0m\u001b[0;34m(\u001b[0m\u001b[0m_prun_fn\u001b[0m\u001b[0;34m,\u001b[0m \u001b[0mhandle\u001b[0m\u001b[0;34m,\u001b[0m \u001b[0mfeeds\u001b[0m\u001b[0;34m,\u001b[0m \u001b[0mfetches\u001b[0m\u001b[0;34m)\u001b[0m\u001b[0;34m\u001b[0m\u001b[0m\n",
        "\u001b[0;32m/opt/conda/lib/python3.6/site-packages/tensorflow/python/client/session.py\u001b[0m in \u001b[0;36m_do_call\u001b[0;34m(self, fn, *args)\u001b[0m\n\u001b[1;32m   1346\u001b[0m           \u001b[0;32mpass\u001b[0m\u001b[0;34m\u001b[0m\u001b[0m\n\u001b[1;32m   1347\u001b[0m       \u001b[0mmessage\u001b[0m \u001b[0;34m=\u001b[0m \u001b[0merror_interpolation\u001b[0m\u001b[0;34m.\u001b[0m\u001b[0minterpolate\u001b[0m\u001b[0;34m(\u001b[0m\u001b[0mmessage\u001b[0m\u001b[0;34m,\u001b[0m \u001b[0mself\u001b[0m\u001b[0;34m.\u001b[0m\u001b[0m_graph\u001b[0m\u001b[0;34m)\u001b[0m\u001b[0;34m\u001b[0m\u001b[0m\n\u001b[0;32m-> 1348\u001b[0;31m       \u001b[0;32mraise\u001b[0m \u001b[0mtype\u001b[0m\u001b[0;34m(\u001b[0m\u001b[0me\u001b[0m\u001b[0;34m)\u001b[0m\u001b[0;34m(\u001b[0m\u001b[0mnode_def\u001b[0m\u001b[0;34m,\u001b[0m \u001b[0mop\u001b[0m\u001b[0;34m,\u001b[0m \u001b[0mmessage\u001b[0m\u001b[0;34m)\u001b[0m\u001b[0;34m\u001b[0m\u001b[0m\n\u001b[0m\u001b[1;32m   1349\u001b[0m \u001b[0;34m\u001b[0m\u001b[0m\n\u001b[1;32m   1350\u001b[0m   \u001b[0;32mdef\u001b[0m \u001b[0m_extend_graph\u001b[0m\u001b[0;34m(\u001b[0m\u001b[0mself\u001b[0m\u001b[0;34m)\u001b[0m\u001b[0;34m:\u001b[0m\u001b[0;34m\u001b[0m\u001b[0m\n",
        "\u001b[0;31mInternalError\u001b[0m: GPU sync failed"
       ]
      }
     ],
     "persistentId": "18b36dfe-87de-4d6c-b20b-a941517e209b",
     "text": "history = model.fit(partial_x_train,\n                    partial_y_train,\n                    epochs=20,\n                    batch_size=512,\n                    validation_data=(x_val, y_val),\n                    verbose=1)"
    },
    "executionTime": "2020-03-08T15:19:21.266Z"
   },
   {
    "cell": {
     "executionCount": 1,
     "executionEventId": "0f13b85c-8575-404f-808a-35bde21751bc",
     "hasError": true,
     "id": "94fadb54-ab8e-47eb-a702-322249f13e87",
     "outputs": [
      {
       "ename": "NameError",
       "evalue": "name 'model' is not defined",
       "output_type": "error",
       "traceback": [
        "\u001b[0;31m---------------------------------------------------------------------------\u001b[0m",
        "\u001b[0;31mNameError\u001b[0m                                 Traceback (most recent call last)",
        "\u001b[0;32m<ipython-input-1-37a66bb39506>\u001b[0m in \u001b[0;36m<module>\u001b[0;34m\u001b[0m\n\u001b[0;32m----> 1\u001b[0;31m history = model.fit(partial_x_train,\n\u001b[0m\u001b[1;32m      2\u001b[0m                     \u001b[0mpartial_y_train\u001b[0m\u001b[0;34m,\u001b[0m\u001b[0;34m\u001b[0m\u001b[0m\n\u001b[1;32m      3\u001b[0m                     \u001b[0mepochs\u001b[0m\u001b[0;34m=\u001b[0m\u001b[0;36m20\u001b[0m\u001b[0;34m,\u001b[0m\u001b[0;34m\u001b[0m\u001b[0m\n\u001b[1;32m      4\u001b[0m                     \u001b[0mbatch_size\u001b[0m\u001b[0;34m=\u001b[0m\u001b[0;36m512\u001b[0m\u001b[0;34m,\u001b[0m\u001b[0;34m\u001b[0m\u001b[0m\n\u001b[1;32m      5\u001b[0m                     \u001b[0mvalidation_data\u001b[0m\u001b[0;34m=\u001b[0m\u001b[0;34m(\u001b[0m\u001b[0mx_val\u001b[0m\u001b[0;34m,\u001b[0m \u001b[0my_val\u001b[0m\u001b[0;34m)\u001b[0m\u001b[0;34m,\u001b[0m\u001b[0;34m\u001b[0m\u001b[0m\n",
        "\u001b[0;31mNameError\u001b[0m: name 'model' is not defined"
       ]
      }
     ],
     "persistentId": "18b36dfe-87de-4d6c-b20b-a941517e209b",
     "text": "history = model.fit(partial_x_train,\n                    partial_y_train,\n                    epochs=20,\n                    batch_size=512,\n                    validation_data=(x_val, y_val),\n                    verbose=1)"
    },
    "executionTime": "2020-03-08T15:20:04.429Z"
   },
   {
    "cell": {
     "executionCount": 2,
     "executionEventId": "787e0e4d-019e-45ca-abc9-3543371e92f6",
     "hasError": false,
     "id": "931702de-eb2f-481e-b9fa-f584b54842e3",
     "outputs": [
      {
       "name": "stderr",
       "output_type": "stream",
       "text": "/opt/conda/lib/python3.6/site-packages/tensorflow/python/framework/dtypes.py:523: FutureWarning: Passing (type, 1) or '1type' as a synonym of type is deprecated; in a future version of numpy, it will be understood as (type, (1,)) / '(1,)type'.\n  _np_qint8 = np.dtype([(\"qint8\", np.int8, 1)])\n/opt/conda/lib/python3.6/site-packages/tensorflow/python/framework/dtypes.py:524: FutureWarning: Passing (type, 1) or '1type' as a synonym of type is deprecated; in a future version of numpy, it will be understood as (type, (1,)) / '(1,)type'.\n  _np_quint8 = np.dtype([(\"quint8\", np.uint8, 1)])\n/opt/conda/lib/python3.6/site-packages/tensorflow/python/framework/dtypes.py:525: FutureWarning: Passing (type, 1) or '1type' as a synonym of type is deprecated; in a future version of numpy, it will be understood as (type, (1,)) / '(1,)type'.\n  _np_qint16 = np.dtype([(\"qint16\", np.int16, 1)])\n/opt/conda/lib/python3.6/site-packages/tensorflow/python/framework/dtypes.py:526: FutureWarning: Passing (type, 1) or '1type' as a synonym of type is deprecated; in a future version of numpy, it will be understood as (type, (1,)) / '(1,)type'.\n  _np_quint16 = np.dtype([(\"quint16\", np.uint16, 1)])\n/opt/conda/lib/python3.6/site-packages/tensorflow/python/framework/dtypes.py:527: FutureWarning: Passing (type, 1) or '1type' as a synonym of type is deprecated; in a future version of numpy, it will be understood as (type, (1,)) / '(1,)type'.\n  _np_qint32 = np.dtype([(\"qint32\", np.int32, 1)])\n/opt/conda/lib/python3.6/site-packages/tensorflow/python/framework/dtypes.py:532: FutureWarning: Passing (type, 1) or '1type' as a synonym of type is deprecated; in a future version of numpy, it will be understood as (type, (1,)) / '(1,)type'.\n  np_resource = np.dtype([(\"resource\", np.ubyte, 1)])\n"
      },
      {
       "name": "stdout",
       "output_type": "stream",
       "text": "1.12.2\n"
      }
     ],
     "persistentId": "4adda0dc-e3b2-4cb7-961f-a577c420ac6e",
     "text": "import tensorflow as tf\nfrom tensorflow import keras\n\nimport numpy as np\n\nprint(tf.__version__)"
    },
    "executionTime": "2020-03-08T15:20:14.163Z"
   },
   {
    "cell": {
     "executionCount": 3,
     "executionEventId": "8599499c-f2fd-42b4-a3b2-f8468f87c1c9",
     "hasError": false,
     "id": "354cf5ab-7173-4e3d-8104-caa3a605ea97",
     "outputs": [],
     "persistentId": "1c56a15e-e333-4611-9d07-228292c34bf0",
     "text": "imdb = keras.datasets.imdb\nimport numpy as np\n# save np.load\nnp_load_old = np.load\n\n# modify the default parameters of np.load\nnp.load = lambda *a,**k: np_load_old(*a, allow_pickle=True, **k)\n\n# call load_data with allow_pickle implicitly set to true\n(train_data, train_labels), (test_data, test_labels) = imdb.load_data('/root/text_classifier/imdb.npz',num_words=10000)\n\n# restore np.load for future normal usage\nnp.load = np_load_old"
    },
    "executionTime": "2020-03-08T15:20:23.847Z"
   },
   {
    "cell": {
     "executionCount": 4,
     "executionEventId": "730545dc-fecf-4603-b064-89253f427eca",
     "hasError": false,
     "id": "5f25bb42-8074-4020-adde-b529e4e59517",
     "outputs": [
      {
       "name": "stdout",
       "output_type": "stream",
       "text": "Training entries: 25000, labels: 25000\n"
      }
     ],
     "persistentId": "99e0ee4e-eb2b-4697-9a92-6fc65e4274e4",
     "text": "print(\"Training entries: {}, labels: {}\".format(len(train_data), len(train_labels)))"
    },
    "executionTime": "2020-03-08T15:20:23.898Z"
   },
   {
    "cell": {
     "executionCount": 5,
     "executionEventId": "a8b592fd-b7f7-4695-a8e6-054580623ff0",
     "hasError": false,
     "id": "dc4c9e56-03d8-4849-86f5-e2fe94fbddcb",
     "outputs": [
      {
       "name": "stdout",
       "output_type": "stream",
       "text": "[1, 14, 22, 16, 43, 530, 973, 1622, 1385, 65, 458, 4468, 66, 3941, 4, 173, 36, 256, 5, 25, 100, 43, 838, 112, 50, 670, 2, 9, 35, 480, 284, 5, 150, 4, 172, 112, 167, 2, 336, 385, 39, 4, 172, 4536, 1111, 17, 546, 38, 13, 447, 4, 192, 50, 16, 6, 147, 2025, 19, 14, 22, 4, 1920, 4613, 469, 4, 22, 71, 87, 12, 16, 43, 530, 38, 76, 15, 13, 1247, 4, 22, 17, 515, 17, 12, 16, 626, 18, 2, 5, 62, 386, 12, 8, 316, 8, 106, 5, 4, 2223, 5244, 16, 480, 66, 3785, 33, 4, 130, 12, 16, 38, 619, 5, 25, 124, 51, 36, 135, 48, 25, 1415, 33, 6, 22, 12, 215, 28, 77, 52, 5, 14, 407, 16, 82, 2, 8, 4, 107, 117, 5952, 15, 256, 4, 2, 7, 3766, 5, 723, 36, 71, 43, 530, 476, 26, 400, 317, 46, 7, 4, 2, 1029, 13, 104, 88, 4, 381, 15, 297, 98, 32, 2071, 56, 26, 141, 6, 194, 7486, 18, 4, 226, 22, 21, 134, 476, 26, 480, 5, 144, 30, 5535, 18, 51, 36, 28, 224, 92, 25, 104, 4, 226, 65, 16, 38, 1334, 88, 12, 16, 283, 5, 16, 4472, 113, 103, 32, 15, 16, 5345, 19, 178, 32]\n"
      }
     ],
     "persistentId": "5976aeeb-f06b-40ea-84dc-c7b91e1dd6be",
     "text": "print(train_data[0])"
    },
    "executionTime": "2020-03-08T15:20:26.154Z"
   },
   {
    "cell": {
     "executionCount": 6,
     "executionEventId": "dd74020e-8611-4841-916c-515cc04dd9cf",
     "hasError": false,
     "id": "dc4c9e56-03d8-4849-86f5-e2fe94fbddcb",
     "outputs": [
      {
       "name": "stdout",
       "output_type": "stream",
       "text": "[1, 14, 22, 16, 43, 530, 973, 1622, 1385, 65, 458, 4468, 66, 3941, 4, 173, 36, 256, 5, 25, 100, 43, 838, 112, 50, 670, 2, 9, 35, 480, 284, 5, 150, 4, 172, 112, 167, 2, 336, 385, 39, 4, 172, 4536, 1111, 17, 546, 38, 13, 447, 4, 192, 50, 16, 6, 147, 2025, 19, 14, 22, 4, 1920, 4613, 469, 4, 22, 71, 87, 12, 16, 43, 530, 38, 76, 15, 13, 1247, 4, 22, 17, 515, 17, 12, 16, 626, 18, 2, 5, 62, 386, 12, 8, 316, 8, 106, 5, 4, 2223, 5244, 16, 480, 66, 3785, 33, 4, 130, 12, 16, 38, 619, 5, 25, 124, 51, 36, 135, 48, 25, 1415, 33, 6, 22, 12, 215, 28, 77, 52, 5, 14, 407, 16, 82, 2, 8, 4, 107, 117, 5952, 15, 256, 4, 2, 7, 3766, 5, 723, 36, 71, 43, 530, 476, 26, 400, 317, 46, 7, 4, 2, 1029, 13, 104, 88, 4, 381, 15, 297, 98, 32, 2071, 56, 26, 141, 6, 194, 7486, 18, 4, 226, 22, 21, 134, 476, 26, 480, 5, 144, 30, 5535, 18, 51, 36, 28, 224, 92, 25, 104, 4, 226, 65, 16, 38, 1334, 88, 12, 16, 283, 5, 16, 4472, 113, 103, 32, 15, 16, 5345, 19, 178, 32]\n"
      }
     ],
     "persistentId": "5976aeeb-f06b-40ea-84dc-c7b91e1dd6be",
     "text": "print(train_data[0])"
    },
    "executionTime": "2020-03-08T15:20:32.444Z"
   },
   {
    "cell": {
     "executionCount": 7,
     "executionEventId": "9cf8ea73-59f8-4430-a3c9-3d4e68887afa",
     "hasError": false,
     "id": "2dde84eb-623c-464f-b26c-beeee6cc7086",
     "outputs": [
      {
       "data": {
        "text/plain": "(218, 189)"
       },
       "execution_count": 7,
       "metadata": {},
       "output_type": "execute_result"
      }
     ],
     "persistentId": "80838f58-2bda-446f-9b3f-9126c06f2ac8",
     "text": "len(train_data[0]), len(train_data[1])"
    },
    "executionTime": "2020-03-08T15:20:35.327Z"
   },
   {
    "cell": {
     "executionCount": 8,
     "executionEventId": "1751ee4e-0c29-4bc9-9dc7-f433b42439bf",
     "hasError": false,
     "id": "75dbbab6-5f3f-41f2-ab69-85631c93a239",
     "outputs": [],
     "persistentId": "2a6b7118-8609-4de1-a039-b1ac824784db",
     "text": "# （词，序号）字典\nword_index = imdb.get_word_index('/root/text_classifier/imdb_word_index.json')\n# 加入几种占位符\nword_index = {k: (v + 3) for k, v in word_index.items()} \nword_index[\"<PAD>\"] = 0    # 填充\nword_index[\"<START>\"] = 1  # 样本起点\nword_index[\"<UNK>\"] = 2    # 未知词\nword_index[\"<UNUSED>\"] = 3 # 停用词\n# 翻转键值\nreverse_word_index = dict([(value, key) for (key, value) in word_index.items()])\n# 定义文本解析函数\ndef decode_review(text):\n    return ' '.join([reverse_word_index.get(i, '?') for i in text])"
    },
    "executionTime": "2020-03-08T15:20:39.463Z"
   },
   {
    "cell": {
     "executionCount": 9,
     "executionEventId": "42d229a6-75da-454e-88d2-88cff1f07dc9",
     "hasError": false,
     "id": "1bf1573f-23ef-4acb-bfb9-9415ec441618",
     "outputs": [
      {
       "data": {
        "text/plain": "\"<START> this film was just brilliant casting location scenery story direction everyone's really suited the part they played and you could just imagine being there robert <UNK> is an amazing actor and now the same being director <UNK> father came from the same scottish island as myself so i loved the fact there was a real connection with this film the witty remarks throughout the film were great it was just brilliant so much that i bought the film as soon as it was released for <UNK> and would recommend it to everyone to watch and the fly fishing was amazing really cried at the end it was so sad and you know what they say if you cry at a film it must have been good and this definitely was also <UNK> to the two little boy's that played the <UNK> of norman and paul they were just brilliant children are often left out of the <UNK> list i think because the stars that play them all grown up are such a big profile for the whole film but these children are amazing and should be praised for what they have done don't you think the whole story was so lovely because it was true and was someone's life after all that was shared with us all\""
       },
       "execution_count": 9,
       "metadata": {},
       "output_type": "execute_result"
      }
     ],
     "persistentId": "bd5575a4-0e69-4908-90c9-d6b862b42195",
     "text": "decode_review(train_data[0])"
    },
    "executionTime": "2020-03-08T15:20:41.798Z"
   },
   {
    "cell": {
     "executionCount": 10,
     "executionEventId": "cba9604a-dc26-4606-b2a3-1c2159db5fa5",
     "hasError": false,
     "id": "fb0bf4c9-b9e0-43a3-9e4d-481ece19efea",
     "outputs": [],
     "persistentId": "9c7a04fa-6e40-4740-9209-bf1c43d19898",
     "text": "train_data = keras.preprocessing.sequence.pad_sequences(train_data,\n                                                        value=word_index[\"<PAD>\"],\n                                                        padding='post',\n                                                        maxlen=256)\n\ntest_data = keras.preprocessing.sequence.pad_sequences(test_data,\n                                                       value=word_index[\"<PAD>\"],\n                                                       padding='post',\n                                                       maxlen=256)"
    },
    "executionTime": "2020-03-08T15:20:48.485Z"
   },
   {
    "cell": {
     "executionCount": 11,
     "executionEventId": "5de3d9ff-a862-4771-9fa5-5c82b173f578",
     "hasError": false,
     "id": "236da0b9-2cf2-4917-9711-c16632a9b171",
     "outputs": [
      {
       "data": {
        "text/plain": "(256, 256)"
       },
       "execution_count": 11,
       "metadata": {},
       "output_type": "execute_result"
      }
     ],
     "persistentId": "1e8d826f-a53b-431d-a3b0-af0b05921b99",
     "text": "len(train_data[0]), len(train_data[1])"
    },
    "executionTime": "2020-03-08T15:20:49.721Z"
   },
   {
    "cell": {
     "executionCount": 12,
     "executionEventId": "1297dcae-8dba-49b2-a0c9-e3a9c6a07df0",
     "hasError": false,
     "id": "4fe9a452-869f-4e67-8f35-0b461fb400bc",
     "outputs": [
      {
       "name": "stdout",
       "output_type": "stream",
       "text": "[   1   14   22   16   43  530  973 1622 1385   65  458 4468   66 3941\n    4  173   36  256    5   25  100   43  838  112   50  670    2    9\n   35  480  284    5  150    4  172  112  167    2  336  385   39    4\n  172 4536 1111   17  546   38   13  447    4  192   50   16    6  147\n 2025   19   14   22    4 1920 4613  469    4   22   71   87   12   16\n   43  530   38   76   15   13 1247    4   22   17  515   17   12   16\n  626   18    2    5   62  386   12    8  316    8  106    5    4 2223\n 5244   16  480   66 3785   33    4  130   12   16   38  619    5   25\n  124   51   36  135   48   25 1415   33    6   22   12  215   28   77\n   52    5   14  407   16   82    2    8    4  107  117 5952   15  256\n    4    2    7 3766    5  723   36   71   43  530  476   26  400  317\n   46    7    4    2 1029   13  104   88    4  381   15  297   98   32\n 2071   56   26  141    6  194 7486   18    4  226   22   21  134  476\n   26  480    5  144   30 5535   18   51   36   28  224   92   25  104\n    4  226   65   16   38 1334   88   12   16  283    5   16 4472  113\n  103   32   15   16 5345   19  178   32    0    0    0    0    0    0\n    0    0    0    0    0    0    0    0    0    0    0    0    0    0\n    0    0    0    0    0    0    0    0    0    0    0    0    0    0\n    0    0    0    0]\n"
      }
     ],
     "persistentId": "242c4f83-9b40-4489-8e8f-a01cab87933d",
     "text": "print(train_data[0])"
    },
    "executionTime": "2020-03-08T15:20:51.893Z"
   },
   {
    "cell": {
     "executionCount": 13,
     "executionEventId": "de946640-46c1-4ab7-b7c3-afcde5cd223a",
     "hasError": false,
     "id": "92f4fdb4-b0f4-4ea8-95a8-0e71fb905933",
     "outputs": [
      {
       "name": "stdout",
       "output_type": "stream",
       "text": "_________________________________________________________________\nLayer (type)                 Output Shape              Param #   \n=================================================================\nembedding (Embedding)        (None, None, 16)          160000    \n_________________________________________________________________\nglobal_average_pooling1d (Gl (None, 16)                0         \n_________________________________________________________________\ndense (Dense)                (None, 16)                272       \n_________________________________________________________________\ndense_1 (Dense)              (None, 1)                 17        \n=================================================================\nTotal params: 160,289\nTrainable params: 160,289\nNon-trainable params: 0\n_________________________________________________________________\n"
      }
     ],
     "persistentId": "c7fec4f6-1256-4136-a94b-ba92fc8afd13",
     "text": "# 输入尺寸为影评词典尺寸即\nvocab_size = 10000\n\nmodel = keras.models.Sequential()\nmodel.add(keras.layers.Embedding(vocab_size, 16))\nmodel.add(keras.layers.GlobalAveragePooling1D())\nmodel.add(keras.layers.Dense(16, activation=tf.nn.relu))\nmodel.add(keras.layers.Dense(1, activation=tf.nn.sigmoid))\n\nmodel.summary()"
    },
    "executionTime": "2020-03-08T15:20:55.273Z"
   },
   {
    "cell": {
     "executionCount": 14,
     "executionEventId": "a838fc34-ffe5-423b-ac98-059decb2e56a",
     "hasError": false,
     "id": "72a37d6f-34f4-467c-81f7-5daf47d3ea7c",
     "outputs": [],
     "persistentId": "73ea031f-e06e-48f0-a0ea-d8ae3f9a9909",
     "text": "model.compile(optimizer=tf.train.AdamOptimizer(),\n              loss='binary_crossentropy',\n              metrics=['accuracy'])"
    },
    "executionTime": "2020-03-08T15:20:59.392Z"
   },
   {
    "cell": {
     "executionCount": 15,
     "executionEventId": "cb49cf27-1d35-4300-9f1b-9a1c1e4384eb",
     "hasError": false,
     "id": "e069d59c-93d2-46e6-b461-e91279d0bdd0",
     "outputs": [],
     "persistentId": "547f72fd-f7f9-4d00-a0ad-827d9576ff59",
     "text": "x_val = train_data[:10000]\npartial_x_train = train_data[10000:]\n\ny_val = train_labels[:10000]\npartial_y_train = train_labels[10000:]"
    },
    "executionTime": "2020-03-08T15:21:01.601Z"
   },
   {
    "cell": {
     "executionCount": 16,
     "executionEventId": "3507346d-4639-42ea-9557-e27fae17a0a7",
     "hasError": false,
     "id": "94fadb54-ab8e-47eb-a702-322249f13e87",
     "outputs": [
      {
       "name": "stdout",
       "output_type": "stream",
       "text": "Train on 15000 samples, validate on 10000 samples\nEpoch 1/20\n15000/15000 [==============================] - 3s 191us/step - loss: 0.6917 - acc: 0.5329 - val_loss: 0.6898 - val_acc: 0.6023\nEpoch 2/20\n15000/15000 [==============================] - 1s 37us/step - loss: 0.6855 - acc: 0.6967 - val_loss: 0.6805 - val_acc: 0.7419\nEpoch 3/20\n15000/15000 [==============================] - 1s 37us/step - loss: 0.6707 - acc: 0.7615 - val_loss: 0.6620 - val_acc: 0.7550\nEpoch 4/20\n15000/15000 [==============================] - 1s 38us/step - loss: 0.6445 - acc: 0.7765 - val_loss: 0.6331 - val_acc: 0.7651\nEpoch 5/20\n15000/15000 [==============================] - 1s 38us/step - loss: 0.6066 - acc: 0.8013 - val_loss: 0.5931 - val_acc: 0.7931\nEpoch 6/20\n15000/15000 [==============================] - 1s 37us/step - loss: 0.5598 - acc: 0.8191 - val_loss: 0.5486 - val_acc: 0.8095\nEpoch 7/20\n15000/15000 [==============================] - 1s 38us/step - loss: 0.5093 - acc: 0.8395 - val_loss: 0.5033 - val_acc: 0.8249\nEpoch 8/20\n15000/15000 [==============================] - 1s 38us/step - loss: 0.4604 - acc: 0.8541 - val_loss: 0.4615 - val_acc: 0.8392\nEpoch 9/20\n15000/15000 [==============================] - 1s 38us/step - loss: 0.4170 - acc: 0.8655 - val_loss: 0.4260 - val_acc: 0.8481\nEpoch 10/20\n15000/15000 [==============================] - 1s 38us/step - loss: 0.3793 - acc: 0.8788 - val_loss: 0.3973 - val_acc: 0.8548\nEpoch 11/20\n15000/15000 [==============================] - 1s 38us/step - loss: 0.3484 - acc: 0.8866 - val_loss: 0.3764 - val_acc: 0.8592\nEpoch 12/20\n15000/15000 [==============================] - 1s 37us/step - loss: 0.3230 - acc: 0.8912 - val_loss: 0.3557 - val_acc: 0.8673\nEpoch 13/20\n15000/15000 [==============================] - 1s 39us/step - loss: 0.2998 - acc: 0.8993 - val_loss: 0.3417 - val_acc: 0.8706\nEpoch 14/20\n15000/15000 [==============================] - 1s 39us/step - loss: 0.2807 - acc: 0.9050 - val_loss: 0.3292 - val_acc: 0.8735\nEpoch 15/20\n15000/15000 [==============================] - 1s 38us/step - loss: 0.2643 - acc: 0.9093 - val_loss: 0.3197 - val_acc: 0.8768\nEpoch 16/20\n15000/15000 [==============================] - 1s 38us/step - loss: 0.2501 - acc: 0.9141 - val_loss: 0.3119 - val_acc: 0.8790\nEpoch 17/20\n15000/15000 [==============================] - 1s 37us/step - loss: 0.2363 - acc: 0.9201 - val_loss: 0.3056 - val_acc: 0.8790\nEpoch 18/20\n15000/15000 [==============================] - 1s 38us/step - loss: 0.2244 - acc: 0.9240 - val_loss: 0.3004 - val_acc: 0.8813\nEpoch 19/20\n15000/15000 [==============================] - 1s 39us/step - loss: 0.2132 - acc: 0.9271 - val_loss: 0.2962 - val_acc: 0.8821\nEpoch 20/20\n15000/15000 [==============================] - 1s 38us/step - loss: 0.2035 - acc: 0.9309 - val_loss: 0.2928 - val_acc: 0.8825\n"
      }
     ],
     "persistentId": "18b36dfe-87de-4d6c-b20b-a941517e209b",
     "text": "history = model.fit(partial_x_train,\n                    partial_y_train,\n                    epochs=20,\n                    batch_size=512,\n                    validation_data=(x_val, y_val),\n                    verbose=1)"
    },
    "executionTime": "2020-03-08T15:21:18.507Z"
   },
   {
    "cell": {
     "executionCount": 17,
     "executionEventId": "01a3d4a2-d0e2-471e-a8f1-c05bf1f825c4",
     "hasError": false,
     "id": "5f31e2e2-cba1-432f-b977-53a782cbe7f1",
     "outputs": [
      {
       "name": "stdout",
       "output_type": "stream",
       "text": "25000/25000 [==============================] - 2s 63us/step\n"
      }
     ],
     "persistentId": "2ff3efab-63ef-4f27-9740-749699b8e5c2",
     "text": "results = model.evaluate(test_data, test_labels)"
    },
    "executionTime": "2020-03-08T15:21:46.055Z"
   },
   {
    "cell": {
     "executionCount": 18,
     "executionEventId": "2aebc7f7-7b85-40e2-967e-5c0e07157f6b",
     "hasError": false,
     "id": "3aa3d62c-432d-45f5-88f7-fca4845f096b",
     "outputs": [
      {
       "name": "stdout",
       "output_type": "stream",
       "text": "[0.30636709524154665, 0.87496]\n"
      }
     ],
     "persistentId": "642da6f5-1e19-4476-bf68-d282d4b1f239",
     "text": "print(results)"
    },
    "executionTime": "2020-03-08T15:22:28.213Z"
   },
   {
    "cell": {
     "executionCount": 19,
     "executionEventId": "538a59af-2f9e-4309-a43c-30ba99f56025",
     "hasError": false,
     "id": "4d913d94-dbd9-4e18-8301-4ea62a6852fd",
     "outputs": [
      {
       "data": {
        "text/plain": "dict_keys(['val_loss', 'val_acc', 'loss', 'acc'])"
       },
       "execution_count": 19,
       "metadata": {},
       "output_type": "execute_result"
      }
     ],
     "persistentId": "de464d8b-e892-4bda-a884-7663a85363bf",
     "text": "history_dict = history.history\nhistory_dict.keys()"
    },
    "executionTime": "2020-03-08T15:22:31.954Z"
   },
   {
    "cell": {
     "executionCount": 20,
     "executionEventId": "56fa6e72-e22d-4274-bf8c-8dbca74ed50b",
     "hasError": false,
     "id": "5873f5f2-1e71-4c22-afb7-52bc8f868cb2",
     "outputs": [],
     "persistentId": "4bb4dbaa-b2d3-4489-a651-5d6d3e04e654",
     "text": "import matplotlib.pyplot as plt"
    },
    "executionTime": "2020-03-08T15:22:34.436Z"
   },
   {
    "cell": {
     "executionCount": 21,
     "executionEventId": "b98624ae-b0ac-48c9-a9c9-604b06331a7a",
     "hasError": false,
     "id": "21c33013-a5ea-409b-9e80-a3cde471a6e8",
     "outputs": [
      {
       "data": {
        "image/png": "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\n",
        "text/plain": "<matplotlib.figure.Figure at 0x7f3ad9305f28>"
       },
       "metadata": {},
       "output_type": "display_data"
      }
     ],
     "persistentId": "4058913a-44a6-4d06-b1e5-d664dbffb22a",
     "text": "plt.clf()   # 清空图片\nacc = history.history['acc']\nepochs = range(1, len(acc) + 1)\nloss = history.history['loss']\nval_loss = history.history['val_loss']\n# \"bo\" 是蓝点\nplt.plot(epochs, loss, 'bo', label='Training loss')\n# \"b\" 是蓝色实线\nplt.plot(epochs, val_loss, 'b', label='Validation loss')\nplt.title('Training and validation loss')\nplt.xlabel('Epochs')\nplt.ylabel('Loss')\nplt.legend()\n\nplt.show()"
    },
    "executionTime": "2020-03-08T15:22:38.077Z"
   },
   {
    "cell": {
     "executionCount": 22,
     "executionEventId": "b89f6dfa-b4a1-4bca-a410-09fe7b7d078d",
     "hasError": false,
     "id": "07090212-4753-4027-ace4-93e199e60a29",
     "outputs": [
      {
       "data": {
        "image/png": "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\n",
        "text/plain": "<matplotlib.figure.Figure at 0x7f3ad9305c18>"
       },
       "metadata": {},
       "output_type": "display_data"
      }
     ],
     "persistentId": "6db9a428-6eaa-49a8-b9ad-5c1a4833494f",
     "text": "plt.clf()\nacc_values = history_dict['acc']\nval_acc_values = history_dict['val_acc']\n\nplt.plot(epochs, acc_values, 'bo', label='Training acc')\nplt.plot(epochs, val_acc_values, 'b', label='Validation acc')\nplt.title('Training and validation accuracy')\nplt.xlabel('Epochs')\nplt.ylabel('Accuracy')\nplt.legend()\n\nplt.show()"
    },
    "executionTime": "2020-03-08T15:22:42.506Z"
   },
   {
    "cell": {
     "executionCount": 23,
     "executionEventId": "a8f85593-cc08-454d-94dd-75eab4bfdbff",
     "hasError": false,
     "id": "faf6a78b-92ce-4461-b259-5736c9ad8389",
     "outputs": [
      {
       "name": "stdout",
       "output_type": "stream",
       "text": "WARNING:tensorflow:TensorFlow optimizers do not make it possible to access optimizer attributes or optimizer state after instantiation. As a result, we cannot save the optimizer as part of the model save file.You will have to compile your model again after loading it. Prefer using a Keras optimizer instead (see keras.io/optimizers).\n"
      }
     ],
     "persistentId": "bfb55c9b-d581-4473-8f1a-ed571305571d",
     "text": "#save model\nmodel.save('/root/text_classifier/model.h5')"
    },
    "executionTime": "2020-03-08T15:22:45.922Z"
   },
   {
    "cell": {
     "executionCount": 24,
     "executionEventId": "aafd046d-5fe7-4817-9342-c024eb6b9d3f",
     "hasError": false,
     "id": "faf6a78b-92ce-4461-b259-5736c9ad8389",
     "outputs": [
      {
       "name": "stdout",
       "output_type": "stream",
       "text": "WARNING:tensorflow:TensorFlow optimizers do not make it possible to access optimizer attributes or optimizer state after instantiation. As a result, we cannot save the optimizer as part of the model save file.You will have to compile your model again after loading it. Prefer using a Keras optimizer instead (see keras.io/optimizers).\n"
      }
     ],
     "persistentId": "bfb55c9b-d581-4473-8f1a-ed571305571d",
     "text": "#save model\nmodel.save('/root/text_classifier/model.h6')"
    },
    "executionTime": "2020-03-08T15:22:54.796Z"
   },
   {
    "cell": {
     "executionCount": 25,
     "executionEventId": "fcfae0ef-9009-4749-b533-b5a08aeb21c9",
     "hasError": false,
     "id": "0c9ec908-a33f-4062-a231-c411ab9490bf",
     "outputs": [
      {
       "name": "stdout",
       "output_type": "stream",
       "text": "Info: Config accesskey and secretkey success\n"
      }
     ],
     "persistentId": "9e66bbce-aa28-4fb3-8cb9-ffeb1e5a58fe",
     "text": "!bmlmodel config -a 0c7550ad-5d3c-11ea-9939-fa163e5c4cbd -s 0c84a4f8-5d3c-11ea-9939-fa163e5c4cbd"
    },
    "executionTime": "2020-03-08T15:24:52.973Z"
   },
   {
    "cell": {
     "executionCount": 26,
     "executionEventId": "025727f6-b6d2-4a9d-bec7-e8aa1f38c612",
     "hasError": false,
     "id": "53cc37e2-462a-4bde-94db-eb8c7d900a70",
     "outputs": [
      {
       "name": "stdout",
       "output_type": "stream",
       "text": "\u001b[0A\u001b[0APush model to registry completed, use:1700516009ns \n "
      }
     ],
     "persistentId": "7bd75f4d-2e0d-4d6b-9509-b344a324aaf2",
     "text": "!bmlmodel publish -l /root/text_classifier -p newversion -n textclassify -v 1.0.0.4"
    },
    "executionTime": "2020-03-08T15:25:05.365Z"
   },
   {
    "cell": {
     "executionCount": 27,
     "executionEventId": "136e21a2-03bf-4461-bd31-e19df429e57c",
     "hasError": false,
     "id": "d79d75e1-28ad-49b5-9fab-b2a9df40d92a",
     "outputs": [
      {
       "data": {
        "text/plain": "{'data': {'data': {'0': \"<START> this film was just brilliant casting location scenery story direction everyone's really suited the part they played and you could just imagine being there robert <UNK> is an amazing actor and now the same being director <UNK> father came from the same scottish island as myself so i loved the fact there was a real connection with this film the witty remarks throughout the film were great it was just brilliant so much that i bought the film as soon as it was released for <UNK> and would recommend it to everyone to watch and the fly fishing was amazing really cried at the end it was so sad and you know what they say if you cry at a film it must have been good and this definitely was also <UNK> to the two little boy's that played the <UNK> of norman and paul they were just brilliant children are often left out of the <UNK> list i think because the stars that play them all grown up are such a big profile for the whole film but these children are amazing and should be praised for what they have done don't you think the whole story was so lovely because it was true and was someone's life after all that was shared with us all\"}}}"
       },
       "execution_count": 27,
       "metadata": {},
       "output_type": "execute_result"
      }
     ],
     "persistentId": "a34316dd-fda3-4ae3-89a8-1ea6b4fa0734",
     "text": "#预测服务，测试数据\n\n{\n    \"data\": {\n        \"data\": {\n            \"0\": \"<START> this film was just brilliant casting location scenery story direction everyone's really suited the part they played and you could just imagine being there robert <UNK> is an amazing actor and now the same being director <UNK> father came from the same scottish island as myself so i loved the fact there was a real connection with this film the witty remarks throughout the film were great it was just brilliant so much that i bought the film as soon as it was released for <UNK> and would recommend it to everyone to watch and the fly fishing was amazing really cried at the end it was so sad and you know what they say if you cry at a film it must have been good and this definitely was also <UNK> to the two little boy's that played the <UNK> of norman and paul they were just brilliant children are often left out of the <UNK> list i think because the stars that play them all grown up are such a big profile for the whole film but these children are amazing and should be praised for what they have done don't you think the whole story was so lovely because it was true and was someone's life after all that was shared with us all\"\n        }\n    }\n}"
    },
    "executionTime": "2020-03-08T15:25:11.923Z"
   }
  ],
  "kernelspec": {
   "display_name": "Python 3",
   "language": "python",
   "name": "python3"
  },
  "language_info": {
   "codemirror_mode": {
    "name": "ipython",
    "version": 3
   },
   "file_extension": ".py",
   "mimetype": "text/x-python",
   "name": "python",
   "nbconvert_exporter": "python",
   "pygments_lexer": "ipython3",
   "version": "3.8.2"
  },
  "uuid": "3d5a31d1-25b1-4267-b50e-254909e5256e"
 },
 "nbformat": 4,
 "nbformat_minor": 4
}
